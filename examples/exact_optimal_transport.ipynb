{
 "cells": [
  {
   "cell_type": "code",
   "execution_count": 15,
   "id": "02c257e1",
   "metadata": {},
   "outputs": [
    {
     "data": {
      "text/plain": [
       "1.7692117110154615e-6"
      ]
     },
     "execution_count": 15,
     "metadata": {},
     "output_type": "execute_result"
    }
   ],
   "source": [
    "using ExactOptimalTransport\n",
    "using Distances\n",
    "import Tulip\n",
    "import PythonOT\n",
    "\n",
    "# uniform histograms\n",
    "μ = fill(1/10, 10)\n",
    "ν = fill(1/20, 20)\n",
    "\n",
    "# random cost matrix\n",
    "C = pairwise(SqEuclidean(), rand(1, 10), rand(1, 20); dims=2)\n",
    "\n",
    "# compute optimal transport map with Tulip\n",
    "lp = Tulip.Optimizer()\n",
    "\n",
    "maximum(abs.(emd(μ, ν, C, lp) .- PythonOT.emd(μ, ν, C)))"
   ]
  },
  {
   "cell_type": "code",
   "execution_count": 16,
   "id": "f123b808",
   "metadata": {},
   "outputs": [
    {
     "data": {
      "text/plain": [
       "-1.4834917322348318e-10"
      ]
     },
     "execution_count": 16,
     "metadata": {},
     "output_type": "execute_result"
    }
   ],
   "source": [
    "emd2(μ, ν, C, lp) -  PythonOT.emd2(μ, ν, C)"
   ]
  },
  {
   "cell_type": "code",
   "execution_count": 17,
   "id": "21498ee7",
   "metadata": {},
   "outputs": [
    {
     "data": {
      "text/plain": [
       "-2.107611078716598e-9"
      ]
     },
     "execution_count": 17,
     "metadata": {},
     "output_type": "execute_result"
    }
   ],
   "source": [
    "emd2(μ, ν, C, lp) .- sum(C .* PythonOT.emd(μ, ν, C))"
   ]
  },
  {
   "cell_type": "code",
   "execution_count": null,
   "id": "2c7aadec",
   "metadata": {},
   "outputs": [],
   "source": []
  }
 ],
 "metadata": {
  "kernelspec": {
   "display_name": "Julia 1.9.3",
   "language": "julia",
   "name": "julia-1.9"
  },
  "language_info": {
   "file_extension": ".jl",
   "mimetype": "application/julia",
   "name": "julia",
   "version": "1.9.3"
  }
 },
 "nbformat": 4,
 "nbformat_minor": 5
}
