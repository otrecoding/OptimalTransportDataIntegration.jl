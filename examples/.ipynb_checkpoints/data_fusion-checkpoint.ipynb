{
 "cells": [
  {
   "cell_type": "code",
   "execution_count": null,
   "id": "28800d4d",
   "metadata": {},
   "outputs": [],
   "source": [
    "using OptimalTransportDataIntegration\n",
    "using Distributions\n",
    "using DataFrames\n",
    "import PythonOT\n",
    "using Flux\n",
    "using Distances\n",
    "import LossFunctions"
   ]
  },
  {
   "cell_type": "code",
   "execution_count": null,
   "id": "8958353f",
   "metadata": {},
   "outputs": [],
   "source": [
    "params = DataParameters(nA = 1000, nB = 500)\n",
    "\n",
    "data = generate_xcat_ycat(params)"
   ]
  },
  {
   "cell_type": "code",
   "execution_count": null,
   "id": "75e154be",
   "metadata": {},
   "outputs": [],
   "source": [
    "data.X1_1 = data.X1\n",
    "data.X2_1 = Float32.(to_categorical(data.X2)[2,:])\n",
    "data.X2_2 = Float32.(to_categorical(data.X2)[3,:])\n",
    "data.X3_1 = Float32.(to_categorical(data.X3)[2,:])\n",
    "data.X3_2 = Float32.(to_categorical(data.X3)[3,:])\n",
    "data.X3_3 = Float32.(to_categorical(data.X3)[4,:])\n",
    "\n",
    "dba = subset(data, :database => ByRow(==(1)))\n",
    "dbb = subset(data, :database => ByRow(==(2)))\n",
    "\n",
    "YBtrue = dbb.Y\n",
    "ZAtrue = dba.Z\n",
    "\n",
    "Xnames = [:X1_1,:X2_1,:X2_2, :X3_1, :X3_2, :X3_3]"
   ]
  },
  {
   "cell_type": "code",
   "execution_count": null,
   "id": "af76176b",
   "metadata": {},
   "outputs": [],
   "source": [
    "XA = Matrix{Float32}(dba[!, Xnames])\n",
    "XB = Matrix{Float32}(dbb[!, Xnames])\n",
    "\n",
    "YA = to_categorical(dba.Y)\n",
    "ZB = to_categorical(dbb.Z)\n",
    "ZA = to_categorical(dba.Z)\n",
    "YB = to_categorical(dbb.Y)\n",
    "nA = size(XA, 1)\n",
    "nB = size(XB, 1)\n",
    "\n",
    "wa = fill( 1 /nA, nA)\n",
    "wb = fill( 1/nB, nB)\n",
    "\n",
    "nbvarX = 3\n",
    "C0 = pairwise(Hamming(), XA', XB'; dims = 2) ./ nbvarX\n",
    "C = C0 ./ maximum(C0)\n",
    "\n",
    "G = PythonOT.emd(wa, wb, C)\n",
    "YB = nB .* G' * YA'\n",
    "ZA = nA .* G * ZB'\n",
    "\n",
    "XYA = hcat(XA, YA')\n",
    "XZB = hcat(XB, ZB')\n",
    "\n",
    "dimY = size(YA, 1)\n",
    "dimZ = size(ZB, 1)\n",
    "nA, dimXYA = size(XYA)\n",
    "nB, dimXZB = size(XZB)\n",
    "\n",
    "dimY, dimZ, dimXYA, dimXZB"
   ]
  },
  {
   "cell_type": "code",
   "execution_count": null,
   "id": "edfff374",
   "metadata": {
    "lines_to_next_cell": 0
   },
   "outputs": [],
   "source": [
    "model = Chain(Dense(dimXYA =>160), Dense(160=>dimZ),  softmax)\n",
    "# Define a custom hinge loss function\n",
    "function hinge_loss(y_pred, y_true)\n",
    "    return max(0.0f0, 1.0f0 .- y_pred .* y_true)\n",
    "end\n",
    "\n",
    "optim = Flux.setup(Flux.Adam(0.01), model)\n",
    "X = permutedims(XYA)\n",
    "y = permutedims(ZA)\n",
    "\n",
    "loader = Flux.DataLoader((X, y), batchsize=32, shuffle=true)\n",
    "\n",
    "optim = Flux.setup(Flux.Adam(0.01), model)\n",
    "\n",
    "for epoch in 1:1_000\n",
    "    for (X, y) in loader\n",
    "        grads = Flux.gradient(model) do m\n",
    "            y_hat = m(X)\n",
    "            Flux.crossentropy(y_hat, y)\n",
    "        end\n",
    "        Flux.update!(optim, model, grads[1])\n",
    "    end\n",
    "end\n",
    "\n",
    "yb = vec(getindex.(argmax(model(X), dims=1), 1))\n",
    "\n",
    "mean(ZAtrue .== yb)"
   ]
  },
  {
   "cell_type": "code",
   "execution_count": null,
   "id": "5529e4c1",
   "metadata": {},
   "outputs": [],
   "source": []
  }
 ],
 "metadata": {
  "jupytext": {
   "formats": "ipynb,jl:light"
  },
  "kernelspec": {
   "display_name": "Julia 1.9.3",
   "language": "julia",
   "name": "julia-1.9"
  },
  "language_info": {
   "file_extension": ".jl",
   "mimetype": "application/julia",
   "name": "julia",
   "version": "1.9.3"
  }
 },
 "nbformat": 4,
 "nbformat_minor": 5
}
