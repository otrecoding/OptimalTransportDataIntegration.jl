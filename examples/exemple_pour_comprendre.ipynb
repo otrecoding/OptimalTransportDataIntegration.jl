{
 "cells": [
  {
   "cell_type": "code",
   "execution_count": 89,
   "id": "a654b447",
   "metadata": {},
   "outputs": [],
   "source": [
    "using OptimalTransportDataIntegration\n",
    "using Distributions\n",
    "using DocStringExtensions\n",
    "using Parameters\n",
    "using Printf\n",
    "using DataFrames\n",
    "using Flux"
   ]
  },
  {
   "cell_type": "code",
   "execution_count": null,
   "id": "603fc875",
   "metadata": {},
   "outputs": [
    {
     "name": "stderr",
     "output_type": "stream",
     "text": [
      "┌ Info: Categories in YA OrderedCollections.OrderedDict(1 => 2575, 2 => 2417, 3 => 2487, 4 => 2521)\n",
      "└ @ OptimalTransportDataIntegration c:\\Users\\vgares\\Documents\\GitHub\\OptimalTransportDataIntegration.jl\\src\\generate_continuous_data.jl:124\n",
      "┌ Info: Categories in ZA OrderedCollections.OrderedDict(1 => 3341, 2 => 3313, 3 => 3346)\n",
      "└ @ OptimalTransportDataIntegration c:\\Users\\vgares\\Documents\\GitHub\\OptimalTransportDataIntegration.jl\\src\\generate_continuous_data.jl:125\n",
      "┌ Info: Categories in YB OrderedCollections.OrderedDict(1 => 2320, 2 => 2573, 3 => 2558, 4 => 2549)\n",
      "└ @ OptimalTransportDataIntegration c:\\Users\\vgares\\Documents\\GitHub\\OptimalTransportDataIntegration.jl\\src\\generate_continuous_data.jl:126\n",
      "┌ Info: Categories in ZB OrderedCollections.OrderedDict(1 => 3142, 2 => 3494, 3 => 3364)\n",
      "└ @ OptimalTransportDataIntegration c:\\Users\\vgares\\Documents\\GitHub\\OptimalTransportDataIntegration.jl\\src\\generate_continuous_data.jl:127\n"
     ]
    },
    {
     "data": {
      "text/html": [
       "<div><div style = \"float: left;\"><span>20000×4 DataFrame</span></div><div style = \"float: right;\"><span style = \"font-style: italic;\">19975 rows omitted</span></div><div style = \"clear: both;\"></div></div><div class = \"data-frame\" style = \"overflow-x: scroll;\"><table class = \"data-frame\" style = \"margin-bottom: 6px;\"><thead><tr class = \"header\"><th class = \"rowNumber\" style = \"font-weight: bold; text-align: right;\">Row</th><th style = \"text-align: left;\">X1</th><th style = \"text-align: left;\">Y</th><th style = \"text-align: left;\">Z</th><th style = \"text-align: left;\">database</th></tr><tr class = \"subheader headerLastRow\"><th class = \"rowNumber\" style = \"font-weight: bold; text-align: right;\"></th><th title = \"Float64\" style = \"text-align: left;\">Float64</th><th title = \"Int64\" style = \"text-align: left;\">Int64</th><th title = \"Int64\" style = \"text-align: left;\">Int64</th><th title = \"Int64\" style = \"text-align: left;\">Int64</th></tr></thead><tbody><tr><td class = \"rowNumber\" style = \"font-weight: bold; text-align: right;\">1</td><td style = \"text-align: right;\">1.20418</td><td style = \"text-align: right;\">4</td><td style = \"text-align: right;\">3</td><td style = \"text-align: right;\">1</td></tr><tr><td class = \"rowNumber\" style = \"font-weight: bold; text-align: right;\">2</td><td style = \"text-align: right;\">0.305254</td><td style = \"text-align: right;\">3</td><td style = \"text-align: right;\">2</td><td style = \"text-align: right;\">1</td></tr><tr><td class = \"rowNumber\" style = \"font-weight: bold; text-align: right;\">3</td><td style = \"text-align: right;\">0.626319</td><td style = \"text-align: right;\">3</td><td style = \"text-align: right;\">2</td><td style = \"text-align: right;\">1</td></tr><tr><td class = \"rowNumber\" style = \"font-weight: bold; text-align: right;\">4</td><td style = \"text-align: right;\">0.614023</td><td style = \"text-align: right;\">2</td><td style = \"text-align: right;\">2</td><td style = \"text-align: right;\">1</td></tr><tr><td class = \"rowNumber\" style = \"font-weight: bold; text-align: right;\">5</td><td style = \"text-align: right;\">-0.306486</td><td style = \"text-align: right;\">2</td><td style = \"text-align: right;\">1</td><td style = \"text-align: right;\">1</td></tr><tr><td class = \"rowNumber\" style = \"font-weight: bold; text-align: right;\">6</td><td style = \"text-align: right;\">1.16694</td><td style = \"text-align: right;\">3</td><td style = \"text-align: right;\">3</td><td style = \"text-align: right;\">1</td></tr><tr><td class = \"rowNumber\" style = \"font-weight: bold; text-align: right;\">7</td><td style = \"text-align: right;\">0.490182</td><td style = \"text-align: right;\">3</td><td style = \"text-align: right;\">3</td><td style = \"text-align: right;\">1</td></tr><tr><td class = \"rowNumber\" style = \"font-weight: bold; text-align: right;\">8</td><td style = \"text-align: right;\">0.289544</td><td style = \"text-align: right;\">2</td><td style = \"text-align: right;\">2</td><td style = \"text-align: right;\">1</td></tr><tr><td class = \"rowNumber\" style = \"font-weight: bold; text-align: right;\">9</td><td style = \"text-align: right;\">0.881282</td><td style = \"text-align: right;\">3</td><td style = \"text-align: right;\">3</td><td style = \"text-align: right;\">1</td></tr><tr><td class = \"rowNumber\" style = \"font-weight: bold; text-align: right;\">10</td><td style = \"text-align: right;\">0.295838</td><td style = \"text-align: right;\">1</td><td style = \"text-align: right;\">1</td><td style = \"text-align: right;\">1</td></tr><tr><td class = \"rowNumber\" style = \"font-weight: bold; text-align: right;\">11</td><td style = \"text-align: right;\">-0.264481</td><td style = \"text-align: right;\">2</td><td style = \"text-align: right;\">2</td><td style = \"text-align: right;\">1</td></tr><tr><td class = \"rowNumber\" style = \"font-weight: bold; text-align: right;\">12</td><td style = \"text-align: right;\">0.289671</td><td style = \"text-align: right;\">4</td><td style = \"text-align: right;\">3</td><td style = \"text-align: right;\">1</td></tr><tr><td class = \"rowNumber\" style = \"font-weight: bold; text-align: right;\">13</td><td style = \"text-align: right;\">-0.428662</td><td style = \"text-align: right;\">2</td><td style = \"text-align: right;\">2</td><td style = \"text-align: right;\">1</td></tr><tr><td style = \"text-align: right;\">&vellip;</td><td style = \"text-align: right;\">&vellip;</td><td style = \"text-align: right;\">&vellip;</td><td style = \"text-align: right;\">&vellip;</td><td style = \"text-align: right;\">&vellip;</td></tr><tr><td class = \"rowNumber\" style = \"font-weight: bold; text-align: right;\">19989</td><td style = \"text-align: right;\">5.72584</td><td style = \"text-align: right;\">4</td><td style = \"text-align: right;\">3</td><td style = \"text-align: right;\">2</td></tr><tr><td class = \"rowNumber\" style = \"font-weight: bold; text-align: right;\">19990</td><td style = \"text-align: right;\">1.93801</td><td style = \"text-align: right;\">1</td><td style = \"text-align: right;\">1</td><td style = \"text-align: right;\">2</td></tr><tr><td class = \"rowNumber\" style = \"font-weight: bold; text-align: right;\">19991</td><td style = \"text-align: right;\">4.58613</td><td style = \"text-align: right;\">3</td><td style = \"text-align: right;\">3</td><td style = \"text-align: right;\">2</td></tr><tr><td class = \"rowNumber\" style = \"font-weight: bold; text-align: right;\">19992</td><td style = \"text-align: right;\">4.23072</td><td style = \"text-align: right;\">4</td><td style = \"text-align: right;\">3</td><td style = \"text-align: right;\">2</td></tr><tr><td class = \"rowNumber\" style = \"font-weight: bold; text-align: right;\">19993</td><td style = \"text-align: right;\">1.27652</td><td style = \"text-align: right;\">1</td><td style = \"text-align: right;\">1</td><td style = \"text-align: right;\">2</td></tr><tr><td class = \"rowNumber\" style = \"font-weight: bold; text-align: right;\">19994</td><td style = \"text-align: right;\">4.19348</td><td style = \"text-align: right;\">3</td><td style = \"text-align: right;\">2</td><td style = \"text-align: right;\">2</td></tr><tr><td class = \"rowNumber\" style = \"font-weight: bold; text-align: right;\">19995</td><td style = \"text-align: right;\">2.71834</td><td style = \"text-align: right;\">1</td><td style = \"text-align: right;\">1</td><td style = \"text-align: right;\">2</td></tr><tr><td class = \"rowNumber\" style = \"font-weight: bold; text-align: right;\">19996</td><td style = \"text-align: right;\">5.25911</td><td style = \"text-align: right;\">3</td><td style = \"text-align: right;\">2</td><td style = \"text-align: right;\">2</td></tr><tr><td class = \"rowNumber\" style = \"font-weight: bold; text-align: right;\">19997</td><td style = \"text-align: right;\">3.16929</td><td style = \"text-align: right;\">3</td><td style = \"text-align: right;\">2</td><td style = \"text-align: right;\">2</td></tr><tr><td class = \"rowNumber\" style = \"font-weight: bold; text-align: right;\">19998</td><td style = \"text-align: right;\">2.0393</td><td style = \"text-align: right;\">1</td><td style = \"text-align: right;\">1</td><td style = \"text-align: right;\">2</td></tr><tr><td class = \"rowNumber\" style = \"font-weight: bold; text-align: right;\">19999</td><td style = \"text-align: right;\">2.48368</td><td style = \"text-align: right;\">1</td><td style = \"text-align: right;\">1</td><td style = \"text-align: right;\">2</td></tr><tr><td class = \"rowNumber\" style = \"font-weight: bold; text-align: right;\">20000</td><td style = \"text-align: right;\">3.21817</td><td style = \"text-align: right;\">3</td><td style = \"text-align: right;\">2</td><td style = \"text-align: right;\">2</td></tr></tbody></table></div>"
      ],
      "text/latex": [
       "\\begin{tabular}{r|cccc}\n",
       "\t& X1 & Y & Z & database\\\\\n",
       "\t\\hline\n",
       "\t& Float64 & Int64 & Int64 & Int64\\\\\n",
       "\t\\hline\n",
       "\t1 & 1.20418 & 4 & 3 & 1 \\\\\n",
       "\t2 & 0.305254 & 3 & 2 & 1 \\\\\n",
       "\t3 & 0.626319 & 3 & 2 & 1 \\\\\n",
       "\t4 & 0.614023 & 2 & 2 & 1 \\\\\n",
       "\t5 & -0.306486 & 2 & 1 & 1 \\\\\n",
       "\t6 & 1.16694 & 3 & 3 & 1 \\\\\n",
       "\t7 & 0.490182 & 3 & 3 & 1 \\\\\n",
       "\t8 & 0.289544 & 2 & 2 & 1 \\\\\n",
       "\t9 & 0.881282 & 3 & 3 & 1 \\\\\n",
       "\t10 & 0.295838 & 1 & 1 & 1 \\\\\n",
       "\t11 & -0.264481 & 2 & 2 & 1 \\\\\n",
       "\t12 & 0.289671 & 4 & 3 & 1 \\\\\n",
       "\t13 & -0.428662 & 2 & 2 & 1 \\\\\n",
       "\t14 & -0.993492 & 1 & 1 & 1 \\\\\n",
       "\t15 & 1.08069 & 3 & 3 & 1 \\\\\n",
       "\t16 & -1.11873 & 1 & 1 & 1 \\\\\n",
       "\t17 & 1.24453 & 4 & 3 & 1 \\\\\n",
       "\t18 & 1.59528 & 4 & 3 & 1 \\\\\n",
       "\t19 & 0.868437 & 4 & 3 & 1 \\\\\n",
       "\t20 & 0.388161 & 2 & 2 & 1 \\\\\n",
       "\t21 & 0.949807 & 4 & 3 & 1 \\\\\n",
       "\t22 & -0.3603 & 2 & 2 & 1 \\\\\n",
       "\t23 & -0.822991 & 2 & 2 & 1 \\\\\n",
       "\t24 & 0.950307 & 4 & 3 & 1 \\\\\n",
       "\t$\\dots$ & $\\dots$ & $\\dots$ & $\\dots$ & $\\dots$ \\\\\n",
       "\\end{tabular}\n"
      ],
      "text/plain": [
       "\u001b[1m20000×4 DataFrame\u001b[0m\n",
       "\u001b[1m   Row \u001b[0m│\u001b[1m X1        \u001b[0m\u001b[1m Y     \u001b[0m\u001b[1m Z     \u001b[0m\u001b[1m database \u001b[0m\n",
       "       │\u001b[90m Float64   \u001b[0m\u001b[90m Int64 \u001b[0m\u001b[90m Int64 \u001b[0m\u001b[90m Int64    \u001b[0m\n",
       "───────┼───────────────────────────────────\n",
       "     1 │  1.20418       4      3         1\n",
       "     2 │  0.305254      3      2         1\n",
       "     3 │  0.626319      3      2         1\n",
       "     4 │  0.614023      2      2         1\n",
       "     5 │ -0.306486      2      1         1\n",
       "     6 │  1.16694       3      3         1\n",
       "     7 │  0.490182      3      3         1\n",
       "     8 │  0.289544      2      2         1\n",
       "   ⋮   │     ⋮        ⋮      ⋮       ⋮\n",
       " 19994 │  4.19348       3      2         2\n",
       " 19995 │  2.71834       1      1         2\n",
       " 19996 │  5.25911       3      2         2\n",
       " 19997 │  3.16929       3      2         2\n",
       " 19998 │  2.0393        1      1         2\n",
       " 19999 │  2.48368       1      1         2\n",
       " 20000 │  3.21817       3      2         2\n",
       "\u001b[36m                         19985 rows omitted\u001b[0m"
      ]
     },
     "metadata": {},
     "output_type": "display_data"
    }
   ],
   "source": [
    "params = DataParameters(nA = 10,\n",
    "    nB = 10,\n",
    "    mA = [0.0],\n",
    "    mB = [4.0],\n",
    "    covA = ones(1,1),\n",
    "    covB = ones(1,1),\n",
    "    aA = [1.0],\n",
    "    aB = [1.0],\n",
    "    r2 = 0.6)\n",
    " \n",
    "rng = ContinuousDataGenerator(params; scenario = 2)\n",
    "data = generate(rng)"
   ]
  },
  {
   "cell_type": "code",
   "execution_count": 152,
   "id": "55948463",
   "metadata": {},
   "outputs": [
    {
     "data": {
      "text/plain": [
       "1×10000 Matrix{Float64}:\n",
       " 5.0  4.0  4.0  4.0  4.0  5.0  4.0  3.0  …  4.0  3.0  5.0  3.0  2.0  2.0  3.0"
      ]
     },
     "metadata": {},
     "output_type": "display_data"
    }
   ],
   "source": [
    "dba = subset(data, :database => ByRow(==(1)))\n",
    "dbb = subset(data, :database => ByRow(==(2)))\n",
    "\n",
    "\n",
    "cols = names(dba, r\"^X\")   \n",
    "\n",
    "XA = transpose(Matrix(dba[:, cols]))\n",
    "XB = transpose(Matrix(dbb[:, cols]))\n",
    "\n",
    "XAi = round.(XA)\n",
    "XBj = round.(XB)"
   ]
  },
  {
   "cell_type": "code",
   "execution_count": 117,
   "id": "d3aa94ae",
   "metadata": {},
   "outputs": [
    {
     "data": {
      "text/plain": [
       "1×10 transpose(::Matrix{Float64}) with eltype Float64:\n",
       " 2.94438  4.66342  4.1699  2.81765  …  4.72449  5.46386  2.99034  4.40834"
      ]
     },
     "metadata": {},
     "output_type": "display_data"
    }
   ],
   "source": [
    "XA\n",
    "XB"
   ]
  },
  {
   "cell_type": "code",
   "execution_count": 93,
   "id": "9a30c840",
   "metadata": {},
   "outputs": [
    {
     "data": {
      "image/png": "[encoded data removed]",
      "image/svg+xml": [
       "<?xml version=\"1.0\" encoding=\"utf-8\"?>\n",
       "<svg xmlns=\"http://www.w3.org/2000/svg\" xmlns:xlink=\"http://www.w3.org/1999/xlink\" width=\"600\" height=\"400\" viewBox=\"0 0 2400 1600\">\n",
       "<defs>\n",
       "  <clipPath id=\"clip180\">\n",
       "    <rect x=\"0\" y=\"0\" width=\"2400\" height=\"1600\"/>\n",
       "  </clipPath>\n",
       "</defs>\n",
       "<path clip-path=\"url(#clip180)\" d=\"M0 1600 L2400 1600 L2400 0 L0 0  Z\" fill=\"#ffffff\" fill-rule=\"evenodd\" fill-opacity=\"1\"/>\n",
       "<defs>\n",
       "  <clipPath id=\"clip181\">\n",
       "    <rect x=\"480\" y=\"0\" width=\"1681\" height=\"1600\"/>\n",
       "  </clipPath>\n",
       "</defs>\n",
       "<path clip-path=\"url(#clip180)\" d=\"M219.38 1423.18 L1175.37 1423.18 L1175.37 123.472 L219.38 123.472  Z\" fill=\"#ffffff\" fill-rule=\"evenodd\" fill-opacity=\"1\"/>\n",
       "<defs>\n",
       "  <clipPath id=\"clip182\">\n",
       "    <rect x=\"219\" y=\"123\" width=\"957\" height=\"1301\"/>\n",
       "  </clipPath>\n",
       "</defs>\n",
       "<polyline clip-path=\"url(#clip182)\" style=\"stroke:#000000; stroke-linecap:round; stroke-linejoin:round; stroke-width:2; stroke-opacity:0.1; fill:none\" points=\"370.134,1423.18 370.134,123.472 \"/>\n",
       "<polyline clip-path=\"url(#clip182)\" style=\"stroke:#000000; stroke-linecap:round; stroke-linejoin:round; stroke-width:2; stroke-opacity:0.1; fill:none\" points=\"533.755,1423.18 533.755,123.472 \"/>\n",
       "<polyline clip-path=\"url(#clip182)\" style=\"stroke:#000000; stroke-linecap:round; stroke-linejoin:round; stroke-width:2; stroke-opacity:0.1; fill:none\" points=\"697.376,1423.18 697.376,123.472 \"/>\n",
       "<polyline clip-path=\"url(#clip182)\" style=\"stroke:#000000; stroke-linecap:round; stroke-linejoin:round; stroke-width:2; stroke-opacity:0.1; fill:none\" points=\"860.997,1423.18 860.997,123.472 \"/>\n",
       "<polyline clip-path=\"url(#clip182)\" style=\"stroke:#000000; stroke-linecap:round; stroke-linejoin:round; stroke-width:2; stroke-opacity:0.1; fill:none\" points=\"1024.62,1423.18 1024.62,123.472 \"/>\n",
       "<polyline clip-path=\"url(#clip182)\" style=\"stroke:#000000; stroke-linecap:round; stroke-linejoin:round; stroke-width:2; stroke-opacity:0.1; fill:none\" points=\"219.38,1423.18 1175.37,1423.18 \"/>\n",
       "<polyline clip-path=\"url(#clip182)\" style=\"stroke:#000000; stroke-linecap:round; stroke-linejoin:round; stroke-width:2; stroke-opacity:0.1; fill:none\" points=\"219.38,1098.25 1175.37,1098.25 \"/>\n",
       "<polyline clip-path=\"url(#clip182)\" style=\"stroke:#000000; stroke-linecap:round; stroke-linejoin:round; stroke-width:2; stroke-opacity:0.1; fill:none\" points=\"219.38,773.326 1175.37,773.326 \"/>\n",
       "<polyline clip-path=\"url(#clip182)\" style=\"stroke:#000000; stroke-linecap:round; stroke-linejoin:round; stroke-width:2; stroke-opacity:0.1; fill:none\" points=\"219.38,448.399 1175.37,448.399 \"/>\n",
       "<polyline clip-path=\"url(#clip182)\" style=\"stroke:#000000; stroke-linecap:round; stroke-linejoin:round; stroke-width:2; stroke-opacity:0.1; fill:none\" points=\"219.38,123.472 1175.37,123.472 \"/>\n",
       "<polyline clip-path=\"url(#clip180)\" style=\"stroke:#000000; stroke-linecap:round; stroke-linejoin:round; stroke-width:4; stroke-opacity:1; fill:none\" points=\"219.38,1423.18 1175.37,1423.18 \"/>\n",
       "<polyline clip-path=\"url(#clip180)\" style=\"stroke:#000000; stroke-linecap:round; stroke-linejoin:round; stroke-width:4; stroke-opacity:1; fill:none\" points=\"370.134,1423.18 370.134,1404.28 \"/>\n",
       "<polyline clip-path=\"url(#clip180)\" style=\"stroke:#000000; stroke-linecap:round; stroke-linejoin:round; stroke-width:4; stroke-opacity:1; fill:none\" points=\"533.755,1423.18 533.755,1404.28 \"/>\n",
       "<polyline clip-path=\"url(#clip180)\" style=\"stroke:#000000; stroke-linecap:round; stroke-linejoin:round; stroke-width:4; stroke-opacity:1; fill:none\" points=\"697.376,1423.18 697.376,1404.28 \"/>\n",
       "<polyline clip-path=\"url(#clip180)\" style=\"stroke:#000000; stroke-linecap:round; stroke-linejoin:round; stroke-width:4; stroke-opacity:1; fill:none\" points=\"860.997,1423.18 860.997,1404.28 \"/>\n",
       "<polyline clip-path=\"url(#clip180)\" style=\"stroke:#000000; stroke-linecap:round; stroke-linejoin:round; stroke-width:4; stroke-opacity:1; fill:none\" points=\"1024.62,1423.18 1024.62,1404.28 \"/>\n",
       "<path clip-path=\"url(#clip180)\" d=\"M317.16 1468.75 L346.835 1468.75 L346.835 1472.69 L317.16 1472.69 L317.16 1468.75 Z\" fill=\"#000000\" fill-rule=\"nonzero\" fill-opacity=\"1\" /><path clip-path=\"url(#clip180)\" d=\"M357.738 1481.64 L365.377 1481.64 L365.377 1455.28 L357.067 1456.95 L357.067 1452.69 L365.331 1451.02 L370.007 1451.02 L370.007 1481.64 L377.645 1481.64 L377.645 1485.58 L357.738 1485.58 L357.738 1481.64 Z\" fill=\"#000000\" fill-rule=\"nonzero\" fill-opacity=\"1\" /><path clip-path=\"url(#clip180)\" d=\"M387.09 1479.7 L391.974 1479.7 L391.974 1485.58 L387.09 1485.58 L387.09 1479.7 Z\" fill=\"#000000\" fill-rule=\"nonzero\" fill-opacity=\"1\" /><path clip-path=\"url(#clip180)\" d=\"M402.206 1451.02 L420.562 1451.02 L420.562 1454.96 L406.488 1454.96 L406.488 1463.43 Q407.506 1463.08 408.525 1462.92 Q409.543 1462.73 410.562 1462.73 Q416.349 1462.73 419.729 1465.9 Q423.108 1469.08 423.108 1474.49 Q423.108 1480.07 419.636 1483.17 Q416.164 1486.25 409.844 1486.25 Q407.668 1486.25 405.4 1485.88 Q403.155 1485.51 400.747 1484.77 L400.747 1480.07 Q402.831 1481.2 405.053 1481.76 Q407.275 1482.32 409.752 1482.32 Q413.756 1482.32 416.094 1480.21 Q418.432 1478.1 418.432 1474.49 Q418.432 1470.88 416.094 1468.77 Q413.756 1466.67 409.752 1466.67 Q407.877 1466.67 406.002 1467.08 Q404.15 1467.5 402.206 1468.38 L402.206 1451.02 Z\" fill=\"#000000\" fill-rule=\"nonzero\" fill-opacity=\"1\" /><path clip-path=\"url(#clip180)\" d=\"M480.283 1468.75 L509.959 1468.75 L509.959 1472.69 L480.283 1472.69 L480.283 1468.75 Z\" fill=\"#000000\" fill-rule=\"nonzero\" fill-opacity=\"1\" /><path clip-path=\"url(#clip180)\" d=\"M520.861 1481.64 L528.5 1481.64 L528.5 1455.28 L520.19 1456.95 L520.19 1452.69 L528.454 1451.02 L533.13 1451.02 L533.13 1481.64 L540.769 1481.64 L540.769 1485.58 L520.861 1485.58 L520.861 1481.64 Z\" fill=\"#000000\" fill-rule=\"nonzero\" fill-opacity=\"1\" /><path clip-path=\"url(#clip180)\" d=\"M550.213 1479.7 L555.097 1479.7 L555.097 1485.58 L550.213 1485.58 L550.213 1479.7 Z\" fill=\"#000000\" fill-rule=\"nonzero\" fill-opacity=\"1\" /><path clip-path=\"url(#clip180)\" d=\"M575.282 1454.1 Q571.671 1454.1 569.843 1457.66 Q568.037 1461.2 568.037 1468.33 Q568.037 1475.44 569.843 1479.01 Q571.671 1482.55 575.282 1482.55 Q578.917 1482.55 580.722 1479.01 Q582.551 1475.44 582.551 1468.33 Q582.551 1461.2 580.722 1457.66 Q578.917 1454.1 575.282 1454.1 M575.282 1450.39 Q581.093 1450.39 584.148 1455 Q587.227 1459.58 587.227 1468.33 Q587.227 1477.06 584.148 1481.67 Q581.093 1486.25 575.282 1486.25 Q569.472 1486.25 566.394 1481.67 Q563.338 1477.06 563.338 1468.33 Q563.338 1459.58 566.394 1455 Q569.472 1450.39 575.282 1450.39 Z\" fill=\"#000000\" fill-rule=\"nonzero\" fill-opacity=\"1\" /><path clip-path=\"url(#clip180)\" d=\"M644.402 1468.75 L674.077 1468.75 L674.077 1472.69 L644.402 1472.69 L644.402 1468.75 Z\" fill=\"#000000\" fill-rule=\"nonzero\" fill-opacity=\"1\" /><path clip-path=\"url(#clip180)\" d=\"M694.17 1454.1 Q690.559 1454.1 688.73 1457.66 Q686.925 1461.2 686.925 1468.33 Q686.925 1475.44 688.73 1479.01 Q690.559 1482.55 694.17 1482.55 Q697.804 1482.55 699.61 1479.01 Q701.438 1475.44 701.438 1468.33 Q701.438 1461.2 699.61 1457.66 Q697.804 1454.1 694.17 1454.1 M694.17 1450.39 Q699.98 1450.39 703.036 1455 Q706.114 1459.58 706.114 1468.33 Q706.114 1477.06 703.036 1481.67 Q699.98 1486.25 694.17 1486.25 Q688.36 1486.25 685.281 1481.67 Q682.225 1477.06 682.225 1468.33 Q682.225 1459.58 685.281 1455 Q688.36 1450.39 694.17 1450.39 Z\" fill=\"#000000\" fill-rule=\"nonzero\" fill-opacity=\"1\" /><path clip-path=\"url(#clip180)\" d=\"M714.332 1479.7 L719.216 1479.7 L719.216 1485.58 L714.332 1485.58 L714.332 1479.7 Z\" fill=\"#000000\" fill-rule=\"nonzero\" fill-opacity=\"1\" /><path clip-path=\"url(#clip180)\" d=\"M729.447 1451.02 L747.804 1451.02 L747.804 1454.96 L733.73 1454.96 L733.73 1463.43 Q734.748 1463.08 735.767 1462.92 Q736.785 1462.73 737.804 1462.73 Q743.591 1462.73 746.97 1465.9 Q750.35 1469.08 750.35 1474.49 Q750.35 1480.07 746.878 1483.17 Q743.406 1486.25 737.086 1486.25 Q734.91 1486.25 732.642 1485.88 Q730.396 1485.51 727.989 1484.77 L727.989 1480.07 Q730.072 1481.2 732.295 1481.76 Q734.517 1482.32 736.994 1482.32 Q740.998 1482.32 743.336 1480.21 Q745.674 1478.1 745.674 1474.49 Q745.674 1470.88 743.336 1468.77 Q740.998 1466.67 736.994 1466.67 Q735.119 1466.67 733.244 1467.08 Q731.392 1467.5 729.447 1468.38 L729.447 1451.02 Z\" fill=\"#000000\" fill-rule=\"nonzero\" fill-opacity=\"1\" /><path clip-path=\"url(#clip180)\" d=\"M838.381 1454.1 Q834.77 1454.1 832.941 1457.66 Q831.136 1461.2 831.136 1468.33 Q831.136 1475.44 832.941 1479.01 Q834.77 1482.55 838.381 1482.55 Q842.015 1482.55 843.821 1479.01 Q845.65 1475.44 845.65 1468.33 Q845.65 1461.2 843.821 1457.66 Q842.015 1454.1 838.381 1454.1 M838.381 1450.39 Q844.191 1450.39 847.247 1455 Q850.326 1459.58 850.326 1468.33 Q850.326 1477.06 847.247 1481.67 Q844.191 1486.25 838.381 1486.25 Q832.571 1486.25 829.492 1481.67 Q826.437 1477.06 826.437 1468.33 Q826.437 1459.58 829.492 1455 Q832.571 1450.39 838.381 1450.39 Z\" fill=\"#000000\" fill-rule=\"nonzero\" fill-opacity=\"1\" /><path clip-path=\"url(#clip180)\" d=\"M858.543 1479.7 L863.427 1479.7 L863.427 1485.58 L858.543 1485.58 L858.543 1479.7 Z\" fill=\"#000000\" fill-rule=\"nonzero\" fill-opacity=\"1\" /><path clip-path=\"url(#clip180)\" d=\"M883.612 1454.1 Q880.001 1454.1 878.173 1457.66 Q876.367 1461.2 876.367 1468.33 Q876.367 1475.44 878.173 1479.01 Q880.001 1482.55 883.612 1482.55 Q887.247 1482.55 889.052 1479.01 Q890.881 1475.44 890.881 1468.33 Q890.881 1461.2 889.052 1457.66 Q887.247 1454.1 883.612 1454.1 M883.612 1450.39 Q889.423 1450.39 892.478 1455 Q895.557 1459.58 895.557 1468.33 Q895.557 1477.06 892.478 1481.67 Q889.423 1486.25 883.612 1486.25 Q877.802 1486.25 874.724 1481.67 Q871.668 1477.06 871.668 1468.33 Q871.668 1459.58 874.724 1455 Q877.802 1450.39 883.612 1450.39 Z\" fill=\"#000000\" fill-rule=\"nonzero\" fill-opacity=\"1\" /><path clip-path=\"url(#clip180)\" d=\"M1002.5 1454.1 Q998.889 1454.1 997.06 1457.66 Q995.254 1461.2 995.254 1468.33 Q995.254 1475.44 997.06 1479.01 Q998.889 1482.55 1002.5 1482.55 Q1006.13 1482.55 1007.94 1479.01 Q1009.77 1475.44 1009.77 1468.33 Q1009.77 1461.2 1007.94 1457.66 Q1006.13 1454.1 1002.5 1454.1 M1002.5 1450.39 Q1008.31 1450.39 1011.37 1455 Q1014.44 1459.58 1014.44 1468.33 Q1014.44 1477.06 1011.37 1481.67 Q1008.31 1486.25 1002.5 1486.25 Q996.69 1486.25 993.611 1481.67 Q990.555 1477.06 990.555 1468.33 Q990.555 1459.58 993.611 1455 Q996.69 1450.39 1002.5 1450.39 Z\" fill=\"#000000\" fill-rule=\"nonzero\" fill-opacity=\"1\" /><path clip-path=\"url(#clip180)\" d=\"M1022.66 1479.7 L1027.55 1479.7 L1027.55 1485.58 L1022.66 1485.58 L1022.66 1479.7 Z\" fill=\"#000000\" fill-rule=\"nonzero\" fill-opacity=\"1\" /><path clip-path=\"url(#clip180)\" d=\"M1037.78 1451.02 L1056.13 1451.02 L1056.13 1454.96 L1042.06 1454.96 L1042.06 1463.43 Q1043.08 1463.08 1044.1 1462.92 Q1045.12 1462.73 1046.13 1462.73 Q1051.92 1462.73 1055.3 1465.9 Q1058.68 1469.08 1058.68 1474.49 Q1058.68 1480.07 1055.21 1483.17 Q1051.74 1486.25 1045.42 1486.25 Q1043.24 1486.25 1040.97 1485.88 Q1038.73 1485.51 1036.32 1484.77 L1036.32 1480.07 Q1038.4 1481.2 1040.62 1481.76 Q1042.85 1482.32 1045.32 1482.32 Q1049.33 1482.32 1051.67 1480.21 Q1054 1478.1 1054 1474.49 Q1054 1470.88 1051.67 1468.77 Q1049.33 1466.67 1045.32 1466.67 Q1043.45 1466.67 1041.57 1467.08 Q1039.72 1467.5 1037.78 1468.38 L1037.78 1451.02 Z\" fill=\"#000000\" fill-rule=\"nonzero\" fill-opacity=\"1\" /><path clip-path=\"url(#clip180)\" d=\"M656.158 1520.52 L663.065 1520.52 L674.873 1538.19 L686.745 1520.52 L693.652 1520.52 L678.374 1543.34 L694.67 1568.04 L687.764 1568.04 L674.396 1547.83 L660.932 1568.04 L653.994 1568.04 L670.958 1542.68 L656.158 1520.52 Z\" fill=\"#000000\" fill-rule=\"nonzero\" fill-opacity=\"1\" /><path clip-path=\"url(#clip180)\" d=\"M718.987 1526.86 L710.266 1550.51 L727.74 1550.51 L718.987 1526.86 M715.359 1520.52 L722.648 1520.52 L740.758 1568.04 L734.074 1568.04 L729.745 1555.85 L708.325 1555.85 L703.996 1568.04 L697.217 1568.04 L715.359 1520.52 Z\" fill=\"#000000\" fill-rule=\"nonzero\" fill-opacity=\"1\" /><polyline clip-path=\"url(#clip180)\" style=\"stroke:#000000; stroke-linecap:round; stroke-linejoin:round; stroke-width:4; stroke-opacity:1; fill:none\" points=\"219.38,1423.18 219.38,123.472 \"/>\n",
       "<polyline clip-path=\"url(#clip180)\" style=\"stroke:#000000; stroke-linecap:round; stroke-linejoin:round; stroke-width:4; stroke-opacity:1; fill:none\" points=\"219.38,1423.18 238.278,1423.18 \"/>\n",
       "<polyline clip-path=\"url(#clip180)\" style=\"stroke:#000000; stroke-linecap:round; stroke-linejoin:round; stroke-width:4; stroke-opacity:1; fill:none\" points=\"219.38,1098.25 238.278,1098.25 \"/>\n",
       "<polyline clip-path=\"url(#clip180)\" style=\"stroke:#000000; stroke-linecap:round; stroke-linejoin:round; stroke-width:4; stroke-opacity:1; fill:none\" points=\"219.38,773.326 238.278,773.326 \"/>\n",
       "<polyline clip-path=\"url(#clip180)\" style=\"stroke:#000000; stroke-linecap:round; stroke-linejoin:round; stroke-width:4; stroke-opacity:1; fill:none\" points=\"219.38,448.399 238.278,448.399 \"/>\n",
       "<polyline clip-path=\"url(#clip180)\" style=\"stroke:#000000; stroke-linecap:round; stroke-linejoin:round; stroke-width:4; stroke-opacity:1; fill:none\" points=\"219.38,123.472 238.278,123.472 \"/>\n",
       "<path clip-path=\"url(#clip180)\" d=\"M126.205 1408.98 Q122.593 1408.98 120.765 1412.54 Q118.959 1416.08 118.959 1423.21 Q118.959 1430.32 120.765 1433.89 Q122.593 1437.43 126.205 1437.43 Q129.839 1437.43 131.644 1433.89 Q133.473 1430.32 133.473 1423.21 Q133.473 1416.08 131.644 1412.54 Q129.839 1408.98 126.205 1408.98 M126.205 1405.27 Q132.015 1405.27 135.07 1409.88 Q138.149 1414.46 138.149 1423.21 Q138.149 1431.94 135.07 1436.55 Q132.015 1441.13 126.205 1441.13 Q120.394 1441.13 117.316 1436.55 Q114.26 1431.94 114.26 1423.21 Q114.26 1414.46 117.316 1409.88 Q120.394 1405.27 126.205 1405.27 Z\" fill=\"#000000\" fill-rule=\"nonzero\" fill-opacity=\"1\" /><path clip-path=\"url(#clip180)\" d=\"M146.366 1434.58 L151.251 1434.58 L151.251 1440.46 L146.366 1440.46 L146.366 1434.58 Z\" fill=\"#000000\" fill-rule=\"nonzero\" fill-opacity=\"1\" /><path clip-path=\"url(#clip180)\" d=\"M171.436 1408.98 Q167.825 1408.98 165.996 1412.54 Q164.19 1416.08 164.19 1423.21 Q164.19 1430.32 165.996 1433.89 Q167.825 1437.43 171.436 1437.43 Q175.07 1437.43 176.876 1433.89 Q178.704 1430.32 178.704 1423.21 Q178.704 1416.08 176.876 1412.54 Q175.07 1408.98 171.436 1408.98 M171.436 1405.27 Q177.246 1405.27 180.301 1409.88 Q183.38 1414.46 183.38 1423.21 Q183.38 1431.94 180.301 1436.55 Q177.246 1441.13 171.436 1441.13 Q165.626 1441.13 162.547 1436.55 Q159.491 1431.94 159.491 1423.21 Q159.491 1414.46 162.547 1409.88 Q165.626 1405.27 171.436 1405.27 Z\" fill=\"#000000\" fill-rule=\"nonzero\" fill-opacity=\"1\" /><path clip-path=\"url(#clip180)\" d=\"M127.2 1084.05 Q123.589 1084.05 121.76 1087.62 Q119.955 1091.16 119.955 1098.29 Q119.955 1105.39 121.76 1108.96 Q123.589 1112.5 127.2 1112.5 Q130.834 1112.5 132.64 1108.96 Q134.468 1105.39 134.468 1098.29 Q134.468 1091.16 132.64 1087.62 Q130.834 1084.05 127.2 1084.05 M127.2 1080.35 Q133.01 1080.35 136.066 1084.95 Q139.144 1089.54 139.144 1098.29 Q139.144 1107.01 136.066 1111.62 Q133.01 1116.2 127.2 1116.2 Q121.39 1116.2 118.311 1111.62 Q115.256 1107.01 115.256 1098.29 Q115.256 1089.54 118.311 1084.95 Q121.39 1080.35 127.2 1080.35 Z\" fill=\"#000000\" fill-rule=\"nonzero\" fill-opacity=\"1\" /><path clip-path=\"url(#clip180)\" d=\"M147.362 1109.65 L152.246 1109.65 L152.246 1115.53 L147.362 1115.53 L147.362 1109.65 Z\" fill=\"#000000\" fill-rule=\"nonzero\" fill-opacity=\"1\" /><path clip-path=\"url(#clip180)\" d=\"M162.477 1080.97 L180.834 1080.97 L180.834 1084.91 L166.76 1084.91 L166.76 1093.38 Q167.778 1093.03 168.797 1092.87 Q169.815 1092.69 170.834 1092.69 Q176.621 1092.69 180.001 1095.86 Q183.38 1099.03 183.38 1104.45 Q183.38 1110.02 179.908 1113.13 Q176.436 1116.2 170.116 1116.2 Q167.94 1116.2 165.672 1115.83 Q163.427 1115.46 161.019 1114.72 L161.019 1110.02 Q163.102 1111.16 165.325 1111.71 Q167.547 1112.27 170.024 1112.27 Q174.028 1112.27 176.366 1110.16 Q178.704 1108.06 178.704 1104.45 Q178.704 1100.83 176.366 1098.73 Q174.028 1096.62 170.024 1096.62 Q168.149 1096.62 166.274 1097.04 Q164.422 1097.45 162.477 1098.33 L162.477 1080.97 Z\" fill=\"#000000\" fill-rule=\"nonzero\" fill-opacity=\"1\" /><path clip-path=\"url(#clip180)\" d=\"M117.015 786.671 L124.654 786.671 L124.654 760.305 L116.343 761.972 L116.343 757.713 L124.607 756.046 L129.283 756.046 L129.283 786.671 L136.922 786.671 L136.922 790.606 L117.015 790.606 L117.015 786.671 Z\" fill=\"#000000\" fill-rule=\"nonzero\" fill-opacity=\"1\" /><path clip-path=\"url(#clip180)\" d=\"M146.366 784.726 L151.251 784.726 L151.251 790.606 L146.366 790.606 L146.366 784.726 Z\" fill=\"#000000\" fill-rule=\"nonzero\" fill-opacity=\"1\" /><path clip-path=\"url(#clip180)\" d=\"M171.436 759.125 Q167.825 759.125 165.996 762.689 Q164.19 766.231 164.19 773.361 Q164.19 780.467 165.996 784.032 Q167.825 787.574 171.436 787.574 Q175.07 787.574 176.876 784.032 Q178.704 780.467 178.704 773.361 Q178.704 766.231 176.876 762.689 Q175.07 759.125 171.436 759.125 M171.436 755.421 Q177.246 755.421 180.301 760.027 Q183.38 764.611 183.38 773.361 Q183.38 782.088 180.301 786.694 Q177.246 791.277 171.436 791.277 Q165.626 791.277 162.547 786.694 Q159.491 782.088 159.491 773.361 Q159.491 764.611 162.547 760.027 Q165.626 755.421 171.436 755.421 Z\" fill=\"#000000\" fill-rule=\"nonzero\" fill-opacity=\"1\" /><path clip-path=\"url(#clip180)\" d=\"M118.01 461.744 L125.649 461.744 L125.649 435.378 L117.339 437.045 L117.339 432.786 L125.603 431.119 L130.279 431.119 L130.279 461.744 L137.917 461.744 L137.917 465.679 L118.01 465.679 L118.01 461.744 Z\" fill=\"#000000\" fill-rule=\"nonzero\" fill-opacity=\"1\" /><path clip-path=\"url(#clip180)\" d=\"M147.362 459.799 L152.246 459.799 L152.246 465.679 L147.362 465.679 L147.362 459.799 Z\" fill=\"#000000\" fill-rule=\"nonzero\" fill-opacity=\"1\" /><path clip-path=\"url(#clip180)\" d=\"M162.477 431.119 L180.834 431.119 L180.834 435.054 L166.76 435.054 L166.76 443.526 Q167.778 443.179 168.797 443.017 Q169.815 442.832 170.834 442.832 Q176.621 442.832 180.001 446.003 Q183.38 449.175 183.38 454.591 Q183.38 460.17 179.908 463.272 Q176.436 466.35 170.116 466.35 Q167.94 466.35 165.672 465.98 Q163.427 465.61 161.019 464.869 L161.019 460.17 Q163.102 461.304 165.325 461.86 Q167.547 462.415 170.024 462.415 Q174.028 462.415 176.366 460.309 Q178.704 458.202 178.704 454.591 Q178.704 450.98 176.366 448.874 Q174.028 446.767 170.024 446.767 Q168.149 446.767 166.274 447.184 Q164.422 447.6 162.477 448.48 L162.477 431.119 Z\" fill=\"#000000\" fill-rule=\"nonzero\" fill-opacity=\"1\" /><path clip-path=\"url(#clip180)\" d=\"M120.232 136.817 L136.552 136.817 L136.552 140.752 L114.607 140.752 L114.607 136.817 Q117.269 134.062 121.853 129.433 Q126.459 124.78 127.64 123.437 Q129.885 120.914 130.765 119.178 Q131.667 117.419 131.667 115.729 Q131.667 112.974 129.723 111.238 Q127.802 109.502 124.7 109.502 Q122.501 109.502 120.047 110.266 Q117.617 111.03 114.839 112.581 L114.839 107.859 Q117.663 106.725 120.117 106.146 Q122.57 105.567 124.607 105.567 Q129.978 105.567 133.172 108.252 Q136.367 110.937 136.367 115.428 Q136.367 117.558 135.556 119.479 Q134.769 121.377 132.663 123.97 Q132.084 124.641 128.982 127.859 Q125.88 131.053 120.232 136.817 Z\" fill=\"#000000\" fill-rule=\"nonzero\" fill-opacity=\"1\" /><path clip-path=\"url(#clip180)\" d=\"M146.366 134.873 L151.251 134.873 L151.251 140.752 L146.366 140.752 L146.366 134.873 Z\" fill=\"#000000\" fill-rule=\"nonzero\" fill-opacity=\"1\" /><path clip-path=\"url(#clip180)\" d=\"M171.436 109.271 Q167.825 109.271 165.996 112.836 Q164.19 116.377 164.19 123.507 Q164.19 130.613 165.996 134.178 Q167.825 137.72 171.436 137.72 Q175.07 137.72 176.876 134.178 Q178.704 130.613 178.704 123.507 Q178.704 116.377 176.876 112.836 Q175.07 109.271 171.436 109.271 M171.436 105.567 Q177.246 105.567 180.301 110.174 Q183.38 114.757 183.38 123.507 Q183.38 132.234 180.301 136.84 Q177.246 141.423 171.436 141.423 Q165.626 141.423 162.547 136.84 Q159.491 132.234 159.491 123.507 Q159.491 114.757 162.547 110.174 Q165.626 105.567 171.436 105.567 Z\" fill=\"#000000\" fill-rule=\"nonzero\" fill-opacity=\"1\" /><path clip-path=\"url(#clip180)\" d=\"M16.4842 937.529 L16.4842 910.221 L21.895 910.221 L21.895 931.1 L35.8996 931.1 L35.8996 912.258 L41.3104 912.258 L41.3104 931.1 L64.0042 931.1 L64.0042 937.529 L16.4842 937.529 Z\" fill=\"#000000\" fill-rule=\"nonzero\" fill-opacity=\"1\" /><path clip-path=\"url(#clip180)\" d=\"M33.8307 884.376 Q33.2578 885.362 33.0032 886.54 Q32.7167 887.686 32.7167 889.086 Q32.7167 894.052 35.9632 896.725 Q39.1779 899.367 45.2253 899.367 L64.0042 899.367 L64.0042 905.255 L28.3562 905.255 L28.3562 899.367 L33.8944 899.367 Q30.6479 897.521 29.0883 894.561 Q27.4968 891.601 27.4968 887.368 Q27.4968 886.763 27.5923 886.031 Q27.656 885.299 27.8151 884.408 L33.8307 884.376 Z\" fill=\"#000000\" fill-rule=\"nonzero\" fill-opacity=\"1\" /><path clip-path=\"url(#clip180)\" d=\"M44.7161 849.173 L47.5806 849.173 L47.5806 876.1 Q53.6281 875.718 56.8109 872.472 Q59.9619 869.194 59.9619 863.369 Q59.9619 859.995 59.1344 856.844 Q58.3069 853.661 56.6518 850.542 L62.1899 850.542 Q63.5267 853.693 64.227 857.003 Q64.9272 860.313 64.9272 863.719 Q64.9272 872.249 59.9619 877.246 Q54.9967 882.211 46.5303 882.211 Q37.7774 882.211 32.6531 877.501 Q27.4968 872.758 27.4968 864.738 Q27.4968 857.544 32.1438 853.375 Q36.7589 849.173 44.7161 849.173 M42.9973 855.03 Q38.1912 855.093 35.3266 857.735 Q32.4621 860.345 32.4621 864.674 Q32.4621 869.575 35.2312 872.536 Q38.0002 875.464 43.0292 875.909 L42.9973 855.03 M11.869 860.663 L11.869 854.33 L23.8365 864.706 L23.8365 869.575 L11.869 860.663 Z\" fill=\"#000000\" fill-rule=\"nonzero\" fill-opacity=\"1\" /><path clip-path=\"url(#clip180)\" d=\"M46.212 836.06 Q52.6732 836.06 56.3653 833.418 Q60.0256 830.745 60.0256 826.098 Q60.0256 821.451 56.3653 818.777 Q52.6732 816.104 46.212 816.104 Q39.7508 816.104 36.0905 818.777 Q32.3984 821.451 32.3984 826.098 Q32.3984 830.745 36.0905 833.418 Q39.7508 836.06 46.212 836.06 M58.657 816.104 Q61.8398 817.95 63.3994 820.782 Q64.9272 823.583 64.9272 827.53 Q64.9272 833.991 59.771 838.065 Q54.6147 842.107 46.212 842.107 Q37.8093 842.107 32.6531 838.065 Q27.4968 833.991 27.4968 827.53 Q27.4968 823.583 29.0564 820.782 Q30.5842 817.95 33.7671 816.104 L28.3562 816.104 L28.3562 810.247 L77.5631 810.247 L77.5631 816.104 L58.657 816.104 Z\" fill=\"#000000\" fill-rule=\"nonzero\" fill-opacity=\"1\" /><path clip-path=\"url(#clip180)\" d=\"M49.9359 798.789 L28.3562 798.789 L28.3562 792.932 L49.7131 792.932 Q54.7739 792.932 57.3202 790.959 Q59.8346 788.986 59.8346 785.039 Q59.8346 780.296 56.8109 777.559 Q53.7872 774.79 48.5673 774.79 L28.3562 774.79 L28.3562 768.934 L64.0042 768.934 L64.0042 774.79 L58.5296 774.79 Q61.7762 776.923 63.3676 779.755 Q64.9272 782.556 64.9272 786.28 Q64.9272 792.423 61.1078 795.606 Q57.2883 798.789 49.9359 798.789 M27.4968 784.052 L27.4968 784.052 Z\" fill=\"#000000\" fill-rule=\"nonzero\" fill-opacity=\"1\" /><path clip-path=\"url(#clip180)\" d=\"M44.7161 726.379 L47.5806 726.379 L47.5806 753.306 Q53.6281 752.924 56.8109 749.677 Q59.9619 746.399 59.9619 740.574 Q59.9619 737.201 59.1344 734.05 Q58.3069 730.867 56.6518 727.748 L62.1899 727.748 Q63.5267 730.899 64.227 734.209 Q64.9272 737.519 64.9272 740.925 Q64.9272 749.455 59.9619 754.452 Q54.9967 759.417 46.5303 759.417 Q37.7774 759.417 32.6531 754.706 Q27.4968 749.964 27.4968 741.943 Q27.4968 734.75 32.1438 730.58 Q36.7589 726.379 44.7161 726.379 M42.9973 732.235 Q38.1912 732.299 35.3266 734.941 Q32.4621 737.551 32.4621 741.879 Q32.4621 746.781 35.2312 749.741 Q38.0002 752.669 43.0292 753.115 L42.9973 732.235 Z\" fill=\"#000000\" fill-rule=\"nonzero\" fill-opacity=\"1\" /><path clip-path=\"url(#clip180)\" d=\"M42.4881 687.134 L64.0042 687.134 L64.0042 692.991 L42.679 692.991 Q37.6183 692.991 35.1038 694.964 Q32.5894 696.938 32.5894 700.884 Q32.5894 705.627 35.6131 708.364 Q38.6368 711.101 43.8567 711.101 L64.0042 711.101 L64.0042 716.989 L28.3562 716.989 L28.3562 711.101 L33.8944 711.101 Q30.6797 709.001 29.0883 706.168 Q27.4968 703.303 27.4968 699.579 Q27.4968 693.436 31.3163 690.285 Q35.1038 687.134 42.4881 687.134 Z\" fill=\"#000000\" fill-rule=\"nonzero\" fill-opacity=\"1\" /><path clip-path=\"url(#clip180)\" d=\"M29.7248 649.799 L35.1993 649.799 Q33.8307 652.282 33.1623 654.797 Q32.4621 657.279 32.4621 659.825 Q32.4621 665.523 36.0905 668.674 Q39.6872 671.825 46.212 671.825 Q52.7369 671.825 56.3653 668.674 Q59.9619 665.523 59.9619 659.825 Q59.9619 657.279 59.2935 654.797 Q58.5933 652.282 57.2247 649.799 L62.6355 649.799 Q63.7814 652.25 64.3543 654.892 Q64.9272 657.502 64.9272 660.462 Q64.9272 668.515 59.8664 673.257 Q54.8057 678 46.212 678 Q37.491 678 32.4939 673.225 Q27.4968 668.419 27.4968 660.08 Q27.4968 657.375 28.0697 654.797 Q28.6108 652.218 29.7248 649.799 Z\" fill=\"#000000\" fill-rule=\"nonzero\" fill-opacity=\"1\" /><path clip-path=\"url(#clip180)\" d=\"M44.7161 609.123 L47.5806 609.123 L47.5806 636.05 Q53.6281 635.668 56.8109 632.421 Q59.9619 629.143 59.9619 623.318 Q59.9619 619.944 59.1344 616.793 Q58.3069 613.61 56.6518 610.491 L62.1899 610.491 Q63.5267 613.642 64.227 616.952 Q64.9272 620.263 64.9272 623.668 Q64.9272 632.198 59.9619 637.195 Q54.9967 642.161 46.5303 642.161 Q37.7774 642.161 32.6531 637.45 Q27.4968 632.708 27.4968 624.687 Q27.4968 617.493 32.1438 613.324 Q36.7589 609.123 44.7161 609.123 M42.9973 614.979 Q38.1912 615.043 35.3266 617.684 Q32.4621 620.294 32.4621 624.623 Q32.4621 629.525 35.2312 632.485 Q38.0002 635.413 43.0292 635.859 L42.9973 614.979 Z\" fill=\"#000000\" fill-rule=\"nonzero\" fill-opacity=\"1\" /><path clip-path=\"url(#clip180)\" d=\"M285.662 12.096 L293.845 12.096 L293.845 36.8875 L323.579 36.8875 L323.579 12.096 L331.761 12.096 L331.761 72.576 L323.579 72.576 L323.579 43.7741 L293.845 43.7741 L293.845 72.576 L285.662 72.576 L285.662 12.096 Z\" fill=\"#000000\" fill-rule=\"nonzero\" fill-opacity=\"1\" /><path clip-path=\"url(#clip180)\" d=\"M347.722 27.2059 L355.176 27.2059 L355.176 72.576 L347.722 72.576 L347.722 27.2059 M347.722 9.54393 L355.176 9.54393 L355.176 18.9825 L347.722 18.9825 L347.722 9.54393 Z\" fill=\"#000000\" fill-rule=\"nonzero\" fill-opacity=\"1\" /><path clip-path=\"url(#clip180)\" d=\"M399.695 28.5427 L399.695 35.5912 Q396.535 33.9709 393.133 33.1607 Q389.73 32.3505 386.084 32.3505 Q380.534 32.3505 377.739 34.0519 Q374.985 35.7533 374.985 39.156 Q374.985 41.7486 376.97 43.2475 Q378.955 44.7058 384.95 46.0426 L387.502 46.6097 Q395.442 48.3111 398.763 51.4303 Q402.126 54.509 402.126 60.0587 Q402.126 66.3781 397.103 70.0644 Q392.12 73.7508 383.37 73.7508 Q379.724 73.7508 375.754 73.0216 Q371.825 72.3329 367.45 70.9151 L367.45 63.2184 Q371.582 65.3654 375.592 66.4591 Q379.603 67.5124 383.532 67.5124 Q388.798 67.5124 391.634 65.73 Q394.469 63.9071 394.469 60.6258 Q394.469 57.5877 392.404 55.9673 Q390.378 54.3469 383.451 52.8481 L380.858 52.2405 Q373.931 50.7821 370.853 47.7845 Q367.774 44.7463 367.774 39.4801 Q367.774 33.0797 372.311 29.5959 Q376.848 26.1121 385.193 26.1121 Q389.325 26.1121 392.971 26.7198 Q396.616 27.3274 399.695 28.5427 Z\" fill=\"#000000\" fill-rule=\"nonzero\" fill-opacity=\"1\" /><path clip-path=\"url(#clip180)\" d=\"M421.367 14.324 L421.367 27.2059 L436.72 27.2059 L436.72 32.9987 L421.367 32.9987 L421.367 57.6282 Q421.367 63.1779 422.866 64.7578 Q424.406 66.3376 429.064 66.3376 L436.72 66.3376 L436.72 72.576 L429.064 72.576 Q420.436 72.576 417.155 69.3758 Q413.873 66.1351 413.873 57.6282 L413.873 32.9987 L408.405 32.9987 L408.405 27.2059 L413.873 27.2059 L413.873 14.324 L421.367 14.324 Z\" fill=\"#000000\" fill-rule=\"nonzero\" fill-opacity=\"1\" /><path clip-path=\"url(#clip180)\" d=\"M464.105 32.4315 Q458.109 32.4315 454.625 37.1306 Q451.142 41.7891 451.142 49.9314 Q451.142 58.0738 454.585 62.7728 Q458.069 67.4314 464.105 67.4314 Q470.059 67.4314 473.543 62.7323 Q477.027 58.0333 477.027 49.9314 Q477.027 41.8701 473.543 37.1711 Q470.059 32.4315 464.105 32.4315 M464.105 26.1121 Q473.827 26.1121 479.376 32.4315 Q484.926 38.7509 484.926 49.9314 Q484.926 61.0714 479.376 67.4314 Q473.827 73.7508 464.105 73.7508 Q454.342 73.7508 448.792 67.4314 Q443.283 61.0714 443.283 49.9314 Q443.283 38.7509 448.792 32.4315 Q454.342 26.1121 464.105 26.1121 Z\" fill=\"#000000\" fill-rule=\"nonzero\" fill-opacity=\"1\" /><path clip-path=\"url(#clip180)\" d=\"M527.137 49.3643 Q527.137 41.2625 523.774 36.8065 Q520.453 32.3505 514.417 32.3505 Q508.421 32.3505 505.059 36.8065 Q501.737 41.2625 501.737 49.3643 Q501.737 57.4256 505.059 61.8816 Q508.421 66.3376 514.417 66.3376 Q520.453 66.3376 523.774 61.8816 Q527.137 57.4256 527.137 49.3643 M534.59 66.9452 Q534.59 78.5308 529.446 84.1616 Q524.301 89.8329 513.688 89.8329 Q509.758 89.8329 506.274 89.2252 Q502.791 88.6581 499.509 87.4428 L499.509 80.1917 Q502.791 81.9741 505.991 82.8248 Q509.191 83.6755 512.513 83.6755 Q519.845 83.6755 523.491 79.8271 Q527.137 76.0193 527.137 68.282 L527.137 64.5957 Q524.828 68.6061 521.222 70.5911 Q517.617 72.576 512.594 72.576 Q504.249 72.576 499.145 66.2161 Q494.041 59.8562 494.041 49.3643 Q494.041 38.832 499.145 32.472 Q504.249 26.1121 512.594 26.1121 Q517.617 26.1121 521.222 28.0971 Q524.828 30.082 527.137 34.0924 L527.137 27.2059 L534.59 27.2059 L534.59 66.9452 Z\" fill=\"#000000\" fill-rule=\"nonzero\" fill-opacity=\"1\" /><path clip-path=\"url(#clip180)\" d=\"M576.234 34.1734 Q574.978 33.4443 573.479 33.1202 Q572.021 32.7556 570.238 32.7556 Q563.919 32.7556 560.516 36.8875 Q557.154 40.9789 557.154 48.6757 L557.154 72.576 L549.66 72.576 L549.66 27.2059 L557.154 27.2059 L557.154 34.2544 Q559.503 30.1225 563.271 28.1376 Q567.038 26.1121 572.426 26.1121 Q573.195 26.1121 574.127 26.2337 Q575.059 26.3147 576.193 26.5172 L576.234 34.1734 Z\" fill=\"#000000\" fill-rule=\"nonzero\" fill-opacity=\"1\" /><path clip-path=\"url(#clip180)\" d=\"M604.671 49.7694 Q595.637 49.7694 592.154 51.8354 Q588.67 53.9013 588.67 58.8839 Q588.67 62.8538 591.262 65.2034 Q593.895 67.5124 598.392 67.5124 Q604.59 67.5124 608.317 63.1374 Q612.084 58.7219 612.084 51.4303 L612.084 49.7694 L604.671 49.7694 M619.538 46.6907 L619.538 72.576 L612.084 72.576 L612.084 65.6895 Q609.532 69.8214 605.724 71.8063 Q601.916 73.7508 596.407 73.7508 Q589.439 73.7508 585.308 69.8619 Q581.216 65.9325 581.216 59.3701 Q581.216 51.7138 586.32 47.825 Q591.465 43.9361 601.633 43.9361 L612.084 43.9361 L612.084 43.2069 Q612.084 38.0623 608.681 35.2672 Q605.319 32.4315 599.202 32.4315 Q595.313 32.4315 591.627 33.3632 Q587.941 34.295 584.538 36.1584 L584.538 29.2718 Q588.629 27.692 592.478 26.9223 Q596.326 26.1121 599.972 26.1121 Q609.816 26.1121 614.677 31.2163 Q619.538 36.3204 619.538 46.6907 Z\" fill=\"#000000\" fill-rule=\"nonzero\" fill-opacity=\"1\" /><path clip-path=\"url(#clip180)\" d=\"M670.215 35.9153 Q673.01 30.8922 676.899 28.5022 Q680.787 26.1121 686.054 26.1121 Q693.143 26.1121 696.991 31.0947 Q700.839 36.0368 700.839 45.1919 L700.839 72.576 L693.345 72.576 L693.345 45.4349 Q693.345 38.913 691.036 35.7533 Q688.727 32.5936 683.988 32.5936 Q678.195 32.5936 674.833 36.4419 Q671.47 40.2903 671.47 46.9338 L671.47 72.576 L663.976 72.576 L663.976 45.4349 Q663.976 38.8725 661.667 35.7533 Q659.358 32.5936 654.538 32.5936 Q648.826 32.5936 645.464 36.4824 Q642.101 40.3308 642.101 46.9338 L642.101 72.576 L634.607 72.576 L634.607 27.2059 L642.101 27.2059 L642.101 34.2544 Q644.653 30.082 648.218 28.0971 Q651.783 26.1121 656.685 26.1121 Q661.627 26.1121 665.07 28.6237 Q668.554 31.1352 670.215 35.9153 Z\" fill=\"#000000\" fill-rule=\"nonzero\" fill-opacity=\"1\" /><path clip-path=\"url(#clip180)\" d=\"M751.03 35.9153 Q753.825 30.8922 757.714 28.5022 Q761.603 26.1121 766.869 26.1121 Q773.958 26.1121 777.807 31.0947 Q781.655 36.0368 781.655 45.1919 L781.655 72.576 L774.161 72.576 L774.161 45.4349 Q774.161 38.913 771.852 35.7533 Q769.543 32.5936 764.803 32.5936 Q759.01 32.5936 755.648 36.4419 Q752.286 40.2903 752.286 46.9338 L752.286 72.576 L744.792 72.576 L744.792 45.4349 Q744.792 38.8725 742.483 35.7533 Q740.174 32.5936 735.353 32.5936 Q729.641 32.5936 726.279 36.4824 Q722.917 40.3308 722.917 46.9338 L722.917 72.576 L715.423 72.576 L715.423 27.2059 L722.917 27.2059 L722.917 34.2544 Q725.469 30.082 729.034 28.0971 Q732.598 26.1121 737.5 26.1121 Q742.442 26.1121 745.885 28.6237 Q749.369 31.1352 751.03 35.9153 Z\" fill=\"#000000\" fill-rule=\"nonzero\" fill-opacity=\"1\" /><path clip-path=\"url(#clip180)\" d=\"M835.329 48.0275 L835.329 51.6733 L801.059 51.6733 Q801.545 59.3701 805.677 63.421 Q809.849 67.4314 817.262 67.4314 Q821.556 67.4314 825.567 66.3781 Q829.618 65.3249 833.587 63.2184 L833.587 70.267 Q829.577 71.9684 825.364 72.8596 Q821.151 73.7508 816.817 73.7508 Q805.96 73.7508 799.6 67.4314 Q793.281 61.1119 793.281 50.3365 Q793.281 39.1965 799.276 32.6746 Q805.312 26.1121 815.52 26.1121 Q824.676 26.1121 829.982 32.0264 Q835.329 37.9003 835.329 48.0275 M827.876 45.84 Q827.795 39.7232 824.432 36.0774 Q821.111 32.4315 815.601 32.4315 Q809.363 32.4315 805.596 35.9558 Q801.869 39.4801 801.302 45.8805 L827.876 45.84 Z\" fill=\"#000000\" fill-rule=\"nonzero\" fill-opacity=\"1\" /><path clip-path=\"url(#clip180)\" d=\"M903.79 34.0924 L903.79 9.54393 L911.243 9.54393 L911.243 72.576 L903.79 72.576 L903.79 65.7705 Q901.44 69.8214 897.835 71.8063 Q894.27 73.7508 889.247 73.7508 Q881.024 73.7508 875.838 67.1883 Q870.694 60.6258 870.694 49.9314 Q870.694 39.2371 875.838 32.6746 Q881.024 26.1121 889.247 26.1121 Q894.27 26.1121 897.835 28.0971 Q901.44 30.0415 903.79 34.0924 M878.39 49.9314 Q878.39 58.1548 881.753 62.8538 Q885.156 67.5124 891.07 67.5124 Q896.984 67.5124 900.387 62.8538 Q903.79 58.1548 903.79 49.9314 Q903.79 41.7081 900.387 37.0496 Q896.984 32.3505 891.07 32.3505 Q885.156 32.3505 881.753 37.0496 Q878.39 41.7081 878.39 49.9314 Z\" fill=\"#000000\" fill-rule=\"nonzero\" fill-opacity=\"1\" /><path clip-path=\"url(#clip180)\" d=\"M965.404 48.0275 L965.404 51.6733 L931.133 51.6733 Q931.619 59.3701 935.751 63.421 Q939.924 67.4314 947.337 67.4314 Q951.631 67.4314 955.641 66.3781 Q959.692 65.3249 963.662 63.2184 L963.662 70.267 Q959.652 71.9684 955.439 72.8596 Q951.226 73.7508 946.891 73.7508 Q936.035 73.7508 929.675 67.4314 Q923.356 61.1119 923.356 50.3365 Q923.356 39.1965 929.351 32.6746 Q935.387 26.1121 945.595 26.1121 Q954.75 26.1121 960.057 32.0264 Q965.404 37.9003 965.404 48.0275 M957.95 45.84 Q957.869 39.7232 954.507 36.0774 Q951.185 32.4315 945.676 32.4315 Q939.438 32.4315 935.67 35.9558 Q931.943 39.4801 931.376 45.8805 L957.95 45.84 Z\" fill=\"#000000\" fill-rule=\"nonzero\" fill-opacity=\"1\" /><path clip-path=\"url(#clip180)\" d=\"M1001.42 12.096 L1010.21 12.096 L1025.24 34.5785 L1040.35 12.096 L1049.14 12.096 L1029.69 41.141 L1050.43 72.576 L1041.64 72.576 L1024.63 46.8528 L1007.49 72.576 L998.662 72.576 L1020.25 40.2903 L1001.42 12.096 Z\" fill=\"#000000\" fill-rule=\"nonzero\" fill-opacity=\"1\" /><path clip-path=\"url(#clip180)\" d=\"M1081.38 20.1573 L1070.28 50.2555 L1092.52 50.2555 L1081.38 20.1573 M1076.76 12.096 L1086.04 12.096 L1109.09 72.576 L1100.58 72.576 L1095.07 57.061 L1067.81 57.061 L1062.3 72.576 L1053.67 72.576 L1076.76 12.096 Z\" fill=\"#000000\" fill-rule=\"nonzero\" fill-opacity=\"1\" /><path clip-path=\"url(#clip182)\" d=\"M271.961 773.326 L271.961 1423.18 L337.41 1423.18 L337.41 773.326 L271.961 773.326 L271.961 773.326  Z\" fill=\"#009af9\" fill-rule=\"evenodd\" fill-opacity=\"1\"/>\n",
       "<polyline clip-path=\"url(#clip182)\" style=\"stroke:#000000; stroke-linecap:round; stroke-linejoin:round; stroke-width:4; stroke-opacity:1; fill:none\" points=\"271.961,773.326 271.961,1423.18 337.41,1423.18 337.41,773.326 271.961,773.326 \"/>\n",
       "<path clip-path=\"url(#clip182)\" d=\"M337.41 773.326 L337.41 1423.18 L402.858 1423.18 L402.858 773.326 L337.41 773.326 L337.41 773.326  Z\" fill=\"#009af9\" fill-rule=\"evenodd\" fill-opacity=\"1\"/>\n",
       "<polyline clip-path=\"url(#clip182)\" style=\"stroke:#000000; stroke-linecap:round; stroke-linejoin:round; stroke-width:4; stroke-opacity:1; fill:none\" points=\"337.41,773.326 337.41,1423.18 402.858,1423.18 402.858,773.326 337.41,773.326 \"/>\n",
       "<path clip-path=\"url(#clip182)\" d=\"M402.858 1423.18 L402.858 1423.18 L468.307 1423.18 L468.307 1423.18 L402.858 1423.18 L402.858 1423.18  Z\" fill=\"#009af9\" fill-rule=\"evenodd\" fill-opacity=\"1\"/>\n",
       "<polyline clip-path=\"url(#clip182)\" style=\"stroke:#000000; stroke-linecap:round; stroke-linejoin:round; stroke-width:4; stroke-opacity:1; fill:none\" points=\"402.858,1423.18 402.858,1423.18 468.307,1423.18 402.858,1423.18 \"/>\n",
       "<path clip-path=\"url(#clip182)\" d=\"M468.307 1423.18 L468.307 1423.18 L533.755 1423.18 L533.755 1423.18 L468.307 1423.18 L468.307 1423.18  Z\" fill=\"#009af9\" fill-rule=\"evenodd\" fill-opacity=\"1\"/>\n",
       "<polyline clip-path=\"url(#clip182)\" style=\"stroke:#000000; stroke-linecap:round; stroke-linejoin:round; stroke-width:4; stroke-opacity:1; fill:none\" points=\"468.307,1423.18 468.307,1423.18 533.755,1423.18 468.307,1423.18 \"/>\n",
       "<path clip-path=\"url(#clip182)\" d=\"M533.755 1423.18 L533.755 1423.18 L599.203 1423.18 L599.203 1423.18 L533.755 1423.18 L533.755 1423.18  Z\" fill=\"#009af9\" fill-rule=\"evenodd\" fill-opacity=\"1\"/>\n",
       "<polyline clip-path=\"url(#clip182)\" style=\"stroke:#000000; stroke-linecap:round; stroke-linejoin:round; stroke-width:4; stroke-opacity:1; fill:none\" points=\"533.755,1423.18 533.755,1423.18 599.203,1423.18 533.755,1423.18 \"/>\n",
       "<path clip-path=\"url(#clip182)\" d=\"M599.203 1423.18 L599.203 1423.18 L664.652 1423.18 L664.652 1423.18 L599.203 1423.18 L599.203 1423.18  Z\" fill=\"#009af9\" fill-rule=\"evenodd\" fill-opacity=\"1\"/>\n",
       "<polyline clip-path=\"url(#clip182)\" style=\"stroke:#000000; stroke-linecap:round; stroke-linejoin:round; stroke-width:4; stroke-opacity:1; fill:none\" points=\"599.203,1423.18 599.203,1423.18 664.652,1423.18 599.203,1423.18 \"/>\n",
       "<path clip-path=\"url(#clip182)\" d=\"M664.652 123.472 L664.652 1423.18 L730.1 1423.18 L730.1 123.472 L664.652 123.472 L664.652 123.472  Z\" fill=\"#009af9\" fill-rule=\"evenodd\" fill-opacity=\"1\"/>\n",
       "<polyline clip-path=\"url(#clip182)\" style=\"stroke:#000000; stroke-linecap:round; stroke-linejoin:round; stroke-width:4; stroke-opacity:1; fill:none\" points=\"664.652,123.472 664.652,1423.18 730.1,1423.18 730.1,123.472 664.652,123.472 \"/>\n",
       "<path clip-path=\"url(#clip182)\" d=\"M730.1 773.326 L730.1 1423.18 L795.548 1423.18 L795.548 773.326 L730.1 773.326 L730.1 773.326  Z\" fill=\"#009af9\" fill-rule=\"evenodd\" fill-opacity=\"1\"/>\n",
       "<polyline clip-path=\"url(#clip182)\" style=\"stroke:#000000; stroke-linecap:round; stroke-linejoin:round; stroke-width:4; stroke-opacity:1; fill:none\" points=\"730.1,773.326 730.1,1423.18 795.548,1423.18 795.548,773.326 730.1,773.326 \"/>\n",
       "<path clip-path=\"url(#clip182)\" d=\"M795.548 773.326 L795.548 1423.18 L860.997 1423.18 L860.997 773.326 L795.548 773.326 L795.548 773.326  Z\" fill=\"#009af9\" fill-rule=\"evenodd\" fill-opacity=\"1\"/>\n",
       "<polyline clip-path=\"url(#clip182)\" style=\"stroke:#000000; stroke-linecap:round; stroke-linejoin:round; stroke-width:4; stroke-opacity:1; fill:none\" points=\"795.548,773.326 795.548,1423.18 860.997,1423.18 860.997,773.326 795.548,773.326 \"/>\n",
       "<path clip-path=\"url(#clip182)\" d=\"M860.997 1423.18 L860.997 1423.18 L926.445 1423.18 L926.445 1423.18 L860.997 1423.18 L860.997 1423.18  Z\" fill=\"#009af9\" fill-rule=\"evenodd\" fill-opacity=\"1\"/>\n",
       "<polyline clip-path=\"url(#clip182)\" style=\"stroke:#000000; stroke-linecap:round; stroke-linejoin:round; stroke-width:4; stroke-opacity:1; fill:none\" points=\"860.997,1423.18 860.997,1423.18 926.445,1423.18 860.997,1423.18 \"/>\n",
       "<path clip-path=\"url(#clip182)\" d=\"M926.445 773.326 L926.445 1423.18 L991.894 1423.18 L991.894 773.326 L926.445 773.326 L926.445 773.326  Z\" fill=\"#009af9\" fill-rule=\"evenodd\" fill-opacity=\"1\"/>\n",
       "<polyline clip-path=\"url(#clip182)\" style=\"stroke:#000000; stroke-linecap:round; stroke-linejoin:round; stroke-width:4; stroke-opacity:1; fill:none\" points=\"926.445,773.326 926.445,1423.18 991.894,1423.18 991.894,773.326 926.445,773.326 \"/>\n",
       "<path clip-path=\"url(#clip182)\" d=\"M991.894 123.472 L991.894 1423.18 L1057.34 1423.18 L1057.34 123.472 L991.894 123.472 L991.894 123.472  Z\" fill=\"#009af9\" fill-rule=\"evenodd\" fill-opacity=\"1\"/>\n",
       "<polyline clip-path=\"url(#clip182)\" style=\"stroke:#000000; stroke-linecap:round; stroke-linejoin:round; stroke-width:4; stroke-opacity:1; fill:none\" points=\"991.894,123.472 991.894,1423.18 1057.34,1423.18 1057.34,123.472 991.894,123.472 \"/>\n",
       "<path clip-path=\"url(#clip182)\" d=\"M1057.34 773.326 L1057.34 1423.18 L1122.79 1423.18 L1122.79 773.326 L1057.34 773.326 L1057.34 773.326  Z\" fill=\"#009af9\" fill-rule=\"evenodd\" fill-opacity=\"1\"/>\n",
       "<polyline clip-path=\"url(#clip182)\" style=\"stroke:#000000; stroke-linecap:round; stroke-linejoin:round; stroke-width:4; stroke-opacity:1; fill:none\" points=\"1057.34,773.326 1057.34,1423.18 1122.79,1423.18 1122.79,773.326 1057.34,773.326 \"/>\n",
       "<circle clip-path=\"url(#clip182)\" style=\"fill:#009af9; stroke:none; fill-opacity:0\" cx=\"304.686\" cy=\"773.326\" r=\"2\"/>\n",
       "<circle clip-path=\"url(#clip182)\" style=\"fill:#009af9; stroke:none; fill-opacity:0\" cx=\"370.134\" cy=\"773.326\" r=\"2\"/>\n",
       "<circle clip-path=\"url(#clip182)\" style=\"fill:#009af9; stroke:none; fill-opacity:0\" cx=\"435.582\" cy=\"1423.18\" r=\"2\"/>\n",
       "<circle clip-path=\"url(#clip182)\" style=\"fill:#009af9; stroke:none; fill-opacity:0\" cx=\"501.031\" cy=\"1423.18\" r=\"2\"/>\n",
       "<circle clip-path=\"url(#clip182)\" style=\"fill:#009af9; stroke:none; fill-opacity:0\" cx=\"566.479\" cy=\"1423.18\" r=\"2\"/>\n",
       "<circle clip-path=\"url(#clip182)\" style=\"fill:#009af9; stroke:none; fill-opacity:0\" cx=\"631.927\" cy=\"1423.18\" r=\"2\"/>\n",
       "<circle clip-path=\"url(#clip182)\" style=\"fill:#009af9; stroke:none; fill-opacity:0\" cx=\"697.376\" cy=\"123.472\" r=\"2\"/>\n",
       "<circle clip-path=\"url(#clip182)\" style=\"fill:#009af9; stroke:none; fill-opacity:0\" cx=\"762.824\" cy=\"773.326\" r=\"2\"/>\n",
       "<circle clip-path=\"url(#clip182)\" style=\"fill:#009af9; stroke:none; fill-opacity:0\" cx=\"828.273\" cy=\"773.326\" r=\"2\"/>\n",
       "<circle clip-path=\"url(#clip182)\" style=\"fill:#009af9; stroke:none; fill-opacity:0\" cx=\"893.721\" cy=\"1423.18\" r=\"2\"/>\n",
       "<circle clip-path=\"url(#clip182)\" style=\"fill:#009af9; stroke:none; fill-opacity:0\" cx=\"959.169\" cy=\"773.326\" r=\"2\"/>\n",
       "<circle clip-path=\"url(#clip182)\" style=\"fill:#009af9; stroke:none; fill-opacity:0\" cx=\"1024.62\" cy=\"123.472\" r=\"2\"/>\n",
       "<circle clip-path=\"url(#clip182)\" style=\"fill:#009af9; stroke:none; fill-opacity:0\" cx=\"1090.07\" cy=\"773.326\" r=\"2\"/>\n",
       "<path clip-path=\"url(#clip180)\" d=\"M251.247 270.476 L399.276 270.476 L399.276 166.796 L251.247 166.796  Z\" fill=\"#ffffff\" fill-rule=\"evenodd\" fill-opacity=\"1\"/>\n",
       "<polyline clip-path=\"url(#clip180)\" style=\"stroke:#000000; stroke-linecap:round; stroke-linejoin:round; stroke-width:4; stroke-opacity:1; fill:none\" points=\"251.247,270.476 399.276,270.476 399.276,166.796 251.247,166.796 251.247,270.476 \"/>\n",
       "<path clip-path=\"url(#clip180)\" d=\"M261.869 239.372 L325.601 239.372 L325.601 197.9 L261.869 197.9 L261.869 239.372  Z\" fill=\"#009af9\" fill-rule=\"evenodd\" fill-opacity=\"1\"/>\n",
       "<polyline clip-path=\"url(#clip180)\" style=\"stroke:#000000; stroke-linecap:round; stroke-linejoin:round; stroke-width:4; stroke-opacity:1; fill:none\" points=\"261.869,239.372 325.601,239.372 325.601,197.9 261.869,197.9 261.869,239.372 \"/>\n",
       "<path clip-path=\"url(#clip180)\" d=\"M350.066 238.323 Q348.261 242.953 346.548 244.365 Q344.835 245.777 341.964 245.777 L338.561 245.777 L338.561 242.212 L341.061 242.212 Q342.821 242.212 343.793 241.379 Q344.765 240.545 345.946 237.443 L346.71 235.499 L336.224 209.99 L340.737 209.99 L348.839 230.268 L356.941 209.99 L361.455 209.99 L350.066 238.323 Z\" fill=\"#000000\" fill-rule=\"nonzero\" fill-opacity=\"1\" /><path clip-path=\"url(#clip180)\" d=\"M368.747 231.981 L376.385 231.981 L376.385 205.615 L368.075 207.282 L368.075 203.022 L376.339 201.356 L381.015 201.356 L381.015 231.981 L388.654 231.981 L388.654 235.916 L368.747 235.916 L368.747 231.981 Z\" fill=\"#000000\" fill-rule=\"nonzero\" fill-opacity=\"1\" /><path clip-path=\"url(#clip180)\" d=\"M1396.76 1423.18 L2352.76 1423.18 L2352.76 123.472 L1396.76 123.472  Z\" fill=\"#ffffff\" fill-rule=\"evenodd\" fill-opacity=\"1\"/>\n",
       "<defs>\n",
       "  <clipPath id=\"clip183\">\n",
       "    <rect x=\"1396\" y=\"123\" width=\"957\" height=\"1301\"/>\n",
       "  </clipPath>\n",
       "</defs>\n",
       "<polyline clip-path=\"url(#clip183)\" style=\"stroke:#000000; stroke-linecap:round; stroke-linejoin:round; stroke-width:2; stroke-opacity:0.1; fill:none\" points=\"1502.52,1423.18 1502.52,123.472 \"/>\n",
       "<polyline clip-path=\"url(#clip183)\" style=\"stroke:#000000; stroke-linecap:round; stroke-linejoin:round; stroke-width:2; stroke-opacity:0.1; fill:none\" points=\"1768.41,1423.18 1768.41,123.472 \"/>\n",
       "<polyline clip-path=\"url(#clip183)\" style=\"stroke:#000000; stroke-linecap:round; stroke-linejoin:round; stroke-width:2; stroke-opacity:0.1; fill:none\" points=\"2034.29,1423.18 2034.29,123.472 \"/>\n",
       "<polyline clip-path=\"url(#clip183)\" style=\"stroke:#000000; stroke-linecap:round; stroke-linejoin:round; stroke-width:2; stroke-opacity:0.1; fill:none\" points=\"2300.17,1423.18 2300.17,123.472 \"/>\n",
       "<polyline clip-path=\"url(#clip183)\" style=\"stroke:#000000; stroke-linecap:round; stroke-linejoin:round; stroke-width:2; stroke-opacity:0.1; fill:none\" points=\"1396.76,1423.18 2352.76,1423.18 \"/>\n",
       "<polyline clip-path=\"url(#clip183)\" style=\"stroke:#000000; stroke-linecap:round; stroke-linejoin:round; stroke-width:2; stroke-opacity:0.1; fill:none\" points=\"1396.76,989.944 2352.76,989.944 \"/>\n",
       "<polyline clip-path=\"url(#clip183)\" style=\"stroke:#000000; stroke-linecap:round; stroke-linejoin:round; stroke-width:2; stroke-opacity:0.1; fill:none\" points=\"1396.76,556.708 2352.76,556.708 \"/>\n",
       "<polyline clip-path=\"url(#clip183)\" style=\"stroke:#000000; stroke-linecap:round; stroke-linejoin:round; stroke-width:2; stroke-opacity:0.1; fill:none\" points=\"1396.76,123.472 2352.76,123.472 \"/>\n",
       "<polyline clip-path=\"url(#clip180)\" style=\"stroke:#000000; stroke-linecap:round; stroke-linejoin:round; stroke-width:4; stroke-opacity:1; fill:none\" points=\"1396.76,1423.18 2352.76,1423.18 \"/>\n",
       "<polyline clip-path=\"url(#clip180)\" style=\"stroke:#000000; stroke-linecap:round; stroke-linejoin:round; stroke-width:4; stroke-opacity:1; fill:none\" points=\"1502.52,1423.18 1502.52,1404.28 \"/>\n",
       "<polyline clip-path=\"url(#clip180)\" style=\"stroke:#000000; stroke-linecap:round; stroke-linejoin:round; stroke-width:4; stroke-opacity:1; fill:none\" points=\"1768.41,1423.18 1768.41,1404.28 \"/>\n",
       "<polyline clip-path=\"url(#clip180)\" style=\"stroke:#000000; stroke-linecap:round; stroke-linejoin:round; stroke-width:4; stroke-opacity:1; fill:none\" points=\"2034.29,1423.18 2034.29,1404.28 \"/>\n",
       "<polyline clip-path=\"url(#clip180)\" style=\"stroke:#000000; stroke-linecap:round; stroke-linejoin:round; stroke-width:4; stroke-opacity:1; fill:none\" points=\"2300.17,1423.18 2300.17,1404.28 \"/>\n",
       "<path clip-path=\"url(#clip180)\" d=\"M1497.18 1481.64 L1513.49 1481.64 L1513.49 1485.58 L1491.55 1485.58 L1491.55 1481.64 Q1494.21 1478.89 1498.8 1474.26 Q1503.4 1469.61 1504.58 1468.27 Q1506.83 1465.74 1507.71 1464.01 Q1508.61 1462.25 1508.61 1460.56 Q1508.61 1457.8 1506.67 1456.07 Q1504.74 1454.33 1501.64 1454.33 Q1499.44 1454.33 1496.99 1455.09 Q1494.56 1455.86 1491.78 1457.41 L1491.78 1452.69 Q1494.61 1451.55 1497.06 1450.97 Q1499.51 1450.39 1501.55 1450.39 Q1506.92 1450.39 1510.12 1453.08 Q1513.31 1455.77 1513.31 1460.26 Q1513.31 1462.39 1512.5 1464.31 Q1511.71 1466.2 1509.61 1468.8 Q1509.03 1469.47 1505.93 1472.69 Q1502.82 1475.88 1497.18 1481.64 Z\" fill=\"#000000\" fill-rule=\"nonzero\" fill-opacity=\"1\" /><path clip-path=\"url(#clip180)\" d=\"M1772.65 1466.95 Q1776.01 1467.66 1777.89 1469.93 Q1779.78 1472.2 1779.78 1475.53 Q1779.78 1480.65 1776.27 1483.45 Q1772.75 1486.25 1766.27 1486.25 Q1764.09 1486.25 1761.77 1485.81 Q1759.48 1485.39 1757.03 1484.54 L1757.03 1480.02 Q1758.97 1481.16 1761.29 1481.74 Q1763.6 1482.32 1766.13 1482.32 Q1770.52 1482.32 1772.82 1480.58 Q1775.13 1478.84 1775.13 1475.53 Q1775.13 1472.48 1772.98 1470.77 Q1770.85 1469.03 1767.03 1469.03 L1763 1469.03 L1763 1465.19 L1767.21 1465.19 Q1770.66 1465.19 1772.49 1463.82 Q1774.32 1462.43 1774.32 1459.84 Q1774.32 1457.18 1772.42 1455.77 Q1770.55 1454.33 1767.03 1454.33 Q1765.11 1454.33 1762.91 1454.75 Q1760.71 1455.16 1758.07 1456.04 L1758.07 1451.88 Q1760.73 1451.14 1763.05 1450.77 Q1765.39 1450.39 1767.45 1450.39 Q1772.77 1450.39 1775.87 1452.83 Q1778.97 1455.23 1778.97 1459.35 Q1778.97 1462.22 1777.33 1464.21 Q1775.69 1466.18 1772.65 1466.95 Z\" fill=\"#000000\" fill-rule=\"nonzero\" fill-opacity=\"1\" /><path clip-path=\"url(#clip180)\" d=\"M2037.3 1455.09 L2025.49 1473.54 L2037.3 1473.54 L2037.3 1455.09 M2036.07 1451.02 L2041.95 1451.02 L2041.95 1473.54 L2046.88 1473.54 L2046.88 1477.43 L2041.95 1477.43 L2041.95 1485.58 L2037.3 1485.58 L2037.3 1477.43 L2021.7 1477.43 L2021.7 1472.92 L2036.07 1451.02 Z\" fill=\"#000000\" fill-rule=\"nonzero\" fill-opacity=\"1\" /><path clip-path=\"url(#clip180)\" d=\"M2290.45 1451.02 L2308.81 1451.02 L2308.81 1454.96 L2294.73 1454.96 L2294.73 1463.43 Q2295.75 1463.08 2296.77 1462.92 Q2297.79 1462.73 2298.81 1462.73 Q2304.6 1462.73 2307.98 1465.9 Q2311.36 1469.08 2311.36 1474.49 Q2311.36 1480.07 2307.88 1483.17 Q2304.41 1486.25 2298.09 1486.25 Q2295.92 1486.25 2293.65 1485.88 Q2291.4 1485.51 2288.99 1484.77 L2288.99 1480.07 Q2291.08 1481.2 2293.3 1481.76 Q2295.52 1482.32 2298 1482.32 Q2302 1482.32 2304.34 1480.21 Q2306.68 1478.1 2306.68 1474.49 Q2306.68 1470.88 2304.34 1468.77 Q2302 1466.67 2298 1466.67 Q2296.12 1466.67 2294.25 1467.08 Q2292.4 1467.5 2290.45 1468.38 L2290.45 1451.02 Z\" fill=\"#000000\" fill-rule=\"nonzero\" fill-opacity=\"1\" /><path clip-path=\"url(#clip180)\" d=\"M1835.52 1520.52 L1842.42 1520.52 L1854.23 1538.19 L1866.1 1520.52 L1873.01 1520.52 L1857.73 1543.34 L1874.03 1568.04 L1867.12 1568.04 L1853.75 1547.83 L1840.29 1568.04 L1833.35 1568.04 L1850.32 1542.68 L1835.52 1520.52 Z\" fill=\"#000000\" fill-rule=\"nonzero\" fill-opacity=\"1\" /><path clip-path=\"url(#clip180)\" d=\"M1888.89 1545.35 L1888.89 1562.76 L1899.2 1562.76 Q1904.39 1562.76 1906.88 1560.63 Q1909.39 1558.46 1909.39 1554.04 Q1909.39 1549.58 1906.88 1547.48 Q1904.39 1545.35 1899.2 1545.35 L1888.89 1545.35 M1888.89 1525.81 L1888.89 1540.13 L1898.41 1540.13 Q1903.12 1540.13 1905.41 1538.38 Q1907.73 1536.6 1907.73 1532.97 Q1907.73 1529.37 1905.41 1527.59 Q1903.12 1525.81 1898.41 1525.81 L1888.89 1525.81 M1882.46 1520.52 L1898.89 1520.52 Q1906.24 1520.52 1910.22 1523.58 Q1914.2 1526.63 1914.2 1532.27 Q1914.2 1536.63 1912.16 1539.21 Q1910.12 1541.79 1906.17 1542.42 Q1910.92 1543.44 1913.53 1546.69 Q1916.17 1549.9 1916.17 1554.74 Q1916.17 1561.11 1911.84 1564.57 Q1907.51 1568.04 1899.52 1568.04 L1882.46 1568.04 L1882.46 1520.52 Z\" fill=\"#000000\" fill-rule=\"nonzero\" fill-opacity=\"1\" /><polyline clip-path=\"url(#clip180)\" style=\"stroke:#000000; stroke-linecap:round; stroke-linejoin:round; stroke-width:4; stroke-opacity:1; fill:none\" points=\"1396.76,1423.18 1396.76,123.472 \"/>\n",
       "<polyline clip-path=\"url(#clip180)\" style=\"stroke:#000000; stroke-linecap:round; stroke-linejoin:round; stroke-width:4; stroke-opacity:1; fill:none\" points=\"1396.76,1423.18 1415.66,1423.18 \"/>\n",
       "<polyline clip-path=\"url(#clip180)\" style=\"stroke:#000000; stroke-linecap:round; stroke-linejoin:round; stroke-width:4; stroke-opacity:1; fill:none\" points=\"1396.76,989.944 1415.66,989.944 \"/>\n",
       "<polyline clip-path=\"url(#clip180)\" style=\"stroke:#000000; stroke-linecap:round; stroke-linejoin:round; stroke-width:4; stroke-opacity:1; fill:none\" points=\"1396.76,556.708 1415.66,556.708 \"/>\n",
       "<polyline clip-path=\"url(#clip180)\" style=\"stroke:#000000; stroke-linecap:round; stroke-linejoin:round; stroke-width:4; stroke-opacity:1; fill:none\" points=\"1396.76,123.472 1415.66,123.472 \"/>\n",
       "<path clip-path=\"url(#clip180)\" d=\"M1348.82 1408.98 Q1345.21 1408.98 1343.38 1412.54 Q1341.57 1416.08 1341.57 1423.21 Q1341.57 1430.32 1343.38 1433.89 Q1345.21 1437.43 1348.82 1437.43 Q1352.45 1437.43 1354.26 1433.89 Q1356.09 1430.32 1356.09 1423.21 Q1356.09 1416.08 1354.26 1412.54 Q1352.45 1408.98 1348.82 1408.98 M1348.82 1405.27 Q1354.63 1405.27 1357.69 1409.88 Q1360.76 1414.46 1360.76 1423.21 Q1360.76 1431.94 1357.69 1436.55 Q1354.63 1441.13 1348.82 1441.13 Q1343.01 1441.13 1339.93 1436.55 Q1336.88 1431.94 1336.88 1423.21 Q1336.88 1414.46 1339.93 1409.88 Q1343.01 1405.27 1348.82 1405.27 Z\" fill=\"#000000\" fill-rule=\"nonzero\" fill-opacity=\"1\" /><path clip-path=\"url(#clip180)\" d=\"M1340.86 1003.29 L1348.5 1003.29 L1348.5 976.923 L1340.19 978.59 L1340.19 974.331 L1348.45 972.664 L1353.13 972.664 L1353.13 1003.29 L1360.76 1003.29 L1360.76 1007.22 L1340.86 1007.22 L1340.86 1003.29 Z\" fill=\"#000000\" fill-rule=\"nonzero\" fill-opacity=\"1\" /><path clip-path=\"url(#clip180)\" d=\"M1344.45 570.053 L1360.76 570.053 L1360.76 573.988 L1338.82 573.988 L1338.82 570.053 Q1341.48 567.298 1346.07 562.669 Q1350.67 558.016 1351.85 556.673 Q1354.1 554.15 1354.98 552.414 Q1355.88 550.655 1355.88 548.965 Q1355.88 546.21 1353.94 544.474 Q1352.01 542.738 1348.91 542.738 Q1346.71 542.738 1344.26 543.502 Q1341.83 544.266 1339.05 545.817 L1339.05 541.095 Q1341.88 539.96 1344.33 539.382 Q1346.78 538.803 1348.82 538.803 Q1354.19 538.803 1357.38 541.488 Q1360.58 544.173 1360.58 548.664 Q1360.58 550.794 1359.77 552.715 Q1358.98 554.613 1356.88 557.206 Q1356.3 557.877 1353.2 561.095 Q1350.09 564.289 1344.45 570.053 Z\" fill=\"#000000\" fill-rule=\"nonzero\" fill-opacity=\"1\" /><path clip-path=\"url(#clip180)\" d=\"M1353.63 122.118 Q1356.99 122.836 1358.87 125.104 Q1360.76 127.373 1360.76 130.706 Q1360.76 135.822 1357.25 138.623 Q1353.73 141.423 1347.25 141.423 Q1345.07 141.423 1342.76 140.984 Q1340.46 140.567 1338.01 139.71 L1338.01 135.197 Q1339.95 136.331 1342.27 136.91 Q1344.58 137.488 1347.11 137.488 Q1351.51 137.488 1353.8 135.752 Q1356.11 134.016 1356.11 130.706 Q1356.11 127.65 1353.96 125.937 Q1351.83 124.201 1348.01 124.201 L1343.98 124.201 L1343.98 120.359 L1348.2 120.359 Q1351.64 120.359 1353.47 118.993 Q1355.3 117.604 1355.3 115.012 Q1355.3 112.35 1353.4 110.937 Q1351.53 109.502 1348.01 109.502 Q1346.09 109.502 1343.89 109.919 Q1341.69 110.336 1339.05 111.215 L1339.05 107.049 Q1341.71 106.308 1344.03 105.937 Q1346.37 105.567 1348.43 105.567 Q1353.75 105.567 1356.85 107.998 Q1359.95 110.405 1359.95 114.525 Q1359.95 117.396 1358.31 119.386 Q1356.67 121.354 1353.63 122.118 Z\" fill=\"#000000\" fill-rule=\"nonzero\" fill-opacity=\"1\" /><path clip-path=\"url(#clip180)\" d=\"M1239.1 937.529 L1239.1 910.221 L1244.51 910.221 L1244.51 931.1 L1258.52 931.1 L1258.52 912.258 L1263.93 912.258 L1263.93 931.1 L1286.62 931.1 L1286.62 937.529 L1239.1 937.529 Z\" fill=\"#000000\" fill-rule=\"nonzero\" fill-opacity=\"1\" /><path clip-path=\"url(#clip180)\" d=\"M1256.45 884.376 Q1255.87 885.362 1255.62 886.54 Q1255.33 887.686 1255.33 889.086 Q1255.33 894.052 1258.58 896.725 Q1261.79 899.367 1267.84 899.367 L1286.62 899.367 L1286.62 905.255 L1250.97 905.255 L1250.97 899.367 L1256.51 899.367 Q1253.26 897.521 1251.7 894.561 Q1250.11 891.601 1250.11 887.368 Q1250.11 886.763 1250.21 886.031 Q1250.27 885.299 1250.43 884.408 L1256.45 884.376 Z\" fill=\"#000000\" fill-rule=\"nonzero\" fill-opacity=\"1\" /><path clip-path=\"url(#clip180)\" d=\"M1267.33 849.173 L1270.2 849.173 L1270.2 876.1 Q1276.24 875.718 1279.43 872.472 Q1282.58 869.194 1282.58 863.369 Q1282.58 859.995 1281.75 856.844 Q1280.92 853.661 1279.27 850.542 L1284.81 850.542 Q1286.14 853.693 1286.84 857.003 Q1287.54 860.313 1287.54 863.719 Q1287.54 872.249 1282.58 877.246 Q1277.61 882.211 1269.15 882.211 Q1260.39 882.211 1255.27 877.501 Q1250.11 872.758 1250.11 864.738 Q1250.11 857.544 1254.76 853.375 Q1259.37 849.173 1267.33 849.173 M1265.61 855.03 Q1260.81 855.093 1257.94 857.735 Q1255.08 860.345 1255.08 864.674 Q1255.08 869.575 1257.85 872.536 Q1260.62 875.464 1265.64 875.909 L1265.61 855.03 M1234.48 860.663 L1234.48 854.33 L1246.45 864.706 L1246.45 869.575 L1234.48 860.663 Z\" fill=\"#000000\" fill-rule=\"nonzero\" fill-opacity=\"1\" /><path clip-path=\"url(#clip180)\" d=\"M1268.83 836.06 Q1275.29 836.06 1278.98 833.418 Q1282.64 830.745 1282.64 826.098 Q1282.64 821.451 1278.98 818.777 Q1275.29 816.104 1268.83 816.104 Q1262.37 816.104 1258.71 818.777 Q1255.01 821.451 1255.01 826.098 Q1255.01 830.745 1258.71 833.418 Q1262.37 836.06 1268.83 836.06 M1281.27 816.104 Q1284.46 817.95 1286.02 820.782 Q1287.54 823.583 1287.54 827.53 Q1287.54 833.991 1282.39 838.065 Q1277.23 842.107 1268.83 842.107 Q1260.42 842.107 1255.27 838.065 Q1250.11 833.991 1250.11 827.53 Q1250.11 823.583 1251.67 820.782 Q1253.2 817.95 1256.38 816.104 L1250.97 816.104 L1250.97 810.247 L1300.18 810.247 L1300.18 816.104 L1281.27 816.104 Z\" fill=\"#000000\" fill-rule=\"nonzero\" fill-opacity=\"1\" /><path clip-path=\"url(#clip180)\" d=\"M1272.55 798.789 L1250.97 798.789 L1250.97 792.932 L1272.33 792.932 Q1277.39 792.932 1279.94 790.959 Q1282.45 788.986 1282.45 785.039 Q1282.45 780.296 1279.43 777.559 Q1276.4 774.79 1271.18 774.79 L1250.97 774.79 L1250.97 768.934 L1286.62 768.934 L1286.62 774.79 L1281.15 774.79 Q1284.39 776.923 1285.98 779.755 Q1287.54 782.556 1287.54 786.28 Q1287.54 792.423 1283.72 795.606 Q1279.9 798.789 1272.55 798.789 M1250.11 784.052 L1250.11 784.052 Z\" fill=\"#000000\" fill-rule=\"nonzero\" fill-opacity=\"1\" /><path clip-path=\"url(#clip180)\" d=\"M1267.33 726.379 L1270.2 726.379 L1270.2 753.306 Q1276.24 752.924 1279.43 749.677 Q1282.58 746.399 1282.58 740.574 Q1282.58 737.201 1281.75 734.05 Q1280.92 730.867 1279.27 727.748 L1284.81 727.748 Q1286.14 730.899 1286.84 734.209 Q1287.54 737.519 1287.54 740.925 Q1287.54 749.455 1282.58 754.452 Q1277.61 759.417 1269.15 759.417 Q1260.39 759.417 1255.27 754.706 Q1250.11 749.964 1250.11 741.943 Q1250.11 734.75 1254.76 730.58 Q1259.37 726.379 1267.33 726.379 M1265.61 732.235 Q1260.81 732.299 1257.94 734.941 Q1255.08 737.551 1255.08 741.879 Q1255.08 746.781 1257.85 749.741 Q1260.62 752.669 1265.64 753.115 L1265.61 732.235 Z\" fill=\"#000000\" fill-rule=\"nonzero\" fill-opacity=\"1\" /><path clip-path=\"url(#clip180)\" d=\"M1265.1 687.134 L1286.62 687.134 L1286.62 692.991 L1265.29 692.991 Q1260.23 692.991 1257.72 694.964 Q1255.21 696.938 1255.21 700.884 Q1255.21 705.627 1258.23 708.364 Q1261.25 711.101 1266.47 711.101 L1286.62 711.101 L1286.62 716.989 L1250.97 716.989 L1250.97 711.101 L1256.51 711.101 Q1253.3 709.001 1251.7 706.168 Q1250.11 703.303 1250.11 699.579 Q1250.11 693.436 1253.93 690.285 Q1257.72 687.134 1265.1 687.134 Z\" fill=\"#000000\" fill-rule=\"nonzero\" fill-opacity=\"1\" /><path clip-path=\"url(#clip180)\" d=\"M1252.34 649.799 L1257.81 649.799 Q1256.45 652.282 1255.78 654.797 Q1255.08 657.279 1255.08 659.825 Q1255.08 665.523 1258.71 668.674 Q1262.3 671.825 1268.83 671.825 Q1275.35 671.825 1278.98 668.674 Q1282.58 665.523 1282.58 659.825 Q1282.58 657.279 1281.91 654.797 Q1281.21 652.282 1279.84 649.799 L1285.25 649.799 Q1286.4 652.25 1286.97 654.892 Q1287.54 657.502 1287.54 660.462 Q1287.54 668.515 1282.48 673.257 Q1277.42 678 1268.83 678 Q1260.11 678 1255.11 673.225 Q1250.11 668.419 1250.11 660.08 Q1250.11 657.375 1250.69 654.797 Q1251.23 652.218 1252.34 649.799 Z\" fill=\"#000000\" fill-rule=\"nonzero\" fill-opacity=\"1\" /><path clip-path=\"url(#clip180)\" d=\"M1267.33 609.123 L1270.2 609.123 L1270.2 636.05 Q1276.24 635.668 1279.43 632.421 Q1282.58 629.143 1282.58 623.318 Q1282.58 619.944 1281.75 616.793 Q1280.92 613.61 1279.27 610.491 L1284.81 610.491 Q1286.14 613.642 1286.84 616.952 Q1287.54 620.263 1287.54 623.668 Q1287.54 632.198 1282.58 637.195 Q1277.61 642.161 1269.15 642.161 Q1260.39 642.161 1255.27 637.45 Q1250.11 632.708 1250.11 624.687 Q1250.11 617.493 1254.76 613.324 Q1259.37 609.123 1267.33 609.123 M1265.61 614.979 Q1260.81 615.043 1257.94 617.684 Q1255.08 620.294 1255.08 624.623 Q1255.08 629.525 1257.85 632.485 Q1260.62 635.413 1265.64 635.859 L1265.61 614.979 Z\" fill=\"#000000\" fill-rule=\"nonzero\" fill-opacity=\"1\" /><path clip-path=\"url(#clip180)\" d=\"M1465.56 12.096 L1473.74 12.096 L1473.74 36.8875 L1503.47 36.8875 L1503.47 12.096 L1511.66 12.096 L1511.66 72.576 L1503.47 72.576 L1503.47 43.7741 L1473.74 43.7741 L1473.74 72.576 L1465.56 72.576 L1465.56 12.096 Z\" fill=\"#000000\" fill-rule=\"nonzero\" fill-opacity=\"1\" /><path clip-path=\"url(#clip180)\" d=\"M1527.62 27.2059 L1535.07 27.2059 L1535.07 72.576 L1527.62 72.576 L1527.62 27.2059 M1527.62 9.54393 L1535.07 9.54393 L1535.07 18.9825 L1527.62 18.9825 L1527.62 9.54393 Z\" fill=\"#000000\" fill-rule=\"nonzero\" fill-opacity=\"1\" /><path clip-path=\"url(#clip180)\" d=\"M1579.59 28.5427 L1579.59 35.5912 Q1576.43 33.9709 1573.03 33.1607 Q1569.63 32.3505 1565.98 32.3505 Q1560.43 32.3505 1557.64 34.0519 Q1554.88 35.7533 1554.88 39.156 Q1554.88 41.7486 1556.87 43.2475 Q1558.85 44.7058 1564.85 46.0426 L1567.4 46.6097 Q1575.34 48.3111 1578.66 51.4303 Q1582.02 54.509 1582.02 60.0587 Q1582.02 66.3781 1577 70.0644 Q1572.02 73.7508 1563.27 73.7508 Q1559.62 73.7508 1555.65 73.0216 Q1551.72 72.3329 1547.35 70.9151 L1547.35 63.2184 Q1551.48 65.3654 1555.49 66.4591 Q1559.5 67.5124 1563.43 67.5124 Q1568.69 67.5124 1571.53 65.73 Q1574.37 63.9071 1574.37 60.6258 Q1574.37 57.5877 1572.3 55.9673 Q1570.27 54.3469 1563.35 52.8481 L1560.75 52.2405 Q1553.83 50.7821 1550.75 47.7845 Q1547.67 44.7463 1547.67 39.4801 Q1547.67 33.0797 1552.21 29.5959 Q1556.74 26.1121 1565.09 26.1121 Q1569.22 26.1121 1572.87 26.7198 Q1576.51 27.3274 1579.59 28.5427 Z\" fill=\"#000000\" fill-rule=\"nonzero\" fill-opacity=\"1\" /><path clip-path=\"url(#clip180)\" d=\"M1601.26 14.324 L1601.26 27.2059 L1616.62 27.2059 L1616.62 32.9987 L1601.26 32.9987 L1601.26 57.6282 Q1601.26 63.1779 1602.76 64.7578 Q1604.3 66.3376 1608.96 66.3376 L1616.62 66.3376 L1616.62 72.576 L1608.96 72.576 Q1600.33 72.576 1597.05 69.3758 Q1593.77 66.1351 1593.77 57.6282 L1593.77 32.9987 L1588.3 32.9987 L1588.3 27.2059 L1593.77 27.2059 L1593.77 14.324 L1601.26 14.324 Z\" fill=\"#000000\" fill-rule=\"nonzero\" fill-opacity=\"1\" /><path clip-path=\"url(#clip180)\" d=\"M1644 32.4315 Q1638.01 32.4315 1634.52 37.1306 Q1631.04 41.7891 1631.04 49.9314 Q1631.04 58.0738 1634.48 62.7728 Q1637.96 67.4314 1644 67.4314 Q1649.96 67.4314 1653.44 62.7323 Q1656.92 58.0333 1656.92 49.9314 Q1656.92 41.8701 1653.44 37.1711 Q1649.96 32.4315 1644 32.4315 M1644 26.1121 Q1653.72 26.1121 1659.27 32.4315 Q1664.82 38.7509 1664.82 49.9314 Q1664.82 61.0714 1659.27 67.4314 Q1653.72 73.7508 1644 73.7508 Q1634.24 73.7508 1628.69 67.4314 Q1623.18 61.0714 1623.18 49.9314 Q1623.18 38.7509 1628.69 32.4315 Q1634.24 26.1121 1644 26.1121 Z\" fill=\"#000000\" fill-rule=\"nonzero\" fill-opacity=\"1\" /><path clip-path=\"url(#clip180)\" d=\"M1707.03 49.3643 Q1707.03 41.2625 1703.67 36.8065 Q1700.35 32.3505 1694.31 32.3505 Q1688.32 32.3505 1684.96 36.8065 Q1681.63 41.2625 1681.63 49.3643 Q1681.63 57.4256 1684.96 61.8816 Q1688.32 66.3376 1694.31 66.3376 Q1700.35 66.3376 1703.67 61.8816 Q1707.03 57.4256 1707.03 49.3643 M1714.49 66.9452 Q1714.49 78.5308 1709.34 84.1616 Q1704.2 89.8329 1693.58 89.8329 Q1689.65 89.8329 1686.17 89.2252 Q1682.69 88.6581 1679.41 87.4428 L1679.41 80.1917 Q1682.69 81.9741 1685.89 82.8248 Q1689.09 83.6755 1692.41 83.6755 Q1699.74 83.6755 1703.39 79.8271 Q1707.03 76.0193 1707.03 68.282 L1707.03 64.5957 Q1704.72 68.6061 1701.12 70.5911 Q1697.51 72.576 1692.49 72.576 Q1684.14 72.576 1679.04 66.2161 Q1673.94 59.8562 1673.94 49.3643 Q1673.94 38.832 1679.04 32.472 Q1684.14 26.1121 1692.49 26.1121 Q1697.51 26.1121 1701.12 28.0971 Q1704.72 30.082 1707.03 34.0924 L1707.03 27.2059 L1714.49 27.2059 L1714.49 66.9452 Z\" fill=\"#000000\" fill-rule=\"nonzero\" fill-opacity=\"1\" /><path clip-path=\"url(#clip180)\" d=\"M1756.13 34.1734 Q1754.87 33.4443 1753.37 33.1202 Q1751.92 32.7556 1750.13 32.7556 Q1743.81 32.7556 1740.41 36.8875 Q1737.05 40.9789 1737.05 48.6757 L1737.05 72.576 L1729.56 72.576 L1729.56 27.2059 L1737.05 27.2059 L1737.05 34.2544 Q1739.4 30.1225 1743.17 28.1376 Q1746.93 26.1121 1752.32 26.1121 Q1753.09 26.1121 1754.02 26.2337 Q1754.95 26.3147 1756.09 26.5172 L1756.13 34.1734 Z\" fill=\"#000000\" fill-rule=\"nonzero\" fill-opacity=\"1\" /><path clip-path=\"url(#clip180)\" d=\"M1784.57 49.7694 Q1775.53 49.7694 1772.05 51.8354 Q1768.57 53.9013 1768.57 58.8839 Q1768.57 62.8538 1771.16 65.2034 Q1773.79 67.5124 1778.29 67.5124 Q1784.49 67.5124 1788.21 63.1374 Q1791.98 58.7219 1791.98 51.4303 L1791.98 49.7694 L1784.57 49.7694 M1799.43 46.6907 L1799.43 72.576 L1791.98 72.576 L1791.98 65.6895 Q1789.43 69.8214 1785.62 71.8063 Q1781.81 73.7508 1776.3 73.7508 Q1769.34 73.7508 1765.2 69.8619 Q1761.11 65.9325 1761.11 59.3701 Q1761.11 51.7138 1766.22 47.825 Q1771.36 43.9361 1781.53 43.9361 L1791.98 43.9361 L1791.98 43.2069 Q1791.98 38.0623 1788.58 35.2672 Q1785.21 32.4315 1779.1 32.4315 Q1775.21 32.4315 1771.52 33.3632 Q1767.84 34.295 1764.43 36.1584 L1764.43 29.2718 Q1768.53 27.692 1772.37 26.9223 Q1776.22 26.1121 1779.87 26.1121 Q1789.71 26.1121 1794.57 31.2163 Q1799.43 36.3204 1799.43 46.6907 Z\" fill=\"#000000\" fill-rule=\"nonzero\" fill-opacity=\"1\" /><path clip-path=\"url(#clip180)\" d=\"M1850.11 35.9153 Q1852.91 30.8922 1856.79 28.5022 Q1860.68 26.1121 1865.95 26.1121 Q1873.04 26.1121 1876.89 31.0947 Q1880.74 36.0368 1880.74 45.1919 L1880.74 72.576 L1873.24 72.576 L1873.24 45.4349 Q1873.24 38.913 1870.93 35.7533 Q1868.62 32.5936 1863.88 32.5936 Q1858.09 32.5936 1854.73 36.4419 Q1851.37 40.2903 1851.37 46.9338 L1851.37 72.576 L1843.87 72.576 L1843.87 45.4349 Q1843.87 38.8725 1841.56 35.7533 Q1839.25 32.5936 1834.43 32.5936 Q1828.72 32.5936 1825.36 36.4824 Q1822 40.3308 1822 46.9338 L1822 72.576 L1814.5 72.576 L1814.5 27.2059 L1822 27.2059 L1822 34.2544 Q1824.55 30.082 1828.11 28.0971 Q1831.68 26.1121 1836.58 26.1121 Q1841.52 26.1121 1844.97 28.6237 Q1848.45 31.1352 1850.11 35.9153 Z\" fill=\"#000000\" fill-rule=\"nonzero\" fill-opacity=\"1\" /><path clip-path=\"url(#clip180)\" d=\"M1930.93 35.9153 Q1933.72 30.8922 1937.61 28.5022 Q1941.5 26.1121 1946.77 26.1121 Q1953.85 26.1121 1957.7 31.0947 Q1961.55 36.0368 1961.55 45.1919 L1961.55 72.576 L1954.06 72.576 L1954.06 45.4349 Q1954.06 38.913 1951.75 35.7533 Q1949.44 32.5936 1944.7 32.5936 Q1938.91 32.5936 1935.54 36.4419 Q1932.18 40.2903 1932.18 46.9338 L1932.18 72.576 L1924.69 72.576 L1924.69 45.4349 Q1924.69 38.8725 1922.38 35.7533 Q1920.07 32.5936 1915.25 32.5936 Q1909.54 32.5936 1906.17 36.4824 Q1902.81 40.3308 1902.81 46.9338 L1902.81 72.576 L1895.32 72.576 L1895.32 27.2059 L1902.81 27.2059 L1902.81 34.2544 Q1905.36 30.082 1908.93 28.0971 Q1912.49 26.1121 1917.4 26.1121 Q1922.34 26.1121 1925.78 28.6237 Q1929.27 31.1352 1930.93 35.9153 Z\" fill=\"#000000\" fill-rule=\"nonzero\" fill-opacity=\"1\" /><path clip-path=\"url(#clip180)\" d=\"M2015.23 48.0275 L2015.23 51.6733 L1980.95 51.6733 Q1981.44 59.3701 1985.57 63.421 Q1989.75 67.4314 1997.16 67.4314 Q2001.45 67.4314 2005.46 66.3781 Q2009.51 65.3249 2013.48 63.2184 L2013.48 70.267 Q2009.47 71.9684 2005.26 72.8596 Q2001.05 73.7508 1996.71 73.7508 Q1985.86 73.7508 1979.5 67.4314 Q1973.18 61.1119 1973.18 50.3365 Q1973.18 39.1965 1979.17 32.6746 Q1985.21 26.1121 1995.42 26.1121 Q2004.57 26.1121 2009.88 32.0264 Q2015.23 37.9003 2015.23 48.0275 M2007.77 45.84 Q2007.69 39.7232 2004.33 36.0774 Q2001.01 32.4315 1995.5 32.4315 Q1989.26 32.4315 1985.49 35.9558 Q1981.76 39.4801 1981.2 45.8805 L2007.77 45.84 Z\" fill=\"#000000\" fill-rule=\"nonzero\" fill-opacity=\"1\" /><path clip-path=\"url(#clip180)\" d=\"M2083.69 34.0924 L2083.69 9.54393 L2091.14 9.54393 L2091.14 72.576 L2083.69 72.576 L2083.69 65.7705 Q2081.34 69.8214 2077.73 71.8063 Q2074.17 73.7508 2069.14 73.7508 Q2060.92 73.7508 2055.73 67.1883 Q2050.59 60.6258 2050.59 49.9314 Q2050.59 39.2371 2055.73 32.6746 Q2060.92 26.1121 2069.14 26.1121 Q2074.17 26.1121 2077.73 28.0971 Q2081.34 30.0415 2083.69 34.0924 M2058.29 49.9314 Q2058.29 58.1548 2061.65 62.8538 Q2065.05 67.5124 2070.97 67.5124 Q2076.88 67.5124 2080.28 62.8538 Q2083.69 58.1548 2083.69 49.9314 Q2083.69 41.7081 2080.28 37.0496 Q2076.88 32.3505 2070.97 32.3505 Q2065.05 32.3505 2061.65 37.0496 Q2058.29 41.7081 2058.29 49.9314 Z\" fill=\"#000000\" fill-rule=\"nonzero\" fill-opacity=\"1\" /><path clip-path=\"url(#clip180)\" d=\"M2145.3 48.0275 L2145.3 51.6733 L2111.03 51.6733 Q2111.52 59.3701 2115.65 63.421 Q2119.82 67.4314 2127.23 67.4314 Q2131.53 67.4314 2135.54 66.3781 Q2139.59 65.3249 2143.56 63.2184 L2143.56 70.267 Q2139.55 71.9684 2135.33 72.8596 Q2131.12 73.7508 2126.79 73.7508 Q2115.93 73.7508 2109.57 67.4314 Q2103.25 61.1119 2103.25 50.3365 Q2103.25 39.1965 2109.25 32.6746 Q2115.28 26.1121 2125.49 26.1121 Q2134.65 26.1121 2139.95 32.0264 Q2145.3 37.9003 2145.3 48.0275 M2137.85 45.84 Q2137.77 39.7232 2134.4 36.0774 Q2131.08 32.4315 2125.57 32.4315 Q2119.33 32.4315 2115.57 35.9558 Q2111.84 39.4801 2111.27 45.8805 L2137.85 45.84 Z\" fill=\"#000000\" fill-rule=\"nonzero\" fill-opacity=\"1\" /><path clip-path=\"url(#clip180)\" d=\"M2181.31 12.096 L2190.1 12.096 L2205.13 34.5785 L2220.24 12.096 L2229.03 12.096 L2209.59 41.141 L2230.33 72.576 L2221.54 72.576 L2204.52 46.8528 L2187.39 72.576 L2178.56 72.576 L2200.15 40.2903 L2181.31 12.096 Z\" fill=\"#000000\" fill-rule=\"nonzero\" fill-opacity=\"1\" /><path clip-path=\"url(#clip180)\" d=\"M2249.25 43.6931 L2249.25 65.8515 L2262.37 65.8515 Q2268.97 65.8515 2272.13 63.1374 Q2275.33 60.3828 2275.33 54.752 Q2275.33 49.0808 2272.13 46.4072 Q2268.97 43.6931 2262.37 43.6931 L2249.25 43.6931 M2249.25 18.8205 L2249.25 37.0496 L2261.36 37.0496 Q2267.35 37.0496 2270.27 34.8216 Q2273.23 32.5531 2273.23 27.935 Q2273.23 23.3575 2270.27 21.089 Q2267.35 18.8205 2261.36 18.8205 L2249.25 18.8205 M2241.06 12.096 L2261.97 12.096 Q2271.32 12.096 2276.39 15.9849 Q2281.45 19.8737 2281.45 27.0438 Q2281.45 32.5936 2278.86 35.8748 Q2276.27 39.156 2271.24 39.9662 Q2277.28 41.2625 2280.6 45.3944 Q2283.96 49.4858 2283.96 55.6432 Q2283.96 63.745 2278.45 68.1605 Q2272.94 72.576 2262.78 72.576 L2241.06 72.576 L2241.06 12.096 Z\" fill=\"#000000\" fill-rule=\"nonzero\" fill-opacity=\"1\" /><path clip-path=\"url(#clip183)\" d=\"M1449.35 989.944 L1449.35 1423.18 L1502.52 1423.18 L1502.52 989.944 L1449.35 989.944 L1449.35 989.944  Z\" fill=\"#009af9\" fill-rule=\"evenodd\" fill-opacity=\"1\"/>\n",
       "<polyline clip-path=\"url(#clip183)\" style=\"stroke:#000000; stroke-linecap:round; stroke-linejoin:round; stroke-width:4; stroke-opacity:1; fill:none\" points=\"1449.35,989.944 1449.35,1423.18 1502.52,1423.18 1502.52,989.944 1449.35,989.944 \"/>\n",
       "<path clip-path=\"url(#clip183)\" d=\"M1502.52 1423.18 L1502.52 1423.18 L1555.7 1423.18 L1555.7 1423.18 L1502.52 1423.18 L1502.52 1423.18  Z\" fill=\"#009af9\" fill-rule=\"evenodd\" fill-opacity=\"1\"/>\n",
       "<polyline clip-path=\"url(#clip183)\" style=\"stroke:#000000; stroke-linecap:round; stroke-linejoin:round; stroke-width:4; stroke-opacity:1; fill:none\" points=\"1502.52,1423.18 1502.52,1423.18 1555.7,1423.18 1502.52,1423.18 \"/>\n",
       "<path clip-path=\"url(#clip183)\" d=\"M1555.7 556.708 L1555.7 1423.18 L1608.88 1423.18 L1608.88 556.708 L1555.7 556.708 L1555.7 556.708  Z\" fill=\"#009af9\" fill-rule=\"evenodd\" fill-opacity=\"1\"/>\n",
       "<polyline clip-path=\"url(#clip183)\" style=\"stroke:#000000; stroke-linecap:round; stroke-linejoin:round; stroke-width:4; stroke-opacity:1; fill:none\" points=\"1555.7,556.708 1555.7,1423.18 1608.88,1423.18 1608.88,556.708 1555.7,556.708 \"/>\n",
       "<path clip-path=\"url(#clip183)\" d=\"M1608.88 1423.18 L1608.88 1423.18 L1662.05 1423.18 L1662.05 1423.18 L1608.88 1423.18 L1608.88 1423.18  Z\" fill=\"#009af9\" fill-rule=\"evenodd\" fill-opacity=\"1\"/>\n",
       "<polyline clip-path=\"url(#clip183)\" style=\"stroke:#000000; stroke-linecap:round; stroke-linejoin:round; stroke-width:4; stroke-opacity:1; fill:none\" points=\"1608.88,1423.18 1608.88,1423.18 1662.05,1423.18 1608.88,1423.18 \"/>\n",
       "<path clip-path=\"url(#clip183)\" d=\"M1662.05 1423.18 L1662.05 1423.18 L1715.23 1423.18 L1715.23 1423.18 L1662.05 1423.18 L1662.05 1423.18  Z\" fill=\"#009af9\" fill-rule=\"evenodd\" fill-opacity=\"1\"/>\n",
       "<polyline clip-path=\"url(#clip183)\" style=\"stroke:#000000; stroke-linecap:round; stroke-linejoin:round; stroke-width:4; stroke-opacity:1; fill:none\" points=\"1662.05,1423.18 1662.05,1423.18 1715.23,1423.18 1662.05,1423.18 \"/>\n",
       "<path clip-path=\"url(#clip183)\" d=\"M1715.23 989.944 L1715.23 1423.18 L1768.41 1423.18 L1768.41 989.944 L1715.23 989.944 L1715.23 989.944  Z\" fill=\"#009af9\" fill-rule=\"evenodd\" fill-opacity=\"1\"/>\n",
       "<polyline clip-path=\"url(#clip183)\" style=\"stroke:#000000; stroke-linecap:round; stroke-linejoin:round; stroke-width:4; stroke-opacity:1; fill:none\" points=\"1715.23,989.944 1715.23,1423.18 1768.41,1423.18 1768.41,989.944 1715.23,989.944 \"/>\n",
       "<path clip-path=\"url(#clip183)\" d=\"M1768.41 989.944 L1768.41 1423.18 L1821.58 1423.18 L1821.58 989.944 L1768.41 989.944 L1768.41 989.944  Z\" fill=\"#009af9\" fill-rule=\"evenodd\" fill-opacity=\"1\"/>\n",
       "<polyline clip-path=\"url(#clip183)\" style=\"stroke:#000000; stroke-linecap:round; stroke-linejoin:round; stroke-width:4; stroke-opacity:1; fill:none\" points=\"1768.41,989.944 1768.41,1423.18 1821.58,1423.18 1821.58,989.944 1768.41,989.944 \"/>\n",
       "<path clip-path=\"url(#clip183)\" d=\"M1821.58 556.708 L1821.58 1423.18 L1874.76 1423.18 L1874.76 556.708 L1821.58 556.708 L1821.58 556.708  Z\" fill=\"#009af9\" fill-rule=\"evenodd\" fill-opacity=\"1\"/>\n",
       "<polyline clip-path=\"url(#clip183)\" style=\"stroke:#000000; stroke-linecap:round; stroke-linejoin:round; stroke-width:4; stroke-opacity:1; fill:none\" points=\"1821.58,556.708 1821.58,1423.18 1874.76,1423.18 1874.76,556.708 1821.58,556.708 \"/>\n",
       "<path clip-path=\"url(#clip183)\" d=\"M1874.76 989.944 L1874.76 1423.18 L1927.94 1423.18 L1927.94 989.944 L1874.76 989.944 L1874.76 989.944  Z\" fill=\"#009af9\" fill-rule=\"evenodd\" fill-opacity=\"1\"/>\n",
       "<polyline clip-path=\"url(#clip183)\" style=\"stroke:#000000; stroke-linecap:round; stroke-linejoin:round; stroke-width:4; stroke-opacity:1; fill:none\" points=\"1874.76,989.944 1874.76,1423.18 1927.94,1423.18 1927.94,989.944 1874.76,989.944 \"/>\n",
       "<path clip-path=\"url(#clip183)\" d=\"M1927.94 1423.18 L1927.94 1423.18 L1981.11 1423.18 L1981.11 1423.18 L1927.94 1423.18 L1927.94 1423.18  Z\" fill=\"#009af9\" fill-rule=\"evenodd\" fill-opacity=\"1\"/>\n",
       "<polyline clip-path=\"url(#clip183)\" style=\"stroke:#000000; stroke-linecap:round; stroke-linejoin:round; stroke-width:4; stroke-opacity:1; fill:none\" points=\"1927.94,1423.18 1927.94,1423.18 1981.11,1423.18 1927.94,1423.18 \"/>\n",
       "<path clip-path=\"url(#clip183)\" d=\"M1981.11 123.472 L1981.11 1423.18 L2034.29 1423.18 L2034.29 123.472 L1981.11 123.472 L1981.11 123.472  Z\" fill=\"#009af9\" fill-rule=\"evenodd\" fill-opacity=\"1\"/>\n",
       "<polyline clip-path=\"url(#clip183)\" style=\"stroke:#000000; stroke-linecap:round; stroke-linejoin:round; stroke-width:4; stroke-opacity:1; fill:none\" points=\"1981.11,123.472 1981.11,1423.18 2034.29,1423.18 2034.29,123.472 1981.11,123.472 \"/>\n",
       "<path clip-path=\"url(#clip183)\" d=\"M2034.29 989.944 L2034.29 1423.18 L2087.47 1423.18 L2087.47 989.944 L2034.29 989.944 L2034.29 989.944  Z\" fill=\"#009af9\" fill-rule=\"evenodd\" fill-opacity=\"1\"/>\n",
       "<polyline clip-path=\"url(#clip183)\" style=\"stroke:#000000; stroke-linecap:round; stroke-linejoin:round; stroke-width:4; stroke-opacity:1; fill:none\" points=\"2034.29,989.944 2034.29,1423.18 2087.47,1423.18 2087.47,989.944 2034.29,989.944 \"/>\n",
       "<path clip-path=\"url(#clip183)\" d=\"M2087.47 989.944 L2087.47 1423.18 L2140.64 1423.18 L2140.64 989.944 L2087.47 989.944 L2087.47 989.944  Z\" fill=\"#009af9\" fill-rule=\"evenodd\" fill-opacity=\"1\"/>\n",
       "<polyline clip-path=\"url(#clip183)\" style=\"stroke:#000000; stroke-linecap:round; stroke-linejoin:round; stroke-width:4; stroke-opacity:1; fill:none\" points=\"2087.47,989.944 2087.47,1423.18 2140.64,1423.18 2140.64,989.944 2087.47,989.944 \"/>\n",
       "<path clip-path=\"url(#clip183)\" d=\"M2140.64 1423.18 L2140.64 1423.18 L2193.82 1423.18 L2193.82 1423.18 L2140.64 1423.18 L2140.64 1423.18  Z\" fill=\"#009af9\" fill-rule=\"evenodd\" fill-opacity=\"1\"/>\n",
       "<polyline clip-path=\"url(#clip183)\" style=\"stroke:#000000; stroke-linecap:round; stroke-linejoin:round; stroke-width:4; stroke-opacity:1; fill:none\" points=\"2140.64,1423.18 2140.64,1423.18 2193.82,1423.18 2140.64,1423.18 \"/>\n",
       "<path clip-path=\"url(#clip183)\" d=\"M2193.82 989.944 L2193.82 1423.18 L2247 1423.18 L2247 989.944 L2193.82 989.944 L2193.82 989.944  Z\" fill=\"#009af9\" fill-rule=\"evenodd\" fill-opacity=\"1\"/>\n",
       "<polyline clip-path=\"url(#clip183)\" style=\"stroke:#000000; stroke-linecap:round; stroke-linejoin:round; stroke-width:4; stroke-opacity:1; fill:none\" points=\"2193.82,989.944 2193.82,1423.18 2247,1423.18 2247,989.944 2193.82,989.944 \"/>\n",
       "<path clip-path=\"url(#clip183)\" d=\"M2247 989.944 L2247 1423.18 L2300.17 1423.18 L2300.17 989.944 L2247 989.944 L2247 989.944  Z\" fill=\"#009af9\" fill-rule=\"evenodd\" fill-opacity=\"1\"/>\n",
       "<polyline clip-path=\"url(#clip183)\" style=\"stroke:#000000; stroke-linecap:round; stroke-linejoin:round; stroke-width:4; stroke-opacity:1; fill:none\" points=\"2247,989.944 2247,1423.18 2300.17,1423.18 2300.17,989.944 2247,989.944 \"/>\n",
       "<circle clip-path=\"url(#clip183)\" style=\"fill:#009af9; stroke:none; fill-opacity:0\" cx=\"1475.93\" cy=\"989.944\" r=\"2\"/>\n",
       "<circle clip-path=\"url(#clip183)\" style=\"fill:#009af9; stroke:none; fill-opacity:0\" cx=\"1529.11\" cy=\"1423.18\" r=\"2\"/>\n",
       "<circle clip-path=\"url(#clip183)\" style=\"fill:#009af9; stroke:none; fill-opacity:0\" cx=\"1582.29\" cy=\"556.708\" r=\"2\"/>\n",
       "<circle clip-path=\"url(#clip183)\" style=\"fill:#009af9; stroke:none; fill-opacity:0\" cx=\"1635.46\" cy=\"1423.18\" r=\"2\"/>\n",
       "<circle clip-path=\"url(#clip183)\" style=\"fill:#009af9; stroke:none; fill-opacity:0\" cx=\"1688.64\" cy=\"1423.18\" r=\"2\"/>\n",
       "<circle clip-path=\"url(#clip183)\" style=\"fill:#009af9; stroke:none; fill-opacity:0\" cx=\"1741.82\" cy=\"989.944\" r=\"2\"/>\n",
       "<circle clip-path=\"url(#clip183)\" style=\"fill:#009af9; stroke:none; fill-opacity:0\" cx=\"1795\" cy=\"989.944\" r=\"2\"/>\n",
       "<circle clip-path=\"url(#clip183)\" style=\"fill:#009af9; stroke:none; fill-opacity:0\" cx=\"1848.17\" cy=\"556.708\" r=\"2\"/>\n",
       "<circle clip-path=\"url(#clip183)\" style=\"fill:#009af9; stroke:none; fill-opacity:0\" cx=\"1901.35\" cy=\"989.944\" r=\"2\"/>\n",
       "<circle clip-path=\"url(#clip183)\" style=\"fill:#009af9; stroke:none; fill-opacity:0\" cx=\"1954.53\" cy=\"1423.18\" r=\"2\"/>\n",
       "<circle clip-path=\"url(#clip183)\" style=\"fill:#009af9; stroke:none; fill-opacity:0\" cx=\"2007.7\" cy=\"123.472\" r=\"2\"/>\n",
       "<circle clip-path=\"url(#clip183)\" style=\"fill:#009af9; stroke:none; fill-opacity:0\" cx=\"2060.88\" cy=\"989.944\" r=\"2\"/>\n",
       "<circle clip-path=\"url(#clip183)\" style=\"fill:#009af9; stroke:none; fill-opacity:0\" cx=\"2114.06\" cy=\"989.944\" r=\"2\"/>\n",
       "<circle clip-path=\"url(#clip183)\" style=\"fill:#009af9; stroke:none; fill-opacity:0\" cx=\"2167.23\" cy=\"1423.18\" r=\"2\"/>\n",
       "<circle clip-path=\"url(#clip183)\" style=\"fill:#009af9; stroke:none; fill-opacity:0\" cx=\"2220.41\" cy=\"989.944\" r=\"2\"/>\n",
       "<circle clip-path=\"url(#clip183)\" style=\"fill:#009af9; stroke:none; fill-opacity:0\" cx=\"2273.59\" cy=\"989.944\" r=\"2\"/>\n",
       "<path clip-path=\"url(#clip180)\" d=\"M2172.86 270.476 L2320.89 270.476 L2320.89 166.796 L2172.86 166.796  Z\" fill=\"#ffffff\" fill-rule=\"evenodd\" fill-opacity=\"1\"/>\n",
       "<polyline clip-path=\"url(#clip180)\" style=\"stroke:#000000; stroke-linecap:round; stroke-linejoin:round; stroke-width:4; stroke-opacity:1; fill:none\" points=\"2172.86,270.476 2320.89,270.476 2320.89,166.796 2172.86,166.796 2172.86,270.476 \"/>\n",
       "<path clip-path=\"url(#clip180)\" d=\"M2183.48 239.372 L2247.21 239.372 L2247.21 197.9 L2183.48 197.9 L2183.48 239.372  Z\" fill=\"#009af9\" fill-rule=\"evenodd\" fill-opacity=\"1\"/>\n",
       "<polyline clip-path=\"url(#clip180)\" style=\"stroke:#000000; stroke-linecap:round; stroke-linejoin:round; stroke-width:4; stroke-opacity:1; fill:none\" points=\"2183.48,239.372 2247.21,239.372 2247.21,197.9 2183.48,197.9 2183.48,239.372 \"/>\n",
       "<path clip-path=\"url(#clip180)\" d=\"M2271.68 238.323 Q2269.87 242.953 2268.16 244.365 Q2266.45 245.777 2263.58 245.777 L2260.18 245.777 L2260.18 242.212 L2262.68 242.212 Q2264.43 242.212 2265.41 241.379 Q2266.38 240.545 2267.56 237.443 L2268.32 235.499 L2257.84 209.99 L2262.35 209.99 L2270.45 230.268 L2278.55 209.99 L2283.07 209.99 L2271.68 238.323 Z\" fill=\"#000000\" fill-rule=\"nonzero\" fill-opacity=\"1\" /><path clip-path=\"url(#clip180)\" d=\"M2290.36 231.981 L2298 231.981 L2298 205.615 L2289.69 207.282 L2289.69 203.022 L2297.95 201.356 L2302.63 201.356 L2302.63 231.981 L2310.27 231.981 L2310.27 235.916 L2290.36 235.916 L2290.36 231.981 Z\" fill=\"#000000\" fill-rule=\"nonzero\" fill-opacity=\"1\" /></svg>\n"
      ],
      "text/html": [
       "<img src=\"data:image/png;base64,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\" />"
      ]
     },
     "metadata": {},
     "output_type": "display_data"
    }
   ],
   "source": [
    "plot(\n",
    "    histogram(vec(XA), bins=20, xlabel=\"XA\", ylabel=\"Fréquence\", title=\"Histogramme de XA\"),\n",
    "    histogram(vec(XB), bins=20, xlabel=\"XB\", ylabel=\"Fréquence\", title=\"Histogramme de XB\"),\n",
    "    layout = (1,2)   # 1 ligne, 2 colonnes\n",
    ")\n"
   ]
  },
  {
   "cell_type": "code",
   "execution_count": 153,
   "id": "498db3b8",
   "metadata": {},
   "outputs": [
    {
     "data": {
      "text/plain": [
       "3×10000 OneHotMatrix(::Vector{UInt32}) with eltype Bool:\n",
       " ⋅  1  ⋅  1  1  ⋅  ⋅  ⋅  1  ⋅  1  ⋅  1  …  ⋅  1  ⋅  ⋅  1  ⋅  1  ⋅  ⋅  1  1  ⋅\n",
       " ⋅  ⋅  ⋅  ⋅  ⋅  ⋅  ⋅  1  ⋅  1  ⋅  1  ⋅     ⋅  ⋅  ⋅  ⋅  ⋅  1  ⋅  1  1  ⋅  ⋅  1\n",
       " 1  ⋅  1  ⋅  ⋅  1  1  ⋅  ⋅  ⋅  ⋅  ⋅  ⋅     1  ⋅  1  1  ⋅  ⋅  ⋅  ⋅  ⋅  ⋅  ⋅  ⋅"
      ]
     },
     "metadata": {},
     "output_type": "display_data"
    }
   ],
   "source": [
    "Ylevels = 1:4\n",
    "Zlevels = 1:3\n",
    "YA = Flux.onehotbatch(dba.Y, Ylevels)\n",
    "ZB = Flux.onehotbatch(dbb.Z, Zlevels)\n",
    "\n"
   ]
  },
  {
   "cell_type": "code",
   "execution_count": 119,
   "id": "8bdfabc8",
   "metadata": {},
   "outputs": [
    {
     "name": "stdout",
     "output_type": "stream",
     "text": [
      "[1, 4, 1, 4, 2, 4, 1, 4, 3, 2]Bool[1 0 1 0 0 0 1 0 0 0; 0 0 0 0 1 0 0 0 0 1; 0 0 0 0 0 0 0 0 1 0; 0 1 0 1 0 1 0 1 0 0]"
     ]
    }
   ],
   "source": [
    "show(dba.Y)\n",
    "show(YA)"
   ]
  },
  {
   "cell_type": "code",
   "execution_count": 25,
   "id": "c9c0b376",
   "metadata": {},
   "outputs": [
    {
     "name": "stdout",
     "output_type": "stream",
     "text": [
      "[3, 1, 2, 1, 3, 2, 2, 1, 1, 3]Bool[0 1 0 1 0 0 0 1 1 0; 0 0 1 0 0 1 1 0 0 0; 1 0 0 0 1 0 0 0 0 1]"
     ]
    }
   ],
   "source": [
    "show(dbb.Z)\n",
    "show(ZB)"
   ]
  },
  {
   "cell_type": "code",
   "execution_count": 154,
   "id": "df0f03a8",
   "metadata": {},
   "outputs": [
    {
     "data": {
      "text/plain": [
       "10000×10000 Matrix{Float64}:\n",
       " 3.36367  2.37394  3.21951  2.41419  …  1.96511  0.83512   1.2795   2.01399\n",
       " 4.2626   3.27286  4.11843  3.31312     2.86404  1.73405   2.17843  2.91291\n",
       " 3.94153  2.9518   3.79737  2.99205     2.54297  1.41298   1.85736  2.59185\n",
       " 3.95383  2.96409  3.80966  3.00435     2.55527  1.42528   1.86966  2.60414\n",
       " 4.87434  3.8846   4.73017  3.92486     3.47578  2.34579   2.79017  3.52465\n",
       " 3.40091  2.41118  3.25675  2.45143  …  2.00235  0.872358  1.31674  2.05123\n",
       " 4.07767  3.08794  3.93351  3.12819     2.67911  1.54912   1.9935   2.72799\n",
       " 4.27831  3.28857  4.13414  3.32883     2.87975  1.74976   2.19414  2.92862\n",
       " 3.68657  2.69684  3.54241  2.73709     2.28801  1.15802   1.6024   2.33689\n",
       " 4.27202  3.28228  4.12785  3.32253     2.87345  1.74346   2.18784  2.92233\n",
       " ⋮                                   ⋱                              \n",
       " 4.9243   3.93457  4.78014  3.97482     3.52574  2.39575   2.84013  3.57462\n",
       " 4.51759  3.52786  4.37343  3.56811     3.11903  1.98904   2.43342  3.16791\n",
       " 5.37363  4.3839   5.22947  4.42415     3.97507  2.84508   3.28946  4.02395\n",
       " 6.00325  5.01351  5.85908  5.05377     4.60469  3.4747    3.91908  4.65356\n",
       " 4.70824  3.71851  4.56408  3.75876  …  3.30968  2.17969   2.62407  3.35856\n",
       " 4.11107  3.12133  3.9669   3.16159     2.71251  1.58251   2.0269   2.76138\n",
       " 4.58004  3.5903   4.43587  3.63056     3.18148  2.05148   2.49587  3.23035\n",
       " 5.20908  4.21935  5.06492  4.2596      3.81052  2.68053   3.12491  3.8594\n",
       " 3.97563  2.9859   3.83147  3.02615     2.57707  1.44708   1.89146  2.62595"
      ]
     },
     "metadata": {},
     "output_type": "display_data"
    },
    {
     "data": {
      "text/plain": [
       "10000-element Vector{Float64}:\n",
       " 0.0001\n",
       " 0.0001\n",
       " 0.0001\n",
       " 0.0001\n",
       " 0.0001\n",
       " 0.0001\n",
       " 0.0001\n",
       " 0.0001\n",
       " 0.0001\n",
       " 0.0001\n",
       " ⋮\n",
       " 0.0001\n",
       " 0.0001\n",
       " 0.0001\n",
       " 0.0001\n",
       " 0.0001\n",
       " 0.0001\n",
       " 0.0001\n",
       " 0.0001\n",
       " 0.0001"
      ]
     },
     "metadata": {},
     "output_type": "display_data"
    },
    {
     "data": {
      "text/plain": [
       "10000-element Vector{Float64}:\n",
       " 0.0001\n",
       " 0.0001\n",
       " 0.0001\n",
       " 0.0001\n",
       " 0.0001\n",
       " 0.0001\n",
       " 0.0001\n",
       " 0.0001\n",
       " 0.0001\n",
       " 0.0001\n",
       " ⋮\n",
       " 0.0001\n",
       " 0.0001\n",
       " 0.0001\n",
       " 0.0001\n",
       " 0.0001\n",
       " 0.0001\n",
       " 0.0001\n",
       " 0.0001\n",
       " 0.0001"
      ]
     },
     "metadata": {},
     "output_type": "display_data"
    }
   ],
   "source": [
    "using Distances\n",
    "nA = size(dba, 1)\n",
    "nB = size(dbb, 1)\n",
    "\n",
    "wa = ones(nA) ./ nA\n",
    "wb = ones(nB) ./ nB\n",
    "\n",
    "C0 = pairwise(Euclidean(), XA, XB, dims = 2)\n",
    "\n",
    "C = C0 #./ maximum(C0)\n",
    "display(C)\n",
    "display(wa)\n",
    "display(wb)"
   ]
  },
  {
   "cell_type": "code",
   "execution_count": 155,
   "id": "97f889d5",
   "metadata": {},
   "outputs": [
    {
     "name": "stdout",
     "output_type": "stream",
     "text": [
      "(3"
     ]
    },
    {
     "name": "stderr",
     "output_type": "stream",
     "text": [
      "C:\\Users\\vgares\\.julia\\conda\\3\\x86_64\\Lib\\site-packages\\ot\\lp\\__init__.py:388: UserWarning: numItermax reached before optimality. Try to increase numItermax.\n",
      "  result_code_string = check_result(result_code)\n"
     ]
    },
    {
     "name": "stdout",
     "output_type": "stream",
     "text": [
      ", 10000)(10000, 10000)(4, 10000)"
     ]
    },
    {
     "data": {
      "text/plain": [
       "4×10000 Matrix{Float64}:\n",
       " 0.0  1.0  1.0  0.0  0.0  1.0  0.0  0.0  …  0.0  1.0  0.0  0.0  1.0  1.0  0.0\n",
       " 0.0  0.0  0.0  1.0  0.0  0.0  0.0  1.0     0.0  0.0  0.0  0.0  0.0  0.0  0.0\n",
       " 0.0  0.0  0.0  0.0  1.0  0.0  1.0  0.0     1.0  0.0  1.0  1.0  0.0  0.0  0.0\n",
       " 1.0  0.0  0.0  0.0  0.0  0.0  0.0  0.0     0.0  0.0  0.0  0.0  0.0  0.0  1.0"
      ]
     },
     "metadata": {},
     "output_type": "display_data"
    }
   ],
   "source": [
    "using PythonOT\n",
    "\n",
    "reg = 0.0\n",
    "reg_m1 = 0.0\n",
    "reg_m2 = 0.0\n",
    "G = ones(length(wa), length(wb))\n",
    "\n",
    "#if reg > 0\n",
    "#        G .= PythonOT.mm_unbalanced(wa, wb, C, (reg_m1, reg_m2); reg = reg, div = \"kl\")\n",
    "#else\n",
    "G .= PythonOT.emd(wa, wb, C)\n",
    "#end\n",
    "show(size(ZB))\n",
    "show(size(G'))\n",
    "show(size(YA))\n",
    "ZApred =  nA .* ZB * G'\n",
    "YBpred =nB .* YA * G"
   ]
  },
  {
   "cell_type": "code",
   "execution_count": 156,
   "id": "c74b8e87",
   "metadata": {},
   "outputs": [
    {
     "data": {
      "text/plain": [
       "1×10000 Matrix{Float64}:\n",
       " 1.0  0.0  1.0  1.0  -0.0  1.0  0.0  0.0  …  -1.0  -0.0  0.0  -0.0  -1.0  1.0"
      ]
     },
     "metadata": {},
     "output_type": "display_data"
    },
    {
     "data": {
      "text/plain": [
       "10000-element Vector{Float64}:\n",
       " -4.0\n",
       " -4.0\n",
       " -3.0\n",
       " -3.0\n",
       " -3.0\n",
       " -3.0\n",
       " -3.0\n",
       " -3.0\n",
       " -3.0\n",
       " -3.0\n",
       "  ⋮\n",
       "  3.0\n",
       "  3.0\n",
       "  3.0\n",
       "  3.0\n",
       "  3.0\n",
       "  4.0\n",
       "  4.0\n",
       "  4.0\n",
       "  4.0"
      ]
     },
     "metadata": {},
     "output_type": "display_data"
    },
    {
     "data": {
      "text/plain": [
       "10000-element Vector{Bool}:\n",
       " 0\n",
       " 0\n",
       " 0\n",
       " 0\n",
       " 0\n",
       " 0\n",
       " 0\n",
       " 0\n",
       " 0\n",
       " 0\n",
       " ⋮\n",
       " 1\n",
       " 1\n",
       " 1\n",
       " 1\n",
       " 1\n",
       " 1\n",
       " 1\n",
       " 1\n",
       " 1"
      ]
     },
     "metadata": {},
     "output_type": "display_data"
    },
    {
     "data": {
      "text/plain": [
       "10000-element Vector{Int64}:\n",
       " 1\n",
       " 1\n",
       " 1\n",
       " 1\n",
       " 1\n",
       " 1\n",
       " 1\n",
       " 1\n",
       " 1\n",
       " 1\n",
       " ⋮\n",
       " 3\n",
       " 3\n",
       " 3\n",
       " 3\n",
       " 3\n",
       " 3\n",
       " 3\n",
       " 3\n",
       " 3"
      ]
     },
     "metadata": {},
     "output_type": "display_data"
    },
    {
     "data": {
      "text/plain": [
       "10000-element Vector{Int64}:\n",
       " 2994\n",
       " 7656\n",
       "   85\n",
       "  633\n",
       "  969\n",
       " 1372\n",
       " 1448\n",
       " 1681\n",
       " 1790\n",
       " 1847\n",
       "    ⋮\n",
       " 8960\n",
       " 9402\n",
       " 9469\n",
       " 9643\n",
       " 9870\n",
       " 1335\n",
       " 5335\n",
       " 5723\n",
       " 6394"
      ]
     },
     "metadata": {},
     "output_type": "display_data"
    },
    {
     "data": {
      "text/plain": [
       "10000-element Vector{Float64}:\n",
       " 0.0\n",
       " 0.0\n",
       " 1.0\n",
       " 1.0\n",
       " 1.0\n",
       " 1.0\n",
       " 1.0\n",
       " 1.0\n",
       " 1.0\n",
       " 1.0\n",
       " ⋮\n",
       " 7.0\n",
       " 7.0\n",
       " 7.0\n",
       " 7.0\n",
       " 7.0\n",
       " 8.0\n",
       " 8.0\n",
       " 8.0\n",
       " 8.0"
      ]
     },
     "metadata": {},
     "output_type": "display_data"
    },
    {
     "data": {
      "text/plain": [
       "10000-element Vector{Int64}:\n",
       " 2801\n",
       " 7479\n",
       "  175\n",
       " 1278\n",
       " 1303\n",
       " 1322\n",
       " 1426\n",
       " 1696\n",
       " 1714\n",
       " 2241\n",
       "    ⋮\n",
       " 8996\n",
       " 9284\n",
       " 9444\n",
       " 9833\n",
       " 9939\n",
       " 1902\n",
       " 4858\n",
       " 8578\n",
       " 9154"
      ]
     },
     "metadata": {},
     "output_type": "display_data"
    },
    {
     "data": {
      "text/plain": [
       "10000-element Vector{Bool}:\n",
       " 0\n",
       " 0\n",
       " 0\n",
       " 0\n",
       " 0\n",
       " 0\n",
       " 0\n",
       " 0\n",
       " 0\n",
       " 0\n",
       " ⋮\n",
       " 1\n",
       " 1\n",
       " 1\n",
       " 1\n",
       " 1\n",
       " 1\n",
       " 1\n",
       " 1\n",
       " 1"
      ]
     },
     "metadata": {},
     "output_type": "display_data"
    },
    {
     "data": {
      "text/plain": [
       "10000-element Vector{Int64}:\n",
       " 1\n",
       " 1\n",
       " 1\n",
       " 1\n",
       " 1\n",
       " 1\n",
       " 1\n",
       " 1\n",
       " 1\n",
       " 1\n",
       " ⋮\n",
       " 4\n",
       " 4\n",
       " 4\n",
       " 4\n",
       " 4\n",
       " 4\n",
       " 4\n",
       " 4\n",
       " 4"
      ]
     },
     "metadata": {},
     "output_type": "display_data"
    },
    {
     "data": {
      "text/plain": [
       "10000×10000 Matrix{Float64}:\n",
       " 0.0  0.0  0.0  0.0  0.0  0.0  0.0  0.0  …  0.0  0.0  0.0  0.0  0.0  0.0  0.0\n",
       " 0.0  0.0  0.0  0.0  0.0  0.0  0.0  0.0     0.0  0.0  0.0  0.0  0.0  0.0  0.0\n",
       " 0.0  0.0  0.0  0.0  0.0  0.0  0.0  0.0     0.0  0.0  0.0  0.0  0.0  0.0  0.0\n",
       " 0.0  0.0  0.0  0.0  0.0  0.0  0.0  0.0     0.0  0.0  0.0  0.0  0.0  0.0  0.0\n",
       " 0.0  0.0  0.0  0.0  0.0  0.0  0.0  0.0     0.0  0.0  0.0  0.0  0.0  0.0  0.0\n",
       " 0.0  0.0  0.0  0.0  0.0  0.0  0.0  0.0  …  0.0  0.0  0.0  0.0  0.0  0.0  0.0\n",
       " 0.0  0.0  0.0  0.0  0.0  0.0  0.0  0.0     0.0  0.0  0.0  0.0  0.0  0.0  0.0\n",
       " 0.0  0.0  0.0  0.0  0.0  0.0  0.0  0.0     0.0  0.0  0.0  0.0  0.0  0.0  0.0\n",
       " 0.0  0.0  0.0  0.0  0.0  0.0  0.0  0.0     0.0  0.0  0.0  0.0  0.0  0.0  0.0\n",
       " 0.0  0.0  0.0  0.0  0.0  0.0  0.0  0.0     0.0  0.0  0.0  0.0  0.0  0.0  0.0\n",
       " ⋮                        ⋮              ⋱            ⋮                   \n",
       " 0.0  0.0  0.0  0.0  0.0  0.0  0.0  0.0     0.0  0.0  0.0  0.0  0.0  0.0  0.0\n",
       " 0.0  0.0  0.0  0.0  0.0  0.0  0.0  0.0     0.0  0.0  0.0  0.0  0.0  0.0  0.0\n",
       " 0.0  0.0  0.0  0.0  0.0  0.0  0.0  0.0     0.0  0.0  0.0  0.0  0.0  0.0  0.0\n",
       " 0.0  0.0  0.0  0.0  0.0  0.0  0.0  0.0     0.0  0.0  0.0  0.0  0.0  0.0  0.0\n",
       " 0.0  0.0  0.0  0.0  0.0  0.0  0.0  0.0  …  0.0  0.0  0.0  0.0  0.0  0.0  0.0\n",
       " 0.0  0.0  0.0  0.0  0.0  0.0  0.0  0.0     0.0  0.0  0.0  0.0  0.0  0.0  0.0\n",
       " 0.0  0.0  0.0  0.0  0.0  0.0  0.0  0.0     0.0  0.0  0.0  0.0  0.0  0.0  0.0\n",
       " 0.0  0.0  0.0  0.0  0.0  0.0  0.0  0.0     0.0  0.0  0.0  0.0  0.0  0.0  0.0\n",
       " 0.0  0.0  0.0  0.0  0.0  0.0  0.0  0.0     0.0  0.0  0.0  0.0  0.0  0.0  0.0"
      ]
     },
     "metadata": {},
     "output_type": "display_data"
    },
    {
     "data": {
      "text/plain": [
       "10000×10000 Matrix{Float64}:\n",
       " 0.0  0.0  0.0  0.0  0.0  0.0  0.0  0.0  …  0.0  0.0  0.0  0.0  0.0  0.0  0.0\n",
       " 0.0  0.0  0.0  0.0  0.0  0.0  0.0  0.0     0.0  0.0  0.0  0.0  0.0  0.0  0.0\n",
       " 0.0  0.0  0.0  0.0  0.0  0.0  0.0  0.0     0.0  0.0  0.0  0.0  0.0  0.0  0.0\n",
       " 0.0  0.0  0.0  0.0  0.0  0.0  0.0  0.0     0.0  0.0  0.0  0.0  0.0  0.0  0.0\n",
       " 0.0  0.0  0.0  0.0  0.0  0.0  0.0  0.0     0.0  0.0  0.0  0.0  0.0  0.0  0.0\n",
       " 0.0  0.0  0.0  0.0  0.0  0.0  0.0  0.0  …  0.0  0.0  0.0  0.0  0.0  0.0  0.0\n",
       " 0.0  0.0  0.0  0.0  0.0  0.0  0.0  0.0     0.0  0.0  0.0  0.0  0.0  0.0  0.0\n",
       " 0.0  0.0  0.0  0.0  0.0  0.0  0.0  0.0     0.0  0.0  0.0  0.0  0.0  0.0  0.0\n",
       " 0.0  0.0  0.0  0.0  0.0  0.0  0.0  0.0     0.0  0.0  0.0  0.0  0.0  0.0  0.0\n",
       " 0.0  0.0  0.0  0.0  0.0  0.0  0.0  0.0     0.0  0.0  0.0  0.0  0.0  0.0  0.0\n",
       " ⋮                        ⋮              ⋱            ⋮                   \n",
       " 0.0  0.0  0.0  0.0  0.0  0.0  0.0  0.0     0.0  0.0  0.0  0.0  0.0  0.0  0.0\n",
       " 0.0  0.0  0.0  0.0  0.0  0.0  0.0  0.0     0.0  0.0  0.0  0.0  0.0  0.0  0.0\n",
       " 0.0  0.0  0.0  0.0  0.0  0.0  0.0  0.0     0.0  0.0  0.0  0.0  0.0  0.0  0.0\n",
       " 0.0  0.0  0.0  0.0  0.0  0.0  0.0  0.0     0.0  0.0  0.0  0.0  0.0  0.0  0.0\n",
       " 0.0  0.0  0.0  0.0  0.0  0.0  0.0  0.0  …  0.0  0.0  0.0  0.0  0.0  0.0  0.0\n",
       " 0.0  0.0  0.0  0.0  0.0  0.0  0.0  0.0     0.0  0.0  0.0  0.0  0.0  0.0  0.0\n",
       " 0.0  0.0  0.0  0.0  0.0  0.0  0.0  0.0     0.0  0.0  0.0  0.0  0.0  0.0  0.0\n",
       " 0.0  0.0  0.0  0.0  0.0  0.0  0.0  0.0     0.0  0.0  0.0  0.0  0.0  0.0  0.0\n",
       " 0.0  0.0  0.0  0.0  0.0  0.0  0.0  0.0     0.0  0.0  0.0  0.0  0.0  0.0  0.0"
      ]
     },
     "metadata": {},
     "output_type": "display_data"
    }
   ],
   "source": [
    "display(XAi)\n",
    "display(sort(vec(XAi)))\n",
    "io = sortperm(vec(XAi))\n",
    "display(sort(vec(YA[io])))\n",
    "display(sort(vec(dba.Z[io])))\n",
    "display(io)\n",
    "display(sort(vec(XBj)))\n",
    "jo = sortperm(vec(XBj)) \n",
    "display(jo)\n",
    "display(sort(vec(ZB[io])))\n",
    "display(sort(vec(dbb.Y[io])))\n",
    "A = G[io,:]\n",
    "display(A)\n",
    "B=A[:,jo]\n",
    "display(B)"
   ]
  },
  {
   "cell_type": "code",
   "execution_count": 131,
   "id": "ef856efa",
   "metadata": {},
   "outputs": [
    {
     "data": {
      "text/plain": [
       "10-element Vector{CartesianIndex{2}}:\n",
       " CartesianIndex(7, 1)\n",
       " CartesianIndex(10, 2)\n",
       " CartesianIndex(1, 3)\n",
       " CartesianIndex(6, 4)\n",
       " CartesianIndex(5, 5)\n",
       " CartesianIndex(8, 6)\n",
       " CartesianIndex(4, 7)\n",
       " CartesianIndex(3, 8)\n",
       " CartesianIndex(2, 9)\n",
       " CartesianIndex(9, 10)"
      ]
     },
     "metadata": {},
     "output_type": "display_data"
    }
   ],
   "source": [
    "pos_idx = findall(x -> x > 0, G)\n",
    "display(pos_idx)"
   ]
  },
  {
   "cell_type": "code",
   "execution_count": 150,
   "id": "2d35613f",
   "metadata": {},
   "outputs": [
    {
     "name": "stdout",
     "output_type": "stream",
     "text": [
      "CartesianIndex(7, 1)0.080560571327122632.94438009029191730.76229339241750854.663418083328606"
     ]
    }
   ],
   "source": [
    "XAv=vec(XA)\n",
    "XBv=vec(XB)\n",
    "show(pos_idx[1])\n",
    "show(XAv[pos_idx[1][1]])\n",
    "show(XBv[pos_idx[1][2]])\n",
    "\n",
    "show(XAv[pos_idx[2][1]])\n",
    "show(XBv[pos_idx[2][2]])\n"
   ]
  },
  {
   "cell_type": "code",
   "execution_count": 157,
   "id": "eeef61c4",
   "metadata": {},
   "outputs": [
    {
     "data": {
      "text/plain": [
       "3×10000 OneHotMatrix(::Vector{UInt32}) with eltype Bool:\n",
       " ⋅  1  ⋅  1  1  ⋅  ⋅  ⋅  1  ⋅  1  ⋅  1  …  ⋅  1  ⋅  ⋅  1  ⋅  1  ⋅  ⋅  1  1  ⋅\n",
       " ⋅  ⋅  ⋅  ⋅  ⋅  ⋅  ⋅  1  ⋅  1  ⋅  1  ⋅     ⋅  ⋅  ⋅  ⋅  ⋅  1  ⋅  1  1  ⋅  ⋅  1\n",
       " 1  ⋅  1  ⋅  ⋅  1  1  ⋅  ⋅  ⋅  ⋅  ⋅  ⋅     1  ⋅  1  1  ⋅  ⋅  ⋅  ⋅  ⋅  ⋅  ⋅  ⋅"
      ]
     },
     "metadata": {},
     "output_type": "display_data"
    },
    {
     "data": {
      "text/plain": [
       "10000-element Vector{Int64}:\n",
       " 3\n",
       " 1\n",
       " 3\n",
       " 1\n",
       " 1\n",
       " 3\n",
       " 3\n",
       " 2\n",
       " 1\n",
       " 2\n",
       " ⋮\n",
       " 3\n",
       " 1\n",
       " 2\n",
       " 1\n",
       " 2\n",
       " 2\n",
       " 1\n",
       " 1\n",
       " 2"
      ]
     },
     "metadata": {},
     "output_type": "display_data"
    },
    {
     "data": {
      "text/plain": [
       "10000×10000 Matrix{Float64}:\n",
       " 0.0  0.0  0.0  0.0  0.0  0.0  0.0  0.0  …  0.0  0.0  0.0  0.0  0.0  0.0  0.0\n",
       " 0.0  0.0  0.0  0.0  0.0  0.0  0.0  0.0     0.0  0.0  0.0  0.0  0.0  0.0  0.0\n",
       " 0.0  0.0  0.0  0.0  0.0  0.0  0.0  0.0     0.0  0.0  0.0  0.0  0.0  0.0  0.0\n",
       " 0.0  0.0  0.0  0.0  0.0  0.0  0.0  0.0     0.0  0.0  0.0  0.0  0.0  0.0  0.0\n",
       " 0.0  0.0  0.0  0.0  0.0  0.0  0.0  0.0     0.0  0.0  0.0  0.0  0.0  0.0  0.0\n",
       " 0.0  0.0  0.0  0.0  0.0  0.0  0.0  0.0  …  0.0  0.0  0.0  0.0  0.0  0.0  0.0\n",
       " 0.0  0.0  0.0  0.0  0.0  0.0  0.0  0.0     0.0  0.0  0.0  0.0  0.0  0.0  0.0\n",
       " 0.0  0.0  0.0  0.0  0.0  0.0  0.0  0.0     0.0  0.0  0.0  0.0  0.0  0.0  0.0\n",
       " 0.0  0.0  0.0  0.0  0.0  0.0  0.0  0.0     0.0  0.0  0.0  0.0  0.0  0.0  0.0\n",
       " 0.0  0.0  0.0  0.0  0.0  0.0  0.0  0.0     0.0  0.0  0.0  0.0  0.0  0.0  0.0\n",
       " ⋮                        ⋮              ⋱            ⋮                   \n",
       " 0.0  0.0  0.0  0.0  0.0  0.0  0.0  0.0     0.0  0.0  0.0  0.0  0.0  0.0  0.0\n",
       " 0.0  0.0  0.0  0.0  0.0  0.0  0.0  0.0     0.0  0.0  0.0  0.0  0.0  0.0  0.0\n",
       " 0.0  0.0  0.0  0.0  0.0  0.0  0.0  0.0     0.0  0.0  0.0  0.0  0.0  0.0  0.0\n",
       " 0.0  0.0  0.0  0.0  0.0  0.0  0.0  0.0     0.0  0.0  0.0  0.0  0.0  0.0  0.0\n",
       " 0.0  0.0  0.0  0.0  0.0  0.0  0.0  0.0  …  0.0  0.0  0.0  0.0  0.0  0.0  0.0\n",
       " 0.0  0.0  0.0  0.0  0.0  0.0  0.0  0.0     0.0  0.0  0.0  0.0  0.0  0.0  0.0\n",
       " 0.0  0.0  0.0  0.0  0.0  0.0  0.0  0.0     0.0  0.0  0.0  0.0  0.0  0.0  0.0\n",
       " 0.0  0.0  0.0  0.0  0.0  0.0  0.0  0.0     0.0  0.0  0.0  0.0  0.0  0.0  0.0\n",
       " 0.0  0.0  0.0  0.0  0.0  0.0  0.0  0.0     0.0  0.0  0.0  0.0  0.0  0.0  0.0"
      ]
     },
     "metadata": {},
     "output_type": "display_data"
    },
    {
     "name": "stdout",
     "output_type": "stream",
     "text": [
      "[1, 3, 3, 2, 1, 1, 2, 3, 1, 3, 1, 2, 1, 2, 1, 3, 2, 1, 3, 3, 2, 3, 3, 3, 2, 2, 1, 2, 2, 1, 2, 1, 1, 3, 3, 1, 3, 2, 3, 3, 1, 2, 1, 1, 3, 3, 3, 2, 2, 2, 1, 3, 3, 2, 2, 3, 3, 2, 2, 1, 3, 3, 1, 3, 1, 2, 3, 1, 1, 2, 1, 3, 2, 2, 3, 3, 1, 2, 2, 2, 2, 1, 1, 3, 3, 1, 2, 2, 3, 2, 1, 1, 2, 1, 1, 3, 3, 1, 1, 3, 1, 2, 3, 2, 1, 2, 2, 3, 2, 1, 3, 3, 2, 3, 3, 3, 2, 1, 3, 2, 1, 3, 2, 1, 1, 2, 1, 1, 2, 2, 1, 1, 3, 2, 1, 2, 2, 1, 3, 3, 2, 2, 1, 1, 3, 3, 2, 2, 1, 1, 3, 3, 1, 3, 1, 3, 2, 3, 2, 1, 2, 3, 2, 1, 2, 2, 3, 3, 3, 3, 3, 1, 3, 1, 3, 3, 1, 2, 2, 3, 3, 2, 2, 1, 3, 2, 1, 1, 2, 3, 2, 3, 1, 1, 1, 1, 2, 1, 1, 3, 1, 2, 2, 1, 1, 1, 3, 3, 2, 2, 2, 2, 2, 3, 2, 3, 2, 3, 2, 1, 2, 3, 2, 1, 2, 3, 2, 3, 3, 3, 3, 3, 3, 3, 1, 2, 3, 3, 1, 1, 2, 2, 2, 3, 1, 2, 3, 2, 2, 3, 1, 1, 2, 1, 3, 3, 2, 1, 3, 3, 2, 1, 2, 3, 2, 2, 3, 2, 2, 3, 2, 2, 2, 1, 2, 1, 2, 2, 2, 3, 1, 3, 3, 1, 2, 2, 3, 3, 1, 1, 1, 1, 1, 2, 1, 2, 3, 3, 1, 1, 1, 2, 1, 2, 3, 1, 3, 2, 3, 1, 2, 1, 2, 1, 1, 3, 3, 2, 1, 1, 3, 2, 1, 2, 3, 2, 1, 1, 1, 2, 2, 3, 1, 2, 3, 1, 1, 3, 1, 3, 1, 2, 1, 3, 1, 1, 2, 2, 2, 2, 1, 3, 2, 3, 2, 2, 2, 3, 3, 3, 2, 2, 2, 3, 2, 1, 1, 3, 2, 1, 1, 3, 3, 3, 3, 3, 3, 2, 3, 1, 3, 2, 3, 1, 3, 2, 3, 1, 2, 3, 1, 3, 1, 2, 3, 3, 2, 3, 3, 1, 3, 2, 2, 2, 2, 3, 2, 3, 1, 2, 1, 2, 3, 3, 1, 3, 2, 2, 2, 2, 3, 2, 1, 2, 1, 3, 3, 3, 2, 3, 3, 1, 2, 2, 2, 3, 1, 1, 1, 3, 1, 2, 2, 2, 1, 1, 1, 3, 3, 3, 3, 2, 3, 3, 1, 3, 2, 3, 1, 2, 2, 1, 3, 3, 2, 1, 3, 2, 1, 3, 2, 3, 3, 3, 1, 2, 2, 2, 2, 1, 3, 3, 3, 1, 3, 1, 1, 1, 3, 1, 1, 2, 1, 2, 2, 2, 2, 2, 3, 1, 1, 3, 3, 3, 3, 2, 1, 3, 3, 3, 1, 3, 3, 3, 1, 1, 2, 1, 2, 1, 2, 2, 1, 1, 2, 2, 2, 1, 1, 2, 1, 1, 3, 2, 1, 3, 3, 1, 3, 3, 1, 2, 2, 3, 2, 3, 3, 3, 1, 3, 3, 3, 1, 3, 3, 1, 2, 1, 2, 1, 2, 2, 1, 3, 1, 2, 3, 3, 3, 2, 1, 1, 2, 2, 1, 2, 1, 1, 2, 2, 2, 2, 1, 2, 3, 1, 1, 2, 1, 1, 1, 3, 3, 3, 1, 3, 2, 3, 3, 1, 1, 3, 3, 2, 3, 2, 1, 1, 3, 1, 2, 3, 1, 2, 2, 1, 3, 2, 3, 1, 2, 1, 2, 3, 1, 2, 1, 2, 3, 1, 2, 2, 1, 2, 1, 3, 3, 2, 2, 2, 2, 2, 3, 3, 1, 3, 3, 3, 3, 3, 3, 2, 1, 3, 3, 1, 1, 2, 3, 3, 2, 3, 3, 2, 3, 1, 1, 1, 3, 1, 3, 2, 2, 2, 2, 3, 2, 2, 3, 2, 2, 1, 1, 2, 1, 3, 1, 1, 2, 3, 2, 2, 1, 2, 1, 2, 1, 2, 2, 3, 3, 1, 2, 3, 2, 2, 1, 1, 2, 3, 2, 2, 1, 1, 1, 3, 1, 3, 2, 2, 1, 3, 2, 3, 2, 3, 2, 1, 3, 3, 1, 1, 3, 1, 2, 2, 1, 2, 3, 1, 3, 2, 2, 1, 3, 3, 2, 3, 1, 2, 1, 3, 2, 1, 3, 1, 1, 2, 2, 1, 1, 3, 3, 2, 1, 2, 2, 1, 2, 3, 1, 2, 2, 3, 1, 3, 2, 2, 2, 1, 2, 2, 3, 1, 3, 1, 2, 2, 3, 1, 3, 2, 3, 3, 3, 2, 1, 1, 3, 3, 1, 1, 3, 1, 1, 1, 3, 2, 1, 2, 3, 3, 2, 3, 2, 1, 3, 2, 3, 3, 2, 3, 1, 1, 2, 1, 2, 1, 1, 3, 3, 1, 1, 3, 2, 3, 2, 1, 1, 2, 1, 2, 3, 3, 1, 1, 3, 2, 3, 1, 3, 2, 1, 2, 3, 3, 3, 3, 2, 3, 3, 1, 2, 3, 2, 3, 2, 2, 1, 2, 1, 2, 1, 2, 2, 1, 3, 2, 2, 1, 1, 2, 3, 2, 2, 1, 2, 1, 1, 2, 1, 1, 1, 1, 3, 2, 2, 3, 1, 1, 2, 2, 3, 2, 2, 1, 3, 3, 3, 2, 2, 3, 3, 2, 3, 3, 3, 2, 2, 1, 1, 1, 2, 2, 2, 1, 3, 2, 1, 1, 1, 3, 1, 3, 1, 1, 3, 3, 1, 2, 3, 2, 1, 2, 1, 1, 1, 3, 3, 1, 1, 3, 2, 2, 3, 3, 2, 2, 2, 3, 2, 1, 2, 1, 2, 3, 1, 1, 2, 2, 2, 2, 2, 3, 3, 2, 2, 3, 3, 1, 1, 2, 2, 1, 3, 1, 1, 1, 1, 1, 3, 2, 3, 1, 2, 3, 3, 3, 2, 1, 3, 3, 2, 2, 3, 1, 3, 2, 2, 3, 1, 1, 3, 3, 3, 1, 3, 1, 1, 1, 2, 3, 2, 2, 2, 3, 1, 1, 1, 3, 1, 2, 2, 2, 3, 1, 1, 1, 2, 1, 1, 3, 1, 2, 3, 3, 3, 1, 3, 1, 2, 3, 2, 2, 1, 2, 1, 3, 2, 3, 3, 2, 3, 3, 3, 1, 2, 2, 3, 3, 1, 1, 1, 1, 2, 2, 2, 2, 1, 2, 3, 2, 2, 3, 3, 3, 2, 3, 1, 2, 2, 1, 1, 1, 1, 3, 3, 1, 1, 1, 2, 2, 3, 1, 3, 3, 3, 1, 1, 2, 1, 1, 2, 3, 1, 1, 1, 2, 3, 2, 1, 2, 2, 1, 2, 2, 1, 2, 2, 2, 3, 3, 1, 2, 2, 1, 2, 2, 1, 2, 2, 3, 3, 2, 1, 3, 1, 2, 2, 2, 3, 2, 2, 2, 3, 3, 2, 3, 2, 1, 2, 2, 1, 2, 1, 1, 1, 2, 2, 3, 1, 1, 2, 3, 1, 3, 2, 2, 2, 3, 1, 3, 1, 1, 2, 3, 1, 1, 1, 1, 3, 3, 3, 1, 1, 1, 2, 2, 1, 2, 3, 1, 3, 1, 1, 3, 1, 3, 1, 2, 2, 1, 2, 2, 1, 1, 3, 3, 1, 2, 2, 3, 1, 3, 2, 2, 2, 2, 1, 2, 3, 2, 1, 3, 2, 3, 3, 1, 3, 2, 2, 1, 3, 3, 3, 1, 2, 2, 2, 1, 1, 2, 3, 2, 2, 1, 2, 1, 1, 1, 1, 1, 1, 1, 2, 1, 1, 3, 3, 2, 3, 1, 2, 2, 3, 3, 2, 3, 2, 2, 3, 1, 3, 3, 2, 2, 1, 1, 3, 2, 1, 1, 2, 1, 2, 3, 1, 1, 3, 2, 1, 2, 3, 3, 1, 2, 3, 2, 1, 1, 1, 2, 3, 2, 2, 1, 2, 1, 2, 3, 1, 3, 2, 1, 2, 1, 3, 3, 2, 2, 2, 2, 1, 3, 3, 3, 2, 2, 3, 3, 2, 1, 1, 2, 2, 1, 3, 1, 2, 1, 2, 3, 2, 3, 2, 3, 1, 3, 3, 1, 1, 3, 2, 3, 1, 3, 2, 1, 2, 3, 2, 2, 3, 2, 1, 2, 2, 1, 1, 2, 2, 3, 1, 3, 2, 2, 1, 1, 1, 3, 3, 1, 2, 2, 1, 3, 1, 1, 3, 1, 1, 2, 1, 1, 3, 3, 2, 3, 3, 3, 2, 3, 2, 2, 3, 2, 3, 1, 2, 2, 2, 3, 2, 2, 2, 3, 1, 1, 1, 1, 2, 3, 3, 3, 2, 3, 1, 1, 1, 2, 1, 2, 2, 2, 1, 3, 2, 3, 3, 3, 2, 1, 3, 2, 2, 3, 2, 3, 1, 2, 2, 3, 3, 1, 3, 2, 1, 1, 2, 2, 3, 1, 3, 2, 3, 1, 2, 3, 2, 3, 2, 3, 2, 2, 2, 3, 1, 3, 1, 1, 3, 1, 3, 3, 2, 2, 1, 2, 1, 1, 3, 1, 2, 2, 1, 1, 1, 1, 1, 2, 3, 2, 2, 1, 2, 2, 3, 2, 3, 3, 3, 1, 1, 2, 2, 2, 3, 3, 3, 1, 3, 1, 1, 3, 1, 3, 2, 1, 3, 3, 1, 1, 1, 2, 1, 2, 3, 1, 1, 1, 1, 2, 3, 2, 3, 1, 1, 1, 2, 1, 1, 3, 3, 2, 3, 3, 1, 2, 3, 1, 1, 3, 3, 2, 1, 1, 1, 3, 3, 2, 2, 1, 1, 2, 1, 3, 3, 3, 2, 1, 2, 1, 3, 3, 1, 1, 3, 2, 2, 3, 1, 3, 1, 1, 1, 1, 1, 3, 2, 2, 1, 1, 2, 2, 1, 1, 2, 2, 2, 1, 3, 3, 2, 3, 3, 1, 2, 1, 3, 1, 2, 1, 2, 1, 2, 2, 2, 2, 3, 1, 2, 2, 3, 2, 1, 2, 3, 3, 1, 1, 2, 3, 3, 2, 2, 1, 2, 2, 1, 3, 2, 3, 1, 1, 3, 3, 2, 1, 1, 3, 3, 1, 1, 3, 2, 2, 1, 1, 1, 2, 3, 3, 3, 2, 1, 3, 3, 1, 1, 2, 2, 1, 1, 2, 1, 2, 1, 1, 1, 3, 1, 3, 2, 1, 2, 1, 1, 2, 3, 1, 3, 3, 2, 3, 3, 3, 1, 1, 2, 3, 2, 3, 1, 3, 3, 3, 2, 3, 3, 2, 2, 2, 1, 1, 3, 2, 2, 2, 1, 1, 1, 3, 2, 3, 1, 1, 2, 1, 3, 1, 2, 1, 2, 2, 2, 3, 2, 2, 1, 1, 2, 1, 3, 1, 1, 2, 1, 1, 3, 2, 3, 3, 1, 2, 3, 3, 1, 1, 2, 1, 1, 2, 3, 3, 3, 3, 2, 3, 1, 2, 2, 2, 2, 2, 3, 3, 1, 3, 3, 2, 2, 1, 1, 2, 1, 3, 3, 1, 3, 3, 3, 2, 2, 2, 3, 1, 1, 3, 1, 1, 2, 1, 1, 3, 1, 1, 1, 2, 2, 3, 2, 2, 2, 3, 2, 3, 1, 1, 1, 1, 1, 2, 2, 2, 1, 1, 3, 1, 2, 1, 2, 3, 1, 1, 1, 3, 2, 2, 2, 2, 1, 2, 1, 3, 2, 1, 2, 2, 1, 1, 3, 1, 2, 2, 2, 2, 3, 2, 2, 2, 3, 1, 3, 3, 3, 2, 3, 3, 3, 2, 1, 3, 3, 2, 1, 2, 3, 2, 3, 3, 1, 1, 3, 3, 3, 1, 3, 2, 1, 2, 2, 3, 1, 3, 3, 2, 3, 3, 3, 2, 2, 2, 1, 1, 3, 1, 2, 3, 1, 1, 3, 2, 2, 3, 1, 3, 3, 2, 3, 3, 1, 1, 2, 1, 3, 2, 2, 1, 2, 2, 2, 1, 2, 3, 1, 1, 3, 3, 3, 3, 3, 3, 2, 2, 1, 1, 3, 3, 1, 3, 2, 2, 1, 2, 1, 2, 1, 3, 3, 1, 1, 2, 3, 2, 3, 1, 2, 3, 3, 3, 2, 1, 3, 2, 2, 2, 3, 2, 1, 1, 2, 2, 2, 3, 3, 1, 2, 2, 1, 2, 1, 2, 2, 3, 3, 1, 3, 1, 3, 3, 1, 3, 2, 2, 3, 1, 1, 1, 1, 2, 1, 2, 1, 1, 2, 1, 3, 2, 2, 2, 1, 1, 2, 1, 3, 2, 3, 2, 3, 2, 2, 2, 3, 2, 3, 1, 2, 1, 3, 1, 3, 2, 2, 3, 3, 1, 2, 1, 3, 2, 2, 1, 1, 1, 3, 1, 1, 2, 2, 2, 1, 1, 2, 1, 3, 1, 2, 2, 2, 2, 1, 1, 1, 3, 2, 2, 3, 1, 3, 2, 3, 3, 1, 3, 2, 3, 1, 3, 3, 3, 2, 2, 2, 2, 1, 1, 3, 2, 2, 3, 2, 3, 1, 1, 2, 3, 3, 2, 2, 3, 3, 1, 3, 3, 3, 2, 1, 2, 3, 2, 2, 1, 3, 2, 3, 3, 3, 2, 1, 1, 2, 2, 1, 2, 3, 3, 2, 1, 2, 1, 3, 2, 2, 3, 1, 3, 3, 2, 1, 3, 1, 1, 3, 1, 2, 2, 1, 3, 2, 1, 2, 3, 1, 3, 2, 2, 1, 2, 1, 3, 3, 3, 1, 2, 1, 2, 2, 3, 1, 1, 2, 1, 1, 2, 3, 3, 2, 1, 1, 3, 3, 3, 3, 1, 1, 2, 1, 1, 1, 1, 3, 2, 1, 3, 3, 2, 1, 2, 2, 3, 2, 3, 3, 1, 1, 1, 2, 1, 3, 1, 1, 2, 2, 2, 3, 2, 1, 3, 3, 2, 2, 2, 2, 1, 2, 2, 1, 2, 3, 1, 3, 1, 1, 1, 3, 3, 2, 2, 2, 2, 3, 1, 2, 1, 1, 1, 2, 3, 2, 1, 1, 1, 3, 1, 1, 2, 2, 1, 3, 1, 2, 2, 2, 3, 1, 3, 1, 3, 1, 3, 1, 3, 3, 2, 3, 3, 2, 3, 2, 1, 2, 2, 2, 3, 2, 2, 2, 2, 2, 3, 3, 2, 2, 3, 1, 2, 1, 2, 3, 1, 1, 2, 2, 2, 1, 1, 1, 2, 3, 2, 3, 1, 3, 3, 1, 1, 3, 3, 1, 3, 1, 3, 1, 2, 3, 2, 1, 2, 3, 3, 1, 2, 1, 1, 1, 3, 3, 1, 2, 3, 2, 1, 2, 2, 1, 2, 1, 2, 1, 2, 1, 2, 2, 2, 3, 1, 2, 1, 2, 1, 1, 1, 2, 2, 2, 2, 3, 2, 2, 3, 1, 2, 1, 3, 1, 2, 1, 1, 3, 3, 2, 3, 1, 2, 2, 2, 3, 3, 1, 2, 3, 2, 3, 2, 1, 1, 3, 2, 2, 3, 2, 1, 2, 3, 1, 2, 3, 2, 1, 3, 1, 3, 2, 1, 2, 1, 3, 1, 2, 1, 3, 1, 2, 3, 3, 3, 1, 1, 2, 2, 3, 2, 1, 2, 3, 2, 2, 2, 3, 3, 2, 1, 2, 3, 3, 2, 2, 2, 1, 1, 3, 2, 2, 2, 2, 1, 2, 1, 1, 1, 1, 1, 2, 1, 2, 2, 1, 1, 3, 3, 1, 1, 2, 2, 2, 2, 1, 1, 2, 3, 2, 3, 1, 3, 2, 1, 3, 2, 2, 1, 1, 2, 2, 3, 1, 3, 1, 3, 2, 2, 1, 1, 1, 2, 2, 2, 3, 2, 3, 2, 2, 3, 2, 1, 2, 3, 1, 3, 3, 1, 1, 1, 2, 2, 2, 2, 3, 2, 2, 3, 3, 3, 3, 3, 1, 2, 2, 2, 2, 3, 1, 2, 1, 3, 1, 3, 1, 3, 1, 2, 1, 2, 2, 3, 1, 2, 3, 3, 3, 2, 2, 2, 2, 3, 3, 3, 3, 2, 1, 1, 3, 3, 1, 3, 1, 2, 2, 3, 3, 1, 3, 1, 2, 3, 2, 3, 3, 3, 2, 1, 3, 1, 3, 2, 2, 3, 1, 2, 1, 1, 2, 3, 2, 3, 1, 3, 1, 2, 1, 3, 1, 1, 1, 2, 1, 3, 2, 3, 3, 3, 2, 2, 2, 2, 2, 3, 1, 2, 1, 1, 3, 2, 2, 2, 1, 3, 1, 1, 2, 1, 3, 3, 3, 1, 2, 1, 3, 1, 3, 1, 2, 2, 3, 3, 3, 3, 3, 2, 2, 1, 3, 2, 1, 2, 2, 3, 1, 1, 1, 2, 2, 3, 1, 3, 1, 1, 1, 2, 3, 3, 3, 1, 3, 2, 2, 3, 2, 3, 1, 3, 3, 2, 3, 1, 3, 3, 2, 3, 1, 2, 3, 3, 3, 1, 3, 2, 3, 3, 3, 3, 2, 2, 1, 1, 3, 2, 1, 3, 3, 3, 2, 1, 3, 3, 1, 3, 2, 1, 1, 2, 2, 2, 1, 1, 1, 2, 2, 2, 3, 3, 3, 3, 1, 3, 3, 2, 1, 2, 1, 1, 2, 3, 1, 1, 1, 2, 1, 1, 3, 2, 2, 2, 1, 2, 3, 3, 1, 1, 2, 2, 2, 3, 3, 3, 2, 1, 2, 1, 2, 3, 2, 2, 1, 2, 2, 3, 2, 2, 2, 1, 3, 2, 3, 3, 2, 2, 1, 1, 3, 2, 2, 2, 3, 3, 2, 2, 1, 2, 3, 2, 1, 1, 3, 3, 2, 2, 1, 3, 1, 3, 3, 3, 2, 2, 3, 3, 2, 1, 2, 3, 1, 1, 1, 2, 2, 2, 3, 2, 3, 1, 3, 3, 2, 3, 2, 1, 1, 1, 2, 3, 3, 2, 3, 1, 3, 2, 3, 3, 1, 2, 3, 3, 2, 2, 3, 2, 2, 3, 2, 2, 2, 3, 1, 3, 1, 1, 2, 2, 2, 1, 3, 3, 3, 1, 1, 3, 1, 3, 2, 3, 3, 3, 1, 2, 2, 2, 2, 1, 3, 2, 2, 3, 3, 2, 3, 2, 2, 1, 3, 2, 3, 3, 2, 1, 2, 3, 2, 3, 1, 1, 1, 2, 2, 2, 1, 2, 3, 2, 2, 2, 2, 3, 3, 1, 1, 1, 1, 3, 1, 1, 2, 3, 2, 2, 3, 3, 1, 2, 1, 2, 1, 1, 1, 2, 2, 2, 2, 1, 1, 2, 1, 3, 3, 2, 3, 2, 3, 3, 3, 1, 2, 2, 1, 3, 3, 1, 3, 3, 2, 2, 1, 3, 3, 3, 1, 1, 2, 3, 1, 1, 1, 3, 1, 3, 1, 2, 2, 1, 3, 2, 1, 3, 2, 3, 1, 2, 2, 2, 2, 2, 3, 3, 3, 3, 1, 3, 3, 1, 1, 3, 3, 3, 2, 1, 2, 2, 2, 2, 3, 3, 3, 2, 2, 1, 1, 3, 2, 1, 2, 2, 1, 2, 3, 3, 3, 1, 3, 3, 2, 3, 3, 3, 1, 3, 1, 2, 2, 1, 1, 3, 2, 1, 3, 2, 3, 3, 1, 2, 2, 1, 3, 3, 1, 2, 2, 3, 3, 2, 1, 1, 3, 2, 3, 2, 1, 2, 1, 1, 1, 2, 3, 2, 2, 1, 1, 1, 3, 1, 2, 3, 1, 1, 1, 3, 1, 2, 2, 2, 2, 3, 2, 2, 2, 2, 3, 1, 1, 3, 1, 1, 2, 1, 3, 3, 2, 3, 3, 2, 3, 1, 3, 3, 3, 1, 1, 3, 2, 3, 3, 3, 1, 2, 3, 3, 3, 3, 1, 3, 3, 3, 2, 2, 3, 3, 2, 2, 2, 2, 1, 2, 3, 3, 3, 1, 1, 1, 2, 3, 2, 2, 2, 1, 2, 3, 3, 3, 1, 1, 1, 1, 3, 2, 1, 1, 3, 2, 2, 3, 3, 1, 1, 3, 3, 2, 1, 2, 1, 3, 2, 1, 3, 1, 3, 3, 3, 3, 3, 1, 2, 2, 1, 2, 1, 3, 3, 1, 3, 2, 2, 1, 1, 2, 1, 2, 3, 2, 2, 2, 2, 1, 3, 3, 1, 2, 2, 3, 1, 3, 2, 1, 3, 2, 3, 1, 1, 3, 2, 3, 3, 3, 1, 2, 2, 3, 3, 1, 3, 2, 3, 1, 2, 1, 1, 1, 3, 2, 1, 3, 1, 2, 3, 1, 2, 1, 1, 2, 1, 1, 1, 2, 1, 2, 1, 3, 2, 3, 3, 1, 3, 2, 3, 1, 2, 3, 3, 3, 3, 2, 3, 1, 1, 3, 3, 3, 1, 2, 2, 2, 3, 3, 1, 2, 2, 1, 2, 2, 1, 1, 3, 2, 1, 1, 2, 3, 2, 2, 2, 2, 3, 3, 3, 1, 3, 1, 1, 1, 3, 1, 2, 3, 3, 2, 3, 2, 2, 3, 2, 2, 2, 3, 3, 2, 3, 3, 2, 3, 1, 3, 2, 2, 2, 3, 2, 1, 2, 1, 3, 2, 2, 2, 1, 1, 1, 3, 2, 3, 2, 1, 3, 1, 1, 2, 3, 3, 2, 3, 1, 1, 3, 3, 1, 1, 2, 3, 2, 3, 3, 3, 3, 3, 3, 2, 1, 1, 2, 1, 1, 2, 2, 1, 1, 1, 1, 1, 3, 3, 1, 1, 2, 2, 1, 2, 2, 2, 1, 3, 1, 3, 2, 1, 3, 1, 1, 3, 1, 2, 1, 3, 2, 2, 2, 3, 1, 3, 2, 2, 1, 3, 1, 3, 3, 2, 2, 3, 2, 2, 3, 2, 2, 3, 2, 1, 3, 2, 3, 2, 3, 2, 1, 2, 2, 1, 3, 2, 1, 1, 1, 3, 3, 1, 1, 2, 3, 3, 3, 3, 3, 3, 1, 1, 1, 2, 2, 2, 2, 2, 2, 3, 1, 2, 1, 1, 3, 2, 1, 1, 3, 2, 1, 3, 3, 2, 2, 3, 2, 2, 2, 3, 1, 1, 2, 1, 1, 1, 3, 3, 2, 1, 2, 1, 1, 3, 2, 2, 1, 1, 2, 1, 1, 2, 2, 2, 2, 1, 2, 3, 1, 2, 3, 2, 2, 2, 2, 2, 2, 1, 1, 3, 1, 1, 1, 2, 2, 1, 3, 1, 3, 2, 2, 2, 2, 1, 1, 3, 2, 1, 3, 3, 1, 2, 1, 1, 2, 2, 1, 3, 2, 3, 2, 1, 3, 2, 1, 3, 2, 1, 2, 2, 3, 2, 2, 3, 2, 3, 2, 1, 2, 1, 1, 1, 3, 2, 2, 3, 1, 3, 3, 2, 2, 2, 2, 2, 3, 3, 1, 3, 1, 2, 2, 1, 2, 2, 3, 3, 1, 2, 1, 3, 2, 3, 1, 2, 3, 3, 1, 2, 2, 2, 3, 2, 3, 2, 1, 1, 3, 1, 2, 1, 1, 3, 1, 3, 2, 3, 3, 2, 1, 1, 3, 2, 1, 3, 1, 2, 2, 3, 2, 2, 1, 1, 3, 2, 3, 3, 3, 2, 2, 1, 3, 3, 1, 3, 2, 1, 3, 3, 1, 3, 3, 1, 2, 1, 1, 1, 1, 3, 3, 3, 3, 3, 2, 2, 2, 2, 2, 3, 2, 1, 3, 2, 1, 3, 1, 2, 3, 1, 1, 2, 2, 1, 3, 2, 2, 2, 2, 2, 3, 3, 1, 1, 1, 2, 2, 2, 3, 3, 2, 1, 1, 3, 1, 3, 2, 2, 2, 2, 1, 2, 1, 1, 3, 3, 3, 3, 3, 1, 2, 1, 2, 1, 2, 3, 3, 1, 3, 2, 1, 3, 3, 3, 3, 1, 2, 3, 3, 2, 3, 3, 2, 2, 3, 3, 3, 3, 1, 1, 2, 1, 2, 1, 1, 1, 2, 3, 2, 2, 2, 3, 1, 3, 1, 1, 1, 1, 2, 1, 1, 1, 3, 1, 3, 2, 3, 1, 2, 2, 2, 3, 3, 2, 2, 3, 3, 3, 2, 1, 2, 2, 2, 3, 2, 1, 3, 3, 3, 1, 2, 2, 3, 2, 1, 3, 1, 1, 3, 2, 2, 2, 1, 2, 1, 1, 3, 2, 2, 2, 1, 1, 3, 3, 3, 1, 3, 2, 2, 3, 3, 1, 3, 3, 2, 2, 1, 3, 3, 1, 3, 3, 2, 2, 1, 3, 1, 2, 2, 3, 2, 3, 3, 2, 2, 1, 2, 3, 3, 1, 1, 2, 3, 1, 3, 3, 3, 3, 2, 2, 2, 2, 3, 3, 1, 1, 3, 3, 3, 3, 1, 1, 1, 2, 3, 1, 3, 1, 3, 3, 1, 1, 2, 1, 3, 3, 3, 2, 1, 3, 2, 1, 2, 2, 1, 2, 2, 2, 3, 3, 2, 3, 2, 2, 3, 2, 1, 3, 3, 2, 1, 3, 2, 1, 3, 1, 1, 3, 1, 2, 1, 3, 2, 3, 3, 3, 3, 3, 3, 3, 1, 1, 3, 2, 1, 3, 1, 1, 1, 3, 3, 3, 3, 2, 2, 2, 2, 1, 3, 1, 1, 3, 1, 3, 3, 1, 3, 1, 2, 1, 2, 1, 3, 1, 1, 2, 1, 3, 2, 3, 1, 1, 1, 1, 1, 3, 2, 1, 1, 1, 1, 2, 2, 1, 3, 3, 3, 2, 3, 1, 1, 2, 1, 2, 2, 3, 1, 2, 1, 2, 1, 2, 1, 1, 2, 1, 2, 2, 1, 1, 3, 2, 3, 2, 2, 1, 1, 1, 1, 2, 3, 3, 1, 2, 2, 3, 2, 2, 1, 2, 1, 3, 1, 2, 3, 2, 3, 3, 3, 3, 3, 3, 3, 2, 2, 1, 3, 2, 1, 2, 1, 1, 2, 3, 3, 1, 1, 2, 1, 3, 2, 2, 1, 3, 1, 2, 1, 1, 1, 1, 3, 3, 1, 1, 1, 2, 2, 3, 1, 1, 2, 2, 2, 1, 3, 2, 3, 3, 1, 2, 2, 1, 3, 3, 1, 3, 2, 3, 2, 2, 3, 2, 2, 1, 3, 2, 3, 2, 1, 3, 3, 3, 3, 3, 2, 3, 1, 3, 2, 1, 3, 2, 3, 3, 2, 3, 3, 1, 2, 2, 2, 2, 2, 2, 3, 1, 3, 3, 2, 2, 2, 3, 3, 1, 2, 1, 1, 2, 1, 2, 1, 2, 1, 3, 2, 3, 1, 3, 3, 3, 3, 3, 3, 2, 1, 3, 3, 3, 1, 1, 1, 1, 2, 1, 2, 2, 1, 1, 2, 3, 1, 2, 1, 1, 1, 3, 2, 3, 3, 3, 2, 3, 2, 2, 1, 3, 1, 3, 1, 3, 3, 2, 3, 2, 1, 1, 3, 3, 1, 1, 2, 2, 1, 1, 1, 1, 3, 1, 1, 2, 3, 2, 3, 2, 3, 1, 2, 2, 2, 1, 2, 1, 3, 2, 1, 3, 2, 2, 3, 2, 2, 2, 1, 1, 1, 1, 3, 3, 3, 1, 2, 1, 2, 1, 1, 2, 2, 2, 1, 3, 2, 2, 2, 2, 2, 3, 3, 2, 1, 2, 3, 2, 1, 2, 2, 1, 3, 1, 2, 2, 2, 3, 1, 2, 3, 3, 1, 2, 1, 1, 3, 1, 3, 3, 1, 2, 1, 3, 2, 2, 3, 1, 2, 2, 2, 3, 1, 3, 3, 3, 2, 1, 1, 2, 1, 2, 3, 2, 2, 3, 2, 3, 1, 2, 1, 3, 3, 3, 2, 3, 2, 2, 2, 3, 2, 2, 3, 3, 2, 1, 2, 2, 1, 3, 2, 3, 2, 1, 2, 3, 2, 1, 3, 3, 2, 2, 3, 1, 3, 3, 1, 3, 1, 1, 3, 1, 2, 3, 3, 3, 2, 3, 2, 3, 3, 2, 2, 1, 2, 2, 3, 3, 3, 2, 2, 2, 3, 2, 1, 3, 3, 2, 3, 3, 2, 1, 2, 2, 3, 2, 3, 3, 3, 2, 3, 3, 1, 2, 1, 3, 2, 2, 2, 3, 3, 1, 2, 2, 2, 2, 3, 1, 3, 1, 3, 1, 2, 1, 1, 2, 1, 1, 1, 2, 3, 2, 2, 3, 1, 1, 2, 2, 3, 3, 2, 2, 3, 2, 3, 3, 1, 3, 3, 3, 3, 2, 2, 1, 2, 3, 2, 2, 1, 3, 3, 2, 2, 3, 3, 2, 2, 2, 2, 3, 1, 1, 1, 1, 3, 2, 3, 3, 2, 1, 3, 3, 3, 3, 2, 2, 1, 2, 3, 3, 2, 1, 2, 3, 1, 3, 2, 1, 3, 1, 1, 1, 2, 2, 2, 1, 1, 3, 2, 1, 2, 1, 1, 2, 3, 3, 2, 2, 3, 3, 1, 3, 1, 2, 1, 3, 1, 1, 2, 3, 2, 3, 2, 2, 2, 1, 1, 1, 2, 2, 2, 1, 1, 2, 3, 1, 3, 3, 1, 1, 3, 3, 2, 3, 1, 2, 3, 2, 3, 3, 1, 3, 1, 3, 1, 1, 1, 3, 2, 1, 1, 1, 3, 1, 2, 2, 2, 1, 3, 3, 2, 1, 2, 1, 2, 1, 1, 2, 2, 2, 1, 1, 1, 1, 3, 1, 2, 2, 3, 3, 2, 3, 2, 1, 1, 3, 1, 2, 1, 3, 3, 2, 2, 2, 2, 1, 2, 1, 3, 1, 2, 3, 3, 1, 3, 3, 1, 1, 2, 3, 3, 3, 2, 3, 3, 3, 3, 3, 3, 1, 2, 3, 2, 1, 1, 2, 3, 3, 3, 1, 3, 2, 1, 2, 3, 1, 2, 3, 2, 2, 2, 2, 2, 1, 2, 1, 2, 2, 1, 2, 3, 2, 2, 2, 3, 2, 3, 2, 3, 2, 1, 3, 2, 2, 1, 1, 3, 1, 3, 1, 2, 2, 3, 2, 1, 2, 2, 1, 3, 2, 3, 1, 3, 1, 1, 3, 1, 2, 1, 2, 3, 3, 2, 3, 2, 1, 1, 1, 1, 3, 1, 3, 3, 2, 3, 1, 1, 3, 2, 1, 1, 3, 3, 1, 2, 3, 3, 3, 2, 3, 2, 2, 1, 1, 3, 2, 3, 3, 1, 3, 2, 2, 1, 1, 1, 3, 1, 3, 2, 1, 2, 1, 3, 1, 3, 1, 2, 3, 3, 3, 3, 3, 1, 2, 2, 1, 1, 2, 3, 3, 3, 3, 3, 1, 3, 2, 3, 3, 2, 1, 1, 2, 2, 3, 2, 3, 3, 1, 2, 1, 2, 2, 2, 1, 2, 1, 3, 3, 2, 2, 3, 3, 2, 2, 1, 3, 3, 2, 1, 3, 1, 3, 3, 2, 1, 1, 3, 1, 1, 3, 2, 1, 1, 3, 1, 1, 2, 1, 1, 2, 1, 3, 1, 2, 3, 1, 2, 3, 2, 3, 3, 2, 2, 2, 1, 2, 2, 1, 3, 2, 1, 1, 3, 2, 2, 2, 3, 1, 2, 3, 3, 2, 3, 2, 2, 3, 1, 1, 2, 3, 2, 1, 2, 2, 1, 3, 3, 3, 1, 1, 3, 2, 2, 3, 2, 3, 3, 3, 3, 3, 2, 2, 1, 3, 3, 3, 3, 1, 3, 1, 3, 3, 2, 3, 1, 1, 1, 3, 3, 2, 1, 3, 2, 1, 2, 1, 2, 1, 2, 3, 1, 2, 1, 1, 2, 2, 2, 1, 2, 3, 2, 1, 2, 3, 3, 2, 3, 2, 3, 3, 1, 2, 1, 2, 3, 1, 3, 1, 2, 3, 2, 3, 3, 2, 2, 3, 2, 1, 3, 3, 2, 1, 3, 3, 1, 3, 1, 1, 2, 3, 1, 2, 3, 3, 3, 1, 1, 2, 2, 2, 2, 2, 1, 3, 2, 3, 2, 3, 3, 1, 2, 1, 1, 1, 1, 2, 1, 3, 3, 2, 3, 1, 3, 2, 2, 3, 2, 3, 1, 2, 2, 2, 1, 2, 3, 2, 3, 2, 3, 3, 2, 1, 1, 3, 1, 3, 3, 2, 1, 1, 3, 2, 1, 1, 1, 2, 2, 1, 3, 1, 2, 2, 1, 3, 3, 2, 2, 2, 2, 2, 3, 1, 2, 3, 1, 2, 2, 1, 3, 1, 2, 1, 1, 3, 1, 3, 3, 3, 3, 1, 1, 2, 3, 2, 2, 2, 1, 1, 2, 1, 3, 1, 2, 2, 2, 1, 1, 3, 1, 3, 1, 2, 2, 3, 2, 2, 3, 1, 1, 3, 2, 3, 1, 1, 2, 1, 2, 2, 3, 2, 3, 1, 3, 2, 2, 2, 2, 1, 2, 3, 1, 3, 1, 1, 2, 2, 2, 2, 2, 1, 3, 2, 3, 1, 2, 3, 3, 3, 3, 3, 2, 1, 1, 1, 1, 3, 2, 2, 1, 3, 3, 2, 2, 2, 1, 3, 1, 1, 1, 3, 1, 2, 3, 2, 1, 2, 2, 2, 3, 1, 1, 2, 2, 2, 1, 2, 1, 1, 3, 1, 3, 1, 3, 3, 2, 3, 1, 2, 1, 1, 3, 1, 1, 1, 1, 2, 1, 2, 1, 1, 1, 2, 2, 1, 1, 3, 2, 1, 1, 2, 2, 3, 1, 1, 1, 3, 3, 2, 2, 3, 2, 2, 3, 2, 3, 2, 2, 1, 2, 1, 3, 2, 3, 3, 3, 1, 1, 1, 3, 1, 3, 3, 1, 2, 1, 1, 2, 1, 3, 2, 2, 2, 3, 3, 3, 1, 3, 1, 2, 2, 3, 3, 3, 1, 1, 3, 3, 2, 2, 2, 2, 3, 2, 2, 1, 1, 1, 3, 3, 1, 3, 2, 1, 2, 2, 2, 3, 1, 2, 3, 3, 2, 3, 2, 2, 2, 1, 2, 1, 2, 1, 2, 3, 1, 3, 2, 2, 3, 2, 2, 1, 2, 3, 2, 3, 2, 2, 3, 3, 3, 1, 1, 1, 3, 2, 3, 3, 2, 3, 1, 3, 1, 1, 2, 3, 3, 2, 3, 3, 3, 2, 3, 1, 2, 1, 2, 3, 2, 1, 2, 1, 2, 1, 2, 2, 3, 2, 2, 2, 3, 3, 2, 3, 2, 3, 2, 1, 1, 1, 1, 2, 3, 1, 3, 1, 1, 3, 1, 1, 3, 1, 3, 2, 3, 1, 3, 2, 3, 2, 1, 2, 3, 3, 2, 2, 1, 2, 2, 2, 2, 1, 3, 3, 2, 2, 3, 3, 1, 2, 1, 3, 3, 1, 3, 3, 2, 3, 1, 1, 2, 3, 2, 1, 2, 1, 3, 3, 3, 2, 1, 1, 2, 2, 2, 3, 2, 2, 2, 1, 1, 2, 3, 3, 3, 2, 3, 3, 3, 1, 1, 3, 2, 1, 2, 2, 1, 3, 2, 3, 2, 2, 3, 2, 3, 2, 3, 3, 1, 2, 2, 1, 3, 1, 2, 1, 1, 1, 3, 2, 1, 3, 3, 1, 2, 3, 3, 2, 1, 2, 1, 3, 2, 2, 2, 1, 1, 3, 3, 1, 3, 3, 2, 3, 3, 2, 3, 1, 3, 2, 2, 1, 2, 1, 3, 1, 2, 3, 1, 1, 3, 1, 3, 1, 2, 2, 2, 2, 1, 2, 3, 1, 3, 3, 3, 2, 3, 2, 3, 1, 2, 1, 3, 2, 1, 1, 3, 2, 3, 1, 3, 3, 2, 3, 1, 1, 1, 1, 3, 2, 3, 3, 3, 2, 3, 2, 2, 3, 3, 3, 3, 1, 3, 1, 2, 3, 2, 2, 3, 3, 2, 3, 3, 2, 2, 1, 2, 3, 3, 3, 2, 2, 3, 2, 1, 3, 1, 1, 3, 2, 2, 2, 2, 3, 2, 1, 1, 2, 1, 3, 2, 3, 2, 2, 2, 3, 2, 2, 3, 3, 3, 3, 3, 2, 2, 2, 2, 2, 2, 3, 1, 2, 2, 1, 3, 2, 1, 1, 3, 2, 2, 2, 1, 3, 3, 2, 3, 3, 3, 2, 1, 2, 1, 1, 1, 1, 3, 1, 3, 1, 3, 3, 2, 1, 1, 2, 2, 3, 2, 1, 2, 2, 2, 2, 2, 3, 2, 1, 3, 3, 2, 3, 2, 1, 1, 3, 2, 1, 2, 3, 2, 2, 1, 2, 1, 3, 2, 2, 2, 2, 2, 3, 1, 1, 2, 3, 3, 3, 1, 1, 2, 3, 1, 2, 3, 1, 3, 1, 2, 1, 1, 1, 1, 2, 2, 3, 3, 2, 1, 1, 3, 1, 3, 3, 3, 3, 1, 3, 2, 3, 3, 3, 1, 1, 2, 3, 3, 3, 3, 1, 3, 3, 2, 2, 1, 1, 1, 1, 1, 1, 2, 1, 1, 3, 3, 3, 3, 3, 2, 2, 1, 3, 2, 1, 1, 2, 3, 1, 2, 2, 3, 2, 2, 3, 2, 2, 3, 2, 2, 2, 2, 3, 1, 1, 3, 2, 2, 1, 2, 1, 3, 2, 3, 3, 2, 1, 1, 1, 2, 2, 1, 2, 3, 1, 2, 3, 3, 1, 2, 1, 1, 1, 1, 2, 2, 2, 3, 1, 2, 2, 3, 2, 3, 2, 2, 1, 1, 1, 2, 3, 1, 1, 2, 2, 3, 1, 2, 2, 1, 3, 3, 3, 2, 3, 2, 2, 2, 1, 2, 1, 1, 1, 3, 2, 1, 2, 2, 2, 2, 2, 3, 3, 2, 1, 1, 1, 2, 2, 1, 2, 1, 1, 1, 3, 2, 1, 1, 3, 2, 2, 3, 1, 3, 3, 1, 2, 2, 1, 1, 2, 1, 3, 2, 1, 2, 2, 1, 2, 2, 1, 1, 3, 3, 1, 3, 1, 2, 1, 2, 1, 3, 2, 1, 1, 1, 2, 1, 3, 3, 2, 1, 2, 3, 3, 2, 2, 2, 1, 2, 3, 3, 3, 3, 2, 2, 2, 1, 2, 3, 3, 2, 3, 1, 3, 2, 1, 1, 1, 3, 2, 2, 1, 3, 2, 1, 2, 1, 1, 3, 3, 2, 1, 2, 1, 3, 3, 2, 3, 1, 3, 3, 1, 2, 3, 1, 2, 2, 1, 1, 3, 3, 1, 1, 2, 2, 2, 1, 1, 2, 2, 3, 2, 1, 1, 2, 3, 3, 3, 2, 2, 3, 1, 3, 1, 2, 1, 3, 3, 2, 2, 2, 3, 1, 1, 3, 2, 2, 2, 2, 1, 2, 1, 1, 3, 3, 2, 3, 3, 2, 1, 2, 2, 1, 1, 1, 1, 1, 3, 1, 3, 3, 2, 1, 3, 3, 3, 1, 3, 3, 3, 3, 2, 1, 3, 2, 2, 2, 2, 1, 2, 1, 3, 3, 3, 2, 2, 2, 1, 2, 2, 2, 3, 3, 3, 2, 2, 3, 2, 3, 2, 2, 2, 3, 1, 3, 3, 1, 1, 2, 2, 2, 2, 1, 1, 1, 1, 3, 2, 1, 2, 2, 1, 2, 2, 1, 2, 3, 3, 1, 3, 2, 1, 1, 2, 2, 3, 2, 3, 2, 3, 1, 1, 1, 3, 1, 3, 3, 2, 1, 1, 1, 2, 1, 1, 1, 3, 3, 1, 3, 1, 3, 2, 2, 3, 1, 1, 2, 2, 1, 2, 1, 1, 3, 1, 3, 1, 2, 3, 2, 1, 2, 3, 2, 3, 2, 2, 1, 3, 3, 3, 2, 3, 1, 2, 3, 2, 3, 2, 2, 3, 2, 3, 2, 2, 3, 3, 1, 1, 1, 3, 2, 1, 1, 1, 2, 1, 1, 1, 3, 2, 3, 3, 1, 3, 2, 1, 2, 3, 1, 3, 2, 1, 2, 2, 3, 2, 1, 1, 3, 2, 2, 2, 3, 2, 2, 3, 2, 2, 3, 2, 1, 1, 3, 1, 2, 2, 2, 1, 1, 2, 1, 2, 2, 2, 1, 2, 2, 2, 2, 1, 1, 1, 1, 2, 3, 2, 3, 1, 3, 2, 3, 3, 3, 2, 3, 2, 2, 3, 2, 3, 3, 1, 1, 2, 3, 1, 1, 1, 3, 3, 3, 3, 2, 3, 3, 2, 1, 1, 3, 2, 3, 3, 2, 1, 2, 2, 1, 2, 2, 2, 2, 2, 1, 1, 1, 3, 3, 3, 2, 3, 3, 1, 1, 1, 2, 2, 2, 3, 2, 2, 2, 1, 1, 2, 3, 3, 2, 1, 2, 1, 3, 2, 2, 3, 1, 2, 1, 3, 1, 3, 2, 2, 1, 1, 1, 2, 1, 3, 3, 1, 2, 2, 3, 1, 3, 1, 3, 1, 1, 3, 3, 2, 1, 3, 3, 3, 3, 1, 1, 2, 1, 1, 2, 3, 1, 3, 1, 3, 1, 1, 2, 2, 2, 3, 3, 3, 3, 3, 2, 3, 1, 2, 2, 3, 1, 2, 2, 2, 3, 3, 1, 2, 1, 2, 2, 2, 1, 3, 3, 3, 1, 2, 3, 2, 3, 3, 3, 3, 3, 2, 2, 3, 3, 3, 1, 1, 1, 1, 1, 3, 1, 2, 3, 3, 2, 1, 2, 1, 1, 2, 1, 2, 3, 2, 3, 2, 1, 3, 2, 1, 3, 3, 3, 1, 3, 2, 1, 1, 3, 1, 2, 2, 2, 1, 2, 2, 3, 1, 3, 2, 3, 3, 3, 2, 3, 2, 1, 1, 1, 2, 1, 2, 3, 1, 3, 3, 2, 1, 1, 2, 3, 1, 1, 1, 1, 3, 2, 2, 2, 3, 1, 2, 2, 1, 2, 2, 1, 3, 3, 2, 1, 2, 3, 2, 1, 1, 1, 1, 2, 2, 3, 3, 2, 3, 2, 2, 3, 1, 2, 2, 1, 2, 1, 3, 2, 2, 2, 1, 1, 2, 2, 2, 3, 2, 1, 3, 2, 2, 3, 1, 3, 3, 2, 2, 2, 3, 1, 1, 2, 2, 2, 3, 1, 2, 3, 2, 2, 2, 3, 1, 2, 1, 2, 3, 1, 2, 3, 3, 1, 2, 1, 1, 1, 3, 3, 1, 2, 1, 3, 3, 3, 3, 1, 3, 3, 3, 3, 1, 3, 3, 1, 1, 2, 2, 1, 2, 2, 2, 3, 1, 2, 1, 2, 3, 3, 2, 3, 2, 3, 1, 2, 3, 1, 2, 1, 2, 2, 2, 1, 2, 3, 3, 2, 2, 1, 1, 2, 3, 1, 3, 3, 2, 3, 3, 2, 3, 2, 2, 3, 3, 2, 2, 1, 2, 2, 1, 2, 3, 1, 1, 3, 1, 2, 2, 3, 3, 2, 3, 2, 3, 2, 1, 2, 2, 3, 2, 2, 1, 3, 3, 1, 1, 2, 3, 2, 1, 2, 2, 3, 3, 2, 3, 1, 3, 1, 2, 1, 1, 1, 3, 1, 3, 1, 3, 2, 2, 2, 3, 3, 1, 2, 3, 3, 2, 2, 1, 3, 3, 2, 1, 3, 3, 3, 2, 1, 1, 3, 3, 3, 3, 3, 3, 1, 2, 3, 1, 2, 2, 3, 1, 2, 2, 3, 3, 3, 1, 3, 2, 2, 1, 2, 3, 1, 2, 3, 2, 2, 1, 3, 3, 2, 3, 1, 1, 3, 1, 3, 3, 2, 1, 1, 3, 1, 2, 3, 3, 1, 3, 3, 3, 1, 3, 2, 1, 2, 2, 1, 2, 3, 2, 3, 2, 2, 3, 1, 2, 3, 2, 3, 3, 3, 1, 1, 3, 2, 3, 2, 3, 1, 3, 2, 1, 3, 1, 1, 1, 3, 1, 3, 3, 2, 2, 2, 1, 3, 2, 3, 1, 2, 3, 1, 2, 1, 3, 1, 1, 3, 3, 1, 3, 3, 2, 1, 1, 1, 3, 1, 2, 1, 3, 3, 2, 1, 2, 1, 1, 2, 3, 3, 1, 2, 1, 3, 1, 2, 1, 2, 1, 2, 2, 2, 2, 2, 1, 2, 3, 1, 1, 1, 1, 2, 1, 2, 1, 2, 2, 2, 3, 3, 2, 1, 3, 3, 2, 3, 2, 3, 3, 3, 3, 1, 3, 1, 1, 3, 3, 2, 1, 1, 3, 2, 2, 3, 1, 1, 2, 2, 1, 1, 2, 2, 1, 3, 1, 2, 2, 3, 3, 3, 2, 3, 2, 3, 2, 2, 2, 2, 2, 1, 1, 2, 2, 1, 2, 3, 3, 3, 3, 3, 3, 3, 2, 2, 3, 3, 2, 3, 3, 3, 3, 1, 3, 2, 3, 3, 2, 3, 2, 1, 2, 3, 3, 3, 2, 1, 2, 3, 2, 3, 1, 1, 3, 2, 3, 3, 1, 1, 2, 2, 2, 3, 1, 1, 2, 2, 3, 2, 2, 1, 3, 2, 1, 1, 2, 3, 2, 1, 3, 2, 3, 1, 2, 2, 3, 3, 2, 1, 2, 3, 3, 2, 2, 2, 1, 2, 1, 2, 3, 1, 2, 1, 3, 3, 1, 3, 2, 3, 2, 3, 1, 3, 3, 2, 2, 2, 3, 1, 3, 2, 2, 2, 3, 2, 3, 1, 2, 3, 2, 3, 2, 1, 3, 1, 2, 1, 2, 2, 1, 2, 1, 3, 2, 1, 3, 3, 3, 3, 2, 3, 3, 1, 3, 1, 3, 1, 3, 2, 1, 2, 2, 2, 2, 2, 1, 2, 2, 3, 2, 3, 2, 1, 2, 1, 3, 3, 1, 3, 1, 1, 1, 1, 1, 3, 3, 3, 3, 3, 2, 1, 1, 1, 2, 2, 2, 2, 3, 2, 2, 3, 3, 3, 1, 2, 3, 1, 3, 3, 2, 3, 1, 2, 3, 3, 2, 2, 1, 1, 3, 3, 3, 2, 3, 1, 1, 1, 1, 2, 2, 3, 3, 3, 2, 2, 1, 2, 2, 2, 2, 3, 1, 3, 2, 3, 1, 1, 1, 3, 1, 1, 1, 2, 3, 1, 3, 2, 3, 1, 3, 1, 1, 3, 1, 1, 2, 3, 1, 2, 3, 1, 3, 1, 1, 3, 3, 1, 2, 3, 2, 1, 3, 1, 2, 1, 1, 2, 3, 2, 2, 2, 2, 2, 3, 2, 2, 2, 3, 1, 1, 3, 3, 1, 3, 2, 1, 1, 3, 1, 3, 1, 1, 2, 1, 1, 1, 3, 3, 3, 3, 3, 3, 3, 3, 2, 2, 1, 3, 3, 3, 1, 3, 1, 3, 3, 2, 3, 2, 1, 2, 2, 3, 3, 3, 1, 2, 1, 1, 2, 1, 3, 2, 2, 1, 2, 3, 1, 3, 2, 1, 1, 1, 2, 1, 1, 3, 3, 2, 1, 2, 3, 3, 3, 1, 2, 1, 2, 2, 3, 2, 1, 3, 2, 1, 3, 1, 3, 3, 3, 2, 1, 2, 1, 1, 2, 1, 3, 2, 1, 1, 1, 1, 3, 1, 2, 3, 2, 3, 1, 3, 3, 1, 3, 1, 3, 2, 1, 3, 1, 2, 2, 1, 1, 1, 3, 2, 3, 2, 2, 1, 3, 2, 2, 3, 1, 1, 2, 1, 1, 2, 3, 3, 2, 1, 3, 1, 2, 3, 3, 3, 1, 1, 2, 3, 3, 2, 2, 3, 3, 1, 2, 2, 3, 3, 1, 2, 3, 2, 1, 1, 1, 2, 3, 1, 1, 2, 1, 3, 2, 2, 3, 2, 2, 2, 3, 2, 2, 2, 2, 2, 1, 1, 3, 1, 2, 3, 2, 1, 3, 3, 3, 3, 2, 1, 1, 3, 2, 3, 2, 1, 1, 1, 2, 1, 3, 2, 2, 3, 3, 1, 3, 3, 2, 2, 3, 2, 3, 2, 1, 2, 3, 3, 3, 2, 3, 3, 3, 1, 1, 3, 2, 3, 1, 1, 2, 3, 3, 1, 3, 3, 3, 1, 1, 2, 3, 2, 2, 2, 3, 1, 3, 1, 2, 3, 2, 1, 1, 1, 1, 3, 1, 2, 3, 3, 3, 2, 1, 2, 1, 1, 1, 1, 2, 3, 1, 3, 3, 3, 1, 3, 2, 3, 2, 2, 1, 1, 3, 3, 3, 3, 2, 2, 1, 2, 1, 2, 2, 3, 2, 1, 2, 1, 1, 2, 3, 3, 1, 2, 1, 1, 1, 1, 2, 2, 1, 2, 1, 1, 2, 2, 3, 3, 1, 1, 1, 1, 3, 2, 2, 3, 3, 2, 1, 1, 3, 3, 3, 2, 3, 3, 1, 1, 1, 3, 1, 1, 2, 2, 2, 3, 2, 3, 3, 1, 3, 2, 3, 1, 2, 3, 1, 1, 2, 3, 3, 2, 1, 3, 1, 2, 3, 1, 3, 2, 3, 2, 1, 3, 2, 1, 3, 2, 3, 2, 2, 2, 3, 1, 2, 1, 3, 3, 1, 2, 3, 2, 1, 3, 1, 3, 1, 3, 2, 3, 2, 3, 1, 3, 1, 1, 1, 1, 3, 3, 1, 2, 3, 2, 3, 2, 3, 3, 2, 1, 1, 1, 3, 2, 2, 3, 3, 2, 3, 1, 2, 2, 3, 3, 1, 3, 1, 1, 2, 2, 2, 2, 3, 1, 3, 3, 1, 1, 1, 3, 1, 3, 3, 1, 3, 2, 2, 2, 2, 2, 2, 3, 1, 1, 3, 1, 1, 3, 3, 3, 3, 2, 2, 1, 1, 1, 3, 1, 1, 2, 1, 3, 1, 3, 1, 2, 2, 3, 3, 2, 3, 2, 3, 1, 3, 3, 1, 2, 3, 1, 3, 2, 2, 2, 3, 3, 2, 3, 2, 3, 1, 1, 1, 2, 1, 1, 3, 3, 1, 1, 2, 2, 1, 3, 3, 3, 2, 3, 2, 2, 3, 2, 3, 3, 1, 2, 1, 1, 3, 3, 3, 2, 1, 2, 3, 3, 1, 3, 1, 2, 3, 3, 2, 1, 1, 3, 2, 3, 1, 2, 3, 3, 3, 1, 2, 3, 1, 2, 3, 2, 1, 1, 2, 2, 2, 2, 1, 1, 3, 1, 2, 3, 1, 3, 3, 3, 2, 1, 2, 3, 2, 3, 2, 1, 3, 1, 3, 2, 3, 3, 2, 1, 1, 1, 1, 3, 3, 2, 3, 1, 1, 1, 1, 2, 2, 1, 2, 2, 1, 1, 2, 2, 1, 3, 3, 2, 2, 3, 3, 2, 3, 2, 1, 3, 3, 1, 3, 2, 3, 3, 2, 2, 3, 1, 1, 1, 3, 2, 2, 3, 1, 2, 3, 2, 1, 3, 3, 3, 1, 1, 1, 1, 1, 1, 2, 3, 1, 2, 3, 3, 1, 2, 2, 3, 3, 3, 1, 3, 2, 2, 1, 3, 1, 3, 3, 3, 3, 2, 1, 2, 2, 2, 3, 1, 2, 3, 2, 2, 2, 2, 2, 2, 1, 2, 3, 1, 1, 3, 1, 1, 3, 2, 1, 1, 3, 1, 1, 3, 2, 2, 3, 3, 1, 3, 2, 2, 2, 2, 2, 1, 2, 3, 3, 1, 2, 3, 3, 2, 1, 2, 3, 2, 2, 2, 2, 3, 3, 2, 2, 1, 2, 2, 2, 2, 3, 2, 2, 1, 1, 2, 3, 1, 2, 2, 3, 3, 1, 2, 3, 2, 2, 2, 1, 1, 1, 3, 1, 3, 2, 1, 3, 1, 1, 3, 3, 2, 1, 3, 2, 2, 3, 3, 1, 1, 3, 1, 1, 2, 1, 2, 2, 2, 1, 1, 3, 1, 1, 1, 1, 1, 2, 3, 2, 3, 3, 2, 2, 3, 1, 3, 1, 3, 2, 1, 3, 1, 2, 2, 1, 2, 3, 3, 2, 2, 3, 2, 3, 2, 1, 3, 1, 1, 2, 2, 1, 1, 1, 2, 2, 3, 3, 3, 3, 3, 2, 3, 1, 3, 2, 3, 1, 2, 1, 1, 1, 2, 2, 2, 2, 1, 2, 1, 2, 1, 3, 3, 2, 1, 3, 3, 1, 2, 3, 1, 2, 1, 1, 2, 2, 1, 3, 3, 2, 3, 1, 2, 1, 1, 3, 3, 1, 2, 3, 2, 1, 1, 1, 2, 3, 2, 2, 2, 1, 1, 3, 3, 2, 1, 3, 2, 2, 3, 2, 1, 2, 1, 2, 2, 2, 2, 2, 1, 3, 2, 3, 1, 1, 2, 2, 2, 1, 1, 2, 3, 2, 2, 2, 2, 1, 1, 3, 3, 2, 2, 2, 3, 1, 3, 1, 2, 1, 3, 1, 1, 3, 1, 2, 3, 3, 2, 2, 1, 1, 2, 2, 1, 1, 2, 2, 1, 1, 1, 1, 1, 2, 3, 2, 2, 2, 2, 3, 2, 1, 3, 3, 3, 3, 2, 3, 1, 2, 2, 1, 1, 1, 1, 1, 2, 3, 3, 2, 2, 2, 2, 3, 3, 1, 1, 1, 3, 3, 2, 1, 2, 3, 3, 2, 2, 1, 1, 1, 3, 3, 2, 3, 1, 2, 2, 3, 1, 2, 3, 3, 3, 3, 3, 1, 2, 2, 2, 2, 2, 3, 1, 2, 2, 2, 1, 1, 1, 1, 1, 1, 2, 3, 1, 3, 1, 2, 2, 1, 1, 2, 1, 3, 3, 2, 2, 1, 2, 2, 3, 2, 1, 3, 3, 2, 3, 1, 1, 1, 3, 1, 2, 2, 3, 2, 3, 3, 3, 1, 2, 1, 3, 2, 3, 3, 3, 3, 1, 3, 3, 3, 1, 3, 3, 2, 1, 3, 2, 2, 3, 2, 1, 2, 1, 2, 1, 2, 2, 2, 2, 2, 3, 3, 1, 1, 1, 1, 3, 3, 3, 2, 3, 2, 1, 1, 2, 2, 3, 1, 1, 2, 3, 1, 3, 3, 3, 3, 1, 1, 2, 2, 2, 3, 1, 3, 3, 1, 3, 3, 2, 2, 2, 3, 3, 1, 2, 1, 2, 1, 1, 1, 1, 2, 3, 3, 1, 2, 2, 2, 1, 3, 1, 1, 3, 3, 2, 1, 1, 1, 1, 1, 3, 1, 1, 1, 2, 1, 2, 1, 2, 1, 1, 3, 2, 2, 1, 2, 3, 1, 2, 1, 3, 1, 2, 1, 1, 1, 1, 2, 1, 3, 2, 1, 2, 2, 3, 1, 2, 2, 2, 1, 2, 2, 3, 3, 1, 1, 1, 3, 1, 3, 2, 2, 3, 1, 3, 3, 1, 3, 3, 2, 1, 1, 3, 2, 3, 3, 2, 2, 3, 1, 2, 2, 2, 3, 2, 1, 1, 2, 1, 2, 3, 3, 1, 2, 3, 2, 3, 2, 2, 1, 3, 2, 3, 2, 2, 3, 1, 3, 2, 1, 2, 3, 3, 3, 1, 3, 1, 3, 1, 2, 2, 1, 3, 3, 1, 3, 3, 1, 1, 2, 2, 1, 2, 3, 3, 3, 1, 3, 2, 2, 2, 2, 1, 2, 3, 2, 3, 2, 2, 3, 3, 3, 3, 2, 3, 1, 1, 3, 2, 3, 1, 3, 2, 1, 1, 1, 1, 3, 2, 1, 1, 3, 2, 2, 1, 2, 1, 3, 2, 1, 3, 3, 2, 2, 2, 3, 1, 2, 1, 1, 1, 1, 2, 1, 3, 1, 3, 2, 2, 1, 3, 1, 1, 2, 3, 2, 1, 2, 2, 1, 2, 1, 2, 1, 2, 2, 2, 1, 2, 2, 3, 1, 2, 3, 3, 2, 2, 1, 2, 2, 1, 1, 3, 3, 2, 2, 3, 1, 2, 2, 1, 3, 3, 1, 1, 3, 1, 1, 2, 2, 3, 3, 3, 3, 2, 1, 2, 2, 3, 2, 1, 3, 2, 1, 1, 1, 1, 1, 3, 2, 1, 1, 3, 2, 2, 2, 1, 2, 2, 2, 2, 1, 2, 1, 2, 3, 2, 2, 2, 3, 3, 1, 3, 3, 1, 2, 2, 3, 2, 1, 3, 3, 3, 2, 2, 1, 2, 2, 3, 3, 2, 3, 3, 1, 1, 3, 3, 2, 3, 2, 2, 1, 1, 2, 1, 1, 1, 2, 1, 1, 2, 1, 3, 1, 3, 1, 1, 1, 3, 2, 1, 1, 1, 3, 3, 1, 2, 1, 3, 3, 3, 3, 2, 3, 3, 1, 2, 2, 3, 1, 3, 2, 3, 2, 2, 1, 1, 3, 1, 2, 1, 1, 1, 2, 3, 3, 2, 2, 2, 1, 3, 3, 3, 1, 2, 3, 2, 3, 3, 3, 2, 3, 1, 3, 2, 2, 3, 2, 2, 2, 1, 3, 2, 3, 2, 2, 1, 1, 2, 2, 1, 3, 3, 2, 3, 2, 2, 2, 2, 2, 2, 1, 3, 3, 1, 2, 1, 2, 3, 3, 3, 3, 3, 2, 2, 2, 2, 1, 3, 2, 2, 1, 3, 2, 2, 1, 3, 3, 2, 2, 1, 3, 3, 2, 2, 3, 2, 1, 3, 2, 1, 3, 3, 2, 3, 2, 1, 1, 2, 3, 3, 3, 1, 1, 1, 1, 2, 3, 3, 3, 3, 1, 1, 2, 1, 3, 1, 2, 3, 2, 1, 3, 1, 2, 3, 3, 1, 3, 2, 2, 3, 3, 2, 2, 2, 2, 2, 1, 2, 1, 3, 3, 3, 3, 1, 3, 1, 1, 1, 3, 3, 2, 2, 1, 2, 3, 1, 2, 2, 2, 3, 3, 1, 3, 3, 1, 3, 2, 2, 3, 2, 3, 1, 2, 3, 2, 1, 1, 3, 3, 2, 1, 2, 3, 3, 1, 3, 1, 3, 3, 2, 2, 1, 3, 3, 2, 1, 2, 2, 2, 2, 2, 3, 3, 2, 2, 3, 1, 3, 1, 3, 3, 3, 1, 1, 2, 1, 3, 3, 1, 1, 3, 1, 2, 2, 3, 3, 2, 2, 1, 3, 3, 2, 3, 3, 3, 2, 3, 3, 1, 2, 1, 1, 3, 2, 1, 2, 3, 2, 3, 1, 3, 2, 3, 3, 1, 1, 3, 1, 2, 1, 1, 1, 2, 1, 2, 3, 2, 2, 3, 2, 3, 1, 2, 2, 1, 2, 1, 2, 2, 2, 2, 3, 2, 1, 3, 2, 2, 3, 1, 3, 2, 1, 1, 2, 2, 3, 1, 3, 2, 1, 3, 3, 1, 3, 1, 1, 3, 2, 1, 2, 3, 2, 2, 3, 1, 3, 3, 3, 3, 3, 3, 1, 3, 1, 2, 1, 3, 3, 2, 1, 3, 2, 3, 2, 3, 2, 2, 3, 1, 1, 1, 1, 1, 2, 2, 2, 3, 2, 3, 2, 2, 3, 2, 1, 2, 3, 1, 3, 3, 3, 1, 2, 2, 1, 2, 2, 1, 2, 2, 2, 1, 2, 1, 1, 1, 3, 2, 1, 2, 3, 2, 1, 3, 2, 2, 1, 1, 1, 1, 3, 1, 1, 1, 3, 3, 3, 1, 2, 1, 3, 2, 2, 1, 3, 2, 2, 2, 1, 3, 1, 2, 3, 3, 2, 2, 1, 3, 2, 1, 3, 2, 1, 2, 2, 2, 1, 3, 3, 1, 2, 3, 2, 2, 3, 2, 2, 2, 3, 2, 3, 1, 3, 2, 2, 2, 1, 2, 1, 3, 3, 2, 1, 1, 1, 3, 2, 2, 1, 3, 2, 3, 1, 3, 3, 3, 3, 3, 2, 3, 2, 2, 3, 3, 1, 2, 2, 2, 3, 1, 2, 2, 3, 3, 1, 1, 3, 2, 1, 1, 2, 3, 1, 2, 2, 1, 2, 3, 1, 1, 3, 2, 2, 1, 1, 3, 1, 2, 2, 3, 2, 3, 1, 3, 3, 3, 2, 2, 2, 3, 2, 1, 3, 1, 2, 3, 2, 3, 1, 3, 3, 3, 3, 3, 2, 1, 1, 1, 2, 2, 1, 3, 3, 3, 1, 2, 1, 2, 1, 3, 3, 3, 3, 2, 1, 1, 1, 2, 3, 1, 3, 1, 1, 3, 3, 2, 2, 2, 1, 3, 2, 1, 2, 2, 3, 3, 1, 3, 2, 1, 1, 3, 1, 2, 1, 1, 1, 3, 2, 3, 3, 3, 2, 2, 2, 3, 2, 2, 3, 3, 2, 2, 2, 3, 3, 2, 2, 2, 2, 2, 3, 1, 2, 2, 3, 2, 1, 2, 1, 1, 3, 1, 3, 1, 1, 1, 2, 1, 1, 3, 2, 2, 3, 2, 2, 1, 1, 3, 3, 1, 3, 1, 3, 3, 2, 2, 2, 3, 3, 1, 3, 3, 2, 1, 3, 3, 1, 1, 2, 3, 1, 2, 1, 2, 1, 2, 3, 2, 1, 3, 3, 1, 1, 2, 1, 3, 2, 3, 3, 1, 2, 1, 2, 3, 3, 3, 2, 2, 1, 3, 3, 2, 3, 3, 1, 2, 1, 1, 2, 2, 3, 1, 1, 3, 2, 3, 3, 3, 1, 3, 1, 1, 2, 1, 3, 1, 2, 2, 2, 3, 2, 2, 1, 1, 2, 1, 2, 3, 3, 3, 3, 1, 3, 3, 3, 1, 3, 3, 3, 1, 1, 3, 2, 2, 1, 3, 1, 3, 1, 2, 3, 2, 2, 3, 1, 1, 3, 1, 1, 1, 2, 3, 1, 3, 1, 2, 2, 3, 3, 3, 1, 2, 3, 3, 3, 2, 1, 3, 2, 3, 1, 2, 2, 1, 2, 1, 3, 3, 3, 2, 3, 1, 2, 3, 2, 1, 3, 2, 1, 3, 1, 3, 3, 1, 3, 2, 2, 2, 2, 3, 2, 3, 3, 3, 3, 3, 3, 3, 2, 2, 3, 3, 3, 2, 2, 2, 3, 1, 1, 2, 2, 2, 3, 1, 2, 2, 2, 3, 3, 2, 3, 2, 1, 2, 1, 2, 3, 2, 1, 1, 3, 3, 3, 3, 3, 2, 3, 1, 2, 2, 2, 1, 1, 1, 1, 1, 2, 1, 3, 2, 2, 1, 3, 2, 2, 3, 3, 1, 3, 3, 1, 1, 3, 3, 1, 3, 2, 3, 1, 3, 3, 3, 1, 2, 3, 3, 1, 3, 1, 1, 2, 1, 2, 1, 2, 1, 3, 2, 2, 1, 1, 3, 2, 2, 2, 2, 2, 2, 1, 2, 3, 2, 2, 3, 3, 1, 2, 3, 1, 1, 3, 3, 3, 3, 3, 2, 3, 3, 2, 3, 3, 1, 2, 1, 1, 3, 3, 3, 2, 3, 3, 2, 1, 1, 1, 2, 2, 1, 1, 1, 2, 3, 1, 2, 2, 3, 1, 3, 3, 1, 1, 1, 3, 3, 1, 3, 3, 3, 1, 3, 2, 3, 1, 3, 3, 3, 1, 3, 3, 2, 3, 1, 1, 1, 3, 2, 1, 3, 3, 2, 3, 1, 1, 3, 3, 2, 1, 1, 2, 1, 1, 3, 3, 2, 3, 1, 1, 2, 2, 2, 3, 1, 1, 2, 1, 1, 3, 1, 2, 3, 1, 2, 1, 3, 3, 3, 1, 2, 3, 1, 1, 1, 3, 2, 1, 3, 3, 1, 2, 1, 3, 3, 1, 2, 2, 3, 2, 3, 3, 2, 1, 2, 3, 1, 3, 2, 3, 1, 1, 1, 1, 3, 3, 3, 3, 1, 1, 1, 3, 2, 1, 3, 2, 3, 2, 2]0.3387"
     ]
    }
   ],
   "source": [
    "using Flux\n",
    "display(ZB)\n",
    "display(dbb.Z)\n",
    "display(G)\n",
    "show(Flux.onecold(ZApred))\n",
    "show(accuracy(Flux.onecold(ZApred), dba.Z))\n"
   ]
  },
  {
   "cell_type": "code",
   "execution_count": 67,
   "id": "3a4ef9d3",
   "metadata": {},
   "outputs": [
    {
     "data": {
      "text/plain": [
       "10×10 Matrix{Float64}:\n",
       " 0.0  0.0  0.0  0.0  0.0  0.0  0.0  0.0  0.0  0.1\n",
       " 0.0  0.0  0.0  0.0  0.0  0.0  0.0  0.0  0.1  0.0\n",
       " 0.1  0.0  0.0  0.0  0.0  0.0  0.0  0.0  0.0  0.0\n",
       " 0.0  0.0  0.0  0.0  0.0  0.1  0.0  0.0  0.0  0.0\n",
       " 0.0  0.0  0.0  0.1  0.0  0.0  0.0  0.0  0.0  0.0\n",
       " 0.0  0.0  0.0  0.0  0.0  0.0  0.1  0.0  0.0  0.0\n",
       " 0.0  0.0  0.1  0.0  0.0  0.0  0.0  0.0  0.0  0.0\n",
       " 0.0  0.0  0.0  0.0  0.0  0.0  0.0  0.1  0.0  0.0\n",
       " 0.0  0.1  0.0  0.0  0.0  0.0  0.0  0.0  0.0  0.0\n",
       " 0.0  0.0  0.0  0.0  0.1  0.0  0.0  0.0  0.0  0.0"
      ]
     },
     "metadata": {},
     "output_type": "display_data"
    },
    {
     "data": {
      "text/plain": [
       "10×10 adjoint(::Matrix{Float64}) with eltype Float64:\n",
       " 0.0  0.0  0.1  0.0  0.0  0.0  0.0  0.0  0.0  0.0\n",
       " 0.0  0.0  0.0  0.0  0.0  0.0  0.0  0.0  0.1  0.0\n",
       " 0.0  0.0  0.0  0.0  0.0  0.0  0.1  0.0  0.0  0.0\n",
       " 0.0  0.0  0.0  0.0  0.1  0.0  0.0  0.0  0.0  0.0\n",
       " 0.0  0.0  0.0  0.0  0.0  0.0  0.0  0.0  0.0  0.1\n",
       " 0.0  0.0  0.0  0.1  0.0  0.0  0.0  0.0  0.0  0.0\n",
       " 0.0  0.0  0.0  0.0  0.0  0.1  0.0  0.0  0.0  0.0\n",
       " 0.0  0.0  0.0  0.0  0.0  0.0  0.0  0.1  0.0  0.0\n",
       " 0.0  0.1  0.0  0.0  0.0  0.0  0.0  0.0  0.0  0.0\n",
       " 0.1  0.0  0.0  0.0  0.0  0.0  0.0  0.0  0.0  0.0"
      ]
     },
     "metadata": {},
     "output_type": "display_data"
    },
    {
     "data": {
      "text/plain": [
       "10-element Vector{Int64}:\n",
       " 3\n",
       " 1\n",
       " 2\n",
       " 1\n",
       " 3\n",
       " 2\n",
       " 2\n",
       " 1\n",
       " 1\n",
       " 3"
      ]
     },
     "metadata": {},
     "output_type": "display_data"
    },
    {
     "data": {
      "text/plain": [
       "10-element Vector{Int64}:\n",
       " 3\n",
       " 2\n",
       " 1\n",
       " 3\n",
       " 2\n",
       " 3\n",
       " 3\n",
       " 2\n",
       " 2\n",
       " 1"
      ]
     },
     "metadata": {},
     "output_type": "display_data"
    }
   ],
   "source": [
    "display(G)\n",
    "display(G')\n",
    "display(dbb.Z)\n",
    "display(dba.Z)"
   ]
  }
 ],
 "metadata": {
  "kernelspec": {
   "display_name": "Julia 1.11.6",
   "language": "julia",
   "name": "julia-1.11"
  },
  "language_info": {
   "file_extension": ".jl",
   "mimetype": "application/julia",
   "name": "julia",
   "version": "1.11.6"
  }
 },
 "nbformat": 4,
 "nbformat_minor": 5
}
