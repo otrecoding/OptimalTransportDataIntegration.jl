{
 "cells": [
  {
   "cell_type": "code",
   "execution_count": 46,
   "id": "a654b447",
   "metadata": {},
   "outputs": [],
   "source": [
    "using OptimalTransportDataIntegration\n",
    "using Distributions\n",
    "using DocStringExtensions\n",
    "using Parameters\n",
    "using Printf\n",
    "using DataFrames\n",
    "using Flux\n",
    "using Plots"
   ]
  },
  {
   "cell_type": "code",
   "execution_count": 47,
   "id": "603fc875",
   "metadata": {},
   "outputs": [
    {
     "name": "stderr",
     "output_type": "stream",
     "text": [
      "┌ Info: Categories in YA OrderedCollections.OrderedDict(1 => 263, 2 => 269, 3 => 217, 4 => 251)\n",
      "└ @ OptimalTransportDataIntegration c:\\Users\\vgares\\Documents\\GitHub\\OptimalTransportDataIntegration.jl\\src\\generate_continuous_data.jl:124\n",
      "┌ Info: Categories in ZA OrderedCollections.OrderedDict(1 => 352, 2 => 335, 3 => 313)\n",
      "└ @ OptimalTransportDataIntegration c:\\Users\\vgares\\Documents\\GitHub\\OptimalTransportDataIntegration.jl\\src\\generate_continuous_data.jl:125\n",
      "┌ Info: Categories in YB OrderedCollections.OrderedDict(1 => 248, 2 => 262, 3 => 258, 4 => 232)\n",
      "└ @ OptimalTransportDataIntegration c:\\Users\\vgares\\Documents\\GitHub\\OptimalTransportDataIntegration.jl\\src\\generate_continuous_data.jl:126\n",
      "┌ Info: Categories in ZB OrderedCollections.OrderedDict(1 => 328, 2 => 366, 3 => 306)\n",
      "└ @ OptimalTransportDataIntegration c:\\Users\\vgares\\Documents\\GitHub\\OptimalTransportDataIntegration.jl\\src\\generate_continuous_data.jl:127\n"
     ]
    },
    {
     "data": {
      "text/html": [
       "<div><div style = \"float: left;\"><span>2000×4 DataFrame</span></div><div style = \"float: right;\"><span style = \"font-style: italic;\">1975 rows omitted</span></div><div style = \"clear: both;\"></div></div><div class = \"data-frame\" style = \"overflow-x: scroll;\"><table class = \"data-frame\" style = \"margin-bottom: 6px;\"><thead><tr class = \"header\"><th class = \"rowNumber\" style = \"font-weight: bold; text-align: right;\">Row</th><th style = \"text-align: left;\">X1</th><th style = \"text-align: left;\">Y</th><th style = \"text-align: left;\">Z</th><th style = \"text-align: left;\">database</th></tr><tr class = \"subheader headerLastRow\"><th class = \"rowNumber\" style = \"font-weight: bold; text-align: right;\"></th><th title = \"Float64\" style = \"text-align: left;\">Float64</th><th title = \"Int64\" style = \"text-align: left;\">Int64</th><th title = \"Int64\" style = \"text-align: left;\">Int64</th><th title = \"Int64\" style = \"text-align: left;\">Int64</th></tr></thead><tbody><tr><td class = \"rowNumber\" style = \"font-weight: bold; text-align: right;\">1</td><td style = \"text-align: right;\">-0.0429876</td><td style = \"text-align: right;\">2</td><td style = \"text-align: right;\">1</td><td style = \"text-align: right;\">1</td></tr><tr><td class = \"rowNumber\" style = \"font-weight: bold; text-align: right;\">2</td><td style = \"text-align: right;\">0.322238</td><td style = \"text-align: right;\">3</td><td style = \"text-align: right;\">2</td><td style = \"text-align: right;\">1</td></tr><tr><td class = \"rowNumber\" style = \"font-weight: bold; text-align: right;\">3</td><td style = \"text-align: right;\">0.916817</td><td style = \"text-align: right;\">4</td><td style = \"text-align: right;\">3</td><td style = \"text-align: right;\">1</td></tr><tr><td class = \"rowNumber\" style = \"font-weight: bold; text-align: right;\">4</td><td style = \"text-align: right;\">1.07351</td><td style = \"text-align: right;\">4</td><td style = \"text-align: right;\">3</td><td style = \"text-align: right;\">1</td></tr><tr><td class = \"rowNumber\" style = \"font-weight: bold; text-align: right;\">5</td><td style = \"text-align: right;\">0.217659</td><td style = \"text-align: right;\">2</td><td style = \"text-align: right;\">2</td><td style = \"text-align: right;\">1</td></tr><tr><td class = \"rowNumber\" style = \"font-weight: bold; text-align: right;\">6</td><td style = \"text-align: right;\">-0.743868</td><td style = \"text-align: right;\">2</td><td style = \"text-align: right;\">1</td><td style = \"text-align: right;\">1</td></tr><tr><td class = \"rowNumber\" style = \"font-weight: bold; text-align: right;\">7</td><td style = \"text-align: right;\">0.702323</td><td style = \"text-align: right;\">3</td><td style = \"text-align: right;\">3</td><td style = \"text-align: right;\">1</td></tr><tr><td class = \"rowNumber\" style = \"font-weight: bold; text-align: right;\">8</td><td style = \"text-align: right;\">2.39674</td><td style = \"text-align: right;\">4</td><td style = \"text-align: right;\">3</td><td style = \"text-align: right;\">1</td></tr><tr><td class = \"rowNumber\" style = \"font-weight: bold; text-align: right;\">9</td><td style = \"text-align: right;\">-0.850593</td><td style = \"text-align: right;\">1</td><td style = \"text-align: right;\">1</td><td style = \"text-align: right;\">1</td></tr><tr><td class = \"rowNumber\" style = \"font-weight: bold; text-align: right;\">10</td><td style = \"text-align: right;\">-1.08774</td><td style = \"text-align: right;\">1</td><td style = \"text-align: right;\">1</td><td style = \"text-align: right;\">1</td></tr><tr><td class = \"rowNumber\" style = \"font-weight: bold; text-align: right;\">11</td><td style = \"text-align: right;\">0.708905</td><td style = \"text-align: right;\">4</td><td style = \"text-align: right;\">3</td><td style = \"text-align: right;\">1</td></tr><tr><td class = \"rowNumber\" style = \"font-weight: bold; text-align: right;\">12</td><td style = \"text-align: right;\">-0.119401</td><td style = \"text-align: right;\">2</td><td style = \"text-align: right;\">2</td><td style = \"text-align: right;\">1</td></tr><tr><td class = \"rowNumber\" style = \"font-weight: bold; text-align: right;\">13</td><td style = \"text-align: right;\">-0.226103</td><td style = \"text-align: right;\">1</td><td style = \"text-align: right;\">1</td><td style = \"text-align: right;\">1</td></tr><tr><td style = \"text-align: right;\">&vellip;</td><td style = \"text-align: right;\">&vellip;</td><td style = \"text-align: right;\">&vellip;</td><td style = \"text-align: right;\">&vellip;</td><td style = \"text-align: right;\">&vellip;</td></tr><tr><td class = \"rowNumber\" style = \"font-weight: bold; text-align: right;\">1989</td><td style = \"text-align: right;\">5.13431</td><td style = \"text-align: right;\">4</td><td style = \"text-align: right;\">3</td><td style = \"text-align: right;\">2</td></tr><tr><td class = \"rowNumber\" style = \"font-weight: bold; text-align: right;\">1990</td><td style = \"text-align: right;\">4.72849</td><td style = \"text-align: right;\">3</td><td style = \"text-align: right;\">2</td><td style = \"text-align: right;\">2</td></tr><tr><td class = \"rowNumber\" style = \"font-weight: bold; text-align: right;\">1991</td><td style = \"text-align: right;\">1.86307</td><td style = \"text-align: right;\">1</td><td style = \"text-align: right;\">1</td><td style = \"text-align: right;\">2</td></tr><tr><td class = \"rowNumber\" style = \"font-weight: bold; text-align: right;\">1992</td><td style = \"text-align: right;\">5.73957</td><td style = \"text-align: right;\">4</td><td style = \"text-align: right;\">3</td><td style = \"text-align: right;\">2</td></tr><tr><td class = \"rowNumber\" style = \"font-weight: bold; text-align: right;\">1993</td><td style = \"text-align: right;\">4.96354</td><td style = \"text-align: right;\">4</td><td style = \"text-align: right;\">3</td><td style = \"text-align: right;\">2</td></tr><tr><td class = \"rowNumber\" style = \"font-weight: bold; text-align: right;\">1994</td><td style = \"text-align: right;\">4.84263</td><td style = \"text-align: right;\">3</td><td style = \"text-align: right;\">2</td><td style = \"text-align: right;\">2</td></tr><tr><td class = \"rowNumber\" style = \"font-weight: bold; text-align: right;\">1995</td><td style = \"text-align: right;\">3.92726</td><td style = \"text-align: right;\">3</td><td style = \"text-align: right;\">2</td><td style = \"text-align: right;\">2</td></tr><tr><td class = \"rowNumber\" style = \"font-weight: bold; text-align: right;\">1996</td><td style = \"text-align: right;\">4.62811</td><td style = \"text-align: right;\">3</td><td style = \"text-align: right;\">2</td><td style = \"text-align: right;\">2</td></tr><tr><td class = \"rowNumber\" style = \"font-weight: bold; text-align: right;\">1997</td><td style = \"text-align: right;\">3.93925</td><td style = \"text-align: right;\">2</td><td style = \"text-align: right;\">2</td><td style = \"text-align: right;\">2</td></tr><tr><td class = \"rowNumber\" style = \"font-weight: bold; text-align: right;\">1998</td><td style = \"text-align: right;\">4.66018</td><td style = \"text-align: right;\">4</td><td style = \"text-align: right;\">3</td><td style = \"text-align: right;\">2</td></tr><tr><td class = \"rowNumber\" style = \"font-weight: bold; text-align: right;\">1999</td><td style = \"text-align: right;\">2.49746</td><td style = \"text-align: right;\">1</td><td style = \"text-align: right;\">1</td><td style = \"text-align: right;\">2</td></tr><tr><td class = \"rowNumber\" style = \"font-weight: bold; text-align: right;\">2000</td><td style = \"text-align: right;\">4.23296</td><td style = \"text-align: right;\">3</td><td style = \"text-align: right;\">2</td><td style = \"text-align: right;\">2</td></tr></tbody></table></div>"
      ],
      "text/latex": [
       "\\begin{tabular}{r|cccc}\n",
       "\t& X1 & Y & Z & database\\\\\n",
       "\t\\hline\n",
       "\t& Float64 & Int64 & Int64 & Int64\\\\\n",
       "\t\\hline\n",
       "\t1 & -0.0429876 & 2 & 1 & 1 \\\\\n",
       "\t2 & 0.322238 & 3 & 2 & 1 \\\\\n",
       "\t3 & 0.916817 & 4 & 3 & 1 \\\\\n",
       "\t4 & 1.07351 & 4 & 3 & 1 \\\\\n",
       "\t5 & 0.217659 & 2 & 2 & 1 \\\\\n",
       "\t6 & -0.743868 & 2 & 1 & 1 \\\\\n",
       "\t7 & 0.702323 & 3 & 3 & 1 \\\\\n",
       "\t8 & 2.39674 & 4 & 3 & 1 \\\\\n",
       "\t9 & -0.850593 & 1 & 1 & 1 \\\\\n",
       "\t10 & -1.08774 & 1 & 1 & 1 \\\\\n",
       "\t11 & 0.708905 & 4 & 3 & 1 \\\\\n",
       "\t12 & -0.119401 & 2 & 2 & 1 \\\\\n",
       "\t13 & -0.226103 & 1 & 1 & 1 \\\\\n",
       "\t14 & -1.04238 & 1 & 1 & 1 \\\\\n",
       "\t15 & 0.460915 & 3 & 3 & 1 \\\\\n",
       "\t16 & 0.763224 & 3 & 3 & 1 \\\\\n",
       "\t17 & 1.35461 & 4 & 3 & 1 \\\\\n",
       "\t18 & 0.629415 & 4 & 3 & 1 \\\\\n",
       "\t19 & 0.862121 & 3 & 2 & 1 \\\\\n",
       "\t20 & -1.41167 & 1 & 1 & 1 \\\\\n",
       "\t21 & 0.196382 & 3 & 2 & 1 \\\\\n",
       "\t22 & 0.0569288 & 3 & 2 & 1 \\\\\n",
       "\t23 & 0.887322 & 4 & 3 & 1 \\\\\n",
       "\t24 & -1.31824 & 1 & 1 & 1 \\\\\n",
       "\t$\\dots$ & $\\dots$ & $\\dots$ & $\\dots$ & $\\dots$ \\\\\n",
       "\\end{tabular}\n"
      ],
      "text/plain": [
       "\u001b[1m2000×4 DataFrame\u001b[0m\n",
       "\u001b[1m  Row \u001b[0m│\u001b[1m X1         \u001b[0m\u001b[1m Y     \u001b[0m\u001b[1m Z     \u001b[0m\u001b[1m database \u001b[0m\n",
       "      │\u001b[90m Float64    \u001b[0m\u001b[90m Int64 \u001b[0m\u001b[90m Int64 \u001b[0m\u001b[90m Int64    \u001b[0m\n",
       "──────┼────────────────────────────────────\n",
       "    1 │ -0.0429876      2      1         1\n",
       "    2 │  0.322238       3      2         1\n",
       "    3 │  0.916817       4      3         1\n",
       "    4 │  1.07351        4      3         1\n",
       "    5 │  0.217659       2      2         1\n",
       "    6 │ -0.743868       2      1         1\n",
       "    7 │  0.702323       3      3         1\n",
       "    8 │  2.39674        4      3         1\n",
       "  ⋮   │     ⋮         ⋮      ⋮       ⋮\n",
       " 1994 │  4.84263        3      2         2\n",
       " 1995 │  3.92726        3      2         2\n",
       " 1996 │  4.62811        3      2         2\n",
       " 1997 │  3.93925        2      2         2\n",
       " 1998 │  4.66018        4      3         2\n",
       " 1999 │  2.49746        1      1         2\n",
       " 2000 │  4.23296        3      2         2\n",
       "\u001b[36m                          1985 rows omitted\u001b[0m"
      ]
     },
     "metadata": {},
     "output_type": "display_data"
    }
   ],
   "source": [
    "params = DataParameters(nA = 1000,\n",
    "    nB = 1000,\n",
    "    mA = [0.0],\n",
    "    mB = [4.0],\n",
    "    covA = ones(1,1),\n",
    "    covB = ones(1,1),\n",
    "    aA = [1.0],\n",
    "    aB = [1.0],\n",
    "    r2 = 0.9)\n",
    " \n",
    "rng = ContinuousDataGenerator(params; scenario = 2)\n",
    "data = generate(rng)"
   ]
  },
  {
   "cell_type": "code",
   "execution_count": 48,
   "id": "55948463",
   "metadata": {},
   "outputs": [
    {
     "data": {
      "text/plain": [
       "1×1000 Matrix{Float64}:\n",
       " 5.0  3.0  4.0  5.0  5.0  4.0  5.0  5.0  …  5.0  4.0  5.0  4.0  5.0  2.0  4.0"
      ]
     },
     "metadata": {},
     "output_type": "display_data"
    }
   ],
   "source": [
    "dba = subset(data, :database => ByRow(==(1)))\n",
    "dbb = subset(data, :database => ByRow(==(2)))\n",
    "\n",
    "\n",
    "cols = names(dba, r\"^X\")   \n",
    "\n",
    "XA = transpose(Matrix(dba[:, cols]))\n",
    "XB = transpose(Matrix(dbb[:, cols]))\n",
    "\n",
    "XAi = round.(XA)\n",
    "XBj = round.(XB)"
   ]
  },
  {
   "cell_type": "code",
   "execution_count": 117,
   "id": "d3aa94ae",
   "metadata": {},
   "outputs": [
    {
     "data": {
      "text/plain": [
       "1×10 transpose(::Matrix{Float64}) with eltype Float64:\n",
       " 2.94438  4.66342  4.1699  2.81765  …  4.72449  5.46386  2.99034  4.40834"
      ]
     },
     "metadata": {},
     "output_type": "display_data"
    }
   ],
   "source": [
    "XA\n",
    "XB"
   ]
  },
  {
   "cell_type": "code",
   "execution_count": 16,
   "id": "9a30c840",
   "metadata": {},
   "outputs": [
    {
     "data": {
      "image/png": "[encoded data removed]",
      "image/svg+xml": [
       "<?xml version=\"1.0\" encoding=\"utf-8\"?>\n",
       "<svg xmlns=\"http://www.w3.org/2000/svg\" xmlns:xlink=\"http://www.w3.org/1999/xlink\" width=\"600\" height=\"400\" viewBox=\"0 0 2400 1600\">\n",
       "<defs>\n",
       "  <clipPath id=\"clip530\">\n",
       "    <rect x=\"0\" y=\"0\" width=\"2400\" height=\"1600\"/>\n",
       "  </clipPath>\n",
       "</defs>\n",
       "<path clip-path=\"url(#clip530)\" d=\"M0 1600 L2400 1600 L2400 0 L0 0  Z\" fill=\"#ffffff\" fill-rule=\"evenodd\" fill-opacity=\"1\"/>\n",
       "<defs>\n",
       "  <clipPath id=\"clip531\">\n",
       "    <rect x=\"480\" y=\"0\" width=\"1681\" height=\"1600\"/>\n",
       "  </clipPath>\n",
       "</defs>\n",
       "<path clip-path=\"url(#clip530)\" d=\"M219.38 1423.18 L1152.76 1423.18 L1152.76 123.472 L219.38 123.472  Z\" fill=\"#ffffff\" fill-rule=\"evenodd\" fill-opacity=\"1\"/>\n",
       "<defs>\n",
       "  <clipPath id=\"clip532\">\n",
       "    <rect x=\"219\" y=\"123\" width=\"934\" height=\"1301\"/>\n",
       "  </clipPath>\n",
       "</defs>\n",
       "<polyline clip-path=\"url(#clip532)\" style=\"stroke:#000000; stroke-linecap:round; stroke-linejoin:round; stroke-width:2; stroke-opacity:0.1; fill:none\" points=\"305.33,1423.18 305.33,123.472 \"/>\n",
       "<polyline clip-path=\"url(#clip532)\" style=\"stroke:#000000; stroke-linecap:round; stroke-linejoin:round; stroke-width:2; stroke-opacity:0.1; fill:none\" points=\"478.393,1423.18 478.393,123.472 \"/>\n",
       "<polyline clip-path=\"url(#clip532)\" style=\"stroke:#000000; stroke-linecap:round; stroke-linejoin:round; stroke-width:2; stroke-opacity:0.1; fill:none\" points=\"651.455,1423.18 651.455,123.472 \"/>\n",
       "<polyline clip-path=\"url(#clip532)\" style=\"stroke:#000000; stroke-linecap:round; stroke-linejoin:round; stroke-width:2; stroke-opacity:0.1; fill:none\" points=\"824.518,1423.18 824.518,123.472 \"/>\n",
       "<polyline clip-path=\"url(#clip532)\" style=\"stroke:#000000; stroke-linecap:round; stroke-linejoin:round; stroke-width:2; stroke-opacity:0.1; fill:none\" points=\"997.581,1423.18 997.581,123.472 \"/>\n",
       "<polyline clip-path=\"url(#clip532)\" style=\"stroke:#000000; stroke-linecap:round; stroke-linejoin:round; stroke-width:2; stroke-opacity:0.1; fill:none\" points=\"219.38,1423.18 1152.76,1423.18 \"/>\n",
       "<polyline clip-path=\"url(#clip532)\" style=\"stroke:#000000; stroke-linecap:round; stroke-linejoin:round; stroke-width:2; stroke-opacity:0.1; fill:none\" points=\"219.38,1098.25 1152.76,1098.25 \"/>\n",
       "<polyline clip-path=\"url(#clip532)\" style=\"stroke:#000000; stroke-linecap:round; stroke-linejoin:round; stroke-width:2; stroke-opacity:0.1; fill:none\" points=\"219.38,773.326 1152.76,773.326 \"/>\n",
       "<polyline clip-path=\"url(#clip532)\" style=\"stroke:#000000; stroke-linecap:round; stroke-linejoin:round; stroke-width:2; stroke-opacity:0.1; fill:none\" points=\"219.38,448.399 1152.76,448.399 \"/>\n",
       "<polyline clip-path=\"url(#clip532)\" style=\"stroke:#000000; stroke-linecap:round; stroke-linejoin:round; stroke-width:2; stroke-opacity:0.1; fill:none\" points=\"219.38,123.472 1152.76,123.472 \"/>\n",
       "<polyline clip-path=\"url(#clip530)\" style=\"stroke:#000000; stroke-linecap:round; stroke-linejoin:round; stroke-width:4; stroke-opacity:1; fill:none\" points=\"219.38,1423.18 1152.76,1423.18 \"/>\n",
       "<polyline clip-path=\"url(#clip530)\" style=\"stroke:#000000; stroke-linecap:round; stroke-linejoin:round; stroke-width:4; stroke-opacity:1; fill:none\" points=\"305.33,1423.18 305.33,1404.28 \"/>\n",
       "<polyline clip-path=\"url(#clip530)\" style=\"stroke:#000000; stroke-linecap:round; stroke-linejoin:round; stroke-width:4; stroke-opacity:1; fill:none\" points=\"478.393,1423.18 478.393,1404.28 \"/>\n",
       "<polyline clip-path=\"url(#clip530)\" style=\"stroke:#000000; stroke-linecap:round; stroke-linejoin:round; stroke-width:4; stroke-opacity:1; fill:none\" points=\"651.455,1423.18 651.455,1404.28 \"/>\n",
       "<polyline clip-path=\"url(#clip530)\" style=\"stroke:#000000; stroke-linecap:round; stroke-linejoin:round; stroke-width:4; stroke-opacity:1; fill:none\" points=\"824.518,1423.18 824.518,1404.28 \"/>\n",
       "<polyline clip-path=\"url(#clip530)\" style=\"stroke:#000000; stroke-linecap:round; stroke-linejoin:round; stroke-width:4; stroke-opacity:1; fill:none\" points=\"997.581,1423.18 997.581,1404.28 \"/>\n",
       "<path clip-path=\"url(#clip530)\" d=\"M252.356 1468.75 L282.032 1468.75 L282.032 1472.69 L252.356 1472.69 L252.356 1468.75 Z\" fill=\"#000000\" fill-rule=\"nonzero\" fill-opacity=\"1\" /><path clip-path=\"url(#clip530)\" d=\"M302.124 1454.1 Q298.513 1454.1 296.684 1457.66 Q294.879 1461.2 294.879 1468.33 Q294.879 1475.44 296.684 1479.01 Q298.513 1482.55 302.124 1482.55 Q305.758 1482.55 307.564 1479.01 Q309.393 1475.44 309.393 1468.33 Q309.393 1461.2 307.564 1457.66 Q305.758 1454.1 302.124 1454.1 M302.124 1450.39 Q307.934 1450.39 310.99 1455 Q314.068 1459.58 314.068 1468.33 Q314.068 1477.06 310.99 1481.67 Q307.934 1486.25 302.124 1486.25 Q296.314 1486.25 293.235 1481.67 Q290.18 1477.06 290.18 1468.33 Q290.18 1459.58 293.235 1455 Q296.314 1450.39 302.124 1450.39 Z\" fill=\"#000000\" fill-rule=\"nonzero\" fill-opacity=\"1\" /><path clip-path=\"url(#clip530)\" d=\"M322.286 1479.7 L327.17 1479.7 L327.17 1485.58 L322.286 1485.58 L322.286 1479.7 Z\" fill=\"#000000\" fill-rule=\"nonzero\" fill-opacity=\"1\" /><path clip-path=\"url(#clip530)\" d=\"M337.402 1451.02 L355.758 1451.02 L355.758 1454.96 L341.684 1454.96 L341.684 1463.43 Q342.703 1463.08 343.721 1462.92 Q344.74 1462.73 345.758 1462.73 Q351.545 1462.73 354.925 1465.9 Q358.304 1469.08 358.304 1474.49 Q358.304 1480.07 354.832 1483.17 Q351.36 1486.25 345.04 1486.25 Q342.865 1486.25 340.596 1485.88 Q338.351 1485.51 335.943 1484.77 L335.943 1480.07 Q338.027 1481.2 340.249 1481.76 Q342.471 1482.32 344.948 1482.32 Q348.952 1482.32 351.29 1480.21 Q353.628 1478.1 353.628 1474.49 Q353.628 1470.88 351.29 1468.77 Q348.952 1466.67 344.948 1466.67 Q343.073 1466.67 341.198 1467.08 Q339.346 1467.5 337.402 1468.38 L337.402 1451.02 Z\" fill=\"#000000\" fill-rule=\"nonzero\" fill-opacity=\"1\" /><path clip-path=\"url(#clip530)\" d=\"M455.777 1454.1 Q452.166 1454.1 450.337 1457.66 Q448.532 1461.2 448.532 1468.33 Q448.532 1475.44 450.337 1479.01 Q452.166 1482.55 455.777 1482.55 Q459.411 1482.55 461.217 1479.01 Q463.046 1475.44 463.046 1468.33 Q463.046 1461.2 461.217 1457.66 Q459.411 1454.1 455.777 1454.1 M455.777 1450.39 Q461.587 1450.39 464.643 1455 Q467.722 1459.58 467.722 1468.33 Q467.722 1477.06 464.643 1481.67 Q461.587 1486.25 455.777 1486.25 Q449.967 1486.25 446.888 1481.67 Q443.833 1477.06 443.833 1468.33 Q443.833 1459.58 446.888 1455 Q449.967 1450.39 455.777 1450.39 Z\" fill=\"#000000\" fill-rule=\"nonzero\" fill-opacity=\"1\" /><path clip-path=\"url(#clip530)\" d=\"M475.939 1479.7 L480.823 1479.7 L480.823 1485.58 L475.939 1485.58 L475.939 1479.7 Z\" fill=\"#000000\" fill-rule=\"nonzero\" fill-opacity=\"1\" /><path clip-path=\"url(#clip530)\" d=\"M501.008 1454.1 Q497.397 1454.1 495.569 1457.66 Q493.763 1461.2 493.763 1468.33 Q493.763 1475.44 495.569 1479.01 Q497.397 1482.55 501.008 1482.55 Q504.643 1482.55 506.448 1479.01 Q508.277 1475.44 508.277 1468.33 Q508.277 1461.2 506.448 1457.66 Q504.643 1454.1 501.008 1454.1 M501.008 1450.39 Q506.819 1450.39 509.874 1455 Q512.953 1459.58 512.953 1468.33 Q512.953 1477.06 509.874 1481.67 Q506.819 1486.25 501.008 1486.25 Q495.198 1486.25 492.12 1481.67 Q489.064 1477.06 489.064 1468.33 Q489.064 1459.58 492.12 1455 Q495.198 1450.39 501.008 1450.39 Z\" fill=\"#000000\" fill-rule=\"nonzero\" fill-opacity=\"1\" /><path clip-path=\"url(#clip530)\" d=\"M629.338 1454.1 Q625.726 1454.1 623.898 1457.66 Q622.092 1461.2 622.092 1468.33 Q622.092 1475.44 623.898 1479.01 Q625.726 1482.55 629.338 1482.55 Q632.972 1482.55 634.777 1479.01 Q636.606 1475.44 636.606 1468.33 Q636.606 1461.2 634.777 1457.66 Q632.972 1454.1 629.338 1454.1 M629.338 1450.39 Q635.148 1450.39 638.203 1455 Q641.282 1459.58 641.282 1468.33 Q641.282 1477.06 638.203 1481.67 Q635.148 1486.25 629.338 1486.25 Q623.527 1486.25 620.449 1481.67 Q617.393 1477.06 617.393 1468.33 Q617.393 1459.58 620.449 1455 Q623.527 1450.39 629.338 1450.39 Z\" fill=\"#000000\" fill-rule=\"nonzero\" fill-opacity=\"1\" /><path clip-path=\"url(#clip530)\" d=\"M649.499 1479.7 L654.384 1479.7 L654.384 1485.58 L649.499 1485.58 L649.499 1479.7 Z\" fill=\"#000000\" fill-rule=\"nonzero\" fill-opacity=\"1\" /><path clip-path=\"url(#clip530)\" d=\"M664.615 1451.02 L682.972 1451.02 L682.972 1454.96 L668.898 1454.96 L668.898 1463.43 Q669.916 1463.08 670.935 1462.92 Q671.953 1462.73 672.972 1462.73 Q678.759 1462.73 682.138 1465.9 Q685.518 1469.08 685.518 1474.49 Q685.518 1480.07 682.046 1483.17 Q678.573 1486.25 672.254 1486.25 Q670.078 1486.25 667.81 1485.88 Q665.564 1485.51 663.157 1484.77 L663.157 1480.07 Q665.24 1481.2 667.462 1481.76 Q669.685 1482.32 672.161 1482.32 Q676.166 1482.32 678.504 1480.21 Q680.842 1478.1 680.842 1474.49 Q680.842 1470.88 678.504 1468.77 Q676.166 1466.67 672.161 1466.67 Q670.286 1466.67 668.411 1467.08 Q666.56 1467.5 664.615 1468.38 L664.615 1451.02 Z\" fill=\"#000000\" fill-rule=\"nonzero\" fill-opacity=\"1\" /><path clip-path=\"url(#clip530)\" d=\"M791.671 1481.64 L799.31 1481.64 L799.31 1455.28 L791 1456.95 L791 1452.69 L799.264 1451.02 L803.94 1451.02 L803.94 1481.64 L811.578 1481.64 L811.578 1485.58 L791.671 1485.58 L791.671 1481.64 Z\" fill=\"#000000\" fill-rule=\"nonzero\" fill-opacity=\"1\" /><path clip-path=\"url(#clip530)\" d=\"M821.023 1479.7 L825.907 1479.7 L825.907 1485.58 L821.023 1485.58 L821.023 1479.7 Z\" fill=\"#000000\" fill-rule=\"nonzero\" fill-opacity=\"1\" /><path clip-path=\"url(#clip530)\" d=\"M846.092 1454.1 Q842.481 1454.1 840.652 1457.66 Q838.847 1461.2 838.847 1468.33 Q838.847 1475.44 840.652 1479.01 Q842.481 1482.55 846.092 1482.55 Q849.726 1482.55 851.532 1479.01 Q853.361 1475.44 853.361 1468.33 Q853.361 1461.2 851.532 1457.66 Q849.726 1454.1 846.092 1454.1 M846.092 1450.39 Q851.902 1450.39 854.958 1455 Q858.037 1459.58 858.037 1468.33 Q858.037 1477.06 854.958 1481.67 Q851.902 1486.25 846.092 1486.25 Q840.282 1486.25 837.203 1481.67 Q834.148 1477.06 834.148 1468.33 Q834.148 1459.58 837.203 1455 Q840.282 1450.39 846.092 1450.39 Z\" fill=\"#000000\" fill-rule=\"nonzero\" fill-opacity=\"1\" /><path clip-path=\"url(#clip530)\" d=\"M965.232 1481.64 L972.87 1481.64 L972.87 1455.28 L964.56 1456.95 L964.56 1452.69 L972.824 1451.02 L977.5 1451.02 L977.5 1481.64 L985.139 1481.64 L985.139 1485.58 L965.232 1485.58 L965.232 1481.64 Z\" fill=\"#000000\" fill-rule=\"nonzero\" fill-opacity=\"1\" /><path clip-path=\"url(#clip530)\" d=\"M994.583 1479.7 L999.468 1479.7 L999.468 1485.58 L994.583 1485.58 L994.583 1479.7 Z\" fill=\"#000000\" fill-rule=\"nonzero\" fill-opacity=\"1\" /><path clip-path=\"url(#clip530)\" d=\"M1009.7 1451.02 L1028.06 1451.02 L1028.06 1454.96 L1013.98 1454.96 L1013.98 1463.43 Q1015 1463.08 1016.02 1462.92 Q1017.04 1462.73 1018.06 1462.73 Q1023.84 1462.73 1027.22 1465.9 Q1030.6 1469.08 1030.6 1474.49 Q1030.6 1480.07 1027.13 1483.17 Q1023.66 1486.25 1017.34 1486.25 Q1015.16 1486.25 1012.89 1485.88 Q1010.65 1485.51 1008.24 1484.77 L1008.24 1480.07 Q1010.32 1481.2 1012.55 1481.76 Q1014.77 1482.32 1017.25 1482.32 Q1021.25 1482.32 1023.59 1480.21 Q1025.93 1478.1 1025.93 1474.49 Q1025.93 1470.88 1023.59 1468.77 Q1021.25 1466.67 1017.25 1466.67 Q1015.37 1466.67 1013.5 1467.08 Q1011.64 1467.5 1009.7 1468.38 L1009.7 1451.02 Z\" fill=\"#000000\" fill-rule=\"nonzero\" fill-opacity=\"1\" /><path clip-path=\"url(#clip530)\" d=\"M644.85 1520.52 L651.757 1520.52 L663.565 1538.19 L675.437 1520.52 L682.344 1520.52 L667.066 1543.34 L683.363 1568.04 L676.456 1568.04 L663.088 1547.83 L649.624 1568.04 L642.686 1568.04 L659.65 1542.68 L644.85 1520.52 Z\" fill=\"#000000\" fill-rule=\"nonzero\" fill-opacity=\"1\" /><path clip-path=\"url(#clip530)\" d=\"M707.68 1526.86 L698.959 1550.51 L716.432 1550.51 L707.68 1526.86 M704.051 1520.52 L711.34 1520.52 L729.45 1568.04 L722.766 1568.04 L718.438 1555.85 L697.017 1555.85 L692.688 1568.04 L685.909 1568.04 L704.051 1520.52 Z\" fill=\"#000000\" fill-rule=\"nonzero\" fill-opacity=\"1\" /><polyline clip-path=\"url(#clip530)\" style=\"stroke:#000000; stroke-linecap:round; stroke-linejoin:round; stroke-width:4; stroke-opacity:1; fill:none\" points=\"219.38,1423.18 219.38,123.472 \"/>\n",
       "<polyline clip-path=\"url(#clip530)\" style=\"stroke:#000000; stroke-linecap:round; stroke-linejoin:round; stroke-width:4; stroke-opacity:1; fill:none\" points=\"219.38,1423.18 238.278,1423.18 \"/>\n",
       "<polyline clip-path=\"url(#clip530)\" style=\"stroke:#000000; stroke-linecap:round; stroke-linejoin:round; stroke-width:4; stroke-opacity:1; fill:none\" points=\"219.38,1098.25 238.278,1098.25 \"/>\n",
       "<polyline clip-path=\"url(#clip530)\" style=\"stroke:#000000; stroke-linecap:round; stroke-linejoin:round; stroke-width:4; stroke-opacity:1; fill:none\" points=\"219.38,773.326 238.278,773.326 \"/>\n",
       "<polyline clip-path=\"url(#clip530)\" style=\"stroke:#000000; stroke-linecap:round; stroke-linejoin:round; stroke-width:4; stroke-opacity:1; fill:none\" points=\"219.38,448.399 238.278,448.399 \"/>\n",
       "<polyline clip-path=\"url(#clip530)\" style=\"stroke:#000000; stroke-linecap:round; stroke-linejoin:round; stroke-width:4; stroke-opacity:1; fill:none\" points=\"219.38,123.472 238.278,123.472 \"/>\n",
       "<path clip-path=\"url(#clip530)\" d=\"M126.205 1408.98 Q122.593 1408.98 120.765 1412.54 Q118.959 1416.08 118.959 1423.21 Q118.959 1430.32 120.765 1433.89 Q122.593 1437.43 126.205 1437.43 Q129.839 1437.43 131.644 1433.89 Q133.473 1430.32 133.473 1423.21 Q133.473 1416.08 131.644 1412.54 Q129.839 1408.98 126.205 1408.98 M126.205 1405.27 Q132.015 1405.27 135.07 1409.88 Q138.149 1414.46 138.149 1423.21 Q138.149 1431.94 135.07 1436.55 Q132.015 1441.13 126.205 1441.13 Q120.394 1441.13 117.316 1436.55 Q114.26 1431.94 114.26 1423.21 Q114.26 1414.46 117.316 1409.88 Q120.394 1405.27 126.205 1405.27 Z\" fill=\"#000000\" fill-rule=\"nonzero\" fill-opacity=\"1\" /><path clip-path=\"url(#clip530)\" d=\"M146.366 1434.58 L151.251 1434.58 L151.251 1440.46 L146.366 1440.46 L146.366 1434.58 Z\" fill=\"#000000\" fill-rule=\"nonzero\" fill-opacity=\"1\" /><path clip-path=\"url(#clip530)\" d=\"M171.436 1408.98 Q167.825 1408.98 165.996 1412.54 Q164.19 1416.08 164.19 1423.21 Q164.19 1430.32 165.996 1433.89 Q167.825 1437.43 171.436 1437.43 Q175.07 1437.43 176.876 1433.89 Q178.704 1430.32 178.704 1423.21 Q178.704 1416.08 176.876 1412.54 Q175.07 1408.98 171.436 1408.98 M171.436 1405.27 Q177.246 1405.27 180.301 1409.88 Q183.38 1414.46 183.38 1423.21 Q183.38 1431.94 180.301 1436.55 Q177.246 1441.13 171.436 1441.13 Q165.626 1441.13 162.547 1436.55 Q159.491 1431.94 159.491 1423.21 Q159.491 1414.46 162.547 1409.88 Q165.626 1405.27 171.436 1405.27 Z\" fill=\"#000000\" fill-rule=\"nonzero\" fill-opacity=\"1\" /><path clip-path=\"url(#clip530)\" d=\"M127.2 1084.05 Q123.589 1084.05 121.76 1087.62 Q119.955 1091.16 119.955 1098.29 Q119.955 1105.39 121.76 1108.96 Q123.589 1112.5 127.2 1112.5 Q130.834 1112.5 132.64 1108.96 Q134.468 1105.39 134.468 1098.29 Q134.468 1091.16 132.64 1087.62 Q130.834 1084.05 127.2 1084.05 M127.2 1080.35 Q133.01 1080.35 136.066 1084.95 Q139.144 1089.54 139.144 1098.29 Q139.144 1107.01 136.066 1111.62 Q133.01 1116.2 127.2 1116.2 Q121.39 1116.2 118.311 1111.62 Q115.256 1107.01 115.256 1098.29 Q115.256 1089.54 118.311 1084.95 Q121.39 1080.35 127.2 1080.35 Z\" fill=\"#000000\" fill-rule=\"nonzero\" fill-opacity=\"1\" /><path clip-path=\"url(#clip530)\" d=\"M147.362 1109.65 L152.246 1109.65 L152.246 1115.53 L147.362 1115.53 L147.362 1109.65 Z\" fill=\"#000000\" fill-rule=\"nonzero\" fill-opacity=\"1\" /><path clip-path=\"url(#clip530)\" d=\"M162.477 1080.97 L180.834 1080.97 L180.834 1084.91 L166.76 1084.91 L166.76 1093.38 Q167.778 1093.03 168.797 1092.87 Q169.815 1092.69 170.834 1092.69 Q176.621 1092.69 180.001 1095.86 Q183.38 1099.03 183.38 1104.45 Q183.38 1110.02 179.908 1113.13 Q176.436 1116.2 170.116 1116.2 Q167.94 1116.2 165.672 1115.83 Q163.427 1115.46 161.019 1114.72 L161.019 1110.02 Q163.102 1111.16 165.325 1111.71 Q167.547 1112.27 170.024 1112.27 Q174.028 1112.27 176.366 1110.16 Q178.704 1108.06 178.704 1104.45 Q178.704 1100.83 176.366 1098.73 Q174.028 1096.62 170.024 1096.62 Q168.149 1096.62 166.274 1097.04 Q164.422 1097.45 162.477 1098.33 L162.477 1080.97 Z\" fill=\"#000000\" fill-rule=\"nonzero\" fill-opacity=\"1\" /><path clip-path=\"url(#clip530)\" d=\"M117.015 786.671 L124.654 786.671 L124.654 760.305 L116.343 761.972 L116.343 757.713 L124.607 756.046 L129.283 756.046 L129.283 786.671 L136.922 786.671 L136.922 790.606 L117.015 790.606 L117.015 786.671 Z\" fill=\"#000000\" fill-rule=\"nonzero\" fill-opacity=\"1\" /><path clip-path=\"url(#clip530)\" d=\"M146.366 784.726 L151.251 784.726 L151.251 790.606 L146.366 790.606 L146.366 784.726 Z\" fill=\"#000000\" fill-rule=\"nonzero\" fill-opacity=\"1\" /><path clip-path=\"url(#clip530)\" d=\"M171.436 759.125 Q167.825 759.125 165.996 762.689 Q164.19 766.231 164.19 773.361 Q164.19 780.467 165.996 784.032 Q167.825 787.574 171.436 787.574 Q175.07 787.574 176.876 784.032 Q178.704 780.467 178.704 773.361 Q178.704 766.231 176.876 762.689 Q175.07 759.125 171.436 759.125 M171.436 755.421 Q177.246 755.421 180.301 760.027 Q183.38 764.611 183.38 773.361 Q183.38 782.088 180.301 786.694 Q177.246 791.277 171.436 791.277 Q165.626 791.277 162.547 786.694 Q159.491 782.088 159.491 773.361 Q159.491 764.611 162.547 760.027 Q165.626 755.421 171.436 755.421 Z\" fill=\"#000000\" fill-rule=\"nonzero\" fill-opacity=\"1\" /><path clip-path=\"url(#clip530)\" d=\"M118.01 461.744 L125.649 461.744 L125.649 435.378 L117.339 437.045 L117.339 432.786 L125.603 431.119 L130.279 431.119 L130.279 461.744 L137.917 461.744 L137.917 465.679 L118.01 465.679 L118.01 461.744 Z\" fill=\"#000000\" fill-rule=\"nonzero\" fill-opacity=\"1\" /><path clip-path=\"url(#clip530)\" d=\"M147.362 459.799 L152.246 459.799 L152.246 465.679 L147.362 465.679 L147.362 459.799 Z\" fill=\"#000000\" fill-rule=\"nonzero\" fill-opacity=\"1\" /><path clip-path=\"url(#clip530)\" d=\"M162.477 431.119 L180.834 431.119 L180.834 435.054 L166.76 435.054 L166.76 443.526 Q167.778 443.179 168.797 443.017 Q169.815 442.832 170.834 442.832 Q176.621 442.832 180.001 446.003 Q183.38 449.175 183.38 454.591 Q183.38 460.17 179.908 463.272 Q176.436 466.35 170.116 466.35 Q167.94 466.35 165.672 465.98 Q163.427 465.61 161.019 464.869 L161.019 460.17 Q163.102 461.304 165.325 461.86 Q167.547 462.415 170.024 462.415 Q174.028 462.415 176.366 460.309 Q178.704 458.202 178.704 454.591 Q178.704 450.98 176.366 448.874 Q174.028 446.767 170.024 446.767 Q168.149 446.767 166.274 447.184 Q164.422 447.6 162.477 448.48 L162.477 431.119 Z\" fill=\"#000000\" fill-rule=\"nonzero\" fill-opacity=\"1\" /><path clip-path=\"url(#clip530)\" d=\"M120.232 136.817 L136.552 136.817 L136.552 140.752 L114.607 140.752 L114.607 136.817 Q117.269 134.062 121.853 129.433 Q126.459 124.78 127.64 123.437 Q129.885 120.914 130.765 119.178 Q131.667 117.419 131.667 115.729 Q131.667 112.974 129.723 111.238 Q127.802 109.502 124.7 109.502 Q122.501 109.502 120.047 110.266 Q117.617 111.03 114.839 112.581 L114.839 107.859 Q117.663 106.725 120.117 106.146 Q122.57 105.567 124.607 105.567 Q129.978 105.567 133.172 108.252 Q136.367 110.937 136.367 115.428 Q136.367 117.558 135.556 119.479 Q134.769 121.377 132.663 123.97 Q132.084 124.641 128.982 127.859 Q125.88 131.053 120.232 136.817 Z\" fill=\"#000000\" fill-rule=\"nonzero\" fill-opacity=\"1\" /><path clip-path=\"url(#clip530)\" d=\"M146.366 134.873 L151.251 134.873 L151.251 140.752 L146.366 140.752 L146.366 134.873 Z\" fill=\"#000000\" fill-rule=\"nonzero\" fill-opacity=\"1\" /><path clip-path=\"url(#clip530)\" d=\"M171.436 109.271 Q167.825 109.271 165.996 112.836 Q164.19 116.377 164.19 123.507 Q164.19 130.613 165.996 134.178 Q167.825 137.72 171.436 137.72 Q175.07 137.72 176.876 134.178 Q178.704 130.613 178.704 123.507 Q178.704 116.377 176.876 112.836 Q175.07 109.271 171.436 109.271 M171.436 105.567 Q177.246 105.567 180.301 110.174 Q183.38 114.757 183.38 123.507 Q183.38 132.234 180.301 136.84 Q177.246 141.423 171.436 141.423 Q165.626 141.423 162.547 136.84 Q159.491 132.234 159.491 123.507 Q159.491 114.757 162.547 110.174 Q165.626 105.567 171.436 105.567 Z\" fill=\"#000000\" fill-rule=\"nonzero\" fill-opacity=\"1\" /><path clip-path=\"url(#clip530)\" d=\"M16.4842 937.529 L16.4842 910.221 L21.895 910.221 L21.895 931.1 L35.8996 931.1 L35.8996 912.258 L41.3104 912.258 L41.3104 931.1 L64.0042 931.1 L64.0042 937.529 L16.4842 937.529 Z\" fill=\"#000000\" fill-rule=\"nonzero\" fill-opacity=\"1\" /><path clip-path=\"url(#clip530)\" d=\"M33.8307 884.376 Q33.2578 885.362 33.0032 886.54 Q32.7167 887.686 32.7167 889.086 Q32.7167 894.052 35.9632 896.725 Q39.1779 899.367 45.2253 899.367 L64.0042 899.367 L64.0042 905.255 L28.3562 905.255 L28.3562 899.367 L33.8944 899.367 Q30.6479 897.521 29.0883 894.561 Q27.4968 891.601 27.4968 887.368 Q27.4968 886.763 27.5923 886.031 Q27.656 885.299 27.8151 884.408 L33.8307 884.376 Z\" fill=\"#000000\" fill-rule=\"nonzero\" fill-opacity=\"1\" /><path clip-path=\"url(#clip530)\" d=\"M44.7161 849.173 L47.5806 849.173 L47.5806 876.1 Q53.6281 875.718 56.8109 872.472 Q59.9619 869.194 59.9619 863.369 Q59.9619 859.995 59.1344 856.844 Q58.3069 853.661 56.6518 850.542 L62.1899 850.542 Q63.5267 853.693 64.227 857.003 Q64.9272 860.313 64.9272 863.719 Q64.9272 872.249 59.9619 877.246 Q54.9967 882.211 46.5303 882.211 Q37.7774 882.211 32.6531 877.501 Q27.4968 872.758 27.4968 864.738 Q27.4968 857.544 32.1438 853.375 Q36.7589 849.173 44.7161 849.173 M42.9973 855.03 Q38.1912 855.093 35.3266 857.735 Q32.4621 860.345 32.4621 864.674 Q32.4621 869.575 35.2312 872.536 Q38.0002 875.464 43.0292 875.909 L42.9973 855.03 M11.869 860.663 L11.869 854.33 L23.8365 864.706 L23.8365 869.575 L11.869 860.663 Z\" fill=\"#000000\" fill-rule=\"nonzero\" fill-opacity=\"1\" /><path clip-path=\"url(#clip530)\" d=\"M46.212 836.06 Q52.6732 836.06 56.3653 833.418 Q60.0256 830.745 60.0256 826.098 Q60.0256 821.451 56.3653 818.777 Q52.6732 816.104 46.212 816.104 Q39.7508 816.104 36.0905 818.777 Q32.3984 821.451 32.3984 826.098 Q32.3984 830.745 36.0905 833.418 Q39.7508 836.06 46.212 836.06 M58.657 816.104 Q61.8398 817.95 63.3994 820.782 Q64.9272 823.583 64.9272 827.53 Q64.9272 833.991 59.771 838.065 Q54.6147 842.107 46.212 842.107 Q37.8093 842.107 32.6531 838.065 Q27.4968 833.991 27.4968 827.53 Q27.4968 823.583 29.0564 820.782 Q30.5842 817.95 33.7671 816.104 L28.3562 816.104 L28.3562 810.247 L77.5631 810.247 L77.5631 816.104 L58.657 816.104 Z\" fill=\"#000000\" fill-rule=\"nonzero\" fill-opacity=\"1\" /><path clip-path=\"url(#clip530)\" d=\"M49.9359 798.789 L28.3562 798.789 L28.3562 792.932 L49.7131 792.932 Q54.7739 792.932 57.3202 790.959 Q59.8346 788.986 59.8346 785.039 Q59.8346 780.296 56.8109 777.559 Q53.7872 774.79 48.5673 774.79 L28.3562 774.79 L28.3562 768.934 L64.0042 768.934 L64.0042 774.79 L58.5296 774.79 Q61.7762 776.923 63.3676 779.755 Q64.9272 782.556 64.9272 786.28 Q64.9272 792.423 61.1078 795.606 Q57.2883 798.789 49.9359 798.789 M27.4968 784.052 L27.4968 784.052 Z\" fill=\"#000000\" fill-rule=\"nonzero\" fill-opacity=\"1\" /><path clip-path=\"url(#clip530)\" d=\"M44.7161 726.379 L47.5806 726.379 L47.5806 753.306 Q53.6281 752.924 56.8109 749.677 Q59.9619 746.399 59.9619 740.574 Q59.9619 737.201 59.1344 734.05 Q58.3069 730.867 56.6518 727.748 L62.1899 727.748 Q63.5267 730.899 64.227 734.209 Q64.9272 737.519 64.9272 740.925 Q64.9272 749.455 59.9619 754.452 Q54.9967 759.417 46.5303 759.417 Q37.7774 759.417 32.6531 754.706 Q27.4968 749.964 27.4968 741.943 Q27.4968 734.75 32.1438 730.58 Q36.7589 726.379 44.7161 726.379 M42.9973 732.235 Q38.1912 732.299 35.3266 734.941 Q32.4621 737.551 32.4621 741.879 Q32.4621 746.781 35.2312 749.741 Q38.0002 752.669 43.0292 753.115 L42.9973 732.235 Z\" fill=\"#000000\" fill-rule=\"nonzero\" fill-opacity=\"1\" /><path clip-path=\"url(#clip530)\" d=\"M42.4881 687.134 L64.0042 687.134 L64.0042 692.991 L42.679 692.991 Q37.6183 692.991 35.1038 694.964 Q32.5894 696.938 32.5894 700.884 Q32.5894 705.627 35.6131 708.364 Q38.6368 711.101 43.8567 711.101 L64.0042 711.101 L64.0042 716.989 L28.3562 716.989 L28.3562 711.101 L33.8944 711.101 Q30.6797 709.001 29.0883 706.168 Q27.4968 703.303 27.4968 699.579 Q27.4968 693.436 31.3163 690.285 Q35.1038 687.134 42.4881 687.134 Z\" fill=\"#000000\" fill-rule=\"nonzero\" fill-opacity=\"1\" /><path clip-path=\"url(#clip530)\" d=\"M29.7248 649.799 L35.1993 649.799 Q33.8307 652.282 33.1623 654.797 Q32.4621 657.279 32.4621 659.825 Q32.4621 665.523 36.0905 668.674 Q39.6872 671.825 46.212 671.825 Q52.7369 671.825 56.3653 668.674 Q59.9619 665.523 59.9619 659.825 Q59.9619 657.279 59.2935 654.797 Q58.5933 652.282 57.2247 649.799 L62.6355 649.799 Q63.7814 652.25 64.3543 654.892 Q64.9272 657.502 64.9272 660.462 Q64.9272 668.515 59.8664 673.257 Q54.8057 678 46.212 678 Q37.491 678 32.4939 673.225 Q27.4968 668.419 27.4968 660.08 Q27.4968 657.375 28.0697 654.797 Q28.6108 652.218 29.7248 649.799 Z\" fill=\"#000000\" fill-rule=\"nonzero\" fill-opacity=\"1\" /><path clip-path=\"url(#clip530)\" d=\"M44.7161 609.123 L47.5806 609.123 L47.5806 636.05 Q53.6281 635.668 56.8109 632.421 Q59.9619 629.143 59.9619 623.318 Q59.9619 619.944 59.1344 616.793 Q58.3069 613.61 56.6518 610.491 L62.1899 610.491 Q63.5267 613.642 64.227 616.952 Q64.9272 620.263 64.9272 623.668 Q64.9272 632.198 59.9619 637.195 Q54.9967 642.161 46.5303 642.161 Q37.7774 642.161 32.6531 637.45 Q27.4968 632.708 27.4968 624.687 Q27.4968 617.493 32.1438 613.324 Q36.7589 609.123 44.7161 609.123 M42.9973 614.979 Q38.1912 615.043 35.3266 617.684 Q32.4621 620.294 32.4621 624.623 Q32.4621 629.525 35.2312 632.485 Q38.0002 635.413 43.0292 635.859 L42.9973 614.979 Z\" fill=\"#000000\" fill-rule=\"nonzero\" fill-opacity=\"1\" /><path clip-path=\"url(#clip530)\" d=\"M274.354 12.096 L282.537 12.096 L282.537 36.8875 L312.271 36.8875 L312.271 12.096 L320.454 12.096 L320.454 72.576 L312.271 72.576 L312.271 43.7741 L282.537 43.7741 L282.537 72.576 L274.354 72.576 L274.354 12.096 Z\" fill=\"#000000\" fill-rule=\"nonzero\" fill-opacity=\"1\" /><path clip-path=\"url(#clip530)\" d=\"M336.414 27.2059 L343.868 27.2059 L343.868 72.576 L336.414 72.576 L336.414 27.2059 M336.414 9.54393 L343.868 9.54393 L343.868 18.9825 L336.414 18.9825 L336.414 9.54393 Z\" fill=\"#000000\" fill-rule=\"nonzero\" fill-opacity=\"1\" /><path clip-path=\"url(#clip530)\" d=\"M388.387 28.5427 L388.387 35.5912 Q385.228 33.9709 381.825 33.1607 Q378.422 32.3505 374.776 32.3505 Q369.227 32.3505 366.431 34.0519 Q363.677 35.7533 363.677 39.156 Q363.677 41.7486 365.662 43.2475 Q367.647 44.7058 373.642 46.0426 L376.194 46.6097 Q384.134 48.3111 387.456 51.4303 Q390.818 54.509 390.818 60.0587 Q390.818 66.3781 385.795 70.0644 Q380.812 73.7508 372.062 73.7508 Q368.416 73.7508 364.446 73.0216 Q360.517 72.3329 356.142 70.9151 L356.142 63.2184 Q360.274 65.3654 364.284 66.4591 Q368.295 67.5124 372.224 67.5124 Q377.49 67.5124 380.326 65.73 Q383.162 63.9071 383.162 60.6258 Q383.162 57.5877 381.096 55.9673 Q379.07 54.3469 372.143 52.8481 L369.551 52.2405 Q362.624 50.7821 359.545 47.7845 Q356.466 44.7463 356.466 39.4801 Q356.466 33.0797 361.003 29.5959 Q365.54 26.1121 373.885 26.1121 Q378.017 26.1121 381.663 26.7198 Q385.309 27.3274 388.387 28.5427 Z\" fill=\"#000000\" fill-rule=\"nonzero\" fill-opacity=\"1\" /><path clip-path=\"url(#clip530)\" d=\"M410.06 14.324 L410.06 27.2059 L425.413 27.2059 L425.413 32.9987 L410.06 32.9987 L410.06 57.6282 Q410.06 63.1779 411.559 64.7578 Q413.098 66.3376 417.756 66.3376 L425.413 66.3376 L425.413 72.576 L417.756 72.576 Q409.128 72.576 405.847 69.3758 Q402.565 66.1351 402.565 57.6282 L402.565 32.9987 L397.097 32.9987 L397.097 27.2059 L402.565 27.2059 L402.565 14.324 L410.06 14.324 Z\" fill=\"#000000\" fill-rule=\"nonzero\" fill-opacity=\"1\" /><path clip-path=\"url(#clip530)\" d=\"M452.797 32.4315 Q446.801 32.4315 443.318 37.1306 Q439.834 41.7891 439.834 49.9314 Q439.834 58.0738 443.277 62.7728 Q446.761 67.4314 452.797 67.4314 Q458.752 67.4314 462.235 62.7323 Q465.719 58.0333 465.719 49.9314 Q465.719 41.8701 462.235 37.1711 Q458.752 32.4315 452.797 32.4315 M452.797 26.1121 Q462.519 26.1121 468.069 32.4315 Q473.618 38.7509 473.618 49.9314 Q473.618 61.0714 468.069 67.4314 Q462.519 73.7508 452.797 73.7508 Q443.034 73.7508 437.484 67.4314 Q431.975 61.0714 431.975 49.9314 Q431.975 38.7509 437.484 32.4315 Q443.034 26.1121 452.797 26.1121 Z\" fill=\"#000000\" fill-rule=\"nonzero\" fill-opacity=\"1\" /><path clip-path=\"url(#clip530)\" d=\"M515.829 49.3643 Q515.829 41.2625 512.467 36.8065 Q509.145 32.3505 503.109 32.3505 Q497.114 32.3505 493.751 36.8065 Q490.43 41.2625 490.43 49.3643 Q490.43 57.4256 493.751 61.8816 Q497.114 66.3376 503.109 66.3376 Q509.145 66.3376 512.467 61.8816 Q515.829 57.4256 515.829 49.3643 M523.282 66.9452 Q523.282 78.5308 518.138 84.1616 Q512.993 89.8329 502.38 89.8329 Q498.45 89.8329 494.967 89.2252 Q491.483 88.6581 488.202 87.4428 L488.202 80.1917 Q491.483 81.9741 494.683 82.8248 Q497.883 83.6755 501.205 83.6755 Q508.537 83.6755 512.183 79.8271 Q515.829 76.0193 515.829 68.282 L515.829 64.5957 Q513.52 68.6061 509.914 70.5911 Q506.309 72.576 501.286 72.576 Q492.941 72.576 487.837 66.2161 Q482.733 59.8562 482.733 49.3643 Q482.733 38.832 487.837 32.472 Q492.941 26.1121 501.286 26.1121 Q506.309 26.1121 509.914 28.0971 Q513.52 30.082 515.829 34.0924 L515.829 27.2059 L523.282 27.2059 L523.282 66.9452 Z\" fill=\"#000000\" fill-rule=\"nonzero\" fill-opacity=\"1\" /><path clip-path=\"url(#clip530)\" d=\"M564.926 34.1734 Q563.67 33.4443 562.171 33.1202 Q560.713 32.7556 558.93 32.7556 Q552.611 32.7556 549.208 36.8875 Q545.846 40.9789 545.846 48.6757 L545.846 72.576 L538.352 72.576 L538.352 27.2059 L545.846 27.2059 L545.846 34.2544 Q548.196 30.1225 551.963 28.1376 Q555.73 26.1121 561.118 26.1121 Q561.888 26.1121 562.819 26.2337 Q563.751 26.3147 564.885 26.5172 L564.926 34.1734 Z\" fill=\"#000000\" fill-rule=\"nonzero\" fill-opacity=\"1\" /><path clip-path=\"url(#clip530)\" d=\"M593.363 49.7694 Q584.33 49.7694 580.846 51.8354 Q577.362 53.9013 577.362 58.8839 Q577.362 62.8538 579.955 65.2034 Q582.588 67.5124 587.084 67.5124 Q593.282 67.5124 597.009 63.1374 Q600.776 58.7219 600.776 51.4303 L600.776 49.7694 L593.363 49.7694 M608.23 46.6907 L608.23 72.576 L600.776 72.576 L600.776 65.6895 Q598.224 69.8214 594.416 71.8063 Q590.608 73.7508 585.099 73.7508 Q578.132 73.7508 574 69.8619 Q569.908 65.9325 569.908 59.3701 Q569.908 51.7138 575.012 47.825 Q580.157 43.9361 590.325 43.9361 L600.776 43.9361 L600.776 43.2069 Q600.776 38.0623 597.373 35.2672 Q594.011 32.4315 587.894 32.4315 Q584.005 32.4315 580.319 33.3632 Q576.633 34.295 573.23 36.1584 L573.23 29.2718 Q577.322 27.692 581.17 26.9223 Q585.018 26.1121 588.664 26.1121 Q598.508 26.1121 603.369 31.2163 Q608.23 36.3204 608.23 46.6907 Z\" fill=\"#000000\" fill-rule=\"nonzero\" fill-opacity=\"1\" /><path clip-path=\"url(#clip530)\" d=\"M658.907 35.9153 Q661.702 30.8922 665.591 28.5022 Q669.48 26.1121 674.746 26.1121 Q681.835 26.1121 685.683 31.0947 Q689.532 36.0368 689.532 45.1919 L689.532 72.576 L682.037 72.576 L682.037 45.4349 Q682.037 38.913 679.728 35.7533 Q677.419 32.5936 672.68 32.5936 Q666.887 32.5936 663.525 36.4419 Q660.162 40.2903 660.162 46.9338 L660.162 72.576 L652.668 72.576 L652.668 45.4349 Q652.668 38.8725 650.359 35.7533 Q648.05 32.5936 643.23 32.5936 Q637.518 32.5936 634.156 36.4824 Q630.793 40.3308 630.793 46.9338 L630.793 72.576 L623.299 72.576 L623.299 27.2059 L630.793 27.2059 L630.793 34.2544 Q633.346 30.082 636.91 28.0971 Q640.475 26.1121 645.377 26.1121 Q650.319 26.1121 653.762 28.6237 Q657.246 31.1352 658.907 35.9153 Z\" fill=\"#000000\" fill-rule=\"nonzero\" fill-opacity=\"1\" /><path clip-path=\"url(#clip530)\" d=\"M739.722 35.9153 Q742.517 30.8922 746.406 28.5022 Q750.295 26.1121 755.561 26.1121 Q762.65 26.1121 766.499 31.0947 Q770.347 36.0368 770.347 45.1919 L770.347 72.576 L762.853 72.576 L762.853 45.4349 Q762.853 38.913 760.544 35.7533 Q758.235 32.5936 753.495 32.5936 Q747.703 32.5936 744.34 36.4419 Q740.978 40.2903 740.978 46.9338 L740.978 72.576 L733.484 72.576 L733.484 45.4349 Q733.484 38.8725 731.175 35.7533 Q728.866 32.5936 724.045 32.5936 Q718.333 32.5936 714.971 36.4824 Q711.609 40.3308 711.609 46.9338 L711.609 72.576 L704.115 72.576 L704.115 27.2059 L711.609 27.2059 L711.609 34.2544 Q714.161 30.082 717.726 28.0971 Q721.291 26.1121 726.192 26.1121 Q731.134 26.1121 734.578 28.6237 Q738.061 31.1352 739.722 35.9153 Z\" fill=\"#000000\" fill-rule=\"nonzero\" fill-opacity=\"1\" /><path clip-path=\"url(#clip530)\" d=\"M824.022 48.0275 L824.022 51.6733 L789.751 51.6733 Q790.237 59.3701 794.369 63.421 Q798.541 67.4314 805.955 67.4314 Q810.249 67.4314 814.259 66.3781 Q818.31 65.3249 822.28 63.2184 L822.28 70.267 Q818.269 71.9684 814.056 72.8596 Q809.843 73.7508 805.509 73.7508 Q794.653 73.7508 788.293 67.4314 Q781.973 61.1119 781.973 50.3365 Q781.973 39.1965 787.969 32.6746 Q794.004 26.1121 804.213 26.1121 Q813.368 26.1121 818.674 32.0264 Q824.022 37.9003 824.022 48.0275 M816.568 45.84 Q816.487 39.7232 813.125 36.0774 Q809.803 32.4315 804.294 32.4315 Q798.055 32.4315 794.288 35.9558 Q790.561 39.4801 789.994 45.8805 L816.568 45.84 Z\" fill=\"#000000\" fill-rule=\"nonzero\" fill-opacity=\"1\" /><path clip-path=\"url(#clip530)\" d=\"M892.482 34.0924 L892.482 9.54393 L899.936 9.54393 L899.936 72.576 L892.482 72.576 L892.482 65.7705 Q890.132 69.8214 886.527 71.8063 Q882.962 73.7508 877.939 73.7508 Q869.716 73.7508 864.531 67.1883 Q859.386 60.6258 859.386 49.9314 Q859.386 39.2371 864.531 32.6746 Q869.716 26.1121 877.939 26.1121 Q882.962 26.1121 886.527 28.0971 Q890.132 30.0415 892.482 34.0924 M867.083 49.9314 Q867.083 58.1548 870.445 62.8538 Q873.848 67.5124 879.762 67.5124 Q885.676 67.5124 889.079 62.8538 Q892.482 58.1548 892.482 49.9314 Q892.482 41.7081 889.079 37.0496 Q885.676 32.3505 879.762 32.3505 Q873.848 32.3505 870.445 37.0496 Q867.083 41.7081 867.083 49.9314 Z\" fill=\"#000000\" fill-rule=\"nonzero\" fill-opacity=\"1\" /><path clip-path=\"url(#clip530)\" d=\"M954.096 48.0275 L954.096 51.6733 L919.825 51.6733 Q920.312 59.3701 924.443 63.421 Q928.616 67.4314 936.029 67.4314 Q940.323 67.4314 944.333 66.3781 Q948.384 65.3249 952.354 63.2184 L952.354 70.267 Q948.344 71.9684 944.131 72.8596 Q939.918 73.7508 935.583 73.7508 Q924.727 73.7508 918.367 67.4314 Q912.048 61.1119 912.048 50.3365 Q912.048 39.1965 918.043 32.6746 Q924.079 26.1121 934.287 26.1121 Q943.442 26.1121 948.749 32.0264 Q954.096 37.9003 954.096 48.0275 M946.642 45.84 Q946.561 39.7232 943.199 36.0774 Q939.877 32.4315 934.368 32.4315 Q928.13 32.4315 924.362 35.9558 Q920.636 39.4801 920.069 45.8805 L946.642 45.84 Z\" fill=\"#000000\" fill-rule=\"nonzero\" fill-opacity=\"1\" /><path clip-path=\"url(#clip530)\" d=\"M990.109 12.096 L998.899 12.096 L1013.93 34.5785 L1029.04 12.096 L1037.83 12.096 L1018.38 41.141 L1039.12 72.576 L1030.33 72.576 L1013.32 46.8528 L996.185 72.576 L987.354 72.576 L1008.95 40.2903 L990.109 12.096 Z\" fill=\"#000000\" fill-rule=\"nonzero\" fill-opacity=\"1\" /><path clip-path=\"url(#clip530)\" d=\"M1070.07 20.1573 L1058.97 50.2555 L1081.21 50.2555 L1070.07 20.1573 M1065.46 12.096 L1074.73 12.096 L1097.78 72.576 L1089.27 72.576 L1083.77 57.061 L1056.5 57.061 L1050.99 72.576 L1042.37 72.576 L1065.46 12.096 Z\" fill=\"#000000\" fill-rule=\"nonzero\" fill-opacity=\"1\" /><path clip-path=\"url(#clip532)\" d=\"M270.717 773.326 L270.717 1423.18 L339.943 1423.18 L339.943 773.326 L270.717 773.326 L270.717 773.326  Z\" fill=\"#009af9\" fill-rule=\"evenodd\" fill-opacity=\"1\"/>\n",
       "<polyline clip-path=\"url(#clip532)\" style=\"stroke:#000000; stroke-linecap:round; stroke-linejoin:round; stroke-width:4; stroke-opacity:1; fill:none\" points=\"270.717,773.326 270.717,1423.18 339.943,1423.18 339.943,773.326 270.717,773.326 \"/>\n",
       "<path clip-path=\"url(#clip532)\" d=\"M339.943 773.326 L339.943 1423.18 L409.168 1423.18 L409.168 773.326 L339.943 773.326 L339.943 773.326  Z\" fill=\"#009af9\" fill-rule=\"evenodd\" fill-opacity=\"1\"/>\n",
       "<polyline clip-path=\"url(#clip532)\" style=\"stroke:#000000; stroke-linecap:round; stroke-linejoin:round; stroke-width:4; stroke-opacity:1; fill:none\" points=\"339.943,773.326 339.943,1423.18 409.168,1423.18 409.168,773.326 339.943,773.326 \"/>\n",
       "<path clip-path=\"url(#clip532)\" d=\"M409.168 773.326 L409.168 1423.18 L478.393 1423.18 L478.393 773.326 L409.168 773.326 L409.168 773.326  Z\" fill=\"#009af9\" fill-rule=\"evenodd\" fill-opacity=\"1\"/>\n",
       "<polyline clip-path=\"url(#clip532)\" style=\"stroke:#000000; stroke-linecap:round; stroke-linejoin:round; stroke-width:4; stroke-opacity:1; fill:none\" points=\"409.168,773.326 409.168,1423.18 478.393,1423.18 478.393,773.326 409.168,773.326 \"/>\n",
       "<path clip-path=\"url(#clip532)\" d=\"M478.393 1423.18 L478.393 1423.18 L547.618 1423.18 L547.618 1423.18 L478.393 1423.18 L478.393 1423.18  Z\" fill=\"#009af9\" fill-rule=\"evenodd\" fill-opacity=\"1\"/>\n",
       "<polyline clip-path=\"url(#clip532)\" style=\"stroke:#000000; stroke-linecap:round; stroke-linejoin:round; stroke-width:4; stroke-opacity:1; fill:none\" points=\"478.393,1423.18 478.393,1423.18 547.618,1423.18 478.393,1423.18 \"/>\n",
       "<path clip-path=\"url(#clip532)\" d=\"M547.618 1423.18 L547.618 1423.18 L616.843 1423.18 L616.843 1423.18 L547.618 1423.18 L547.618 1423.18  Z\" fill=\"#009af9\" fill-rule=\"evenodd\" fill-opacity=\"1\"/>\n",
       "<polyline clip-path=\"url(#clip532)\" style=\"stroke:#000000; stroke-linecap:round; stroke-linejoin:round; stroke-width:4; stroke-opacity:1; fill:none\" points=\"547.618,1423.18 547.618,1423.18 616.843,1423.18 547.618,1423.18 \"/>\n",
       "<path clip-path=\"url(#clip532)\" d=\"M616.843 773.326 L616.843 1423.18 L686.068 1423.18 L686.068 773.326 L616.843 773.326 L616.843 773.326  Z\" fill=\"#009af9\" fill-rule=\"evenodd\" fill-opacity=\"1\"/>\n",
       "<polyline clip-path=\"url(#clip532)\" style=\"stroke:#000000; stroke-linecap:round; stroke-linejoin:round; stroke-width:4; stroke-opacity:1; fill:none\" points=\"616.843,773.326 616.843,1423.18 686.068,1423.18 686.068,773.326 616.843,773.326 \"/>\n",
       "<path clip-path=\"url(#clip532)\" d=\"M686.068 123.472 L686.068 1423.18 L755.293 1423.18 L755.293 123.472 L686.068 123.472 L686.068 123.472  Z\" fill=\"#009af9\" fill-rule=\"evenodd\" fill-opacity=\"1\"/>\n",
       "<polyline clip-path=\"url(#clip532)\" style=\"stroke:#000000; stroke-linecap:round; stroke-linejoin:round; stroke-width:4; stroke-opacity:1; fill:none\" points=\"686.068,123.472 686.068,1423.18 755.293,1423.18 755.293,123.472 686.068,123.472 \"/>\n",
       "<path clip-path=\"url(#clip532)\" d=\"M755.293 1423.18 L755.293 1423.18 L824.518 1423.18 L824.518 1423.18 L755.293 1423.18 L755.293 1423.18  Z\" fill=\"#009af9\" fill-rule=\"evenodd\" fill-opacity=\"1\"/>\n",
       "<polyline clip-path=\"url(#clip532)\" style=\"stroke:#000000; stroke-linecap:round; stroke-linejoin:round; stroke-width:4; stroke-opacity:1; fill:none\" points=\"755.293,1423.18 755.293,1423.18 824.518,1423.18 755.293,1423.18 \"/>\n",
       "<path clip-path=\"url(#clip532)\" d=\"M824.518 123.472 L824.518 1423.18 L893.743 1423.18 L893.743 123.472 L824.518 123.472 L824.518 123.472  Z\" fill=\"#009af9\" fill-rule=\"evenodd\" fill-opacity=\"1\"/>\n",
       "<polyline clip-path=\"url(#clip532)\" style=\"stroke:#000000; stroke-linecap:round; stroke-linejoin:round; stroke-width:4; stroke-opacity:1; fill:none\" points=\"824.518,123.472 824.518,1423.18 893.743,1423.18 893.743,123.472 824.518,123.472 \"/>\n",
       "<path clip-path=\"url(#clip532)\" d=\"M893.743 773.326 L893.743 1423.18 L962.968 1423.18 L962.968 773.326 L893.743 773.326 L893.743 773.326  Z\" fill=\"#009af9\" fill-rule=\"evenodd\" fill-opacity=\"1\"/>\n",
       "<polyline clip-path=\"url(#clip532)\" style=\"stroke:#000000; stroke-linecap:round; stroke-linejoin:round; stroke-width:4; stroke-opacity:1; fill:none\" points=\"893.743,773.326 893.743,1423.18 962.968,1423.18 962.968,773.326 893.743,773.326 \"/>\n",
       "<path clip-path=\"url(#clip532)\" d=\"M962.968 1423.18 L962.968 1423.18 L1032.19 1423.18 L1032.19 1423.18 L962.968 1423.18 L962.968 1423.18  Z\" fill=\"#009af9\" fill-rule=\"evenodd\" fill-opacity=\"1\"/>\n",
       "<polyline clip-path=\"url(#clip532)\" style=\"stroke:#000000; stroke-linecap:round; stroke-linejoin:round; stroke-width:4; stroke-opacity:1; fill:none\" points=\"962.968,1423.18 962.968,1423.18 1032.19,1423.18 962.968,1423.18 \"/>\n",
       "<path clip-path=\"url(#clip532)\" d=\"M1032.19 773.326 L1032.19 1423.18 L1101.42 1423.18 L1101.42 773.326 L1032.19 773.326 L1032.19 773.326  Z\" fill=\"#009af9\" fill-rule=\"evenodd\" fill-opacity=\"1\"/>\n",
       "<polyline clip-path=\"url(#clip532)\" style=\"stroke:#000000; stroke-linecap:round; stroke-linejoin:round; stroke-width:4; stroke-opacity:1; fill:none\" points=\"1032.19,773.326 1032.19,1423.18 1101.42,1423.18 1101.42,773.326 1032.19,773.326 \"/>\n",
       "<circle clip-path=\"url(#clip532)\" style=\"fill:#009af9; stroke:none; fill-opacity:0\" cx=\"305.33\" cy=\"773.326\" r=\"2\"/>\n",
       "<circle clip-path=\"url(#clip532)\" style=\"fill:#009af9; stroke:none; fill-opacity:0\" cx=\"374.555\" cy=\"773.326\" r=\"2\"/>\n",
       "<circle clip-path=\"url(#clip532)\" style=\"fill:#009af9; stroke:none; fill-opacity:0\" cx=\"443.78\" cy=\"773.326\" r=\"2\"/>\n",
       "<circle clip-path=\"url(#clip532)\" style=\"fill:#009af9; stroke:none; fill-opacity:0\" cx=\"513.005\" cy=\"1423.18\" r=\"2\"/>\n",
       "<circle clip-path=\"url(#clip532)\" style=\"fill:#009af9; stroke:none; fill-opacity:0\" cx=\"582.23\" cy=\"1423.18\" r=\"2\"/>\n",
       "<circle clip-path=\"url(#clip532)\" style=\"fill:#009af9; stroke:none; fill-opacity:0\" cx=\"651.455\" cy=\"773.326\" r=\"2\"/>\n",
       "<circle clip-path=\"url(#clip532)\" style=\"fill:#009af9; stroke:none; fill-opacity:0\" cx=\"720.681\" cy=\"123.472\" r=\"2\"/>\n",
       "<circle clip-path=\"url(#clip532)\" style=\"fill:#009af9; stroke:none; fill-opacity:0\" cx=\"789.906\" cy=\"1423.18\" r=\"2\"/>\n",
       "<circle clip-path=\"url(#clip532)\" style=\"fill:#009af9; stroke:none; fill-opacity:0\" cx=\"859.131\" cy=\"123.472\" r=\"2\"/>\n",
       "<circle clip-path=\"url(#clip532)\" style=\"fill:#009af9; stroke:none; fill-opacity:0\" cx=\"928.356\" cy=\"773.326\" r=\"2\"/>\n",
       "<circle clip-path=\"url(#clip532)\" style=\"fill:#009af9; stroke:none; fill-opacity:0\" cx=\"997.581\" cy=\"1423.18\" r=\"2\"/>\n",
       "<circle clip-path=\"url(#clip532)\" style=\"fill:#009af9; stroke:none; fill-opacity:0\" cx=\"1066.81\" cy=\"773.326\" r=\"2\"/>\n",
       "<path clip-path=\"url(#clip530)\" d=\"M975.876 270.476 L1121.64 270.476 L1121.64 166.796 L975.876 166.796  Z\" fill=\"#ffffff\" fill-rule=\"evenodd\" fill-opacity=\"1\"/>\n",
       "<polyline clip-path=\"url(#clip530)\" style=\"stroke:#000000; stroke-linecap:round; stroke-linejoin:round; stroke-width:4; stroke-opacity:1; fill:none\" points=\"975.876,270.476 1121.64,270.476 1121.64,166.796 975.876,166.796 975.876,270.476 \"/>\n",
       "<path clip-path=\"url(#clip530)\" d=\"M986.246 239.372 L1048.47 239.372 L1048.47 197.9 L986.246 197.9 L986.246 239.372  Z\" fill=\"#009af9\" fill-rule=\"evenodd\" fill-opacity=\"1\"/>\n",
       "<polyline clip-path=\"url(#clip530)\" style=\"stroke:#000000; stroke-linecap:round; stroke-linejoin:round; stroke-width:4; stroke-opacity:1; fill:none\" points=\"986.246,239.372 1048.47,239.372 1048.47,197.9 986.246,197.9 986.246,239.372 \"/>\n",
       "<path clip-path=\"url(#clip530)\" d=\"M1072.68 238.323 Q1070.88 242.953 1069.17 244.365 Q1067.45 245.777 1064.58 245.777 L1061.18 245.777 L1061.18 242.212 L1063.68 242.212 Q1065.44 242.212 1066.41 241.379 Q1067.38 240.545 1068.56 237.443 L1069.33 235.499 L1058.84 209.99 L1063.36 209.99 L1071.46 230.268 L1079.56 209.99 L1084.07 209.99 L1072.68 238.323 Z\" fill=\"#000000\" fill-rule=\"nonzero\" fill-opacity=\"1\" /><path clip-path=\"url(#clip530)\" d=\"M1091.37 231.981 L1099 231.981 L1099 205.615 L1090.69 207.282 L1090.69 203.022 L1098.96 201.356 L1103.63 201.356 L1103.63 231.981 L1111.27 231.981 L1111.27 235.916 L1091.37 235.916 L1091.37 231.981 Z\" fill=\"#000000\" fill-rule=\"nonzero\" fill-opacity=\"1\" /><path clip-path=\"url(#clip530)\" d=\"M1419.38 1423.18 L2352.76 1423.18 L2352.76 123.472 L1419.38 123.472  Z\" fill=\"#ffffff\" fill-rule=\"evenodd\" fill-opacity=\"1\"/>\n",
       "<defs>\n",
       "  <clipPath id=\"clip533\">\n",
       "    <rect x=\"1419\" y=\"123\" width=\"934\" height=\"1301\"/>\n",
       "  </clipPath>\n",
       "</defs>\n",
       "<polyline clip-path=\"url(#clip533)\" style=\"stroke:#000000; stroke-linecap:round; stroke-linejoin:round; stroke-width:2; stroke-opacity:0.1; fill:none\" points=\"1506.83,1423.18 1506.83,123.472 \"/>\n",
       "<polyline clip-path=\"url(#clip533)\" style=\"stroke:#000000; stroke-linecap:round; stroke-linejoin:round; stroke-width:2; stroke-opacity:0.1; fill:none\" points=\"1687.42,1423.18 1687.42,123.472 \"/>\n",
       "<polyline clip-path=\"url(#clip533)\" style=\"stroke:#000000; stroke-linecap:round; stroke-linejoin:round; stroke-width:2; stroke-opacity:0.1; fill:none\" points=\"1868.01,1423.18 1868.01,123.472 \"/>\n",
       "<polyline clip-path=\"url(#clip533)\" style=\"stroke:#000000; stroke-linecap:round; stroke-linejoin:round; stroke-width:2; stroke-opacity:0.1; fill:none\" points=\"2048.6,1423.18 2048.6,123.472 \"/>\n",
       "<polyline clip-path=\"url(#clip533)\" style=\"stroke:#000000; stroke-linecap:round; stroke-linejoin:round; stroke-width:2; stroke-opacity:0.1; fill:none\" points=\"2229.18,1423.18 2229.18,123.472 \"/>\n",
       "<polyline clip-path=\"url(#clip533)\" style=\"stroke:#000000; stroke-linecap:round; stroke-linejoin:round; stroke-width:2; stroke-opacity:0.1; fill:none\" points=\"1419.38,1423.18 2352.76,1423.18 \"/>\n",
       "<polyline clip-path=\"url(#clip533)\" style=\"stroke:#000000; stroke-linecap:round; stroke-linejoin:round; stroke-width:2; stroke-opacity:0.1; fill:none\" points=\"1419.38,1098.25 2352.76,1098.25 \"/>\n",
       "<polyline clip-path=\"url(#clip533)\" style=\"stroke:#000000; stroke-linecap:round; stroke-linejoin:round; stroke-width:2; stroke-opacity:0.1; fill:none\" points=\"1419.38,773.326 2352.76,773.326 \"/>\n",
       "<polyline clip-path=\"url(#clip533)\" style=\"stroke:#000000; stroke-linecap:round; stroke-linejoin:round; stroke-width:2; stroke-opacity:0.1; fill:none\" points=\"1419.38,448.399 2352.76,448.399 \"/>\n",
       "<polyline clip-path=\"url(#clip533)\" style=\"stroke:#000000; stroke-linecap:round; stroke-linejoin:round; stroke-width:2; stroke-opacity:0.1; fill:none\" points=\"1419.38,123.472 2352.76,123.472 \"/>\n",
       "<polyline clip-path=\"url(#clip530)\" style=\"stroke:#000000; stroke-linecap:round; stroke-linejoin:round; stroke-width:4; stroke-opacity:1; fill:none\" points=\"1419.38,1423.18 2352.76,1423.18 \"/>\n",
       "<polyline clip-path=\"url(#clip530)\" style=\"stroke:#000000; stroke-linecap:round; stroke-linejoin:round; stroke-width:4; stroke-opacity:1; fill:none\" points=\"1506.83,1423.18 1506.83,1404.28 \"/>\n",
       "<polyline clip-path=\"url(#clip530)\" style=\"stroke:#000000; stroke-linecap:round; stroke-linejoin:round; stroke-width:4; stroke-opacity:1; fill:none\" points=\"1687.42,1423.18 1687.42,1404.28 \"/>\n",
       "<polyline clip-path=\"url(#clip530)\" style=\"stroke:#000000; stroke-linecap:round; stroke-linejoin:round; stroke-width:4; stroke-opacity:1; fill:none\" points=\"1868.01,1423.18 1868.01,1404.28 \"/>\n",
       "<polyline clip-path=\"url(#clip530)\" style=\"stroke:#000000; stroke-linecap:round; stroke-linejoin:round; stroke-width:4; stroke-opacity:1; fill:none\" points=\"2048.6,1423.18 2048.6,1404.28 \"/>\n",
       "<polyline clip-path=\"url(#clip530)\" style=\"stroke:#000000; stroke-linecap:round; stroke-linejoin:round; stroke-width:4; stroke-opacity:1; fill:none\" points=\"2229.18,1423.18 2229.18,1404.28 \"/>\n",
       "<path clip-path=\"url(#clip530)\" d=\"M1497.22 1481.64 L1504.86 1481.64 L1504.86 1455.28 L1496.55 1456.95 L1496.55 1452.69 L1504.81 1451.02 L1509.49 1451.02 L1509.49 1481.64 L1517.12 1481.64 L1517.12 1485.58 L1497.22 1485.58 L1497.22 1481.64 Z\" fill=\"#000000\" fill-rule=\"nonzero\" fill-opacity=\"1\" /><path clip-path=\"url(#clip530)\" d=\"M1682.07 1481.64 L1698.39 1481.64 L1698.39 1485.58 L1676.45 1485.58 L1676.45 1481.64 Q1679.11 1478.89 1683.7 1474.26 Q1688.3 1469.61 1689.48 1468.27 Q1691.73 1465.74 1692.61 1464.01 Q1693.51 1462.25 1693.51 1460.56 Q1693.51 1457.8 1691.57 1456.07 Q1689.64 1454.33 1686.54 1454.33 Q1684.34 1454.33 1681.89 1455.09 Q1679.46 1455.86 1676.68 1457.41 L1676.68 1452.69 Q1679.51 1451.55 1681.96 1450.97 Q1684.41 1450.39 1686.45 1450.39 Q1691.82 1450.39 1695.01 1453.08 Q1698.21 1455.77 1698.21 1460.26 Q1698.21 1462.39 1697.4 1464.31 Q1696.61 1466.2 1694.51 1468.8 Q1693.93 1469.47 1690.82 1472.69 Q1687.72 1475.88 1682.07 1481.64 Z\" fill=\"#000000\" fill-rule=\"nonzero\" fill-opacity=\"1\" /><path clip-path=\"url(#clip530)\" d=\"M1872.26 1466.95 Q1875.61 1467.66 1877.49 1469.93 Q1879.39 1472.2 1879.39 1475.53 Q1879.39 1480.65 1875.87 1483.45 Q1872.35 1486.25 1865.87 1486.25 Q1863.69 1486.25 1861.38 1485.81 Q1859.09 1485.39 1856.63 1484.54 L1856.63 1480.02 Q1858.58 1481.16 1860.89 1481.74 Q1863.21 1482.32 1865.73 1482.32 Q1870.13 1482.32 1872.42 1480.58 Q1874.73 1478.84 1874.73 1475.53 Q1874.73 1472.48 1872.58 1470.77 Q1870.45 1469.03 1866.63 1469.03 L1862.6 1469.03 L1862.6 1465.19 L1866.82 1465.19 Q1870.27 1465.19 1872.09 1463.82 Q1873.92 1462.43 1873.92 1459.84 Q1873.92 1457.18 1872.03 1455.77 Q1870.15 1454.33 1866.63 1454.33 Q1864.71 1454.33 1862.51 1454.75 Q1860.31 1455.16 1857.67 1456.04 L1857.67 1451.88 Q1860.34 1451.14 1862.65 1450.77 Q1864.99 1450.39 1867.05 1450.39 Q1872.37 1450.39 1875.47 1452.83 Q1878.58 1455.23 1878.58 1459.35 Q1878.58 1462.22 1876.93 1464.21 Q1875.29 1466.18 1872.26 1466.95 Z\" fill=\"#000000\" fill-rule=\"nonzero\" fill-opacity=\"1\" /><path clip-path=\"url(#clip530)\" d=\"M2051.61 1455.09 L2039.8 1473.54 L2051.61 1473.54 L2051.61 1455.09 M2050.38 1451.02 L2056.26 1451.02 L2056.26 1473.54 L2061.19 1473.54 L2061.19 1477.43 L2056.26 1477.43 L2056.26 1485.58 L2051.61 1485.58 L2051.61 1477.43 L2036 1477.43 L2036 1472.92 L2050.38 1451.02 Z\" fill=\"#000000\" fill-rule=\"nonzero\" fill-opacity=\"1\" /><path clip-path=\"url(#clip530)\" d=\"M2219.46 1451.02 L2237.82 1451.02 L2237.82 1454.96 L2223.74 1454.96 L2223.74 1463.43 Q2224.76 1463.08 2225.78 1462.92 Q2226.8 1462.73 2227.82 1462.73 Q2233.6 1462.73 2236.98 1465.9 Q2240.36 1469.08 2240.36 1474.49 Q2240.36 1480.07 2236.89 1483.17 Q2233.42 1486.25 2227.1 1486.25 Q2224.92 1486.25 2222.66 1485.88 Q2220.41 1485.51 2218 1484.77 L2218 1480.07 Q2220.09 1481.2 2222.31 1481.76 Q2224.53 1482.32 2227.01 1482.32 Q2231.01 1482.32 2233.35 1480.21 Q2235.69 1478.1 2235.69 1474.49 Q2235.69 1470.88 2233.35 1468.77 Q2231.01 1466.67 2227.01 1466.67 Q2225.13 1466.67 2223.26 1467.08 Q2221.41 1467.5 2219.46 1468.38 L2219.46 1451.02 Z\" fill=\"#000000\" fill-rule=\"nonzero\" fill-opacity=\"1\" /><path clip-path=\"url(#clip530)\" d=\"M1846.82 1520.52 L1853.73 1520.52 L1865.54 1538.19 L1877.41 1520.52 L1884.32 1520.52 L1869.04 1543.34 L1885.34 1568.04 L1878.43 1568.04 L1865.06 1547.83 L1851.6 1568.04 L1844.66 1568.04 L1861.62 1542.68 L1846.82 1520.52 Z\" fill=\"#000000\" fill-rule=\"nonzero\" fill-opacity=\"1\" /><path clip-path=\"url(#clip530)\" d=\"M1900.2 1545.35 L1900.2 1562.76 L1910.51 1562.76 Q1915.7 1562.76 1918.18 1560.63 Q1920.7 1558.46 1920.7 1554.04 Q1920.7 1549.58 1918.18 1547.48 Q1915.7 1545.35 1910.51 1545.35 L1900.2 1545.35 M1900.2 1525.81 L1900.2 1540.13 L1909.72 1540.13 Q1914.43 1540.13 1916.72 1538.38 Q1919.04 1536.6 1919.04 1532.97 Q1919.04 1529.37 1916.72 1527.59 Q1914.43 1525.81 1909.72 1525.81 L1900.2 1525.81 M1893.77 1520.52 L1910.19 1520.52 Q1917.55 1520.52 1921.53 1523.58 Q1925.5 1526.63 1925.5 1532.27 Q1925.5 1536.63 1923.47 1539.21 Q1921.43 1541.79 1917.48 1542.42 Q1922.23 1543.44 1924.84 1546.69 Q1927.48 1549.9 1927.48 1554.74 Q1927.48 1561.11 1923.15 1564.57 Q1918.82 1568.04 1910.83 1568.04 L1893.77 1568.04 L1893.77 1520.52 Z\" fill=\"#000000\" fill-rule=\"nonzero\" fill-opacity=\"1\" /><polyline clip-path=\"url(#clip530)\" style=\"stroke:#000000; stroke-linecap:round; stroke-linejoin:round; stroke-width:4; stroke-opacity:1; fill:none\" points=\"1419.38,1423.18 1419.38,123.472 \"/>\n",
       "<polyline clip-path=\"url(#clip530)\" style=\"stroke:#000000; stroke-linecap:round; stroke-linejoin:round; stroke-width:4; stroke-opacity:1; fill:none\" points=\"1419.38,1423.18 1438.28,1423.18 \"/>\n",
       "<polyline clip-path=\"url(#clip530)\" style=\"stroke:#000000; stroke-linecap:round; stroke-linejoin:round; stroke-width:4; stroke-opacity:1; fill:none\" points=\"1419.38,1098.25 1438.28,1098.25 \"/>\n",
       "<polyline clip-path=\"url(#clip530)\" style=\"stroke:#000000; stroke-linecap:round; stroke-linejoin:round; stroke-width:4; stroke-opacity:1; fill:none\" points=\"1419.38,773.326 1438.28,773.326 \"/>\n",
       "<polyline clip-path=\"url(#clip530)\" style=\"stroke:#000000; stroke-linecap:round; stroke-linejoin:round; stroke-width:4; stroke-opacity:1; fill:none\" points=\"1419.38,448.399 1438.28,448.399 \"/>\n",
       "<polyline clip-path=\"url(#clip530)\" style=\"stroke:#000000; stroke-linecap:round; stroke-linejoin:round; stroke-width:4; stroke-opacity:1; fill:none\" points=\"1419.38,123.472 1438.28,123.472 \"/>\n",
       "<path clip-path=\"url(#clip530)\" d=\"M1326.2 1408.98 Q1322.59 1408.98 1320.76 1412.54 Q1318.96 1416.08 1318.96 1423.21 Q1318.96 1430.32 1320.76 1433.89 Q1322.59 1437.43 1326.2 1437.43 Q1329.84 1437.43 1331.64 1433.89 Q1333.47 1430.32 1333.47 1423.21 Q1333.47 1416.08 1331.64 1412.54 Q1329.84 1408.98 1326.2 1408.98 M1326.2 1405.27 Q1332.01 1405.27 1335.07 1409.88 Q1338.15 1414.46 1338.15 1423.21 Q1338.15 1431.94 1335.07 1436.55 Q1332.01 1441.13 1326.2 1441.13 Q1320.39 1441.13 1317.32 1436.55 Q1314.26 1431.94 1314.26 1423.21 Q1314.26 1414.46 1317.32 1409.88 Q1320.39 1405.27 1326.2 1405.27 Z\" fill=\"#000000\" fill-rule=\"nonzero\" fill-opacity=\"1\" /><path clip-path=\"url(#clip530)\" d=\"M1346.37 1434.58 L1351.25 1434.58 L1351.25 1440.46 L1346.37 1440.46 L1346.37 1434.58 Z\" fill=\"#000000\" fill-rule=\"nonzero\" fill-opacity=\"1\" /><path clip-path=\"url(#clip530)\" d=\"M1371.44 1408.98 Q1367.82 1408.98 1366 1412.54 Q1364.19 1416.08 1364.19 1423.21 Q1364.19 1430.32 1366 1433.89 Q1367.82 1437.43 1371.44 1437.43 Q1375.07 1437.43 1376.88 1433.89 Q1378.7 1430.32 1378.7 1423.21 Q1378.7 1416.08 1376.88 1412.54 Q1375.07 1408.98 1371.44 1408.98 M1371.44 1405.27 Q1377.25 1405.27 1380.3 1409.88 Q1383.38 1414.46 1383.38 1423.21 Q1383.38 1431.94 1380.3 1436.55 Q1377.25 1441.13 1371.44 1441.13 Q1365.63 1441.13 1362.55 1436.55 Q1359.49 1431.94 1359.49 1423.21 Q1359.49 1414.46 1362.55 1409.88 Q1365.63 1405.27 1371.44 1405.27 Z\" fill=\"#000000\" fill-rule=\"nonzero\" fill-opacity=\"1\" /><path clip-path=\"url(#clip530)\" d=\"M1327.2 1084.05 Q1323.59 1084.05 1321.76 1087.62 Q1319.95 1091.16 1319.95 1098.29 Q1319.95 1105.39 1321.76 1108.96 Q1323.59 1112.5 1327.2 1112.5 Q1330.83 1112.5 1332.64 1108.96 Q1334.47 1105.39 1334.47 1098.29 Q1334.47 1091.16 1332.64 1087.62 Q1330.83 1084.05 1327.2 1084.05 M1327.2 1080.35 Q1333.01 1080.35 1336.07 1084.95 Q1339.14 1089.54 1339.14 1098.29 Q1339.14 1107.01 1336.07 1111.62 Q1333.01 1116.2 1327.2 1116.2 Q1321.39 1116.2 1318.31 1111.62 Q1315.26 1107.01 1315.26 1098.29 Q1315.26 1089.54 1318.31 1084.95 Q1321.39 1080.35 1327.2 1080.35 Z\" fill=\"#000000\" fill-rule=\"nonzero\" fill-opacity=\"1\" /><path clip-path=\"url(#clip530)\" d=\"M1347.36 1109.65 L1352.25 1109.65 L1352.25 1115.53 L1347.36 1115.53 L1347.36 1109.65 Z\" fill=\"#000000\" fill-rule=\"nonzero\" fill-opacity=\"1\" /><path clip-path=\"url(#clip530)\" d=\"M1362.48 1080.97 L1380.83 1080.97 L1380.83 1084.91 L1366.76 1084.91 L1366.76 1093.38 Q1367.78 1093.03 1368.8 1092.87 Q1369.82 1092.69 1370.83 1092.69 Q1376.62 1092.69 1380 1095.86 Q1383.38 1099.03 1383.38 1104.45 Q1383.38 1110.02 1379.91 1113.13 Q1376.44 1116.2 1370.12 1116.2 Q1367.94 1116.2 1365.67 1115.83 Q1363.43 1115.46 1361.02 1114.72 L1361.02 1110.02 Q1363.1 1111.16 1365.32 1111.71 Q1367.55 1112.27 1370.02 1112.27 Q1374.03 1112.27 1376.37 1110.16 Q1378.7 1108.06 1378.7 1104.45 Q1378.7 1100.83 1376.37 1098.73 Q1374.03 1096.62 1370.02 1096.62 Q1368.15 1096.62 1366.27 1097.04 Q1364.42 1097.45 1362.48 1098.33 L1362.48 1080.97 Z\" fill=\"#000000\" fill-rule=\"nonzero\" fill-opacity=\"1\" /><path clip-path=\"url(#clip530)\" d=\"M1317.01 786.671 L1324.65 786.671 L1324.65 760.305 L1316.34 761.972 L1316.34 757.713 L1324.61 756.046 L1329.28 756.046 L1329.28 786.671 L1336.92 786.671 L1336.92 790.606 L1317.01 790.606 L1317.01 786.671 Z\" fill=\"#000000\" fill-rule=\"nonzero\" fill-opacity=\"1\" /><path clip-path=\"url(#clip530)\" d=\"M1346.37 784.726 L1351.25 784.726 L1351.25 790.606 L1346.37 790.606 L1346.37 784.726 Z\" fill=\"#000000\" fill-rule=\"nonzero\" fill-opacity=\"1\" /><path clip-path=\"url(#clip530)\" d=\"M1371.44 759.125 Q1367.82 759.125 1366 762.689 Q1364.19 766.231 1364.19 773.361 Q1364.19 780.467 1366 784.032 Q1367.82 787.574 1371.44 787.574 Q1375.07 787.574 1376.88 784.032 Q1378.7 780.467 1378.7 773.361 Q1378.7 766.231 1376.88 762.689 Q1375.07 759.125 1371.44 759.125 M1371.44 755.421 Q1377.25 755.421 1380.3 760.027 Q1383.38 764.611 1383.38 773.361 Q1383.38 782.088 1380.3 786.694 Q1377.25 791.277 1371.44 791.277 Q1365.63 791.277 1362.55 786.694 Q1359.49 782.088 1359.49 773.361 Q1359.49 764.611 1362.55 760.027 Q1365.63 755.421 1371.44 755.421 Z\" fill=\"#000000\" fill-rule=\"nonzero\" fill-opacity=\"1\" /><path clip-path=\"url(#clip530)\" d=\"M1318.01 461.744 L1325.65 461.744 L1325.65 435.378 L1317.34 437.045 L1317.34 432.786 L1325.6 431.119 L1330.28 431.119 L1330.28 461.744 L1337.92 461.744 L1337.92 465.679 L1318.01 465.679 L1318.01 461.744 Z\" fill=\"#000000\" fill-rule=\"nonzero\" fill-opacity=\"1\" /><path clip-path=\"url(#clip530)\" d=\"M1347.36 459.799 L1352.25 459.799 L1352.25 465.679 L1347.36 465.679 L1347.36 459.799 Z\" fill=\"#000000\" fill-rule=\"nonzero\" fill-opacity=\"1\" /><path clip-path=\"url(#clip530)\" d=\"M1362.48 431.119 L1380.83 431.119 L1380.83 435.054 L1366.76 435.054 L1366.76 443.526 Q1367.78 443.179 1368.8 443.017 Q1369.82 442.832 1370.83 442.832 Q1376.62 442.832 1380 446.003 Q1383.38 449.175 1383.38 454.591 Q1383.38 460.17 1379.91 463.272 Q1376.44 466.35 1370.12 466.35 Q1367.94 466.35 1365.67 465.98 Q1363.43 465.61 1361.02 464.869 L1361.02 460.17 Q1363.1 461.304 1365.32 461.86 Q1367.55 462.415 1370.02 462.415 Q1374.03 462.415 1376.37 460.309 Q1378.7 458.202 1378.7 454.591 Q1378.7 450.98 1376.37 448.874 Q1374.03 446.767 1370.02 446.767 Q1368.15 446.767 1366.27 447.184 Q1364.42 447.6 1362.48 448.48 L1362.48 431.119 Z\" fill=\"#000000\" fill-rule=\"nonzero\" fill-opacity=\"1\" /><path clip-path=\"url(#clip530)\" d=\"M1320.23 136.817 L1336.55 136.817 L1336.55 140.752 L1314.61 140.752 L1314.61 136.817 Q1317.27 134.062 1321.85 129.433 Q1326.46 124.78 1327.64 123.437 Q1329.89 120.914 1330.76 119.178 Q1331.67 117.419 1331.67 115.729 Q1331.67 112.974 1329.72 111.238 Q1327.8 109.502 1324.7 109.502 Q1322.5 109.502 1320.05 110.266 Q1317.62 111.03 1314.84 112.581 L1314.84 107.859 Q1317.66 106.725 1320.12 106.146 Q1322.57 105.567 1324.61 105.567 Q1329.98 105.567 1333.17 108.252 Q1336.37 110.937 1336.37 115.428 Q1336.37 117.558 1335.56 119.479 Q1334.77 121.377 1332.66 123.97 Q1332.08 124.641 1328.98 127.859 Q1325.88 131.053 1320.23 136.817 Z\" fill=\"#000000\" fill-rule=\"nonzero\" fill-opacity=\"1\" /><path clip-path=\"url(#clip530)\" d=\"M1346.37 134.873 L1351.25 134.873 L1351.25 140.752 L1346.37 140.752 L1346.37 134.873 Z\" fill=\"#000000\" fill-rule=\"nonzero\" fill-opacity=\"1\" /><path clip-path=\"url(#clip530)\" d=\"M1371.44 109.271 Q1367.82 109.271 1366 112.836 Q1364.19 116.377 1364.19 123.507 Q1364.19 130.613 1366 134.178 Q1367.82 137.72 1371.44 137.72 Q1375.07 137.72 1376.88 134.178 Q1378.7 130.613 1378.7 123.507 Q1378.7 116.377 1376.88 112.836 Q1375.07 109.271 1371.44 109.271 M1371.44 105.567 Q1377.25 105.567 1380.3 110.174 Q1383.38 114.757 1383.38 123.507 Q1383.38 132.234 1380.3 136.84 Q1377.25 141.423 1371.44 141.423 Q1365.63 141.423 1362.55 136.84 Q1359.49 132.234 1359.49 123.507 Q1359.49 114.757 1362.55 110.174 Q1365.63 105.567 1371.44 105.567 Z\" fill=\"#000000\" fill-rule=\"nonzero\" fill-opacity=\"1\" /><path clip-path=\"url(#clip530)\" d=\"M1216.48 937.529 L1216.48 910.221 L1221.9 910.221 L1221.9 931.1 L1235.9 931.1 L1235.9 912.258 L1241.31 912.258 L1241.31 931.1 L1264 931.1 L1264 937.529 L1216.48 937.529 Z\" fill=\"#000000\" fill-rule=\"nonzero\" fill-opacity=\"1\" /><path clip-path=\"url(#clip530)\" d=\"M1233.83 884.376 Q1233.26 885.362 1233 886.54 Q1232.72 887.686 1232.72 889.086 Q1232.72 894.052 1235.96 896.725 Q1239.18 899.367 1245.23 899.367 L1264 899.367 L1264 905.255 L1228.36 905.255 L1228.36 899.367 L1233.89 899.367 Q1230.65 897.521 1229.09 894.561 Q1227.5 891.601 1227.5 887.368 Q1227.5 886.763 1227.59 886.031 Q1227.66 885.299 1227.82 884.408 L1233.83 884.376 Z\" fill=\"#000000\" fill-rule=\"nonzero\" fill-opacity=\"1\" /><path clip-path=\"url(#clip530)\" d=\"M1244.72 849.173 L1247.58 849.173 L1247.58 876.1 Q1253.63 875.718 1256.81 872.472 Q1259.96 869.194 1259.96 863.369 Q1259.96 859.995 1259.13 856.844 Q1258.31 853.661 1256.65 850.542 L1262.19 850.542 Q1263.53 853.693 1264.23 857.003 Q1264.93 860.313 1264.93 863.719 Q1264.93 872.249 1259.96 877.246 Q1255 882.211 1246.53 882.211 Q1237.78 882.211 1232.65 877.501 Q1227.5 872.758 1227.5 864.738 Q1227.5 857.544 1232.14 853.375 Q1236.76 849.173 1244.72 849.173 M1243 855.03 Q1238.19 855.093 1235.33 857.735 Q1232.46 860.345 1232.46 864.674 Q1232.46 869.575 1235.23 872.536 Q1238 875.464 1243.03 875.909 L1243 855.03 M1211.87 860.663 L1211.87 854.33 L1223.84 864.706 L1223.84 869.575 L1211.87 860.663 Z\" fill=\"#000000\" fill-rule=\"nonzero\" fill-opacity=\"1\" /><path clip-path=\"url(#clip530)\" d=\"M1246.21 836.06 Q1252.67 836.06 1256.37 833.418 Q1260.03 830.745 1260.03 826.098 Q1260.03 821.451 1256.37 818.777 Q1252.67 816.104 1246.21 816.104 Q1239.75 816.104 1236.09 818.777 Q1232.4 821.451 1232.4 826.098 Q1232.4 830.745 1236.09 833.418 Q1239.75 836.06 1246.21 836.06 M1258.66 816.104 Q1261.84 817.95 1263.4 820.782 Q1264.93 823.583 1264.93 827.53 Q1264.93 833.991 1259.77 838.065 Q1254.61 842.107 1246.21 842.107 Q1237.81 842.107 1232.65 838.065 Q1227.5 833.991 1227.5 827.53 Q1227.5 823.583 1229.06 820.782 Q1230.58 817.95 1233.77 816.104 L1228.36 816.104 L1228.36 810.247 L1277.56 810.247 L1277.56 816.104 L1258.66 816.104 Z\" fill=\"#000000\" fill-rule=\"nonzero\" fill-opacity=\"1\" /><path clip-path=\"url(#clip530)\" d=\"M1249.94 798.789 L1228.36 798.789 L1228.36 792.932 L1249.71 792.932 Q1254.77 792.932 1257.32 790.959 Q1259.83 788.986 1259.83 785.039 Q1259.83 780.296 1256.81 777.559 Q1253.79 774.79 1248.57 774.79 L1228.36 774.79 L1228.36 768.934 L1264 768.934 L1264 774.79 L1258.53 774.79 Q1261.78 776.923 1263.37 779.755 Q1264.93 782.556 1264.93 786.28 Q1264.93 792.423 1261.11 795.606 Q1257.29 798.789 1249.94 798.789 M1227.5 784.052 L1227.5 784.052 Z\" fill=\"#000000\" fill-rule=\"nonzero\" fill-opacity=\"1\" /><path clip-path=\"url(#clip530)\" d=\"M1244.72 726.379 L1247.58 726.379 L1247.58 753.306 Q1253.63 752.924 1256.81 749.677 Q1259.96 746.399 1259.96 740.574 Q1259.96 737.201 1259.13 734.05 Q1258.31 730.867 1256.65 727.748 L1262.19 727.748 Q1263.53 730.899 1264.23 734.209 Q1264.93 737.519 1264.93 740.925 Q1264.93 749.455 1259.96 754.452 Q1255 759.417 1246.53 759.417 Q1237.78 759.417 1232.65 754.706 Q1227.5 749.964 1227.5 741.943 Q1227.5 734.75 1232.14 730.58 Q1236.76 726.379 1244.72 726.379 M1243 732.235 Q1238.19 732.299 1235.33 734.941 Q1232.46 737.551 1232.46 741.879 Q1232.46 746.781 1235.23 749.741 Q1238 752.669 1243.03 753.115 L1243 732.235 Z\" fill=\"#000000\" fill-rule=\"nonzero\" fill-opacity=\"1\" /><path clip-path=\"url(#clip530)\" d=\"M1242.49 687.134 L1264 687.134 L1264 692.991 L1242.68 692.991 Q1237.62 692.991 1235.1 694.964 Q1232.59 696.938 1232.59 700.884 Q1232.59 705.627 1235.61 708.364 Q1238.64 711.101 1243.86 711.101 L1264 711.101 L1264 716.989 L1228.36 716.989 L1228.36 711.101 L1233.89 711.101 Q1230.68 709.001 1229.09 706.168 Q1227.5 703.303 1227.5 699.579 Q1227.5 693.436 1231.32 690.285 Q1235.1 687.134 1242.49 687.134 Z\" fill=\"#000000\" fill-rule=\"nonzero\" fill-opacity=\"1\" /><path clip-path=\"url(#clip530)\" d=\"M1229.72 649.799 L1235.2 649.799 Q1233.83 652.282 1233.16 654.797 Q1232.46 657.279 1232.46 659.825 Q1232.46 665.523 1236.09 668.674 Q1239.69 671.825 1246.21 671.825 Q1252.74 671.825 1256.37 668.674 Q1259.96 665.523 1259.96 659.825 Q1259.96 657.279 1259.29 654.797 Q1258.59 652.282 1257.22 649.799 L1262.64 649.799 Q1263.78 652.25 1264.35 654.892 Q1264.93 657.502 1264.93 660.462 Q1264.93 668.515 1259.87 673.257 Q1254.81 678 1246.21 678 Q1237.49 678 1232.49 673.225 Q1227.5 668.419 1227.5 660.08 Q1227.5 657.375 1228.07 654.797 Q1228.61 652.218 1229.72 649.799 Z\" fill=\"#000000\" fill-rule=\"nonzero\" fill-opacity=\"1\" /><path clip-path=\"url(#clip530)\" d=\"M1244.72 609.123 L1247.58 609.123 L1247.58 636.05 Q1253.63 635.668 1256.81 632.421 Q1259.96 629.143 1259.96 623.318 Q1259.96 619.944 1259.13 616.793 Q1258.31 613.61 1256.65 610.491 L1262.19 610.491 Q1263.53 613.642 1264.23 616.952 Q1264.93 620.263 1264.93 623.668 Q1264.93 632.198 1259.96 637.195 Q1255 642.161 1246.53 642.161 Q1237.78 642.161 1232.65 637.45 Q1227.5 632.708 1227.5 624.687 Q1227.5 617.493 1232.14 613.324 Q1236.76 609.123 1244.72 609.123 M1243 614.979 Q1238.19 615.043 1235.33 617.684 Q1232.46 620.294 1232.46 624.623 Q1232.46 629.525 1235.23 632.485 Q1238 635.413 1243.03 635.859 L1243 614.979 Z\" fill=\"#000000\" fill-rule=\"nonzero\" fill-opacity=\"1\" /><path clip-path=\"url(#clip530)\" d=\"M1476.87 12.096 L1485.05 12.096 L1485.05 36.8875 L1514.78 36.8875 L1514.78 12.096 L1522.97 12.096 L1522.97 72.576 L1514.78 72.576 L1514.78 43.7741 L1485.05 43.7741 L1485.05 72.576 L1476.87 72.576 L1476.87 12.096 Z\" fill=\"#000000\" fill-rule=\"nonzero\" fill-opacity=\"1\" /><path clip-path=\"url(#clip530)\" d=\"M1538.93 27.2059 L1546.38 27.2059 L1546.38 72.576 L1538.93 72.576 L1538.93 27.2059 M1538.93 9.54393 L1546.38 9.54393 L1546.38 18.9825 L1538.93 18.9825 L1538.93 9.54393 Z\" fill=\"#000000\" fill-rule=\"nonzero\" fill-opacity=\"1\" /><path clip-path=\"url(#clip530)\" d=\"M1590.9 28.5427 L1590.9 35.5912 Q1587.74 33.9709 1584.34 33.1607 Q1580.93 32.3505 1577.29 32.3505 Q1571.74 32.3505 1568.94 34.0519 Q1566.19 35.7533 1566.19 39.156 Q1566.19 41.7486 1568.17 43.2475 Q1570.16 44.7058 1576.15 46.0426 L1578.71 46.6097 Q1586.65 48.3111 1589.97 51.4303 Q1593.33 54.509 1593.33 60.0587 Q1593.33 66.3781 1588.31 70.0644 Q1583.32 73.7508 1574.57 73.7508 Q1570.93 73.7508 1566.96 73.0216 Q1563.03 72.3329 1558.65 70.9151 L1558.65 63.2184 Q1562.79 65.3654 1566.8 66.4591 Q1570.81 67.5124 1574.74 67.5124 Q1580 67.5124 1582.84 65.73 Q1585.67 63.9071 1585.67 60.6258 Q1585.67 57.5877 1583.61 55.9673 Q1581.58 54.3469 1574.65 52.8481 L1572.06 52.2405 Q1565.14 50.7821 1562.06 47.7845 Q1558.98 44.7463 1558.98 39.4801 Q1558.98 33.0797 1563.51 29.5959 Q1568.05 26.1121 1576.4 26.1121 Q1580.53 26.1121 1584.17 26.7198 Q1587.82 27.3274 1590.9 28.5427 Z\" fill=\"#000000\" fill-rule=\"nonzero\" fill-opacity=\"1\" /><path clip-path=\"url(#clip530)\" d=\"M1612.57 14.324 L1612.57 27.2059 L1627.92 27.2059 L1627.92 32.9987 L1612.57 32.9987 L1612.57 57.6282 Q1612.57 63.1779 1614.07 64.7578 Q1615.61 66.3376 1620.27 66.3376 L1627.92 66.3376 L1627.92 72.576 L1620.27 72.576 Q1611.64 72.576 1608.36 69.3758 Q1605.08 66.1351 1605.08 57.6282 L1605.08 32.9987 L1599.61 32.9987 L1599.61 27.2059 L1605.08 27.2059 L1605.08 14.324 L1612.57 14.324 Z\" fill=\"#000000\" fill-rule=\"nonzero\" fill-opacity=\"1\" /><path clip-path=\"url(#clip530)\" d=\"M1655.31 32.4315 Q1649.31 32.4315 1645.83 37.1306 Q1642.35 41.7891 1642.35 49.9314 Q1642.35 58.0738 1645.79 62.7728 Q1649.27 67.4314 1655.31 67.4314 Q1661.26 67.4314 1664.75 62.7323 Q1668.23 58.0333 1668.23 49.9314 Q1668.23 41.8701 1664.75 37.1711 Q1661.26 32.4315 1655.31 32.4315 M1655.31 26.1121 Q1665.03 26.1121 1670.58 32.4315 Q1676.13 38.7509 1676.13 49.9314 Q1676.13 61.0714 1670.58 67.4314 Q1665.03 73.7508 1655.31 73.7508 Q1645.55 73.7508 1640 67.4314 Q1634.49 61.0714 1634.49 49.9314 Q1634.49 38.7509 1640 32.4315 Q1645.55 26.1121 1655.31 26.1121 Z\" fill=\"#000000\" fill-rule=\"nonzero\" fill-opacity=\"1\" /><path clip-path=\"url(#clip530)\" d=\"M1718.34 49.3643 Q1718.34 41.2625 1714.98 36.8065 Q1711.66 32.3505 1705.62 32.3505 Q1699.63 32.3505 1696.26 36.8065 Q1692.94 41.2625 1692.94 49.3643 Q1692.94 57.4256 1696.26 61.8816 Q1699.63 66.3376 1705.62 66.3376 Q1711.66 66.3376 1714.98 61.8816 Q1718.34 57.4256 1718.34 49.3643 M1725.79 66.9452 Q1725.79 78.5308 1720.65 84.1616 Q1715.5 89.8329 1704.89 89.8329 Q1700.96 89.8329 1697.48 89.2252 Q1693.99 88.6581 1690.71 87.4428 L1690.71 80.1917 Q1693.99 81.9741 1697.19 82.8248 Q1700.39 83.6755 1703.72 83.6755 Q1711.05 83.6755 1714.69 79.8271 Q1718.34 76.0193 1718.34 68.282 L1718.34 64.5957 Q1716.03 68.6061 1712.43 70.5911 Q1708.82 72.576 1703.8 72.576 Q1695.45 72.576 1690.35 66.2161 Q1685.24 59.8562 1685.24 49.3643 Q1685.24 38.832 1690.35 32.472 Q1695.45 26.1121 1703.8 26.1121 Q1708.82 26.1121 1712.43 28.0971 Q1716.03 30.082 1718.34 34.0924 L1718.34 27.2059 L1725.79 27.2059 L1725.79 66.9452 Z\" fill=\"#000000\" fill-rule=\"nonzero\" fill-opacity=\"1\" /><path clip-path=\"url(#clip530)\" d=\"M1767.44 34.1734 Q1766.18 33.4443 1764.68 33.1202 Q1763.22 32.7556 1761.44 32.7556 Q1755.12 32.7556 1751.72 36.8875 Q1748.36 40.9789 1748.36 48.6757 L1748.36 72.576 L1740.86 72.576 L1740.86 27.2059 L1748.36 27.2059 L1748.36 34.2544 Q1750.71 30.1225 1754.47 28.1376 Q1758.24 26.1121 1763.63 26.1121 Q1764.4 26.1121 1765.33 26.2337 Q1766.26 26.3147 1767.4 26.5172 L1767.44 34.1734 Z\" fill=\"#000000\" fill-rule=\"nonzero\" fill-opacity=\"1\" /><path clip-path=\"url(#clip530)\" d=\"M1795.87 49.7694 Q1786.84 49.7694 1783.36 51.8354 Q1779.87 53.9013 1779.87 58.8839 Q1779.87 62.8538 1782.47 65.2034 Q1785.1 67.5124 1789.6 67.5124 Q1795.79 67.5124 1799.52 63.1374 Q1803.29 58.7219 1803.29 51.4303 L1803.29 49.7694 L1795.87 49.7694 M1810.74 46.6907 L1810.74 72.576 L1803.29 72.576 L1803.29 65.6895 Q1800.74 69.8214 1796.93 71.8063 Q1793.12 73.7508 1787.61 73.7508 Q1780.64 73.7508 1776.51 69.8619 Q1772.42 65.9325 1772.42 59.3701 Q1772.42 51.7138 1777.52 47.825 Q1782.67 43.9361 1792.84 43.9361 L1803.29 43.9361 L1803.29 43.2069 Q1803.29 38.0623 1799.89 35.2672 Q1796.52 32.4315 1790.41 32.4315 Q1786.52 32.4315 1782.83 33.3632 Q1779.14 34.295 1775.74 36.1584 L1775.74 29.2718 Q1779.83 27.692 1783.68 26.9223 Q1787.53 26.1121 1791.18 26.1121 Q1801.02 26.1121 1805.88 31.2163 Q1810.74 36.3204 1810.74 46.6907 Z\" fill=\"#000000\" fill-rule=\"nonzero\" fill-opacity=\"1\" /><path clip-path=\"url(#clip530)\" d=\"M1861.42 35.9153 Q1864.21 30.8922 1868.1 28.5022 Q1871.99 26.1121 1877.26 26.1121 Q1884.35 26.1121 1888.19 31.0947 Q1892.04 36.0368 1892.04 45.1919 L1892.04 72.576 L1884.55 72.576 L1884.55 45.4349 Q1884.55 38.913 1882.24 35.7533 Q1879.93 32.5936 1875.19 32.5936 Q1869.4 32.5936 1866.04 36.4419 Q1862.67 40.2903 1862.67 46.9338 L1862.67 72.576 L1855.18 72.576 L1855.18 45.4349 Q1855.18 38.8725 1852.87 35.7533 Q1850.56 32.5936 1845.74 32.5936 Q1840.03 32.5936 1836.67 36.4824 Q1833.31 40.3308 1833.31 46.9338 L1833.31 72.576 L1825.81 72.576 L1825.81 27.2059 L1833.31 27.2059 L1833.31 34.2544 Q1835.86 30.082 1839.42 28.0971 Q1842.99 26.1121 1847.89 26.1121 Q1852.83 26.1121 1856.27 28.6237 Q1859.76 31.1352 1861.42 35.9153 Z\" fill=\"#000000\" fill-rule=\"nonzero\" fill-opacity=\"1\" /><path clip-path=\"url(#clip530)\" d=\"M1942.23 35.9153 Q1945.03 30.8922 1948.92 28.5022 Q1952.81 26.1121 1958.07 26.1121 Q1965.16 26.1121 1969.01 31.0947 Q1972.86 36.0368 1972.86 45.1919 L1972.86 72.576 L1965.36 72.576 L1965.36 45.4349 Q1965.36 38.913 1963.06 35.7533 Q1960.75 32.5936 1956.01 32.5936 Q1950.21 32.5936 1946.85 36.4419 Q1943.49 40.2903 1943.49 46.9338 L1943.49 72.576 L1936 72.576 L1936 45.4349 Q1936 38.8725 1933.69 35.7533 Q1931.38 32.5936 1926.56 32.5936 Q1920.85 32.5936 1917.48 36.4824 Q1914.12 40.3308 1914.12 46.9338 L1914.12 72.576 L1906.63 72.576 L1906.63 27.2059 L1914.12 27.2059 L1914.12 34.2544 Q1916.67 30.082 1920.24 28.0971 Q1923.8 26.1121 1928.7 26.1121 Q1933.65 26.1121 1937.09 28.6237 Q1940.57 31.1352 1942.23 35.9153 Z\" fill=\"#000000\" fill-rule=\"nonzero\" fill-opacity=\"1\" /><path clip-path=\"url(#clip530)\" d=\"M2026.53 48.0275 L2026.53 51.6733 L1992.26 51.6733 Q1992.75 59.3701 1996.88 63.421 Q2001.05 67.4314 2008.47 67.4314 Q2012.76 67.4314 2016.77 66.3781 Q2020.82 65.3249 2024.79 63.2184 L2024.79 70.267 Q2020.78 71.9684 2016.57 72.8596 Q2012.35 73.7508 2008.02 73.7508 Q1997.16 73.7508 1990.8 67.4314 Q1984.48 61.1119 1984.48 50.3365 Q1984.48 39.1965 1990.48 32.6746 Q1996.52 26.1121 2006.72 26.1121 Q2015.88 26.1121 2021.19 32.0264 Q2026.53 37.9003 2026.53 48.0275 M2019.08 45.84 Q2019 39.7232 2015.64 36.0774 Q2012.31 32.4315 2006.81 32.4315 Q2000.57 32.4315 1996.8 35.9558 Q1993.07 39.4801 1992.51 45.8805 L2019.08 45.84 Z\" fill=\"#000000\" fill-rule=\"nonzero\" fill-opacity=\"1\" /><path clip-path=\"url(#clip530)\" d=\"M2094.99 34.0924 L2094.99 9.54393 L2102.45 9.54393 L2102.45 72.576 L2094.99 72.576 L2094.99 65.7705 Q2092.64 69.8214 2089.04 71.8063 Q2085.47 73.7508 2080.45 73.7508 Q2072.23 73.7508 2067.04 67.1883 Q2061.9 60.6258 2061.9 49.9314 Q2061.9 39.2371 2067.04 32.6746 Q2072.23 26.1121 2080.45 26.1121 Q2085.47 26.1121 2089.04 28.0971 Q2092.64 30.0415 2094.99 34.0924 M2069.59 49.9314 Q2069.59 58.1548 2072.96 62.8538 Q2076.36 67.5124 2082.27 67.5124 Q2088.19 67.5124 2091.59 62.8538 Q2094.99 58.1548 2094.99 49.9314 Q2094.99 41.7081 2091.59 37.0496 Q2088.19 32.3505 2082.27 32.3505 Q2076.36 32.3505 2072.96 37.0496 Q2069.59 41.7081 2069.59 49.9314 Z\" fill=\"#000000\" fill-rule=\"nonzero\" fill-opacity=\"1\" /><path clip-path=\"url(#clip530)\" d=\"M2156.61 48.0275 L2156.61 51.6733 L2122.34 51.6733 Q2122.82 59.3701 2126.96 63.421 Q2131.13 67.4314 2138.54 67.4314 Q2142.83 67.4314 2146.84 66.3781 Q2150.9 65.3249 2154.87 63.2184 L2154.87 70.267 Q2150.86 71.9684 2146.64 72.8596 Q2142.43 73.7508 2138.1 73.7508 Q2127.24 73.7508 2120.88 67.4314 Q2114.56 61.1119 2114.56 50.3365 Q2114.56 39.1965 2120.55 32.6746 Q2126.59 26.1121 2136.8 26.1121 Q2145.95 26.1121 2151.26 32.0264 Q2156.61 37.9003 2156.61 48.0275 M2149.15 45.84 Q2149.07 39.7232 2145.71 36.0774 Q2142.39 32.4315 2136.88 32.4315 Q2130.64 32.4315 2126.87 35.9558 Q2123.15 39.4801 2122.58 45.8805 L2149.15 45.84 Z\" fill=\"#000000\" fill-rule=\"nonzero\" fill-opacity=\"1\" /><path clip-path=\"url(#clip530)\" d=\"M2192.62 12.096 L2201.41 12.096 L2216.44 34.5785 L2231.55 12.096 L2240.34 12.096 L2220.9 41.141 L2241.64 72.576 L2232.85 72.576 L2215.83 46.8528 L2198.7 72.576 L2189.87 72.576 L2211.46 40.2903 L2192.62 12.096 Z\" fill=\"#000000\" fill-rule=\"nonzero\" fill-opacity=\"1\" /><path clip-path=\"url(#clip530)\" d=\"M2260.55 43.6931 L2260.55 65.8515 L2273.68 65.8515 Q2280.28 65.8515 2283.44 63.1374 Q2286.64 60.3828 2286.64 54.752 Q2286.64 49.0808 2283.44 46.4072 Q2280.28 43.6931 2273.68 43.6931 L2260.55 43.6931 M2260.55 18.8205 L2260.55 37.0496 L2272.67 37.0496 Q2278.66 37.0496 2281.58 34.8216 Q2284.54 32.5531 2284.54 27.935 Q2284.54 23.3575 2281.58 21.089 Q2278.66 18.8205 2272.67 18.8205 L2260.55 18.8205 M2252.37 12.096 L2273.27 12.096 Q2282.63 12.096 2287.69 15.9849 Q2292.76 19.8737 2292.76 27.0438 Q2292.76 32.5936 2290.17 35.8748 Q2287.57 39.156 2282.55 39.9662 Q2288.59 41.2625 2291.91 45.3944 Q2295.27 49.4858 2295.27 55.6432 Q2295.27 63.745 2289.76 68.1605 Q2284.25 72.576 2274.08 72.576 L2252.37 72.576 L2252.37 12.096 Z\" fill=\"#000000\" fill-rule=\"nonzero\" fill-opacity=\"1\" /><path clip-path=\"url(#clip533)\" d=\"M1470.72 773.326 L1470.72 1423.18 L1506.83 1423.18 L1506.83 773.326 L1470.72 773.326 L1470.72 773.326  Z\" fill=\"#009af9\" fill-rule=\"evenodd\" fill-opacity=\"1\"/>\n",
       "<polyline clip-path=\"url(#clip533)\" style=\"stroke:#000000; stroke-linecap:round; stroke-linejoin:round; stroke-width:4; stroke-opacity:1; fill:none\" points=\"1470.72,773.326 1470.72,1423.18 1506.83,1423.18 1506.83,773.326 1470.72,773.326 \"/>\n",
       "<path clip-path=\"url(#clip533)\" d=\"M1506.83 1423.18 L1506.83 1423.18 L1542.95 1423.18 L1542.95 1423.18 L1506.83 1423.18 L1506.83 1423.18  Z\" fill=\"#009af9\" fill-rule=\"evenodd\" fill-opacity=\"1\"/>\n",
       "<polyline clip-path=\"url(#clip533)\" style=\"stroke:#000000; stroke-linecap:round; stroke-linejoin:round; stroke-width:4; stroke-opacity:1; fill:none\" points=\"1506.83,1423.18 1506.83,1423.18 1542.95,1423.18 1506.83,1423.18 \"/>\n",
       "<path clip-path=\"url(#clip533)\" d=\"M1542.95 1423.18 L1542.95 1423.18 L1579.07 1423.18 L1579.07 1423.18 L1542.95 1423.18 L1542.95 1423.18  Z\" fill=\"#009af9\" fill-rule=\"evenodd\" fill-opacity=\"1\"/>\n",
       "<polyline clip-path=\"url(#clip533)\" style=\"stroke:#000000; stroke-linecap:round; stroke-linejoin:round; stroke-width:4; stroke-opacity:1; fill:none\" points=\"1542.95,1423.18 1542.95,1423.18 1579.07,1423.18 1542.95,1423.18 \"/>\n",
       "<path clip-path=\"url(#clip533)\" d=\"M1579.07 1423.18 L1579.07 1423.18 L1615.19 1423.18 L1615.19 1423.18 L1579.07 1423.18 L1579.07 1423.18  Z\" fill=\"#009af9\" fill-rule=\"evenodd\" fill-opacity=\"1\"/>\n",
       "<polyline clip-path=\"url(#clip533)\" style=\"stroke:#000000; stroke-linecap:round; stroke-linejoin:round; stroke-width:4; stroke-opacity:1; fill:none\" points=\"1579.07,1423.18 1579.07,1423.18 1615.19,1423.18 1579.07,1423.18 \"/>\n",
       "<path clip-path=\"url(#clip533)\" d=\"M1615.19 1423.18 L1615.19 1423.18 L1651.3 1423.18 L1651.3 1423.18 L1615.19 1423.18 L1615.19 1423.18  Z\" fill=\"#009af9\" fill-rule=\"evenodd\" fill-opacity=\"1\"/>\n",
       "<polyline clip-path=\"url(#clip533)\" style=\"stroke:#000000; stroke-linecap:round; stroke-linejoin:round; stroke-width:4; stroke-opacity:1; fill:none\" points=\"1615.19,1423.18 1615.19,1423.18 1651.3,1423.18 1615.19,1423.18 \"/>\n",
       "<path clip-path=\"url(#clip533)\" d=\"M1651.3 1423.18 L1651.3 1423.18 L1687.42 1423.18 L1687.42 1423.18 L1651.3 1423.18 L1651.3 1423.18  Z\" fill=\"#009af9\" fill-rule=\"evenodd\" fill-opacity=\"1\"/>\n",
       "<polyline clip-path=\"url(#clip533)\" style=\"stroke:#000000; stroke-linecap:round; stroke-linejoin:round; stroke-width:4; stroke-opacity:1; fill:none\" points=\"1651.3,1423.18 1651.3,1423.18 1687.42,1423.18 1651.3,1423.18 \"/>\n",
       "<path clip-path=\"url(#clip533)\" d=\"M1687.42 1423.18 L1687.42 1423.18 L1723.54 1423.18 L1723.54 1423.18 L1687.42 1423.18 L1687.42 1423.18  Z\" fill=\"#009af9\" fill-rule=\"evenodd\" fill-opacity=\"1\"/>\n",
       "<polyline clip-path=\"url(#clip533)\" style=\"stroke:#000000; stroke-linecap:round; stroke-linejoin:round; stroke-width:4; stroke-opacity:1; fill:none\" points=\"1687.42,1423.18 1687.42,1423.18 1723.54,1423.18 1687.42,1423.18 \"/>\n",
       "<path clip-path=\"url(#clip533)\" d=\"M1723.54 1423.18 L1723.54 1423.18 L1759.66 1423.18 L1759.66 1423.18 L1723.54 1423.18 L1723.54 1423.18  Z\" fill=\"#009af9\" fill-rule=\"evenodd\" fill-opacity=\"1\"/>\n",
       "<polyline clip-path=\"url(#clip533)\" style=\"stroke:#000000; stroke-linecap:round; stroke-linejoin:round; stroke-width:4; stroke-opacity:1; fill:none\" points=\"1723.54,1423.18 1723.54,1423.18 1759.66,1423.18 1723.54,1423.18 \"/>\n",
       "<path clip-path=\"url(#clip533)\" d=\"M1759.66 1423.18 L1759.66 1423.18 L1795.77 1423.18 L1795.77 1423.18 L1759.66 1423.18 L1759.66 1423.18  Z\" fill=\"#009af9\" fill-rule=\"evenodd\" fill-opacity=\"1\"/>\n",
       "<polyline clip-path=\"url(#clip533)\" style=\"stroke:#000000; stroke-linecap:round; stroke-linejoin:round; stroke-width:4; stroke-opacity:1; fill:none\" points=\"1759.66,1423.18 1759.66,1423.18 1795.77,1423.18 1759.66,1423.18 \"/>\n",
       "<path clip-path=\"url(#clip533)\" d=\"M1795.77 1423.18 L1795.77 1423.18 L1831.89 1423.18 L1831.89 1423.18 L1795.77 1423.18 L1795.77 1423.18  Z\" fill=\"#009af9\" fill-rule=\"evenodd\" fill-opacity=\"1\"/>\n",
       "<polyline clip-path=\"url(#clip533)\" style=\"stroke:#000000; stroke-linecap:round; stroke-linejoin:round; stroke-width:4; stroke-opacity:1; fill:none\" points=\"1795.77,1423.18 1795.77,1423.18 1831.89,1423.18 1795.77,1423.18 \"/>\n",
       "<path clip-path=\"url(#clip533)\" d=\"M1831.89 1423.18 L1831.89 1423.18 L1868.01 1423.18 L1868.01 1423.18 L1831.89 1423.18 L1831.89 1423.18  Z\" fill=\"#009af9\" fill-rule=\"evenodd\" fill-opacity=\"1\"/>\n",
       "<polyline clip-path=\"url(#clip533)\" style=\"stroke:#000000; stroke-linecap:round; stroke-linejoin:round; stroke-width:4; stroke-opacity:1; fill:none\" points=\"1831.89,1423.18 1831.89,1423.18 1868.01,1423.18 1831.89,1423.18 \"/>\n",
       "<path clip-path=\"url(#clip533)\" d=\"M1868.01 773.326 L1868.01 1423.18 L1904.13 1423.18 L1904.13 773.326 L1868.01 773.326 L1868.01 773.326  Z\" fill=\"#009af9\" fill-rule=\"evenodd\" fill-opacity=\"1\"/>\n",
       "<polyline clip-path=\"url(#clip533)\" style=\"stroke:#000000; stroke-linecap:round; stroke-linejoin:round; stroke-width:4; stroke-opacity:1; fill:none\" points=\"1868.01,773.326 1868.01,1423.18 1904.13,1423.18 1904.13,773.326 1868.01,773.326 \"/>\n",
       "<path clip-path=\"url(#clip533)\" d=\"M1904.13 1423.18 L1904.13 1423.18 L1940.24 1423.18 L1940.24 1423.18 L1904.13 1423.18 L1904.13 1423.18  Z\" fill=\"#009af9\" fill-rule=\"evenodd\" fill-opacity=\"1\"/>\n",
       "<polyline clip-path=\"url(#clip533)\" style=\"stroke:#000000; stroke-linecap:round; stroke-linejoin:round; stroke-width:4; stroke-opacity:1; fill:none\" points=\"1904.13,1423.18 1904.13,1423.18 1940.24,1423.18 1904.13,1423.18 \"/>\n",
       "<path clip-path=\"url(#clip533)\" d=\"M1940.24 1423.18 L1940.24 1423.18 L1976.36 1423.18 L1976.36 1423.18 L1940.24 1423.18 L1940.24 1423.18  Z\" fill=\"#009af9\" fill-rule=\"evenodd\" fill-opacity=\"1\"/>\n",
       "<polyline clip-path=\"url(#clip533)\" style=\"stroke:#000000; stroke-linecap:round; stroke-linejoin:round; stroke-width:4; stroke-opacity:1; fill:none\" points=\"1940.24,1423.18 1940.24,1423.18 1976.36,1423.18 1940.24,1423.18 \"/>\n",
       "<path clip-path=\"url(#clip533)\" d=\"M1976.36 123.472 L1976.36 1423.18 L2012.48 1423.18 L2012.48 123.472 L1976.36 123.472 L1976.36 123.472  Z\" fill=\"#009af9\" fill-rule=\"evenodd\" fill-opacity=\"1\"/>\n",
       "<polyline clip-path=\"url(#clip533)\" style=\"stroke:#000000; stroke-linecap:round; stroke-linejoin:round; stroke-width:4; stroke-opacity:1; fill:none\" points=\"1976.36,123.472 1976.36,1423.18 2012.48,1423.18 2012.48,123.472 1976.36,123.472 \"/>\n",
       "<path clip-path=\"url(#clip533)\" d=\"M2012.48 773.326 L2012.48 1423.18 L2048.6 1423.18 L2048.6 773.326 L2012.48 773.326 L2012.48 773.326  Z\" fill=\"#009af9\" fill-rule=\"evenodd\" fill-opacity=\"1\"/>\n",
       "<polyline clip-path=\"url(#clip533)\" style=\"stroke:#000000; stroke-linecap:round; stroke-linejoin:round; stroke-width:4; stroke-opacity:1; fill:none\" points=\"2012.48,773.326 2012.48,1423.18 2048.6,1423.18 2048.6,773.326 2012.48,773.326 \"/>\n",
       "<path clip-path=\"url(#clip533)\" d=\"M2048.6 1423.18 L2048.6 1423.18 L2084.71 1423.18 L2084.71 1423.18 L2048.6 1423.18 L2048.6 1423.18  Z\" fill=\"#009af9\" fill-rule=\"evenodd\" fill-opacity=\"1\"/>\n",
       "<polyline clip-path=\"url(#clip533)\" style=\"stroke:#000000; stroke-linecap:round; stroke-linejoin:round; stroke-width:4; stroke-opacity:1; fill:none\" points=\"2048.6,1423.18 2048.6,1423.18 2084.71,1423.18 2048.6,1423.18 \"/>\n",
       "<path clip-path=\"url(#clip533)\" d=\"M2084.71 773.326 L2084.71 1423.18 L2120.83 1423.18 L2120.83 773.326 L2084.71 773.326 L2084.71 773.326  Z\" fill=\"#009af9\" fill-rule=\"evenodd\" fill-opacity=\"1\"/>\n",
       "<polyline clip-path=\"url(#clip533)\" style=\"stroke:#000000; stroke-linecap:round; stroke-linejoin:round; stroke-width:4; stroke-opacity:1; fill:none\" points=\"2084.71,773.326 2084.71,1423.18 2120.83,1423.18 2120.83,773.326 2084.71,773.326 \"/>\n",
       "<path clip-path=\"url(#clip533)\" d=\"M2120.83 773.326 L2120.83 1423.18 L2156.95 1423.18 L2156.95 773.326 L2120.83 773.326 L2120.83 773.326  Z\" fill=\"#009af9\" fill-rule=\"evenodd\" fill-opacity=\"1\"/>\n",
       "<polyline clip-path=\"url(#clip533)\" style=\"stroke:#000000; stroke-linecap:round; stroke-linejoin:round; stroke-width:4; stroke-opacity:1; fill:none\" points=\"2120.83,773.326 2120.83,1423.18 2156.95,1423.18 2156.95,773.326 2120.83,773.326 \"/>\n",
       "<path clip-path=\"url(#clip533)\" d=\"M2156.95 1423.18 L2156.95 1423.18 L2193.07 1423.18 L2193.07 1423.18 L2156.95 1423.18 L2156.95 1423.18  Z\" fill=\"#009af9\" fill-rule=\"evenodd\" fill-opacity=\"1\"/>\n",
       "<polyline clip-path=\"url(#clip533)\" style=\"stroke:#000000; stroke-linecap:round; stroke-linejoin:round; stroke-width:4; stroke-opacity:1; fill:none\" points=\"2156.95,1423.18 2156.95,1423.18 2193.07,1423.18 2156.95,1423.18 \"/>\n",
       "<path clip-path=\"url(#clip533)\" d=\"M2193.07 123.472 L2193.07 1423.18 L2229.18 1423.18 L2229.18 123.472 L2193.07 123.472 L2193.07 123.472  Z\" fill=\"#009af9\" fill-rule=\"evenodd\" fill-opacity=\"1\"/>\n",
       "<polyline clip-path=\"url(#clip533)\" style=\"stroke:#000000; stroke-linecap:round; stroke-linejoin:round; stroke-width:4; stroke-opacity:1; fill:none\" points=\"2193.07,123.472 2193.07,1423.18 2229.18,1423.18 2229.18,123.472 2193.07,123.472 \"/>\n",
       "<path clip-path=\"url(#clip533)\" d=\"M2229.18 1423.18 L2229.18 1423.18 L2265.3 1423.18 L2265.3 1423.18 L2229.18 1423.18 L2229.18 1423.18  Z\" fill=\"#009af9\" fill-rule=\"evenodd\" fill-opacity=\"1\"/>\n",
       "<polyline clip-path=\"url(#clip533)\" style=\"stroke:#000000; stroke-linecap:round; stroke-linejoin:round; stroke-width:4; stroke-opacity:1; fill:none\" points=\"2229.18,1423.18 2229.18,1423.18 2265.3,1423.18 2229.18,1423.18 \"/>\n",
       "<path clip-path=\"url(#clip533)\" d=\"M2265.3 773.326 L2265.3 1423.18 L2301.42 1423.18 L2301.42 773.326 L2265.3 773.326 L2265.3 773.326  Z\" fill=\"#009af9\" fill-rule=\"evenodd\" fill-opacity=\"1\"/>\n",
       "<polyline clip-path=\"url(#clip533)\" style=\"stroke:#000000; stroke-linecap:round; stroke-linejoin:round; stroke-width:4; stroke-opacity:1; fill:none\" points=\"2265.3,773.326 2265.3,1423.18 2301.42,1423.18 2301.42,773.326 2265.3,773.326 \"/>\n",
       "<circle clip-path=\"url(#clip533)\" style=\"fill:#009af9; stroke:none; fill-opacity:0\" cx=\"1488.78\" cy=\"773.326\" r=\"2\"/>\n",
       "<circle clip-path=\"url(#clip533)\" style=\"fill:#009af9; stroke:none; fill-opacity:0\" cx=\"1524.89\" cy=\"1423.18\" r=\"2\"/>\n",
       "<circle clip-path=\"url(#clip533)\" style=\"fill:#009af9; stroke:none; fill-opacity:0\" cx=\"1561.01\" cy=\"1423.18\" r=\"2\"/>\n",
       "<circle clip-path=\"url(#clip533)\" style=\"fill:#009af9; stroke:none; fill-opacity:0\" cx=\"1597.13\" cy=\"1423.18\" r=\"2\"/>\n",
       "<circle clip-path=\"url(#clip533)\" style=\"fill:#009af9; stroke:none; fill-opacity:0\" cx=\"1633.25\" cy=\"1423.18\" r=\"2\"/>\n",
       "<circle clip-path=\"url(#clip533)\" style=\"fill:#009af9; stroke:none; fill-opacity:0\" cx=\"1669.36\" cy=\"1423.18\" r=\"2\"/>\n",
       "<circle clip-path=\"url(#clip533)\" style=\"fill:#009af9; stroke:none; fill-opacity:0\" cx=\"1705.48\" cy=\"1423.18\" r=\"2\"/>\n",
       "<circle clip-path=\"url(#clip533)\" style=\"fill:#009af9; stroke:none; fill-opacity:0\" cx=\"1741.6\" cy=\"1423.18\" r=\"2\"/>\n",
       "<circle clip-path=\"url(#clip533)\" style=\"fill:#009af9; stroke:none; fill-opacity:0\" cx=\"1777.72\" cy=\"1423.18\" r=\"2\"/>\n",
       "<circle clip-path=\"url(#clip533)\" style=\"fill:#009af9; stroke:none; fill-opacity:0\" cx=\"1813.83\" cy=\"1423.18\" r=\"2\"/>\n",
       "<circle clip-path=\"url(#clip533)\" style=\"fill:#009af9; stroke:none; fill-opacity:0\" cx=\"1849.95\" cy=\"1423.18\" r=\"2\"/>\n",
       "<circle clip-path=\"url(#clip533)\" style=\"fill:#009af9; stroke:none; fill-opacity:0\" cx=\"1886.07\" cy=\"773.326\" r=\"2\"/>\n",
       "<circle clip-path=\"url(#clip533)\" style=\"fill:#009af9; stroke:none; fill-opacity:0\" cx=\"1922.19\" cy=\"1423.18\" r=\"2\"/>\n",
       "<circle clip-path=\"url(#clip533)\" style=\"fill:#009af9; stroke:none; fill-opacity:0\" cx=\"1958.3\" cy=\"1423.18\" r=\"2\"/>\n",
       "<circle clip-path=\"url(#clip533)\" style=\"fill:#009af9; stroke:none; fill-opacity:0\" cx=\"1994.42\" cy=\"123.472\" r=\"2\"/>\n",
       "<circle clip-path=\"url(#clip533)\" style=\"fill:#009af9; stroke:none; fill-opacity:0\" cx=\"2030.54\" cy=\"773.326\" r=\"2\"/>\n",
       "<circle clip-path=\"url(#clip533)\" style=\"fill:#009af9; stroke:none; fill-opacity:0\" cx=\"2066.66\" cy=\"1423.18\" r=\"2\"/>\n",
       "<circle clip-path=\"url(#clip533)\" style=\"fill:#009af9; stroke:none; fill-opacity:0\" cx=\"2102.77\" cy=\"773.326\" r=\"2\"/>\n",
       "<circle clip-path=\"url(#clip533)\" style=\"fill:#009af9; stroke:none; fill-opacity:0\" cx=\"2138.89\" cy=\"773.326\" r=\"2\"/>\n",
       "<circle clip-path=\"url(#clip533)\" style=\"fill:#009af9; stroke:none; fill-opacity:0\" cx=\"2175.01\" cy=\"1423.18\" r=\"2\"/>\n",
       "<circle clip-path=\"url(#clip533)\" style=\"fill:#009af9; stroke:none; fill-opacity:0\" cx=\"2211.12\" cy=\"123.472\" r=\"2\"/>\n",
       "<circle clip-path=\"url(#clip533)\" style=\"fill:#009af9; stroke:none; fill-opacity:0\" cx=\"2247.24\" cy=\"1423.18\" r=\"2\"/>\n",
       "<circle clip-path=\"url(#clip533)\" style=\"fill:#009af9; stroke:none; fill-opacity:0\" cx=\"2283.36\" cy=\"773.326\" r=\"2\"/>\n",
       "<path clip-path=\"url(#clip530)\" d=\"M1450.49 270.476 L1596.26 270.476 L1596.26 166.796 L1450.49 166.796  Z\" fill=\"#ffffff\" fill-rule=\"evenodd\" fill-opacity=\"1\"/>\n",
       "<polyline clip-path=\"url(#clip530)\" style=\"stroke:#000000; stroke-linecap:round; stroke-linejoin:round; stroke-width:4; stroke-opacity:1; fill:none\" points=\"1450.49,270.476 1596.26,270.476 1596.26,166.796 1450.49,166.796 1450.49,270.476 \"/>\n",
       "<path clip-path=\"url(#clip530)\" d=\"M1460.86 239.372 L1523.09 239.372 L1523.09 197.9 L1460.86 197.9 L1460.86 239.372  Z\" fill=\"#009af9\" fill-rule=\"evenodd\" fill-opacity=\"1\"/>\n",
       "<polyline clip-path=\"url(#clip530)\" style=\"stroke:#000000; stroke-linecap:round; stroke-linejoin:round; stroke-width:4; stroke-opacity:1; fill:none\" points=\"1460.86,239.372 1523.09,239.372 1523.09,197.9 1460.86,197.9 1460.86,239.372 \"/>\n",
       "<path clip-path=\"url(#clip530)\" d=\"M1547.3 238.323 Q1545.5 242.953 1543.78 244.365 Q1542.07 245.777 1539.2 245.777 L1535.8 245.777 L1535.8 242.212 L1538.3 242.212 Q1540.06 242.212 1541.03 241.379 Q1542 240.545 1543.18 237.443 L1543.95 235.499 L1533.46 209.99 L1537.97 209.99 L1546.08 230.268 L1554.18 209.99 L1558.69 209.99 L1547.3 238.323 Z\" fill=\"#000000\" fill-rule=\"nonzero\" fill-opacity=\"1\" /><path clip-path=\"url(#clip530)\" d=\"M1565.98 231.981 L1573.62 231.981 L1573.62 205.615 L1565.31 207.282 L1565.31 203.022 L1573.57 201.356 L1578.25 201.356 L1578.25 231.981 L1585.89 231.981 L1585.89 235.916 L1565.98 235.916 L1565.98 231.981 Z\" fill=\"#000000\" fill-rule=\"nonzero\" fill-opacity=\"1\" /></svg>\n"
      ],
      "text/html": [
       "<img src=\"data:image/png;base64,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\" />"
      ]
     },
     "metadata": {},
     "output_type": "display_data"
    }
   ],
   "source": [
    "plot(\n",
    "    histogram(vec(XA), bins=20, xlabel=\"XA\", ylabel=\"Fréquence\", title=\"Histogramme de XA\"),\n",
    "    histogram(vec(XB), bins=20, xlabel=\"XB\", ylabel=\"Fréquence\", title=\"Histogramme de XB\"),\n",
    "    layout = (1,2)   # 1 ligne, 2 colonnes\n",
    ")\n"
   ]
  },
  {
   "cell_type": "code",
   "execution_count": 49,
   "id": "498db3b8",
   "metadata": {},
   "outputs": [
    {
     "data": {
      "text/plain": [
       "3×1000 OneHotMatrix(::Vector{UInt32}) with eltype Bool:\n",
       " ⋅  1  ⋅  ⋅  ⋅  ⋅  ⋅  ⋅  ⋅  ⋅  ⋅  ⋅  ⋅  …  ⋅  ⋅  1  ⋅  ⋅  ⋅  ⋅  ⋅  ⋅  ⋅  1  ⋅\n",
       " ⋅  ⋅  1  ⋅  ⋅  1  ⋅  ⋅  1  1  1  1  ⋅     ⋅  1  ⋅  ⋅  ⋅  1  1  1  1  ⋅  ⋅  1\n",
       " 1  ⋅  ⋅  1  1  ⋅  1  1  ⋅  ⋅  ⋅  ⋅  1     1  ⋅  ⋅  1  1  ⋅  ⋅  ⋅  ⋅  1  ⋅  ⋅"
      ]
     },
     "metadata": {},
     "output_type": "display_data"
    }
   ],
   "source": [
    "Ylevels = 1:4\n",
    "Zlevels = 1:3\n",
    "YA = Flux.onehotbatch(dba.Y, Ylevels)\n",
    "ZB = Flux.onehotbatch(dbb.Z, Zlevels)\n",
    "\n"
   ]
  },
  {
   "cell_type": "code",
   "execution_count": 18,
   "id": "8bdfabc8",
   "metadata": {},
   "outputs": [
    {
     "name": "stdout",
     "output_type": "stream",
     "text": [
      "[4, 4, 4, 4, 2, 1, 4, 4, 4, 4]Bool[0 0 0 0 0 1 0 0 0 0; 0 0 0 0 1 0 0 0 0 0; 0 0 0 0 0 0 0 0 0 0; 1 1 1 1 0 0 1 1 1 1]"
     ]
    }
   ],
   "source": [
    "show(dba.Y)\n",
    "show(YA)"
   ]
  },
  {
   "cell_type": "code",
   "execution_count": 19,
   "id": "c9c0b376",
   "metadata": {},
   "outputs": [
    {
     "name": "stdout",
     "output_type": "stream",
     "text": [
      "[1, 2, 1, 2, 2, 3, 3, 2, 2, 1]Bool[1 0 1 0 0 0 0 0 0 1; 0 1 0 1 1 0 0 1 1 0; 0 0 0 0 0 1 1 0 0 0]"
     ]
    }
   ],
   "source": [
    "show(dbb.Z)\n",
    "show(ZB)"
   ]
  },
  {
   "cell_type": "code",
   "execution_count": 50,
   "id": "df0f03a8",
   "metadata": {},
   "outputs": [
    {
     "data": {
      "text/plain": [
       "1000×1000 Matrix{Float64}:\n",
       " 5.18707  3.48737  4.05077  5.40296  …  3.98224  4.70317  2.54045   4.27595\n",
       " 4.82184  3.12214  3.68554  5.03773     3.61701  4.33794  2.17522   3.91072\n",
       " 4.22726  2.52756  3.09097  4.44315     3.02243  3.74336  1.58064   3.31614\n",
       " 4.07057  2.37087  2.93427  4.28646     2.86574  3.58667  1.42395   3.15944\n",
       " 4.92642  3.22672  3.79012  5.14231     3.72159  4.44252  2.2798    4.0153\n",
       " 5.88795  4.18825  4.75165  6.10384  …  4.68312  5.40405  3.24133   4.97683\n",
       " 4.44176  2.74206  3.30546  4.65765     3.23693  3.95786  1.79514   3.53064\n",
       " 2.74734  1.04764  1.61105  2.96323     1.54252  2.26344  0.100725  1.83622\n",
       " 5.99467  4.29497  4.85837  6.21056     4.78984  5.51077  3.34805   5.08355\n",
       " 6.23182  4.53212  5.09552  6.44771     5.02699  5.74792  3.5852    5.32069\n",
       " ⋮                                   ⋱                              \n",
       " 3.68189  1.98219  2.54559  3.89778     2.47706  3.19799  1.03527   2.77077\n",
       " 4.65167  2.95197  3.51537  4.86756     3.44684  4.16777  2.00505   3.74055\n",
       " 6.17297  4.47327  5.03667  6.38886     4.96814  5.68907  3.52635   5.26185\n",
       " 3.71149  2.01179  2.57519  3.92738     2.50666  3.22759  1.06487   2.80037\n",
       " 3.55848  1.85878  2.42218  3.77437  …  2.35365  3.07458  0.911864  2.64736\n",
       " 5.0968   3.3971   3.96051  5.31269     3.89197  4.6129   2.45018   4.18568\n",
       " 3.22664  1.52694  2.09034  3.44253     2.02181  2.74274  0.580024  2.31552\n",
       " 6.55928  4.85958  5.42298  6.77517     5.35445  6.07538  3.91266   5.64816\n",
       " 5.03646  3.33676  3.90017  5.25235     3.83164  4.55256  2.38984   4.12534"
      ]
     },
     "metadata": {},
     "output_type": "display_data"
    },
    {
     "data": {
      "text/plain": [
       "1000-element Vector{Float64}:\n",
       " 0.001\n",
       " 0.001\n",
       " 0.001\n",
       " 0.001\n",
       " 0.001\n",
       " 0.001\n",
       " 0.001\n",
       " 0.001\n",
       " 0.001\n",
       " 0.001\n",
       " ⋮\n",
       " 0.001\n",
       " 0.001\n",
       " 0.001\n",
       " 0.001\n",
       " 0.001\n",
       " 0.001\n",
       " 0.001\n",
       " 0.001\n",
       " 0.001"
      ]
     },
     "metadata": {},
     "output_type": "display_data"
    },
    {
     "data": {
      "text/plain": [
       "1000-element Vector{Float64}:\n",
       " 0.001\n",
       " 0.001\n",
       " 0.001\n",
       " 0.001\n",
       " 0.001\n",
       " 0.001\n",
       " 0.001\n",
       " 0.001\n",
       " 0.001\n",
       " 0.001\n",
       " ⋮\n",
       " 0.001\n",
       " 0.001\n",
       " 0.001\n",
       " 0.001\n",
       " 0.001\n",
       " 0.001\n",
       " 0.001\n",
       " 0.001\n",
       " 0.001"
      ]
     },
     "metadata": {},
     "output_type": "display_data"
    }
   ],
   "source": [
    "using Distances\n",
    "nA = size(dba, 1)\n",
    "nB = size(dbb, 1)\n",
    "\n",
    "wa = ones(nA) ./ nA\n",
    "wb = ones(nB) ./ nB\n",
    "\n",
    "C0 = pairwise(Euclidean(), XA, XB, dims = 2)\n",
    "\n",
    "C = C0 #./ maximum(C0)\n",
    "C2=C.^2\n",
    "display(C)\n",
    "display(wa)\n",
    "display(wb)"
   ]
  },
  {
   "cell_type": "code",
   "execution_count": 51,
   "id": "97f889d5",
   "metadata": {},
   "outputs": [
    {
     "name": "stdout",
     "output_type": "stream",
     "text": [
      "(3, 1000)(1000, 1000)(4, 1000)"
     ]
    },
    {
     "data": {
      "text/plain": [
       "4×1000 Matrix{Float64}:\n",
       " 0.0  0.0  0.0  0.0  0.0  0.0  0.0  0.0  …  0.0  0.0  0.0  0.0  0.0  1.0  0.0\n",
       " 0.0  1.0  1.0  0.0  0.0  1.0  0.0  0.0     0.0  0.0  0.0  1.0  0.0  0.0  1.0\n",
       " 0.0  0.0  0.0  0.0  0.0  0.0  1.0  0.0     0.0  0.0  1.0  0.0  0.0  0.0  0.0\n",
       " 1.0  0.0  0.0  1.0  1.0  0.0  0.0  1.0     1.0  1.0  0.0  0.0  1.0  0.0  0.0"
      ]
     },
     "metadata": {},
     "output_type": "display_data"
    }
   ],
   "source": [
    "using PythonOT\n",
    "\n",
    "reg = 0.0\n",
    "reg_m1 = 0.0\n",
    "reg_m2 = 0.0\n",
    "G = ones(length(wa), length(wb))\n",
    "\n",
    "#if reg > 0\n",
    "#        G .= PythonOT.mm_unbalanced(wa, wb, C, (reg_m1, reg_m2); reg = reg, div = \"kl\")\n",
    "#else\n",
    "G .= PythonOT.emd(wa, wb, C2)\n",
    "#end\n",
    "show(size(ZB))\n",
    "show(size(G'))\n",
    "show(size(YA))\n",
    "ZApred =  nA .* ZB * G'\n",
    "YBpred =nB .* YA * G"
   ]
  },
  {
   "cell_type": "code",
   "execution_count": 33,
   "id": "c74b8e87",
   "metadata": {},
   "outputs": [
    {
     "data": {
      "text/plain": [
       "1×10 Matrix{Float64}:\n",
       " 1.0  1.0  1.0  2.0  -0.0  -1.0  1.0  0.0  -0.0  1.0"
      ]
     },
     "metadata": {},
     "output_type": "display_data"
    },
    {
     "data": {
      "text/plain": [
       "10-element Vector{Float64}:\n",
       " -1.0\n",
       " -0.0\n",
       " -0.0\n",
       "  0.0\n",
       "  1.0\n",
       "  1.0\n",
       "  1.0\n",
       "  1.0\n",
       "  1.0\n",
       "  2.0"
      ]
     },
     "metadata": {},
     "output_type": "display_data"
    },
    {
     "data": {
      "text/plain": [
       "10-element Vector{Bool}:\n",
       " 0\n",
       " 0\n",
       " 0\n",
       " 0\n",
       " 0\n",
       " 0\n",
       " 0\n",
       " 0\n",
       " 1\n",
       " 1"
      ]
     },
     "metadata": {},
     "output_type": "display_data"
    },
    {
     "data": {
      "text/plain": [
       "10-element Vector{Int64}:\n",
       " 1\n",
       " 1\n",
       " 3\n",
       " 3\n",
       " 3\n",
       " 3\n",
       " 3\n",
       " 3\n",
       " 3\n",
       " 3"
      ]
     },
     "metadata": {},
     "output_type": "display_data"
    },
    {
     "data": {
      "text/plain": [
       "10-element Vector{Int64}:\n",
       "  6\n",
       "  5\n",
       "  9\n",
       "  8\n",
       "  1\n",
       "  2\n",
       "  3\n",
       "  7\n",
       " 10\n",
       "  4"
      ]
     },
     "metadata": {},
     "output_type": "display_data"
    },
    {
     "data": {
      "text/plain": [
       "10-element Vector{Float64}:\n",
       " 1.0\n",
       " 3.0\n",
       " 4.0\n",
       " 4.0\n",
       " 4.0\n",
       " 4.0\n",
       " 5.0\n",
       " 5.0\n",
       " 5.0\n",
       " 5.0"
      ]
     },
     "metadata": {},
     "output_type": "display_data"
    },
    {
     "data": {
      "text/plain": [
       "10-element Vector{Int64}:\n",
       "  3\n",
       " 10\n",
       "  1\n",
       "  4\n",
       "  5\n",
       "  9\n",
       "  2\n",
       "  6\n",
       "  7\n",
       "  8"
      ]
     },
     "metadata": {},
     "output_type": "display_data"
    },
    {
     "data": {
      "text/plain": [
       "10-element Vector{Bool}:\n",
       " 0\n",
       " 0\n",
       " 0\n",
       " 0\n",
       " 0\n",
       " 0\n",
       " 0\n",
       " 1\n",
       " 1\n",
       " 1"
      ]
     },
     "metadata": {},
     "output_type": "display_data"
    },
    {
     "data": {
      "text/plain": [
       "10-element Vector{Int64}:\n",
       " 1\n",
       " 1\n",
       " 2\n",
       " 2\n",
       " 3\n",
       " 3\n",
       " 3\n",
       " 3\n",
       " 4\n",
       " 4"
      ]
     },
     "metadata": {},
     "output_type": "display_data"
    },
    {
     "data": {
      "text/plain": [
       "10×10 Matrix{Float64}:\n",
       " 0.0  0.0  0.1  0.0  0.0  0.0  0.0  0.0  0.0  0.0\n",
       " 0.0  0.0  0.0  0.0  0.0  0.0  0.0  0.0  0.0  0.1\n",
       " 0.0  0.0  0.0  0.0  0.1  0.0  0.0  0.0  0.0  0.0\n",
       " 0.0  0.0  0.0  0.1  0.0  0.0  0.0  0.0  0.0  0.0\n",
       " 0.1  0.0  0.0  0.0  0.0  0.0  0.0  0.0  0.0  0.0\n",
       " 0.0  0.0  0.0  0.0  0.0  0.0  0.0  0.1  0.0  0.0\n",
       " 0.0  0.0  0.0  0.0  0.0  0.0  0.0  0.0  0.1  0.0\n",
       " 0.0  0.1  0.0  0.0  0.0  0.0  0.0  0.0  0.0  0.0\n",
       " 0.0  0.0  0.0  0.0  0.0  0.1  0.0  0.0  0.0  0.0\n",
       " 0.0  0.0  0.0  0.0  0.0  0.0  0.1  0.0  0.0  0.0"
      ]
     },
     "metadata": {},
     "output_type": "display_data"
    },
    {
     "data": {
      "text/plain": [
       "10×10 Matrix{Float64}:\n",
       " 0.1  0.0  0.0  0.0  0.0  0.0  0.0  0.0  0.0  0.0\n",
       " 0.0  0.1  0.0  0.0  0.0  0.0  0.0  0.0  0.0  0.0\n",
       " 0.0  0.0  0.0  0.0  0.1  0.0  0.0  0.0  0.0  0.0\n",
       " 0.0  0.0  0.0  0.1  0.0  0.0  0.0  0.0  0.0  0.0\n",
       " 0.0  0.0  0.1  0.0  0.0  0.0  0.0  0.0  0.0  0.0\n",
       " 0.0  0.0  0.0  0.0  0.0  0.0  0.0  0.0  0.0  0.1\n",
       " 0.0  0.0  0.0  0.0  0.0  0.1  0.0  0.0  0.0  0.0\n",
       " 0.0  0.0  0.0  0.0  0.0  0.0  0.1  0.0  0.0  0.0\n",
       " 0.0  0.0  0.0  0.0  0.0  0.0  0.0  0.1  0.0  0.0\n",
       " 0.0  0.0  0.0  0.0  0.0  0.0  0.0  0.0  0.1  0.0"
      ]
     },
     "metadata": {},
     "output_type": "display_data"
    }
   ],
   "source": [
    "display(XAi)\n",
    "display(sort(vec(XAi)))\n",
    "io = sortperm(vec(XAi))\n",
    "display(sort(vec(YA[io])))\n",
    "display(sort(vec(dba.Z[io])))\n",
    "display(io)\n",
    "display(sort(vec(XBj)))\n",
    "jo = sortperm(vec(XBj)) \n",
    "display(jo)\n",
    "display(sort(vec(ZB[io])))\n",
    "display(sort(vec(dbb.Y[io])))\n",
    "A = G[io,:]\n",
    "display(A)\n",
    "B=A[:,jo]\n",
    "display(B)"
   ]
  },
  {
   "cell_type": "code",
   "execution_count": 23,
   "id": "c81cedd9",
   "metadata": {},
   "outputs": [
    {
     "data": {
      "text/plain": [
       "1×10 Matrix{Float64}:\n",
       " 4.0  5.0  1.0  4.0  4.0  5.0  5.0  5.0  4.0  3.0"
      ]
     },
     "metadata": {},
     "output_type": "display_data"
    }
   ],
   "source": [
    "display(XBj)"
   ]
  },
  {
   "cell_type": "code",
   "execution_count": 24,
   "id": "ef856efa",
   "metadata": {},
   "outputs": [
    {
     "data": {
      "text/plain": [
       "10-element Vector{CartesianIndex{2}}:\n",
       " CartesianIndex(7, 1)\n",
       " CartesianIndex(4, 2)\n",
       " CartesianIndex(1, 3)\n",
       " CartesianIndex(9, 4)\n",
       " CartesianIndex(8, 5)\n",
       " CartesianIndex(5, 6)\n",
       " CartesianIndex(3, 7)\n",
       " CartesianIndex(2, 8)\n",
       " CartesianIndex(10, 9)\n",
       " CartesianIndex(6, 10)"
      ]
     },
     "metadata": {},
     "output_type": "display_data"
    }
   ],
   "source": [
    "pos_idx = findall(x -> x > 0, G)\n",
    "display(pos_idx)"
   ]
  },
  {
   "cell_type": "code",
   "execution_count": 25,
   "id": "2d35613f",
   "metadata": {},
   "outputs": [
    {
     "name": "stdout",
     "output_type": "stream",
     "text": [
      "CartesianIndex(7, 1)1.15670482330836683.82771596009122561.76858555099719374.833137764840002"
     ]
    }
   ],
   "source": [
    "XAv=vec(XA)\n",
    "XBv=vec(XB)\n",
    "show(pos_idx[1])\n",
    "show(XAv[pos_idx[1][1]])\n",
    "show(XBv[pos_idx[1][2]])\n",
    "\n",
    "show(XAv[pos_idx[2][1]])\n",
    "show(XBv[pos_idx[2][2]])\n"
   ]
  },
  {
   "cell_type": "code",
   "execution_count": 45,
   "id": "eeef61c4",
   "metadata": {},
   "outputs": [
    {
     "data": {
      "text/plain": [
       "3×1000 OneHotMatrix(::Vector{UInt32}) with eltype Bool:\n",
       " ⋅  1  1  1  ⋅  ⋅  ⋅  1  ⋅  1  1  1  1  …  ⋅  ⋅  ⋅  ⋅  ⋅  ⋅  ⋅  ⋅  ⋅  ⋅  1  1\n",
       " ⋅  ⋅  ⋅  ⋅  1  1  1  ⋅  1  ⋅  ⋅  ⋅  ⋅     1  ⋅  1  1  ⋅  1  ⋅  ⋅  1  1  ⋅  ⋅\n",
       " 1  ⋅  ⋅  ⋅  ⋅  ⋅  ⋅  ⋅  ⋅  ⋅  ⋅  ⋅  ⋅     ⋅  1  ⋅  ⋅  1  ⋅  1  1  ⋅  ⋅  ⋅  ⋅"
      ]
     },
     "metadata": {},
     "output_type": "display_data"
    },
    {
     "data": {
      "text/plain": [
       "1000-element Vector{Int64}:\n",
       " 3\n",
       " 1\n",
       " 1\n",
       " 1\n",
       " 2\n",
       " 2\n",
       " 2\n",
       " 1\n",
       " 2\n",
       " 1\n",
       " ⋮\n",
       " 2\n",
       " 3\n",
       " 2\n",
       " 3\n",
       " 3\n",
       " 2\n",
       " 2\n",
       " 1\n",
       " 1"
      ]
     },
     "metadata": {},
     "output_type": "display_data"
    },
    {
     "data": {
      "text/plain": [
       "1000×1000 Matrix{Float64}:\n",
       " 0.0  0.0  0.0  0.0  0.0  0.0  0.0  0.0  …  0.0  0.0  0.0  0.0  0.0  0.0  0.0\n",
       " 0.0  0.0  0.0  0.0  0.0  0.0  0.0  0.0     0.0  0.0  0.0  0.0  0.0  0.0  0.0\n",
       " 0.0  0.0  0.0  0.0  0.0  0.0  0.0  0.0     0.0  0.0  0.0  0.0  0.0  0.0  0.0\n",
       " 0.0  0.0  0.0  0.0  0.0  0.0  0.0  0.0     0.0  0.0  0.0  0.0  0.0  0.0  0.0\n",
       " 0.0  0.0  0.0  0.0  0.0  0.0  0.0  0.0     0.0  0.0  0.0  0.0  0.0  0.0  0.0\n",
       " 0.0  0.0  0.0  0.0  0.0  0.0  0.0  0.0  …  0.0  0.0  0.0  0.0  0.0  0.0  0.0\n",
       " 0.0  0.0  0.0  0.0  0.0  0.0  0.0  0.0     0.0  0.0  0.0  0.0  0.0  0.0  0.0\n",
       " 0.0  0.0  0.0  0.0  0.0  0.0  0.0  0.0     0.0  0.0  0.0  0.0  0.0  0.0  0.0\n",
       " 0.0  0.0  0.0  0.0  0.0  0.0  0.0  0.0     0.0  0.0  0.0  0.0  0.0  0.0  0.0\n",
       " 0.0  0.0  0.0  0.0  0.0  0.0  0.0  0.0     0.0  0.0  0.0  0.0  0.0  0.0  0.0\n",
       " ⋮                        ⋮              ⋱            ⋮                   \n",
       " 0.0  0.0  0.0  0.0  0.0  0.0  0.0  0.0     0.0  0.0  0.0  0.0  0.0  0.0  0.0\n",
       " 0.0  0.0  0.0  0.0  0.0  0.0  0.0  0.0     0.0  0.0  0.0  0.0  0.0  0.0  0.0\n",
       " 0.0  0.0  0.0  0.0  0.0  0.0  0.0  0.0     0.0  0.0  0.0  0.0  0.0  0.0  0.0\n",
       " 0.0  0.0  0.0  0.0  0.0  0.0  0.0  0.0     0.0  0.0  0.0  0.0  0.0  0.0  0.0\n",
       " 0.0  0.0  0.0  0.0  0.0  0.0  0.0  0.0  …  0.0  0.0  0.0  0.0  0.0  0.0  0.0\n",
       " 0.0  0.0  0.0  0.0  0.0  0.0  0.0  0.0     0.0  0.0  0.0  0.0  0.0  0.0  0.0\n",
       " 0.0  0.0  0.0  0.0  0.0  0.0  0.0  0.0     0.0  0.0  0.0  0.0  0.0  0.0  0.0\n",
       " 0.0  0.0  0.0  0.0  0.0  0.0  0.0  0.0     0.0  0.0  0.0  0.0  0.0  0.0  0.0\n",
       " 0.0  0.0  0.0  0.0  0.0  0.0  0.0  0.0     0.0  0.0  0.0  0.0  0.0  0.0  0.0"
      ]
     },
     "metadata": {},
     "output_type": "display_data"
    },
    {
     "name": "stdout",
     "output_type": "stream",
     "text": [
      "[3, 2, 1, 1, 3, 3, 1, 3, 2, 1, 3, 2, 2, 3, 3, 3, 3, 2, 3, 3, 1, 2, 1, 1, 3, 2, 1, 1, 3, 3, 3, 1, 2, 2, 3, 1, 3, 1, 3, 2, 1, 2, 2, 2, 2, 1, 2, 3, 3, 2, 3, 1, 2, 1, 3, 1, 1, 3, 3, 1, 3, 3, 3, 2, 1, 3, 2, 1, 1, 3, 2, 1, 3, 2, 3, 1, 2, 2, 3, 2, 1, 2, 2, 3, 1, 3, 3, 1, 3, 1, 1, 1, 2, 1, 1, 2, 1, 3, 1, 1, 1, 2, 3, 3, 3, 1, 3, 2, 3, 3, 1, 2, 3, 2, 1, 3, 1, 3, 1, 3, 1, 3, 2, 3, 3, 1, 3, 3, 1, 1, 1, 1, 2, 3, 3, 2, 2, 1, 1, 1, 2, 2, 1, 1, 1, 2, 1, 1, 3, 3, 2, 3, 2, 1, 2, 1, 1, 3, 2, 1, 2, 3, 3, 2, 3, 3, 1, 2, 2, 3, 2, 3, 1, 2, 2, 1, 3, 2, 3, 2, 2, 3, 2, 1, 3, 3, 3, 3, 3, 2, 1, 1, 3, 1, 1, 3, 1, 1, 2, 2, 3, 2, 1, 1, 3, 1, 2, 2, 1, 3, 3, 3, 3, 1, 2, 3, 2, 3, 1, 1, 3, 3, 1, 2, 1, 3, 1, 3, 2, 3, 2, 1, 3, 2, 3, 1, 2, 1, 3, 3, 3, 2, 1, 1, 1, 1, 2, 1, 2, 1, 3, 1, 2, 1, 1, 2, 3, 1, 2, 2, 2, 2, 1, 3, 1, 2, 1, 3, 2, 3, 3, 1, 3, 2, 3, 3, 2, 2, 2, 3, 2, 3, 3, 1, 2, 2, 2, 1, 2, 2, 2, 3, 1, 1, 3, 1, 3, 2, 2, 1, 1, 1, 1, 3, 2, 2, 2, 1, 1, 3, 1, 2, 2, 2, 1, 3, 2, 3, 2, 3, 3, 3, 3, 1, 2, 3, 1, 1, 1, 1, 3, 3, 3, 2, 1, 2, 2, 3, 3, 3, 1, 3, 1, 2, 3, 1, 3, 3, 1, 3, 3, 1, 3, 3, 3, 3, 2, 2, 1, 3, 1, 2, 3, 1, 2, 1, 1, 3, 2, 1, 3, 1, 1, 2, 1, 1, 2, 1, 2, 2, 2, 3, 3, 1, 1, 3, 3, 2, 3, 3, 2, 3, 2, 3, 1, 1, 1, 1, 1, 1, 3, 3, 2, 3, 1, 1, 2, 3, 1, 3, 2, 1, 1, 2, 2, 3, 2, 2, 1, 2, 3, 2, 2, 2, 2, 2, 1, 3, 3, 3, 3, 3, 3, 1, 2, 3, 3, 2, 1, 1, 1, 2, 2, 1, 1, 2, 3, 2, 2, 3, 1, 2, 1, 2, 3, 3, 2, 3, 2, 2, 1, 2, 2, 3, 1, 3, 1, 3, 1, 1, 3, 3, 3, 1, 2, 1, 1, 2, 3, 1, 2, 3, 1, 1, 1, 3, 1, 2, 1, 1, 3, 3, 3, 3, 1, 3, 1, 2, 3, 2, 2, 3, 1, 1, 3, 1, 2, 1, 1, 3, 1, 3, 1, 3, 2, 2, 3, 1, 2, 2, 2, 1, 1, 3, 3, 3, 3, 3, 2, 3, 2, 2, 2, 2, 3, 1, 2, 1, 3, 1, 2, 3, 1, 3, 3, 3, 1, 3, 1, 1, 1, 2, 1, 2, 1, 1, 3, 3, 2, 3, 1, 3, 3, 2, 3, 1, 2, 2, 2, 1, 2, 3, 1, 2, 2, 2, 2, 3, 3, 3, 2, 1, 2, 1, 1, 3, 2, 2, 1, 3, 1, 3, 1, 3, 1, 3, 1, 2, 3, 2, 2, 1, 2, 1, 2, 1, 3, 3, 3, 3, 3, 1, 3, 3, 3, 3, 1, 3, 2, 3, 3, 2, 3, 1, 2, 3, 1, 2, 3, 1, 1, 1, 1, 2, 2, 3, 3, 3, 1, 3, 1, 3, 3, 1, 2, 2, 1, 2, 1, 2, 3, 3, 1, 2, 2, 1, 1, 3, 1, 1, 1, 3, 3, 1, 1, 1, 3, 2, 1, 1, 2, 2, 2, 2, 2, 2, 1, 2, 3, 3, 2, 2, 1, 3, 1, 2, 3, 2, 2, 3, 1, 1, 2, 1, 1, 3, 2, 1, 1, 1, 1, 3, 1, 3, 1, 3, 3, 1, 3, 3, 2, 1, 2, 2, 3, 1, 1, 1, 1, 1, 3, 1, 2, 1, 1, 1, 1, 3, 1, 3, 2, 2, 1, 1, 3, 1, 3, 3, 2, 3, 2, 1, 1, 2, 1, 2, 1, 3, 3, 3, 1, 1, 1, 2, 2, 3, 1, 3, 1, 2, 3, 2, 2, 3, 3, 3, 2, 1, 1, 1, 2, 3, 2, 1, 1, 2, 2, 1, 1, 1, 3, 2, 3, 2, 2, 3, 3, 2, 2, 1, 1, 2, 2, 2, 1, 2, 1, 3, 2, 3, 1, 3, 1, 2, 3, 3, 2, 2, 3, 3, 3, 3, 1, 1, 1, 2, 3, 2, 1, 1, 3, 2, 3, 3, 1, 2, 2, 1, 2, 2, 2, 3, 1, 2, 3, 3, 3, 1, 3, 2, 3, 2, 1, 3, 2, 3, 3, 2, 3, 1, 2, 3, 2, 2, 1, 1, 3, 2, 3, 2, 1, 2, 1, 2, 3, 3, 2, 2, 1, 3, 1, 1, 3, 2, 3, 1, 3, 2, 3, 1, 2, 2, 1, 3, 2, 3, 2, 3, 1, 2, 2, 3, 1, 3, 3, 3, 3, 1, 1, 1, 3, 3, 2, 1, 2, 3, 1, 2, 2, 3, 3, 1, 3, 3, 2, 1, 1, 2, 1, 2, 1, 2, 2, 2, 3, 3, 2, 1, 1, 2, 1, 1, 1, 3, 1, 1, 2, 1, 1, 3, 2, 1, 3, 2, 2, 3, 2, 2, 2, 1, 1, 3, 2, 2, 2, 1, 1, 1, 3, 1, 2, 3, 2, 1, 1, 1, 2, 3, 3, 3, 3, 2, 1, 3, 2, 1, 3, 3, 1, 1, 3, 3, 3, 1, 3, 2, 1, 2, 1, 2, 1, 3, 2, 2, 2, 3, 3, 3, 2, 1]0.735"
     ]
    }
   ],
   "source": [
    "using Flux\n",
    "display(ZB)\n",
    "display(dbb.Z)\n",
    "display(G)\n",
    "show(Flux.onecold(ZApred))\n",
    "show(accuracy(Flux.onecold(ZApred), dba.Z))\n"
   ]
  },
  {
   "cell_type": "code",
   "execution_count": 53,
   "id": "0f301d3d",
   "metadata": {},
   "outputs": [
    {
     "name": "stdout",
     "output_type": "stream",
     "text": [
      "0.7360.641"
     ]
    }
   ],
   "source": [
    "show(accuracy(Flux.onecold(ZApred), dba.Z))\n",
    "show(accuracy(Flux.onecold(YBpred), dbb.Y))"
   ]
  },
  {
   "cell_type": "code",
   "execution_count": 27,
   "id": "3a4ef9d3",
   "metadata": {},
   "outputs": [
    {
     "data": {
      "text/plain": [
       "10×10 Matrix{Float64}:\n",
       " 0.0  0.0  0.1  0.0  0.0  0.0  0.0  0.0  0.0  0.0\n",
       " 0.0  0.0  0.0  0.0  0.0  0.0  0.0  0.1  0.0  0.0\n",
       " 0.0  0.0  0.0  0.0  0.0  0.0  0.1  0.0  0.0  0.0\n",
       " 0.0  0.1  0.0  0.0  0.0  0.0  0.0  0.0  0.0  0.0\n",
       " 0.0  0.0  0.0  0.0  0.0  0.1  0.0  0.0  0.0  0.0\n",
       " 0.0  0.0  0.0  0.0  0.0  0.0  0.0  0.0  0.0  0.1\n",
       " 0.1  0.0  0.0  0.0  0.0  0.0  0.0  0.0  0.0  0.0\n",
       " 0.0  0.0  0.0  0.0  0.1  0.0  0.0  0.0  0.0  0.0\n",
       " 0.0  0.0  0.0  0.1  0.0  0.0  0.0  0.0  0.0  0.0\n",
       " 0.0  0.0  0.0  0.0  0.0  0.0  0.0  0.0  0.1  0.0"
      ]
     },
     "metadata": {},
     "output_type": "display_data"
    },
    {
     "data": {
      "text/plain": [
       "10×10 adjoint(::Matrix{Float64}) with eltype Float64:\n",
       " 0.0  0.0  0.0  0.0  0.0  0.0  0.1  0.0  0.0  0.0\n",
       " 0.0  0.0  0.0  0.1  0.0  0.0  0.0  0.0  0.0  0.0\n",
       " 0.1  0.0  0.0  0.0  0.0  0.0  0.0  0.0  0.0  0.0\n",
       " 0.0  0.0  0.0  0.0  0.0  0.0  0.0  0.0  0.1  0.0\n",
       " 0.0  0.0  0.0  0.0  0.0  0.0  0.0  0.1  0.0  0.0\n",
       " 0.0  0.0  0.0  0.0  0.1  0.0  0.0  0.0  0.0  0.0\n",
       " 0.0  0.0  0.1  0.0  0.0  0.0  0.0  0.0  0.0  0.0\n",
       " 0.0  0.1  0.0  0.0  0.0  0.0  0.0  0.0  0.0  0.0\n",
       " 0.0  0.0  0.0  0.0  0.0  0.0  0.0  0.0  0.0  0.1\n",
       " 0.0  0.0  0.0  0.0  0.0  0.1  0.0  0.0  0.0  0.0"
      ]
     },
     "metadata": {},
     "output_type": "display_data"
    },
    {
     "data": {
      "text/plain": [
       "10-element Vector{Int64}:\n",
       " 1\n",
       " 2\n",
       " 1\n",
       " 2\n",
       " 2\n",
       " 3\n",
       " 3\n",
       " 2\n",
       " 2\n",
       " 1"
      ]
     },
     "metadata": {},
     "output_type": "display_data"
    },
    {
     "data": {
      "text/plain": [
       "10-element Vector{Int64}:\n",
       " 3\n",
       " 3\n",
       " 3\n",
       " 3\n",
       " 1\n",
       " 1\n",
       " 3\n",
       " 3\n",
       " 3\n",
       " 3"
      ]
     },
     "metadata": {},
     "output_type": "display_data"
    }
   ],
   "source": [
    "display(G)\n",
    "display(G')\n",
    "display(dbb.Z)\n",
    "display(dba.Z)"
   ]
  }
 ],
 "metadata": {
  "kernelspec": {
   "display_name": "Julia 1.11.6",
   "language": "julia",
   "name": "julia-1.11"
  },
  "language_info": {
   "file_extension": ".jl",
   "mimetype": "application/julia",
   "name": "julia",
   "version": "1.11.6"
  }
 },
 "nbformat": 4,
 "nbformat_minor": 5
}
